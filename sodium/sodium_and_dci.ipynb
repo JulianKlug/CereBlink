{
 "cells": [
  {
   "cell_type": "code",
   "execution_count": null,
   "id": "initial_id",
   "metadata": {
    "ExecuteTime": {
     "end_time": "2024-01-31T20:13:17.528408Z",
     "start_time": "2024-01-31T20:13:13.625963Z"
    }
   },
   "outputs": [],
   "source": [
    "import pandas as pd\n",
    "import numpy as np\n",
    "import getpass\n",
    "import io\n",
    "import msoffcrypto\n",
    "import seaborn as sns\n",
    "import matplotlib.pyplot as plt"
   ]
  },
  {
   "cell_type": "code",
   "execution_count": null,
   "id": "70647cfb571df048",
   "metadata": {
    "ExecuteTime": {
     "end_time": "2024-01-31T19:44:30.112493Z",
     "start_time": "2024-01-31T19:44:30.102389Z"
    }
   },
   "outputs": [],
   "source": [
    "sah_sos_data_path = '/Users/jk1/Library/CloudStorage/OneDrive-unige.ch/icu_research/dci_sah/data/sos_sah_data/aSAH_DATA_2009_2023_24122023.xlsx'\n",
    "abg_data_path = '/Users/jk1/Library/CloudStorage/OneDrive-unige.ch/icu_research/dci_sah/data/pdms_data/Transfer Urs.pietsch@kssg.ch 22.01.24, 15_34/20240116_SAH_SOS_BGA.csv'\n",
    "patient_id_link_data_path = '/Users/jk1/Library/CloudStorage/OneDrive-unige.ch/icu_research/dci_sah/data/pdms_data/Transfer Urs.pietsch@kssg.ch 22.01.24, 15_34/20240116_SAH_SOS_Patienten.csv'"
   ]
  },
  {
   "cell_type": "code",
   "execution_count": null,
   "id": "807501f0a55e328b",
   "metadata": {
    "ExecuteTime": {
     "end_time": "2024-01-31T19:45:42.991748Z",
     "start_time": "2024-01-31T19:45:40.931954Z"
    }
   },
   "outputs": [],
   "source": [
    "password = getpass.getpass()"
   ]
  },
  {
   "cell_type": "code",
   "execution_count": null,
   "id": "b5909f2f7cecf826",
   "metadata": {
    "ExecuteTime": {
     "end_time": "2024-01-31T19:45:44.407975Z",
     "start_time": "2024-01-31T19:45:43.679654Z"
    }
   },
   "outputs": [],
   "source": [
    "decrypted_workbook = io.BytesIO()\n",
    "with open(sah_sos_data_path, 'rb') as file:\n",
    "    office_file = msoffcrypto.OfficeFile(file)\n",
    "    office_file.load_key(password=password)\n",
    "    office_file.decrypt(decrypted_workbook)"
   ]
  },
  {
   "cell_type": "code",
   "execution_count": null,
   "id": "ff749dfd13e4d8f5",
   "metadata": {
    "ExecuteTime": {
     "end_time": "2024-01-31T19:45:45.390250Z",
     "start_time": "2024-01-31T19:45:44.409836Z"
    }
   },
   "outputs": [],
   "source": [
    "registry_df = pd.read_excel(decrypted_workbook, sheet_name='DATA')\n",
    "registry_df.head()"
   ]
  },
  {
   "cell_type": "code",
   "execution_count": null,
   "id": "bd547e0b9a493ea8",
   "metadata": {
    "ExecuteTime": {
     "end_time": "2024-01-31T20:17:22.994676Z",
     "start_time": "2024-01-31T20:17:22.965568Z"
    }
   },
   "outputs": [],
   "source": [
    "abg_df = pd.read_csv(abg_data_path, sep=';', decimal='.')\n",
    "patient_id_link_df = pd.read_csv(patient_id_link_data_path, sep=';', decimal='.')"
   ]
  },
  {
   "cell_type": "code",
   "execution_count": null,
   "id": "885352725aa5e258",
   "metadata": {
    "ExecuteTime": {
     "end_time": "2024-01-31T20:09:01.605498Z",
     "start_time": "2024-01-31T20:09:01.601448Z"
    }
   },
   "outputs": [],
   "source": [
    "abg_df.head()"
   ]
  },
  {
   "cell_type": "code",
   "execution_count": null,
   "id": "c18b0646e1432658",
   "metadata": {
    "ExecuteTime": {
     "end_time": "2024-01-31T19:55:54.655320Z",
     "start_time": "2024-01-31T19:55:54.648517Z"
    }
   },
   "outputs": [],
   "source": [
    "patient_id_link_df.head()"
   ]
  },
  {
   "cell_type": "markdown",
   "id": "27c3ea93b57613b0",
   "metadata": {
    "collapsed": false
   },
   "source": [
    "# Joining registry and pdms data"
   ]
  },
  {
   "cell_type": "code",
   "execution_count": null,
   "id": "a3fc49d826e17a39",
   "metadata": {
    "ExecuteTime": {
     "end_time": "2024-01-31T19:52:58.515759Z",
     "start_time": "2024-01-31T19:52:58.506578Z"
    }
   },
   "outputs": [],
   "source": [
    "registry_df['Date_birth'] = pd.to_datetime(registry_df['Date_birth'], format='%d.%m.%Y')\n",
    "registry_df['Date_admission'] = pd.to_datetime(registry_df['Date_admission'], format='%d.%m.%Y')"
   ]
  },
  {
   "cell_type": "code",
   "execution_count": null,
   "id": "d8f9a7b4fc9f4604",
   "metadata": {
    "ExecuteTime": {
     "end_time": "2024-01-31T19:56:41.728913Z",
     "start_time": "2024-01-31T19:56:41.712797Z"
    }
   },
   "outputs": [],
   "source": [
    "registry_df.rename(columns={'Name': 'JoinedName'}, inplace=True)"
   ]
  },
  {
   "cell_type": "code",
   "execution_count": null,
   "id": "ce75d739adba7db3",
   "metadata": {
    "ExecuteTime": {
     "end_time": "2024-01-31T19:57:01.296817Z",
     "start_time": "2024-01-31T19:57:01.289528Z"
    }
   },
   "outputs": [],
   "source": [
    "patient_id_link_df['GebDatum'] = pd.to_datetime(patient_id_link_df['GebDatum'], format='%Y-%m-%d')\n",
    "patient_id_link_df['Eintritt'] = pd.to_datetime(patient_id_link_df['Eintritt'], format='%Y-%m-%d')"
   ]
  },
  {
   "cell_type": "code",
   "execution_count": null,
   "id": "7ecd2cb95a6df80e",
   "metadata": {
    "ExecuteTime": {
     "end_time": "2024-01-31T20:07:24.424956Z",
     "start_time": "2024-01-31T20:07:24.408540Z"
    }
   },
   "outputs": [],
   "source": [
    "# join patient id link on registry by (first: dob, then admission date)\n",
    "joined_registry_df = registry_df.merge(patient_id_link_df, how='left', left_on=['Date_birth', 'Date_admission'], right_on=['GebDatum', 'Eintritt'])"
   ]
  },
  {
   "cell_type": "code",
   "execution_count": null,
   "id": "8f259c6e84fe1d3d",
   "metadata": {
    "ExecuteTime": {
     "end_time": "2024-01-31T20:07:24.642534Z",
     "start_time": "2024-01-31T20:07:24.634358Z"
    }
   },
   "outputs": [],
   "source": [
    "joined_registry_df[['JoinedName','Name', 'Vorname', 'Date_birth', 'Date_admission', 'GebDatum', 'Eintritt']].head()"
   ]
  },
  {
   "cell_type": "code",
   "execution_count": null,
   "id": "810c903a61999d86",
   "metadata": {
    "ExecuteTime": {
     "end_time": "2024-01-31T20:07:24.988526Z",
     "start_time": "2024-01-31T20:07:24.932257Z"
    }
   },
   "outputs": [],
   "source": [
    "# check that joinedName contains Name if name is not null\n",
    "joined_registry_df['name_verification'] = joined_registry_df.apply(lambda x: x['Name'] in x['JoinedName'] if pd.notnull(x['Name']) else True, axis=1)"
   ]
  },
  {
   "cell_type": "markdown",
   "id": "d65b1a62d3f2de93",
   "metadata": {
    "collapsed": false
   },
   "source": [
    "Proceed with manual verification of the remaining patients with non matching names"
   ]
  },
  {
   "cell_type": "code",
   "execution_count": null,
   "id": "b3f065f554b13b5c",
   "metadata": {
    "ExecuteTime": {
     "end_time": "2024-01-31T20:08:02.950823Z",
     "start_time": "2024-01-31T20:08:02.934573Z"
    }
   },
   "outputs": [],
   "source": [
    "joined_registry_df[joined_registry_df.name_verification == False][['JoinedName','Name', 'Vorname', 'name_verification', 'Date_birth', 'Date_admission', 'GebDatum', 'Eintritt']]"
   ]
  },
  {
   "cell_type": "markdown",
   "id": "afac2ea866ea0de7",
   "metadata": {
    "collapsed": false
   },
   "source": [
    "## Analyse Sodium values"
   ]
  },
  {
   "cell_type": "code",
   "execution_count": null,
   "id": "cedccab6c390a2fe",
   "metadata": {
    "ExecuteTime": {
     "end_time": "2024-01-31T20:17:27.500168Z",
     "start_time": "2024-01-31T20:17:27.492423Z"
    }
   },
   "outputs": [],
   "source": [
    "dci_df = joined_registry_df[['pNr', 'DCI_YN', 'Date_admission']]"
   ]
  },
  {
   "cell_type": "code",
   "execution_count": null,
   "id": "8269f9985c56fbe7",
   "metadata": {
    "ExecuteTime": {
     "end_time": "2024-01-31T20:17:27.965263Z",
     "start_time": "2024-01-31T20:17:27.957798Z"
    }
   },
   "outputs": [],
   "source": [
    "abg_df = abg_df.merge(dci_df, how='left', left_on='pNr', right_on='pNr')"
   ]
  },
  {
   "cell_type": "markdown",
   "id": "3cbed95ae7c923df",
   "metadata": {
    "collapsed": false
   },
   "source": [
    "build relative time from admission column\n",
    "\n",
    "original BGA time format: 2015-01-12 17:55:00.000"
   ]
  },
  {
   "cell_type": "code",
   "execution_count": null,
   "id": "f2fa513ad3214ce7",
   "metadata": {
    "ExecuteTime": {
     "end_time": "2024-01-31T20:17:31.352673Z",
     "start_time": "2024-01-31T20:17:31.341670Z"
    }
   },
   "outputs": [],
   "source": [
    "abg_df['timeBGA'] = pd.to_datetime(abg_df['timeBGA'], format='%Y-%m-%d %H:%M:%S.%f')"
   ]
  },
  {
   "cell_type": "code",
   "execution_count": null,
   "id": "4c643a89d2d8084a",
   "metadata": {
    "ExecuteTime": {
     "end_time": "2024-01-31T20:17:32.039139Z",
     "start_time": "2024-01-31T20:17:31.855699Z"
    }
   },
   "outputs": [],
   "source": [
    "abg_df['relative_time'] = abg_df.apply(lambda x: (x['timeBGA'] - x['Date_admission']).total_seconds() / 3600, axis=1)"
   ]
  },
  {
   "cell_type": "markdown",
   "id": "f664205eedc0bf76",
   "metadata": {
    "collapsed": false
   },
   "source": [
    "plot sodium values (na column) over time within the two groups"
   ]
  },
  {
   "cell_type": "code",
   "execution_count": null,
   "id": "d1904e2553abc6fd",
   "metadata": {
    "ExecuteTime": {
     "end_time": "2024-02-01T04:03:41.533437Z",
     "start_time": "2024-02-01T04:03:40.553584Z"
    }
   },
   "outputs": [],
   "source": [
    "sns.scatterplot(data=abg_df, x='relative_time', y='na', hue='DCI_YN')"
   ]
  },
  {
   "cell_type": "markdown",
   "id": "1f4b3ca018ac08ba",
   "metadata": {
    "collapsed": false
   },
   "source": [
    "plot mean daily sodium values (na column) over time within the two groups"
   ]
  },
  {
   "cell_type": "code",
   "execution_count": null,
   "id": "fc0aa32e40c134b0",
   "metadata": {
    "ExecuteTime": {
     "end_time": "2024-02-01T04:06:02.877108Z",
     "start_time": "2024-02-01T04:05:58.348979Z"
    }
   },
   "outputs": [],
   "source": [
    "abg_df['day'] = abg_df['relative_time'].apply(lambda x: int(x / 24) if pd.notnull(x) else np.nan)\n",
    "\n",
    "# set figure size\n",
    "plt.figure(figsize=(20, 10))\n",
    "\n",
    "sns.boxplot(data=abg_df, x='day', y='na', hue='DCI_YN', showfliers=False, palette='pastel')\n",
    "\n",
    "# set y axis label \n",
    "plt.ylabel('Sodium (mmol/L)')\n",
    "# set x axis label\n",
    "plt.xlabel('Days since admission')\n",
    "\n",
    "# save figure\n",
    "plt.savefig('/Users/jk1/Downloads/sodium_over_time.png', dpi=300)"
   ]
  },
  {
   "cell_type": "code",
   "execution_count": null,
   "id": "9856bfe02daac7b0",
   "metadata": {
    "ExecuteTime": {
     "end_time": "2024-02-01T04:05:06.351353Z",
     "start_time": "2024-02-01T04:05:06.043106Z"
    }
   },
   "outputs": [],
   "source": []
  },
  {
   "cell_type": "code",
   "execution_count": null,
   "id": "b318ac7fc1971d61",
   "metadata": {},
   "outputs": [],
   "source": []
  }
 ],
 "metadata": {
  "kernelspec": {
   "display_name": "Python 3",
   "language": "python",
   "name": "python3"
  },
  "language_info": {
   "codemirror_mode": {
    "name": "ipython",
    "version": 2
   },
   "file_extension": ".py",
   "mimetype": "text/x-python",
   "name": "python",
   "nbconvert_exporter": "python",
   "pygments_lexer": "ipython2",
   "version": "2.7.6"
  }
 },
 "nbformat": 4,
 "nbformat_minor": 5
}
