{
 "cells": [
  {
   "cell_type": "markdown",
   "id": "5a24e0b241eea4ce",
   "metadata": {
    "collapsed": false
   },
   "source": [
    "# First PaCO2 value and mortality"
   ]
  },
  {
   "cell_type": "code",
   "execution_count": null,
   "id": "b4d785c226d11021",
   "metadata": {
    "ExecuteTime": {
     "end_time": "2024-02-09T08:38:31.000980Z",
     "start_time": "2024-02-09T08:38:30.924241Z"
    }
   },
   "outputs": [],
   "source": [
    "import pandas as pd\n",
    "import numpy as np\n",
    "import getpass\n",
    "import io\n",
    "import msoffcrypto\n",
    "import seaborn as sns\n",
    "import matplotlib.pyplot as plt"
   ]
  },
  {
   "cell_type": "code",
   "execution_count": null,
   "id": "da998674b1682131",
   "metadata": {
    "ExecuteTime": {
     "end_time": "2024-02-09T08:38:31.013224Z",
     "start_time": "2024-02-09T08:38:30.933595Z"
    }
   },
   "outputs": [],
   "source": [
    "sah_sos_data_path = '/Users/jk1/Library/CloudStorage/OneDrive-unige.ch/icu_research/dci_sah/data/sos_sah_data/aSAH_DATA_2009_2023_24122023.xlsx'\n",
    "abg_data_path = '/Users/jk1/Library/CloudStorage/OneDrive-unige.ch/icu_research/dci_sah/data/pdms_data/Transfer Urs.pietsch@kssg.ch 22.01.24, 15_34/20240116_SAH_SOS_BGA.csv'\n",
    "registry_pdms_correspondence_path = '/Users/jk1/Library/CloudStorage/OneDrive-unige.ch/icu_research/dci_sah/data/pdms_data/registry_pdms_correspondence.csv'"
   ]
  },
  {
   "cell_type": "code",
   "execution_count": null,
   "id": "579064a7c738393c",
   "metadata": {
    "ExecuteTime": {
     "end_time": "2024-02-09T08:38:31.041391Z",
     "start_time": "2024-02-09T08:38:30.938142Z"
    }
   },
   "outputs": [],
   "source": [
    "abg_df = pd.read_csv(abg_data_path, sep=';', decimal='.')"
   ]
  },
  {
   "cell_type": "code",
   "execution_count": null,
   "id": "db949f6af0000c90",
   "metadata": {
    "ExecuteTime": {
     "end_time": "2024-02-09T08:38:34.524976Z",
     "start_time": "2024-02-09T08:38:30.964634Z"
    }
   },
   "outputs": [],
   "source": [
    "password = getpass.getpass()\n",
    "decrypted_workbook = io.BytesIO()\n",
    "with open(sah_sos_data_path, 'rb') as file:\n",
    "    office_file = msoffcrypto.OfficeFile(file)\n",
    "    office_file.load_key(password=password)\n",
    "    office_file.decrypt(decrypted_workbook)\n",
    "registry_df = pd.read_excel(decrypted_workbook, sheet_name='DATA')"
   ]
  },
  {
   "cell_type": "code",
   "execution_count": null,
   "id": "d95f27b769e2bf5d",
   "metadata": {
    "ExecuteTime": {
     "end_time": "2024-02-09T08:38:34.543669Z",
     "start_time": "2024-02-09T08:38:34.518133Z"
    }
   },
   "outputs": [],
   "source": [
    "registry_pdms_correspondence_df = pd.read_csv(registry_pdms_correspondence_path)\n",
    "registry_pdms_correspondence_df['Date_birth'] = pd.to_datetime(registry_pdms_correspondence_df['Date_birth'], format='%Y-%m-%d')"
   ]
  },
  {
   "cell_type": "code",
   "execution_count": null,
   "id": "ca92057485e31289",
   "metadata": {
    "ExecuteTime": {
     "end_time": "2024-02-09T08:38:34.557632Z",
     "start_time": "2024-02-09T08:38:34.532455Z"
    }
   },
   "outputs": [],
   "source": [
    "registry_df = registry_df.merge(registry_pdms_correspondence_df, left_on=['SOS-CENTER-YEAR-NO.', 'Name', 'Date_birth'], right_on=['SOS-CENTER-YEAR-NO.', 'JoinedName', 'Date_birth'], how='left')"
   ]
  },
  {
   "cell_type": "markdown",
   "id": "1377f83907730e02",
   "metadata": {
    "collapsed": false
   },
   "source": [
    "verify that the merge was successful (expected missing patients after 2019: 19)"
   ]
  },
  {
   "cell_type": "code",
   "execution_count": null,
   "id": "ec0a87bdc7031356",
   "metadata": {
    "ExecuteTime": {
     "end_time": "2024-02-09T08:38:34.615936Z",
     "start_time": "2024-02-09T08:38:34.543176Z"
    }
   },
   "outputs": [],
   "source": [
    "registry_df[(registry_df['Year'] >= 2019) & (registry_df['pNr'].isnull())].shape"
   ]
  },
  {
   "cell_type": "markdown",
   "id": "e0820c05b9c558c6",
   "metadata": {
    "collapsed": false
   },
   "source": [
    "### Extract mortality \n",
    "\n",
    "restrict to 3 months after admission "
   ]
  },
  {
   "cell_type": "code",
   "execution_count": null,
   "id": "c4aff66900250bf",
   "metadata": {
    "ExecuteTime": {
     "end_time": "2024-02-09T08:38:34.619541Z",
     "start_time": "2024-02-09T08:38:34.547713Z"
    }
   },
   "outputs": [],
   "source": [
    "cap_to_max_90d = False"
   ]
  },
  {
   "cell_type": "code",
   "execution_count": null,
   "id": "caecd1254446c73d",
   "metadata": {
    "ExecuteTime": {
     "end_time": "2024-02-09T08:38:34.648708Z",
     "start_time": "2024-02-09T08:38:34.551649Z"
    }
   },
   "outputs": [],
   "source": [
    "registry_df[(registry_df['pNr'].notnull())]['Days_to_Death'].describe()"
   ]
  },
  {
   "cell_type": "code",
   "execution_count": null,
   "id": "initial_id",
   "metadata": {
    "ExecuteTime": {
     "end_time": "2024-02-09T08:38:34.652239Z",
     "start_time": "2024-02-09T08:38:34.561429Z"
    },
    "jupyter": {
     "outputs_hidden": true
    }
   },
   "outputs": [],
   "source": [
    "# percentage dead\n",
    "n_patients = registry_df[(registry_df['pNr'].notnull())].shape[0]\n",
    "n_patients_dead = registry_df[(registry_df['pNr'].notnull()) & (registry_df['Days_to_Death'] <= 90)].shape[0]\n",
    "print(f'Percentage dead: {n_patients_dead / n_patients * 100:.2f}%')\n",
    "print(f'Number of patients: {n_patients}')\n",
    "print(f'Number of patients dead: {n_patients_dead}')"
   ]
  },
  {
   "cell_type": "markdown",
   "id": "9de8891ff1179db4",
   "metadata": {
    "collapsed": false
   },
   "source": [
    "### Extract first PaCO2 value for each patient"
   ]
  },
  {
   "cell_type": "code",
   "execution_count": null,
   "id": "e788f748685805f0",
   "metadata": {
    "ExecuteTime": {
     "end_time": "2024-02-09T08:38:34.656833Z",
     "start_time": "2024-02-09T08:38:34.567618Z"
    }
   },
   "outputs": [],
   "source": [
    "abg_df.head()"
   ]
  },
  {
   "cell_type": "code",
   "execution_count": null,
   "id": "9a5d1034e74f6925",
   "metadata": {
    "ExecuteTime": {
     "end_time": "2024-02-09T08:38:34.660516Z",
     "start_time": "2024-02-09T08:38:34.581133Z"
    }
   },
   "outputs": [],
   "source": [
    "abg_df.bgaOrt.value_counts()"
   ]
  },
  {
   "cell_type": "code",
   "execution_count": null,
   "id": "a3a577d5c96fca2a",
   "metadata": {
    "ExecuteTime": {
     "end_time": "2024-02-09T08:38:34.840991Z",
     "start_time": "2024-02-09T08:38:34.587936Z"
    }
   },
   "outputs": [],
   "source": [
    "first_abg_df = abg_df[abg_df.bgaOrt == 'arteriell'].groupby('pNr').apply(lambda x: x.sort_values('timeBGA', ascending=True).iloc[0])\n",
    "first_abg_df.reset_index(drop=True, inplace=True)"
   ]
  },
  {
   "cell_type": "code",
   "execution_count": null,
   "id": "5b2a60622326e2df",
   "metadata": {
    "ExecuteTime": {
     "end_time": "2024-02-09T08:38:34.879017Z",
     "start_time": "2024-02-09T08:38:34.655953Z"
    }
   },
   "outputs": [],
   "source": [
    "first_abg_df.head()"
   ]
  },
  {
   "cell_type": "code",
   "execution_count": null,
   "id": "e15c53ea2d0e31dc",
   "metadata": {
    "ExecuteTime": {
     "end_time": "2024-02-09T08:38:34.886189Z",
     "start_time": "2024-02-09T08:38:34.668685Z"
    }
   },
   "outputs": [],
   "source": [
    "# join first paco2 values to registry\n",
    "registry_df = registry_df.merge(first_abg_df[['pNr', 'pCO2']], left_on='pNr', right_on='pNr', how='left')"
   ]
  },
  {
   "cell_type": "markdown",
   "id": "8a74bd82e5fd6a23",
   "metadata": {
    "collapsed": false
   },
   "source": [
    "### Plot first PaCO2 value and mortality"
   ]
  },
  {
   "cell_type": "code",
   "execution_count": null,
   "id": "37005ce5d080a592",
   "metadata": {
    "ExecuteTime": {
     "end_time": "2024-02-09T08:38:35.169696Z",
     "start_time": "2024-02-09T08:38:34.674570Z"
    }
   },
   "outputs": [],
   "source": [
    "sns.histplot(data=registry_df, x='pCO2', hue='Death', kde=True)"
   ]
  },
  {
   "cell_type": "markdown",
   "id": "88777a79e828519b",
   "metadata": {
    "collapsed": false
   },
   "source": [
    "## Extract follow-up time"
   ]
  },
  {
   "cell_type": "code",
   "execution_count": null,
   "id": "9f5b65de2813de5d",
   "metadata": {
    "ExecuteTime": {
     "end_time": "2024-02-09T08:38:35.190792Z",
     "start_time": "2024-02-09T08:38:35.038917Z"
    }
   },
   "outputs": [],
   "source": [
    "# clean date data\n",
    "# replace strings with only blank space with nan\n",
    "registry_df['Date_FU_1y'] = registry_df['Date_FU_1y'].replace(r'^\\s*$', np.nan, regex=True)\n",
    "registry_df['Date_2FU_2y'] = registry_df['Date_2FU_2y'].replace(r'^\\s*$', np.nan, regex=True)\n",
    "\n",
    "# if contains / set date to nan\n",
    "registry_df['Date_2FU_2y'] = registry_df['Date_2FU_2y'].apply(lambda x: np.nan if '/' in str(x) else x)"
   ]
  },
  {
   "cell_type": "code",
   "execution_count": null,
   "id": "c72804852e9c61d3",
   "metadata": {
    "ExecuteTime": {
     "end_time": "2024-02-09T08:38:35.207884Z",
     "start_time": "2024-02-09T08:38:35.042895Z"
    }
   },
   "outputs": [],
   "source": [
    "date_format = '%Y-%m-%d %H:%M:%S'"
   ]
  },
  {
   "cell_type": "code",
   "execution_count": null,
   "id": "28ec539ef2ab9391",
   "metadata": {
    "ExecuteTime": {
     "end_time": "2024-02-09T08:38:35.212504Z",
     "start_time": "2024-02-09T08:38:35.046863Z"
    }
   },
   "outputs": [],
   "source": [
    "# fill missing values of time to death\n",
    "registry_df['Days_to_Death'] = registry_df['Days_to_Death'].fillna((registry_df['Date_Death'] - registry_df['Date_admission']).dt.total_seconds() / (24 * 3600))"
   ]
  },
  {
   "cell_type": "code",
   "execution_count": null,
   "id": "abf3291c5442fc50",
   "metadata": {
    "ExecuteTime": {
     "end_time": "2024-02-09T08:38:35.216512Z",
     "start_time": "2024-02-09T08:38:35.054863Z"
    }
   },
   "outputs": [],
   "source": [
    "# follow up times in days\n",
    "registry_df['time_to_discharge'] = (registry_df['Date_Discharge'] - registry_df['Date_admission']).dt.total_seconds() / (24 * 3600)\n",
    "registry_df['time_to_1y_fu'] = (pd.to_datetime(registry_df['Date_FU_1y'], format=date_format) - registry_df['Date_admission']).dt.total_seconds() / (24 * 3600)\n",
    "registry_df['time_to_2y_fu'] = (pd.to_datetime(registry_df['Date_2FU_2y'], format=date_format) - registry_df['Date_admission']).dt.total_seconds() / (24 * 3600)\n",
    "registry_df['max_follow_up_time'] = registry_df[['time_to_discharge', 'time_to_1y_fu', 'time_to_2y_fu']].max(axis=1)\n",
    "\n",
    "\n",
    "registry_df['follow_up_time'] = registry_df['Days_to_Death'].fillna(registry_df['max_follow_up_time'])\n"
   ]
  },
  {
   "cell_type": "code",
   "execution_count": null,
   "id": "a0162204393a788e",
   "metadata": {
    "ExecuteTime": {
     "end_time": "2024-02-09T08:38:35.228197Z",
     "start_time": "2024-02-09T08:38:35.066448Z"
    }
   },
   "outputs": [],
   "source": [
    "# cap follow up time to 90d\n",
    "if cap_to_max_90d:\n",
    "    registry_df['follow_up_time'] = registry_df['follow_up_time'].clip(upper=90)"
   ]
  },
  {
   "cell_type": "markdown",
   "id": "2c664d0b970f15e",
   "metadata": {
    "collapsed": false
   },
   "source": [
    "## Fit Cox Proportional Hazard Model "
   ]
  },
  {
   "cell_type": "markdown",
   "id": "53181cffde7c8b69",
   "metadata": {
    "collapsed": false
   },
   "source": [
    "## univariate model"
   ]
  },
  {
   "cell_type": "code",
   "execution_count": null,
   "id": "3bd6643a748e707a",
   "metadata": {
    "ExecuteTime": {
     "end_time": "2024-02-09T08:38:35.232279Z",
     "start_time": "2024-02-09T08:38:35.070380Z"
    }
   },
   "outputs": [],
   "source": [
    "univariate_predictor_df = registry_df[['pCO2', 'follow_up_time', 'Death']]\n",
    "univariate_predictor_df['Death'] = univariate_predictor_df['Death'].fillna(0).astype(int)\n",
    "univariate_predictor_df = univariate_predictor_df.dropna()"
   ]
  },
  {
   "cell_type": "code",
   "execution_count": null,
   "id": "c3f5e4b258050a1f",
   "metadata": {
    "ExecuteTime": {
     "end_time": "2024-02-09T08:38:35.244060Z",
     "start_time": "2024-02-09T08:38:35.080291Z"
    }
   },
   "outputs": [],
   "source": [
    "univariate_predictor_df.pCO2.describe()"
   ]
  },
  {
   "cell_type": "code",
   "execution_count": null,
   "id": "614dfdb736dd9f03",
   "metadata": {
    "ExecuteTime": {
     "end_time": "2024-02-09T08:38:35.248502Z",
     "start_time": "2024-02-09T08:38:35.088264Z"
    }
   },
   "outputs": [],
   "source": [
    "univariate_predictor_df.head()"
   ]
  },
  {
   "cell_type": "code",
   "execution_count": null,
   "id": "1a4e177b6eca3417",
   "metadata": {
    "ExecuteTime": {
     "end_time": "2024-02-09T08:41:09.107126Z",
     "start_time": "2024-02-09T08:41:08.945603Z"
    }
   },
   "outputs": [],
   "source": [
    "from lifelines import CoxPHFitter\n",
    "\n",
    "cph = CoxPHFitter()\n",
    "cph.fit(univariate_predictor_df, duration_col='follow_up_time', event_col='Death')\n",
    "cph.print_summary()"
   ]
  },
  {
   "cell_type": "code",
   "execution_count": null,
   "id": "a6362ef6467baafe",
   "metadata": {
    "ExecuteTime": {
     "end_time": "2024-02-09T08:38:35.577689Z",
     "start_time": "2024-02-09T08:38:35.308938Z"
    }
   },
   "outputs": [],
   "source": [
    "cph.plot()"
   ]
  },
  {
   "cell_type": "code",
   "execution_count": null,
   "id": "5a17178893e0a6d3",
   "metadata": {
    "ExecuteTime": {
     "end_time": "2024-02-09T08:38:35.844780Z",
     "start_time": "2024-02-09T08:38:35.520096Z"
    }
   },
   "outputs": [],
   "source": [
    "ax = cph.plot_partial_effects_on_outcome(covariates='pCO2', values=[1, 3, 5, 7])\n",
    "ax.set_xlim(0, 90)\n",
    "# place legend outside of plot\n",
    "plt.legend(bbox_to_anchor=(1.05, 1), loc='upper left', borderaxespad=0.)"
   ]
  },
  {
   "cell_type": "code",
   "execution_count": null,
   "id": "b929154afd33cc1e",
   "metadata": {
    "ExecuteTime": {
     "end_time": "2024-02-09T08:38:35.861582Z",
     "start_time": "2024-02-09T08:38:35.842200Z"
    }
   },
   "outputs": [],
   "source": [
    "predicted_log_partial_hazards = cph.predict_log_partial_hazard(univariate_predictor_df)"
   ]
  },
  {
   "cell_type": "code",
   "execution_count": null,
   "id": "cb5944aff4242848",
   "metadata": {
    "ExecuteTime": {
     "end_time": "2024-02-09T08:38:36.075930Z",
     "start_time": "2024-02-09T08:38:35.852131Z"
    }
   },
   "outputs": [],
   "source": [
    "# plot predicted_log_partial_hazards vs pCO2\n",
    "sns.scatterplot(data=univariate_predictor_df, x='pCO2', y=predicted_log_partial_hazards)"
   ]
  },
  {
   "cell_type": "markdown",
   "id": "f38071be3899db59",
   "metadata": {
    "collapsed": false
   },
   "source": [
    "spline model"
   ]
  },
  {
   "cell_type": "code",
   "execution_count": null,
   "id": "39f1db001ef5efac",
   "metadata": {
    "ExecuteTime": {
     "end_time": "2024-02-09T08:38:36.091095Z",
     "start_time": "2024-02-09T08:38:36.075272Z"
    }
   },
   "outputs": [],
   "source": [
    "# add a small positive value to zero elements in follow_up_time to avoid log(0) in the spline model\n",
    "univariate_predictor_df['follow_up_time'] = univariate_predictor_df['follow_up_time'] + 1e-6"
   ]
  },
  {
   "cell_type": "code",
   "execution_count": null,
   "id": "c02afbe729d5a1b8",
   "metadata": {
    "ExecuteTime": {
     "end_time": "2024-02-09T08:38:36.582314Z",
     "start_time": "2024-02-09T08:38:36.081513Z"
    }
   },
   "outputs": [],
   "source": [
    "# find best spline df model by selecting the one with the lowest AIC\n",
    "aic_df = pd.DataFrame(columns=['df', 'AIC'])\n",
    "\n",
    "for df in range(3, 10):\n",
    "    spline_cph = CoxPHFitter()\n",
    "    spline_cph.fit(univariate_predictor_df, duration_col='follow_up_time', event_col='Death', formula=\"bs(pCO2, df={})\".format(df))\n",
    "    aic_df = pd.concat([aic_df, pd.DataFrame({'df': [df], 'AIC': [spline_cph.AIC_partial_]})])\n",
    "    \n",
    "best_df = aic_df.reset_index().loc[aic_df['AIC'].idxmin()]['df']\n",
    "best_df"
   ]
  },
  {
   "cell_type": "code",
   "execution_count": null,
   "id": "673ab89fb423b562",
   "metadata": {
    "ExecuteTime": {
     "end_time": "2024-02-09T08:38:36.644257Z",
     "start_time": "2024-02-09T08:38:36.581011Z"
    }
   },
   "outputs": [],
   "source": [
    "spline_cph = CoxPHFitter()\n",
    "spline_cph.fit(univariate_predictor_df, duration_col='follow_up_time', event_col='Death', formula=f'bs(pCO2, df={best_df})')\n",
    "spline_cph.AIC_partial_"
   ]
  },
  {
   "cell_type": "code",
   "execution_count": null,
   "id": "cc1f7a0a8354b5fb",
   "metadata": {
    "ExecuteTime": {
     "end_time": "2024-02-09T08:42:59.764733Z",
     "start_time": "2024-02-09T08:42:59.653023Z"
    }
   },
   "outputs": [],
   "source": [
    "spline_cph.print_summary(style='ascii')"
   ]
  },
  {
   "cell_type": "code",
   "execution_count": null,
   "id": "a6f2e5640cae9d76",
   "metadata": {
    "ExecuteTime": {
     "end_time": "2024-02-09T08:38:36.729958Z",
     "start_time": "2024-02-09T08:38:36.677196Z"
    }
   },
   "outputs": [],
   "source": [
    "# simulated data\n",
    "pco2_range = np.linspace(univariate_predictor_df['pCO2'].min(), univariate_predictor_df['pCO2'].max(), 200)\n",
    "\n",
    "# need to create a matrix of variables at their means, _except_ for age. \n",
    "x_bar = spline_cph._central_values\n",
    "df_varying_pco2 = pd.concat([x_bar] * 200).reset_index(drop=True)\n",
    "df_varying_pco2['pCO2'] = pco2_range\n",
    "\n",
    "predicted_log_partial_hazards = spline_cph.predict_log_partial_hazard(df_varying_pco2)\n",
    "df_varying_pco2['predicted_log_partial_hazards'] = predicted_log_partial_hazards"
   ]
  },
  {
   "cell_type": "code",
   "execution_count": null,
   "id": "39d4639b11efec29",
   "metadata": {
    "ExecuteTime": {
     "end_time": "2024-02-09T08:38:36.937959Z",
     "start_time": "2024-02-09T08:38:36.697062Z"
    }
   },
   "outputs": [],
   "source": [
    "sns.scatterplot(data=df_varying_pco2, x='pCO2', y='predicted_log_partial_hazards')"
   ]
  },
  {
   "cell_type": "code",
   "execution_count": null,
   "id": "a9b2be3542e167f",
   "metadata": {
    "ExecuteTime": {
     "end_time": "2024-02-09T08:38:37.198885Z",
     "start_time": "2024-02-09T08:38:36.931913Z"
    }
   },
   "outputs": [],
   "source": [
    "# actual data\n",
    "univariate_predictor_df_with_predicted_log_partial_hazards = univariate_predictor_df.copy()\n",
    "univariate_predictor_df_with_predicted_log_partial_hazards['predicted_partial_hazards'] = spline_cph.predict_partial_hazard(univariate_predictor_df)\n",
    "ax = sns.scatterplot(data=univariate_predictor_df_with_predicted_log_partial_hazards, x='pCO2', y='predicted_partial_hazards', hue='Death', alpha=0.25)\n",
    "\n",
    "# ax.set_ylim(-0.5, 1)"
   ]
  },
  {
   "cell_type": "markdown",
   "id": "67a4028bc97af0ea",
   "metadata": {
    "collapsed": false
   },
   "source": [
    "## multivariate model\n",
    "\n",
    "variables to consider for extraction: \n",
    "- ph / BE\n",
    "- HR / RR \n",
    "- PEEP / Vt"
   ]
  },
  {
   "cell_type": "markdown",
   "id": "fa068853a4eacc97",
   "metadata": {
    "collapsed": false
   },
   "source": [
    "#### Extract & preprocess covariates"
   ]
  },
  {
   "cell_type": "code",
   "execution_count": null,
   "id": "1785c2b99469e297",
   "metadata": {
    "ExecuteTime": {
     "end_time": "2024-02-09T08:38:37.205659Z",
     "start_time": "2024-02-09T08:38:37.196722Z"
    }
   },
   "outputs": [],
   "source": [
    "bp_path = '/Users/jk1/Library/CloudStorage/OneDrive-unige.ch/icu_research/dci_sah/data/pdms_data/Transfer Urs.pietsch@kssg.ch 22.01.24, 15_34/20240116_SAH_SOS_Blutdruecke.csv'\n",
    "nor_path = '/Users/jk1/Library/CloudStorage/OneDrive-unige.ch/icu_research/dci_sah/data/pdms_data/Transfer Urs.pietsch@kssg.ch 22.01.24, 15_34/20240116_SAH_SOS_EinzelGabeNoradrSpritzenpumpe.csv'\n",
    "gcs_path = '/Users/jk1/Library/CloudStorage/OneDrive-unige.ch/icu_research/dci_sah/data/pdms_data/Transfer Urs.pietsch@kssg.ch 22.01.24, 15_34/20240117_SAH_SOS_GCS.csv'"
   ]
  },
  {
   "cell_type": "code",
   "execution_count": null,
   "id": "495883fbd8c8aa60",
   "metadata": {
    "ExecuteTime": {
     "end_time": "2024-02-09T08:38:40.362148Z",
     "start_time": "2024-02-09T08:38:37.200919Z"
    }
   },
   "outputs": [],
   "source": [
    "bp_df = pd.read_csv(bp_path, sep=';', decimal='.')\n",
    "nor_df = pd.read_csv(nor_path, sep=';', decimal='.')\n",
    "gcs_df = pd.read_csv(gcs_path, sep=';', decimal='.')"
   ]
  },
  {
   "cell_type": "code",
   "execution_count": null,
   "id": "26e11d426e914f51",
   "metadata": {
    "ExecuteTime": {
     "end_time": "2024-02-09T08:38:40.381228Z",
     "start_time": "2024-02-09T08:38:40.360648Z"
    }
   },
   "outputs": [],
   "source": [
    "studied_variable = 'pCO2'\n",
    "response_variables = ['follow_up_time', 'Death']\n",
    "\n",
    "# covariate_registry_columns = ['Age', 'Sex', 'mRS_before_ictus', 'GCS_admission', 'WFNS', 'Intubated_on_admission_YN', 'HTN', 'DM', 'Fisher_Score']\n",
    "# other_covariates = ['pO2', 'mitteldruck', 'noradrenaline']\n",
    "\n",
    "covariate_registry_columns = ['Age', 'Sex', 'mRS_before_ictus', 'GCS_admission', 'WFNS', 'Intubated_on_admission_YN', 'HTN', 'DM']\n",
    "other_covariates = ['pO2', 'mitteldruck']\n",
    "\n",
    "all_covariates = covariate_registry_columns + other_covariates"
   ]
  },
  {
   "cell_type": "code",
   "execution_count": null,
   "id": "4ade7528351175e5",
   "metadata": {
    "ExecuteTime": {
     "end_time": "2024-02-09T08:38:40.398250Z",
     "start_time": "2024-02-09T08:38:40.365075Z"
    }
   },
   "outputs": [],
   "source": [
    "# removre Fisher / nor"
   ]
  },
  {
   "cell_type": "code",
   "execution_count": null,
   "id": "2339087bdbe4baea",
   "metadata": {
    "ExecuteTime": {
     "end_time": "2024-02-09T08:38:40.402254Z",
     "start_time": "2024-02-09T08:38:40.369276Z"
    }
   },
   "outputs": [],
   "source": [
    "# for every pre-selected covariate print number of missing values\n",
    "for covariate in covariate_registry_columns:\n",
    "    print(f'{covariate}: {registry_df[~registry_df.pCO2.isnull()][covariate].isnull().sum()}')"
   ]
  },
  {
   "cell_type": "code",
   "execution_count": null,
   "id": "9bf213ef204beac5",
   "metadata": {
    "ExecuteTime": {
     "end_time": "2024-02-09T08:38:40.444793Z",
     "start_time": "2024-02-09T08:38:40.381655Z"
    }
   },
   "outputs": [],
   "source": [
    "# fill na in age with Date_admission - Date_birth\n",
    "registry_df['Age'] = registry_df['Age'].fillna((registry_df['Date_admission'] - registry_df['Date_birth']).dt.total_seconds() / (24 * 3600) / 365.25)"
   ]
  },
  {
   "cell_type": "code",
   "execution_count": null,
   "id": "2459bed618f9a865",
   "metadata": {
    "ExecuteTime": {
     "end_time": "2024-02-09T08:38:40.448642Z",
     "start_time": "2024-02-09T08:38:40.388215Z"
    }
   },
   "outputs": [],
   "source": [
    "# transform Sex as binary variable (map M/m to 0 and F/f/W/w to 1)\n",
    "registry_df['Sex'] = registry_df['Sex'].str.upper().map({'M': 0, 'F': 1, 'W': 1})"
   ]
  },
  {
   "cell_type": "code",
   "execution_count": null,
   "id": "3dc22c4be7c98edb",
   "metadata": {
    "ExecuteTime": {
     "end_time": "2024-02-09T08:38:40.474682Z",
     "start_time": "2024-02-09T08:38:40.391880Z"
    }
   },
   "outputs": [],
   "source": [
    "# other covariates:\n",
    "# first pO2\n",
    "registry_df = registry_df.merge(first_abg_df[['pNr', 'pO2']], left_on='pNr', right_on='pNr', how='left')\n",
    "# set first po2 to nan if it is negative\n",
    "registry_df.loc[registry_df['pO2'] < 0, 'pO2'] = np.nan"
   ]
  },
  {
   "cell_type": "code",
   "execution_count": null,
   "id": "db8285ae69050c02",
   "metadata": {
    "ExecuteTime": {
     "end_time": "2024-02-09T08:38:42.414628Z",
     "start_time": "2024-02-09T08:38:40.402816Z"
    }
   },
   "outputs": [],
   "source": [
    "# first map\n",
    "first_bp_df = bp_df.groupby('pNr').apply(lambda x: x.sort_values('timeBd', ascending=True).iloc[0])\n",
    "first_bp_df.reset_index(drop=True, inplace=True)\n",
    "\n",
    "registry_df = registry_df.merge(first_bp_df[['pNr', 'mitteldruck']], left_on='pNr', right_on='pNr', how='left')"
   ]
  },
  {
   "cell_type": "code",
   "execution_count": null,
   "id": "d8ae5093170294c4",
   "metadata": {
    "ExecuteTime": {
     "end_time": "2024-02-09T08:38:42.453055Z",
     "start_time": "2024-02-09T08:38:42.420083Z"
    }
   },
   "outputs": [],
   "source": [
    "# convert noradrenaline doses from mg to mcg\n",
    "nor_df.loc[nor_df.Einheit == 'MILLIGRAM', 'Menge'] = nor_df.loc[nor_df.Einheit == 'MILLIGRAM', 'Menge'] * 1000\n",
    "nor_df.loc[nor_df.Einheit == 'MILLIGRAM', 'Einheit'] = 'MICROGRAM'\n",
    "# drop nan values in Einheit\n",
    "nor_df = nor_df.dropna(subset=['Einheit'])\n",
    "nor_df = nor_df[nor_df.Einheit == 'MICROGRAM']"
   ]
  },
  {
   "cell_type": "markdown",
   "id": "afdbdc11017d1a84",
   "metadata": {
    "collapsed": false
   },
   "source": [
    "concomitant noradrenaline treatment to pCO2 is defined as the presence of noradrenaline treatment within 15 minutes of the first pCO2 measurement"
   ]
  },
  {
   "cell_type": "code",
   "execution_count": null,
   "id": "f3fd2a8f7afab1fe",
   "metadata": {
    "ExecuteTime": {
     "end_time": "2024-02-09T08:38:42.521826Z",
     "start_time": "2024-02-09T08:38:42.442400Z"
    }
   },
   "outputs": [],
   "source": [
    "# from fist_abg_df get time and check if it is within the interval of nor_df Start (- 15 min) to nor_df Ende\n",
    "nor_df = nor_df.merge(first_abg_df[['pNr', 'timeBGA']], left_on='pNr', right_on='pNr', how='left')\n",
    "nor_df['Start'] = pd.to_datetime(nor_df['Start'], format='%Y-%m-%d %H:%M:%S.%f')\n",
    "nor_df['Ende'] = pd.to_datetime(nor_df['Ende'], format='%Y-%m-%d %H:%M:%S.%f')\n",
    "nor_df['nor_and_abg_concomitant'] = ((nor_df.timeBGA >= nor_df.Start - pd.Timedelta('15 minutes')) & (nor_df.timeBGA <= nor_df.Ende)).astype(int)"
   ]
  },
  {
   "cell_type": "code",
   "execution_count": null,
   "id": "f6815c74fbb2d5a2",
   "metadata": {
    "ExecuteTime": {
     "end_time": "2024-02-09T08:38:42.540678Z",
     "start_time": "2024-02-09T08:38:42.496554Z"
    }
   },
   "outputs": [],
   "source": [
    "# merge nor_df to registry_df\n",
    "nor_concomitant_df = nor_df.groupby('pNr').agg({'nor_and_abg_concomitant': 'max'}).reset_index()\n",
    "registry_df = registry_df.merge(nor_concomitant_df, left_on='pNr', right_on='pNr', how='left')\n",
    "registry_df.rename(columns={'nor_and_abg_concomitant': 'noradrenaline'}, inplace=True)"
   ]
  },
  {
   "cell_type": "markdown",
   "id": "d55246b8dd0e1285",
   "metadata": {
    "collapsed": false
   },
   "source": [
    "fill missing values in GCS and intubation status"
   ]
  },
  {
   "cell_type": "code",
   "execution_count": null,
   "id": "842aa13e9b18e840",
   "metadata": {
    "ExecuteTime": {
     "end_time": "2024-02-09T08:38:42.632453Z",
     "start_time": "2024-02-09T08:38:42.508043Z"
    }
   },
   "outputs": [],
   "source": [
    "gcs_df['GCS'] = gcs_df.eyes + gcs_df.verbal + gcs_df.movement\n",
    "first_gcs_df = gcs_df.groupby('pNr').apply(lambda x: x.sort_values('timeGCS', ascending=True).iloc[0])\n",
    "first_gcs_df.reset_index(drop=True, inplace=True)\n",
    "first_gcs_df.rename(columns={'GCS': 'GCS_pdms', 'intubated': 'intubated_pdms'}, inplace=True)\n",
    "registry_df = registry_df.merge(first_gcs_df[['pNr', 'GCS_pdms', 'intubated_pdms']], left_on='pNr', right_on='pNr', how='left')\n",
    "registry_df['GCS_admission'] = registry_df['GCS_admission'].fillna(registry_df['GCS_pdms'])\n",
    "registry_df['Intubated_on_admission_YN'] = registry_df['Intubated_on_admission_YN'].fillna(registry_df['intubated_pdms'])"
   ]
  },
  {
   "cell_type": "markdown",
   "id": "4674aeb319da62f7",
   "metadata": {
    "collapsed": false
   },
   "source": [
    "create multivariate predictor df"
   ]
  },
  {
   "cell_type": "code",
   "execution_count": null,
   "id": "a2ba684ce8ce00e2",
   "metadata": {
    "ExecuteTime": {
     "end_time": "2024-02-09T08:38:42.642951Z",
     "start_time": "2024-02-09T08:38:42.635484Z"
    }
   },
   "outputs": [],
   "source": [
    "multivariate_predictor_df = registry_df[covariate_registry_columns + other_covariates + [studied_variable] + response_variables]\n",
    "multivariate_predictor_df['Death'] = univariate_predictor_df['Death'].fillna(0).astype(int)\n",
    "multivariate_predictor_df = multivariate_predictor_df.dropna(subset=[studied_variable] + response_variables)\n",
    "multivariate_predictor_df.reset_index(drop=True, inplace=True)"
   ]
  },
  {
   "cell_type": "code",
   "execution_count": null,
   "id": "522c2d407d1b8c75",
   "metadata": {
    "ExecuteTime": {
     "end_time": "2024-02-09T08:38:43.040411Z",
     "start_time": "2024-02-09T08:38:42.642010Z"
    }
   },
   "outputs": [],
   "source": [
    "# impute missing values in covariates\n",
    "\n",
    "from sklearn.experimental import enable_iterative_imputer  # noqa\n",
    "from sklearn.impute import IterativeImputer\n",
    "\n",
    "imputer = IterativeImputer(max_iter=10, random_state=0)\n",
    "\n",
    "variate_df = multivariate_predictor_df[all_covariates + [studied_variable]]\n",
    "\n",
    "imputed_variates = imputer.fit_transform(variate_df)\n",
    "imputed_covariates_df = pd.DataFrame(imputed_variates, columns=all_covariates + [studied_variable])\n",
    "\n",
    "# binarize noradrenaline\n",
    "if 'noradrenaline' in all_covariates:\n",
    "    imputed_covariates_df['noradrenaline'] = (imputed_covariates_df['noradrenaline'] > 0.5).astype(int)\n"
   ]
  },
  {
   "cell_type": "code",
   "execution_count": null,
   "id": "afbfbdc02493c621",
   "metadata": {
    "ExecuteTime": {
     "end_time": "2024-02-09T08:38:43.051384Z",
     "start_time": "2024-02-09T08:38:43.037871Z"
    }
   },
   "outputs": [],
   "source": [
    "imputed_multivariate_predictor_df = multivariate_predictor_df[response_variables].join(imputed_covariates_df)"
   ]
  },
  {
   "cell_type": "code",
   "execution_count": null,
   "id": "c3a22b4affcc4040",
   "metadata": {
    "ExecuteTime": {
     "end_time": "2024-02-09T08:38:43.066792Z",
     "start_time": "2024-02-09T08:38:43.043872Z"
    }
   },
   "outputs": [],
   "source": [
    "imputed_multivariate_predictor_df.isnull().sum().sum()"
   ]
  },
  {
   "cell_type": "markdown",
   "id": "48f5e75599410ad1",
   "metadata": {
    "collapsed": false
   },
   "source": [
    "### Fit linear multivariate model"
   ]
  },
  {
   "cell_type": "code",
   "execution_count": null,
   "id": "48d04e3c8cbaef0b",
   "metadata": {
    "ExecuteTime": {
     "end_time": "2024-02-09T08:38:43.157652Z",
     "start_time": "2024-02-09T08:38:43.051151Z"
    }
   },
   "outputs": [],
   "source": [
    "multi_variate_cph = CoxPHFitter()\n",
    "multi_variate_cph.fit(imputed_multivariate_predictor_df, duration_col='follow_up_time', event_col='Death')"
   ]
  },
  {
   "cell_type": "code",
   "execution_count": null,
   "id": "28fba8c61f345d40",
   "metadata": {
    "ExecuteTime": {
     "end_time": "2024-02-09T08:45:15.001551Z",
     "start_time": "2024-02-09T08:45:14.901064Z"
    }
   },
   "outputs": [],
   "source": [
    "multi_variate_cph.print_summary(style='ascii')"
   ]
  },
  {
   "cell_type": "code",
   "execution_count": null,
   "id": "98f2d9e2818ac7c8",
   "metadata": {
    "ExecuteTime": {
     "end_time": "2024-02-09T08:38:43.461114Z",
     "start_time": "2024-02-09T08:38:43.127578Z"
    }
   },
   "outputs": [],
   "source": [
    "multi_variate_cph.plot()"
   ]
  },
  {
   "cell_type": "code",
   "execution_count": null,
   "id": "210b3f6edb8ed1b",
   "metadata": {
    "ExecuteTime": {
     "end_time": "2024-02-09T08:38:43.775036Z",
     "start_time": "2024-02-09T08:38:43.455646Z"
    }
   },
   "outputs": [],
   "source": [
    "ax = multi_variate_cph.plot_partial_effects_on_outcome(covariates='pCO2', values=[1, 3, 5,7])\n",
    "ax.set_xlim(0, 90)\n",
    "# place legend outside of plot\n",
    "plt.legend(bbox_to_anchor=(1.05, 1), loc='upper left', borderaxespad=0.)"
   ]
  },
  {
   "cell_type": "code",
   "execution_count": null,
   "id": "d54e82106e6e469d",
   "metadata": {
    "ExecuteTime": {
     "end_time": "2024-02-09T08:38:44.011641Z",
     "start_time": "2024-02-09T08:38:43.771332Z"
    }
   },
   "outputs": [],
   "source": [
    "multivariate_predicted_partial_hazards = multi_variate_cph.predict_partial_hazard(imputed_multivariate_predictor_df)\n",
    "# plot multivariate_predicted_log_partial_hazards vs pCO2\n",
    "sns.scatterplot(data=imputed_multivariate_predictor_df, x='pCO2', y=multivariate_predicted_partial_hazards)"
   ]
  },
  {
   "cell_type": "markdown",
   "id": "c2ff960b8979d3f2",
   "metadata": {
    "collapsed": false
   },
   "source": [
    "### Fit spline multivariate model"
   ]
  },
  {
   "cell_type": "code",
   "execution_count": null,
   "id": "991b12fe756ed5af",
   "metadata": {
    "ExecuteTime": {
     "end_time": "2024-02-09T08:38:44.029817Z",
     "start_time": "2024-02-09T08:38:44.009645Z"
    }
   },
   "outputs": [],
   "source": [
    "# add a small positive value to zero elements in follow_up_time to avoid log(0) in the spline model\n",
    "imputed_multivariate_predictor_df['follow_up_time'] = imputed_multivariate_predictor_df['follow_up_time'] + 1e-6"
   ]
  },
  {
   "cell_type": "code",
   "execution_count": null,
   "id": "46375bb7d7236158",
   "metadata": {
    "ExecuteTime": {
     "end_time": "2024-02-09T08:38:44.036121Z",
     "start_time": "2024-02-09T08:38:44.013551Z"
    }
   },
   "outputs": [],
   "source": [
    "all_covariates_string = ' + '.join(all_covariates)\n",
    "all_covariates_string"
   ]
  },
  {
   "cell_type": "code",
   "execution_count": null,
   "id": "e6fff94c067fb4ac",
   "metadata": {
    "ExecuteTime": {
     "end_time": "2024-02-09T08:38:44.679482Z",
     "start_time": "2024-02-09T08:38:44.021465Z"
    }
   },
   "outputs": [],
   "source": [
    "# find best spline df model by selecting the one with the lowest AIC\n",
    "multivariate_aic_df = pd.DataFrame(columns=['df', 'AIC', 'concordance_index'])\n",
    "\n",
    "for df in range(3, 10):\n",
    "    multi_variate_spline_cph = CoxPHFitter()\n",
    "    multi_variate_spline_cph.fit(imputed_multivariate_predictor_df, duration_col='follow_up_time', event_col='Death',\n",
    "                   formula=f'bs(pCO2, df={df}) + {all_covariates_string}')\n",
    "    multivariate_aic_df = pd.concat([multivariate_aic_df, pd.DataFrame({'df': [df], 'AIC': [multi_variate_spline_cph.AIC_partial_],\n",
    "                                                                          'concordance_index': [multi_variate_spline_cph.concordance_index_]})])\n",
    "\n",
    "multivariate_best_df = multivariate_aic_df.reset_index().loc[multivariate_aic_df['AIC'].idxmin()]['df']\n",
    "print(f'Best df: {multivariate_best_df}, with AIC: {multivariate_aic_df[multivariate_aic_df[\"df\"] == multivariate_best_df][\"AIC\"].values[0]} and concordance index: {multivariate_aic_df[multivariate_aic_df[\"df\"] == multivariate_best_df][\"concordance_index\"].values[0]}')"
   ]
  },
  {
   "cell_type": "code",
   "execution_count": null,
   "id": "f13eb9cd53912644",
   "metadata": {
    "ExecuteTime": {
     "end_time": "2024-02-09T08:46:45.256589Z",
     "start_time": "2024-02-09T08:46:45.101906Z"
    }
   },
   "outputs": [],
   "source": [
    "multi_variate_spline_cph = CoxPHFitter()\n",
    "multi_variate_spline_cph.fit(imputed_multivariate_predictor_df, duration_col='follow_up_time', event_col='Death',\n",
    "               formula=f'bs(pCO2, df={multivariate_best_df}) + {all_covariates_string}')\n",
    "multi_variate_spline_cph.print_summary(style='ascii')"
   ]
  },
  {
   "cell_type": "code",
   "execution_count": null,
   "id": "ae8b3b0a10010fa6",
   "metadata": {
    "ExecuteTime": {
     "end_time": "2024-02-09T08:38:45.043016Z",
     "start_time": "2024-02-09T08:38:44.776944Z"
    }
   },
   "outputs": [],
   "source": [
    "multi_variate_spline_cph.plot()"
   ]
  },
  {
   "cell_type": "code",
   "execution_count": null,
   "id": "10fb1bd8213a3019",
   "metadata": {
    "ExecuteTime": {
     "end_time": "2024-02-09T08:38:45.377374Z",
     "start_time": "2024-02-09T08:38:45.042662Z"
    }
   },
   "outputs": [],
   "source": [
    "# plot survival curve for multivariate spline model\n",
    "ax = multi_variate_spline_cph.plot_partial_effects_on_outcome(covariates='pCO2', values=[3, 4, 5, 6, 7], cmap='viridis')\n",
    "ax.set_xlim(0, 90)\n"
   ]
  },
  {
   "cell_type": "code",
   "execution_count": null,
   "id": "6a77912ad781c5c7",
   "metadata": {
    "ExecuteTime": {
     "end_time": "2024-02-09T08:38:45.397621Z",
     "start_time": "2024-02-09T08:38:45.375258Z"
    }
   },
   "outputs": [],
   "source": [
    "# get predictions for actual data\n",
    "imputed_multivariate_predictor_df_with_predicted_partial_hazards = imputed_multivariate_predictor_df.copy()\n",
    "imputed_multivariate_predictor_df_with_predicted_partial_hazards['predicted_partial_hazards'] = multi_variate_spline_cph.predict_partial_hazard(imputed_multivariate_predictor_df)"
   ]
  },
  {
   "cell_type": "code",
   "execution_count": null,
   "id": "2a3b253664360371",
   "metadata": {
    "ExecuteTime": {
     "end_time": "2024-02-09T08:38:45.684501Z",
     "start_time": "2024-02-09T08:38:45.399761Z"
    }
   },
   "outputs": [],
   "source": [
    "# plot on simulated data\n",
    "pco2_range = np.linspace(imputed_multivariate_predictor_df['pCO2'].min(), imputed_multivariate_predictor_df['pCO2'].max(), 200)\n",
    "\n",
    "# need to create a matrix of variables at their means, _except_ for age.\n",
    "x_bar = multi_variate_spline_cph._central_values\n",
    "df_varying_pco2 = pd.concat([x_bar] * 200).reset_index(drop=True)\n",
    "df_varying_pco2['pCO2'] = pco2_range\n",
    "\n",
    "predicted_partial_hazards = multi_variate_spline_cph.predict_partial_hazard(df_varying_pco2)\n",
    "df_varying_pco2['predicted_partial_hazards'] = predicted_partial_hazards\n",
    "\n",
    "sns.scatterplot(data=df_varying_pco2, x='pCO2', y='predicted_partial_hazards')\n",
    "# set title\n",
    "plt.title('Predicted partial hazards vs pCO2 (simulated data)')"
   ]
  },
  {
   "cell_type": "code",
   "execution_count": null,
   "id": "265eb5a55656e358",
   "metadata": {
    "ExecuteTime": {
     "end_time": "2024-02-09T08:38:46.556924Z",
     "start_time": "2024-02-09T08:38:45.692761Z"
    }
   },
   "outputs": [],
   "source": [
    "# now recreate with 2 subfigures side to side with different y_lim\n",
    "fig, (ax1, ax2) = plt.subplots(1, 2, figsize=(15, 5))\n",
    "\n",
    "sns.scatterplot(data=imputed_multivariate_predictor_df_with_predicted_partial_hazards, x='pCO2', y='predicted_partial_hazards', hue='Death', alpha=0.25, ax=ax1)\n",
    "sns.scatterplot(data=df_varying_pco2, x='pCO2', y='predicted_partial_hazards', color='red', ax=ax1, alpha=0.25, label='simulated data')\n",
    "\n",
    "sns.scatterplot(data=imputed_multivariate_predictor_df_with_predicted_partial_hazards, x='pCO2', y='predicted_partial_hazards', hue='Death', alpha=0.25, ax=ax2)\n",
    "sns.scatterplot(data=df_varying_pco2, x='pCO2', y='predicted_partial_hazards', color='red', ax=ax2, alpha=0.25, label='simulated data')\n",
    "ax2.set_ylim(0, 1)\n",
    "\n",
    "# set subtitles\n",
    "ax1.set_title('Predicted partial hazards vs pCO2')\n",
    "ax2.set_title('Zoomed in')"
   ]
  },
  {
   "cell_type": "markdown",
   "id": "304b553ec26d2e55",
   "metadata": {
    "collapsed": false
   },
   "source": [
    "#### Relationship with other covariates"
   ]
  },
  {
   "cell_type": "code",
   "execution_count": null,
   "id": "8169bdd4b60aa9b4",
   "metadata": {
    "ExecuteTime": {
     "end_time": "2024-02-09T08:38:46.892890Z",
     "start_time": "2024-02-09T08:38:46.578847Z"
    }
   },
   "outputs": [],
   "source": [
    "a1 = sns.scatterplot(data=imputed_multivariate_predictor_df_with_predicted_partial_hazards, x='pCO2', y='predicted_partial_hazards', hue='GCS_admission', alpha=0.25)\n",
    "sns.scatterplot(data=df_varying_pco2, x='pCO2', y='predicted_partial_hazards', color='red', ax=ax1, alpha=0.25, label='simulated data')\n",
    "\n",
    "\n",
    "# set legend outside of plot\n",
    "a1.legend(bbox_to_anchor=(1.05, 1), loc='upper left', borderaxespad=0., title='GCS at admission')\n",
    "# let items of legend be only integers\n",
    "handles, labels = a1.get_legend_handles_labels()\n",
    "a1.legend(handles=handles[1:], labels=[int(float(label)) for label in labels[1:]], title='GCS at admission', bbox_to_anchor=(1.05, 1), loc='upper left', borderaxespad=0.)"
   ]
  },
  {
   "cell_type": "code",
   "execution_count": null,
   "id": "1a93264612e56c7b",
   "metadata": {
    "ExecuteTime": {
     "end_time": "2024-02-09T08:38:47.217128Z",
     "start_time": "2024-02-09T08:38:46.890764Z"
    }
   },
   "outputs": [],
   "source": [
    "ax = sns.scatterplot(data=imputed_multivariate_predictor_df_with_predicted_partial_hazards, x='pCO2', y='predicted_partial_hazards', hue='Intubated_on_admission_YN', alpha=0.25, palette='viridis')\n",
    "# set legend outside of plot\n",
    "ax.legend(bbox_to_anchor=(1.05, 1), loc='upper left', borderaxespad=0., title='Intubated on admission')\n",
    "# set title\n",
    "plt.title('Predicted partial hazards vs pCO2')\n"
   ]
  },
  {
   "cell_type": "code",
   "execution_count": null,
   "id": "d41f0802b3b49c9e",
   "metadata": {
    "ExecuteTime": {
     "end_time": "2024-02-09T08:38:48.159850Z",
     "start_time": "2024-02-09T08:38:47.213809Z"
    }
   },
   "outputs": [],
   "source": [
    "# check relationship with Fisher_Score\n",
    "ax = sns.scatterplot(data=imputed_multivariate_predictor_df_with_predicted_partial_hazards, x='pCO2', y='predicted_partial_hazards', hue='Fisher_Score', alpha=0.25, palette='rainbow')\n",
    "\n",
    "# let items of legend be only integers\n",
    "handles, labels = ax.get_legend_handles_labels()\n",
    "ax.legend(handles=handles[2:], labels=[int(float(label)) for label in labels[2:]], title='Fisher Score', bbox_to_anchor=(1.05, 1), loc='upper left', borderaxespad=0.)\n",
    "\n",
    "# set title\n",
    "plt.title('Predicted partial hazards vs pCO2')\n"
   ]
  },
  {
   "cell_type": "markdown",
   "id": "53df3db4230178dd",
   "metadata": {
    "collapsed": false
   },
   "source": [
    "#### Fit on subset with GCS >= 12"
   ]
  },
  {
   "cell_type": "code",
   "execution_count": null,
   "id": "855908ae5bf7969f",
   "metadata": {
    "ExecuteTime": {
     "end_time": "2024-02-09T08:38:48.161805Z",
     "start_time": "2024-02-09T08:38:48.160822Z"
    }
   },
   "outputs": [],
   "source": [
    "imputed_multivariate_predictor_df['GCS_admission'].value_counts()"
   ]
  },
  {
   "cell_type": "code",
   "execution_count": null,
   "id": "2bf1b2f9e8d2bcea",
   "metadata": {
    "ExecuteTime": {
     "end_time": "2024-02-09T08:38:48.296674Z",
     "start_time": "2024-02-09T08:38:48.163497Z"
    }
   },
   "outputs": [],
   "source": [
    "multivariate_predictor_non_coma_df = multivariate_predictor_df[multivariate_predictor_df['GCS_admission'] >= 12]\n",
    "multivariate_predictor_non_coma_df.reset_index(drop=True, inplace=True)"
   ]
  },
  {
   "cell_type": "code",
   "execution_count": null,
   "id": "b40701b2cf2bf87f",
   "metadata": {
    "ExecuteTime": {
     "start_time": "2024-02-09T08:38:48.166475Z"
    }
   },
   "outputs": [],
   "source": [
    "multivariate_predictor_non_coma_df.Death.value_counts()"
   ]
  },
  {
   "cell_type": "code",
   "execution_count": null,
   "id": "6f9bcf52a32c3949",
   "metadata": {
    "ExecuteTime": {
     "start_time": "2024-02-09T08:38:48.169310Z"
    }
   },
   "outputs": [],
   "source": [
    "# impute missing values in covariates\n",
    "\n",
    "from sklearn.experimental import enable_iterative_imputer  # noqa\n",
    "from sklearn.impute import IterativeImputer\n",
    "\n",
    "imputer = IterativeImputer(max_iter=10, random_state=0)\n",
    "\n",
    "non_coma_variate_df = multivariate_predictor_non_coma_df[all_covariates + [studied_variable]]\n",
    "\n",
    "non_coma_imputed_variates = imputer.fit_transform(non_coma_variate_df)\n",
    "non_coma_imputed_covariates_df = pd.DataFrame(non_coma_imputed_variates, columns=all_covariates + [studied_variable])\n",
    "\n",
    "# binarize noradrenaline\n",
    "if 'noradrenaline' in all_covariates:\n",
    "    non_coma_imputed_covariates_df['noradrenaline'] = (non_coma_imputed_covariates_df['noradrenaline'] > 0.5).astype(int)\n"
   ]
  },
  {
   "cell_type": "code",
   "execution_count": null,
   "id": "c16a3c8fe0192d3b",
   "metadata": {
    "ExecuteTime": {
     "start_time": "2024-02-09T08:38:48.172348Z"
    }
   },
   "outputs": [],
   "source": [
    "non_coma_imputed_multivariate_predictor_df = multivariate_predictor_non_coma_df[response_variables].join(non_coma_imputed_covariates_df)"
   ]
  },
  {
   "cell_type": "code",
   "execution_count": null,
   "id": "1b980905594207f5",
   "metadata": {
    "ExecuteTime": {
     "start_time": "2024-02-09T08:38:48.175125Z"
    }
   },
   "outputs": [],
   "source": [
    "non_coma_imputed_multivariate_predictor_df.isnull().sum().sum()"
   ]
  },
  {
   "cell_type": "code",
   "execution_count": null,
   "id": "573c1af3d9cc351",
   "metadata": {
    "ExecuteTime": {
     "start_time": "2024-02-09T08:38:48.177942Z"
    }
   },
   "outputs": [],
   "source": [
    "non_coma_multi_variate_spline_cph = CoxPHFitter()\n",
    "non_coma_multi_variate_spline_cph.fit(non_coma_imputed_multivariate_predictor_df, duration_col='follow_up_time', event_col='Death',\n",
    "               formula=f'bs(pCO2, df={multivariate_best_df}) + {all_covariates_string}')\n",
    "non_coma_multi_variate_spline_cph.print_summary(style='ascii')"
   ]
  },
  {
   "cell_type": "markdown",
   "id": "9b793cd97578d667",
   "metadata": {
    "collapsed": false
   },
   "source": [
    "#### Fit in intubated and non intubated subgroup"
   ]
  },
  {
   "cell_type": "code",
   "execution_count": null,
   "id": "54a95d1df9116228",
   "metadata": {
    "ExecuteTime": {
     "end_time": "2024-02-09T08:50:11.112551Z",
     "start_time": "2024-02-09T08:50:11.061780Z"
    }
   },
   "outputs": [],
   "source": [
    "imputed_multivariate_predictor_df['Intubated_on_admission_YN'].value_counts()"
   ]
  },
  {
   "cell_type": "code",
   "execution_count": null,
   "id": "235b8427603fe4c1",
   "metadata": {
    "ExecuteTime": {
     "end_time": "2024-02-09T08:50:11.645058Z",
     "start_time": "2024-02-09T08:50:11.397824Z"
    }
   },
   "outputs": [],
   "source": [
    "multivariate_predictor_non_intubated_df = multivariate_predictor_df[multivariate_predictor_df['Intubated_on_admission_YN'] == 0]\n",
    "multivariate_predictor_intubated_df = multivariate_predictor_df[multivariate_predictor_df['Intubated_on_admission_YN'] == 1]\n",
    "multivariate_predictor_intubated_df.reset_index(drop=True, inplace=True)\n",
    "multivariate_predictor_non_intubated_df.reset_index(drop=True, inplace=True)\n",
    "multivariate_predictor_intubated_df.drop(columns=['Intubated_on_admission_YN'], inplace=True)\n",
    "multivariate_predictor_non_intubated_df.drop(columns=['Intubated_on_admission_YN'], inplace=True)\n",
    "intubation_subgroups_covariates = all_covariates.copy()\n",
    "intubation_subgroups_covariates.remove('Intubated_on_admission_YN')\n",
    "intubation_subgroups_covariates_string = ' + '.join(intubation_subgroups_covariates)"
   ]
  },
  {
   "cell_type": "code",
   "execution_count": null,
   "id": "ecc11e0619b65383",
   "metadata": {
    "ExecuteTime": {
     "end_time": "2024-02-09T08:50:11.898905Z",
     "start_time": "2024-02-09T08:50:11.655525Z"
    }
   },
   "outputs": [],
   "source": [
    "multivariate_predictor_non_intubated_df.Death.value_counts()"
   ]
  },
  {
   "cell_type": "code",
   "execution_count": null,
   "id": "6d7c063c9687dded",
   "metadata": {
    "ExecuteTime": {
     "end_time": "2024-02-09T08:50:12.104600Z",
     "start_time": "2024-02-09T08:50:11.900530Z"
    }
   },
   "outputs": [],
   "source": [
    "multivariate_predictor_intubated_df.Death.value_counts()"
   ]
  },
  {
   "cell_type": "code",
   "execution_count": null,
   "id": "a8faeab607aee33e",
   "metadata": {
    "ExecuteTime": {
     "end_time": "2024-02-09T08:50:12.268478Z",
     "start_time": "2024-02-09T08:50:12.148469Z"
    }
   },
   "outputs": [],
   "source": [
    "# impute missing values in covariates\n",
    "\n",
    "from sklearn.experimental import enable_iterative_imputer  # noqa\n",
    "from sklearn.impute import IterativeImputer\n",
    "\n",
    "# impute for non intubated\n",
    "imputer = IterativeImputer(max_iter=10, random_state=0)\n",
    "non_intubated_variate_df = multivariate_predictor_non_intubated_df[intubation_subgroups_covariates + [studied_variable]]\n",
    "\n",
    "non_intubated_imputed_variates = imputer.fit_transform(non_intubated_variate_df)\n",
    "non_intubated_imputed_covariates_df = pd.DataFrame(non_intubated_imputed_variates, columns=intubation_subgroups_covariates + [studied_variable])\n",
    "\n",
    "# impute for intubated\n",
    "imputer = IterativeImputer(max_iter=10, random_state=0)\n",
    "intubated_variate_df = multivariate_predictor_intubated_df[intubation_subgroups_covariates + [studied_variable]]\n",
    "\n",
    "intubated_imputed_variates = imputer.fit_transform(intubated_variate_df)\n",
    "intubated_imputed_covariates_df = pd.DataFrame(intubated_imputed_variates, columns=intubation_subgroups_covariates + [studied_variable])\n",
    "\n",
    "# binarize noradrenaline\n",
    "if 'noradrenaline' in intubation_subgroups_covariates:\n",
    "    non_intubated_imputed_covariates_df['noradrenaline'] = (non_intubated_imputed_covariates_df['noradrenaline'] > 0.5).astype(int)\n",
    "    intubated_imputed_covariates_df['noradrenaline'] = (intubated_imputed_covariates_df['noradrenaline'] > 0.5).astype(int)"
   ]
  },
  {
   "cell_type": "code",
   "execution_count": null,
   "id": "7c6e438ae03b3db6",
   "metadata": {
    "ExecuteTime": {
     "end_time": "2024-02-09T08:50:12.272148Z",
     "start_time": "2024-02-09T08:50:12.209976Z"
    }
   },
   "outputs": [],
   "source": [
    "intubated_imputed_multivariate_predictor_df = multivariate_predictor_intubated_df[response_variables].join(intubated_imputed_covariates_df)\n",
    "non_intubated_imputed_multivariate_predictor_df = multivariate_predictor_non_intubated_df[response_variables].join(non_intubated_imputed_covariates_df)"
   ]
  },
  {
   "cell_type": "code",
   "execution_count": null,
   "id": "aa488fdfa10f9be7",
   "metadata": {
    "ExecuteTime": {
     "end_time": "2024-02-09T08:50:12.302896Z",
     "start_time": "2024-02-09T08:50:12.248955Z"
    }
   },
   "outputs": [],
   "source": [
    "intubated_imputed_multivariate_predictor_df.isnull().sum().sum(), non_intubated_imputed_multivariate_predictor_df.isnull().sum().sum()"
   ]
  },
  {
   "cell_type": "code",
   "execution_count": null,
   "id": "387f5f0396748030",
   "metadata": {
    "ExecuteTime": {
     "end_time": "2024-02-09T08:50:22.251835Z",
     "start_time": "2024-02-09T08:50:22.109905Z"
    }
   },
   "outputs": [],
   "source": [
    "intubated_multi_variate_spline_cph = CoxPHFitter()\n",
    "intubated_multi_variate_spline_cph.fit(intubated_imputed_multivariate_predictor_df, duration_col='follow_up_time', event_col='Death',\n",
    "               formula=f'bs(pCO2, df={multivariate_best_df}) + {intubation_subgroups_covariates_string}', show_progress=True)\n",
    "intubated_multi_variate_spline_cph.print_summary(style='ascii')"
   ]
  },
  {
   "cell_type": "code",
   "execution_count": null,
   "id": "58045e84fd4a35b8",
   "metadata": {
    "ExecuteTime": {
     "end_time": "2024-02-09T08:57:22.438882Z",
     "start_time": "2024-02-09T08:57:22.299428Z"
    }
   },
   "outputs": [],
   "source": [
    "non_intubated_multi_variate_spline_cph = CoxPHFitter()\n",
    "non_intubated_multi_variate_spline_cph.fit(non_intubated_imputed_multivariate_predictor_df, duration_col='follow_up_time', event_col='Death',\n",
    "               formula=f'bs(pCO2, df={multivariate_best_df}) + {intubation_subgroups_covariates_string}')\n",
    "non_intubated_multi_variate_spline_cph.print_summary(style='ascii')"
   ]
  },
  {
   "cell_type": "markdown",
   "id": "28df067f6f11bfc1",
   "metadata": {
    "collapsed": false
   },
   "source": [
    "## Fit with subgroup data\n",
    "\n",
    "thresholds for pCO2 subgroups in litterature\n",
    "    - pre-hospital paper: hypocapnia (< 35 mmHg), normocapnia (35–44 mmHg), and hypercapnia (≥ 45 mmHg)\n",
    "    - ENIO: normocapnia, PaCO2 > 35–45 mmHg, mild hypocapnia 32–35 mmHg, severe hypocapnia as 26– < 32 mmHg, forced hypocapnia as PaCO2 < 26 mmHg, and hypercapnia as PaCO2 > 45 mmHg\n",
    "    - MIMIC: < 30, 30–35, 35–45, 45–50, and ≥ 50 mmHg"
   ]
  },
  {
   "cell_type": "markdown",
   "id": "2859f8e3a00b9c11",
   "metadata": {
    "collapsed": false
   },
   "source": [
    "### Univariate model"
   ]
  },
  {
   "cell_type": "code",
   "execution_count": null,
   "id": "fe8184933f4c7121",
   "metadata": {
    "ExecuteTime": {
     "end_time": "2024-02-09T08:53:33.796887Z",
     "start_time": "2024-02-09T08:53:33.733029Z"
    }
   },
   "outputs": [],
   "source": [
    "univariate_predictor_categorized_df = univariate_predictor_df.copy()\n",
    "# categorize pCO2 into < 35, 35-45, > 45 mmHg corresponding to < 4.66, 4.66-5.99, > 5.99 kPa\n",
    "\n",
    "\n",
    "univariate_predictor_categorized_df['pCO2_category'] = pd.cut(univariate_predictor_categorized_df['pCO2'], bins=[0, 4.66, 5.99, 100], labels=['hypocapnia', 'normocapnia', 'hypercapnia'])\n",
    " \n",
    "# further subgroups\n",
    "# univariate_predictor_categorized_df['pCO2_category'] = pd.cut(univariate_predictor_categorized_df['pCO2'], bins=[0, 3.46, 4.26, 4.66, 5.99, 100], labels=['forced_hypocapnia', 'severe_hypocapnia', 'hypocapnia', 'normocapnia', 'hypercapnia'])\n",
    "\n",
    "# one hot encoding\n",
    "univariate_predictor_categorized_df = pd.get_dummies(univariate_predictor_categorized_df, columns=['pCO2_category'])\n",
    "# set all columns starting with pCO2_category to int\n",
    "univariate_predictor_categorized_df.loc[:, univariate_predictor_categorized_df.columns.str.startswith('pCO2_category')] = univariate_predictor_categorized_df.loc[:, univariate_predictor_categorized_df.columns.str.startswith('pCO2_category')].astype(int)\n",
    "univariate_predictor_categorized_df.drop(columns=['pCO2', 'pCO2_category_normocapnia'], inplace=True)"
   ]
  },
  {
   "cell_type": "code",
   "execution_count": null,
   "id": "dd2ec19b4d1c5c77",
   "metadata": {
    "ExecuteTime": {
     "end_time": "2024-02-09T08:53:35.076803Z",
     "start_time": "2024-02-09T08:53:35.009652Z"
    }
   },
   "outputs": [],
   "source": [
    "univariate_categorized_cph = CoxPHFitter()\n",
    "univariate_categorized_cph.fit(univariate_predictor_categorized_df, duration_col='follow_up_time', event_col='Death')\n",
    "univariate_categorized_cph.print_summary(style='ascii')"
   ]
  },
  {
   "cell_type": "code",
   "execution_count": null,
   "id": "e6b5b8c3bb2c5cbe",
   "metadata": {
    "ExecuteTime": {
     "end_time": "2024-02-09T08:53:37.160445Z",
     "start_time": "2024-02-09T08:53:36.945303Z"
    }
   },
   "outputs": [],
   "source": [
    "univariate_categorized_cph.plot()"
   ]
  },
  {
   "cell_type": "markdown",
   "id": "b6b48a39811a5834",
   "metadata": {
    "collapsed": false
   },
   "source": [
    "### Multivariate model"
   ]
  },
  {
   "cell_type": "code",
   "execution_count": null,
   "id": "e84755e1c617d0e",
   "metadata": {
    "ExecuteTime": {
     "end_time": "2024-02-09T08:54:58.409633Z",
     "start_time": "2024-02-09T08:54:58.365126Z"
    }
   },
   "outputs": [],
   "source": [
    "imputed_multivariate_predictor_categorized_df = imputed_multivariate_predictor_df.copy()\n",
    "# categorize pCO2 into < 35, 35-45, > 45 mmHg corresponding to < 4.66, 4.66-5.99, > 5.99 kPa\n",
    "imputed_multivariate_predictor_categorized_df['pCO2_category'] = pd.cut(imputed_multivariate_predictor_categorized_df['pCO2'], bins=[0, 4.66, 5.99, 100], labels=['hypocapnia', 'normocapnia', 'hypercapnia'])\n",
    "\n",
    "# one hot encoding\n",
    "imputed_multivariate_predictor_categorized_df = pd.get_dummies(imputed_multivariate_predictor_categorized_df, columns=['pCO2_category'])\n",
    "# set all columns starting with pCO2_category to int\n",
    "imputed_multivariate_predictor_categorized_df.loc[:, imputed_multivariate_predictor_categorized_df.columns.str.startswith('pCO2_category')] = imputed_multivariate_predictor_categorized_df.loc[:, imputed_multivariate_predictor_categorized_df.columns.str.startswith('pCO2_category')].astype(int)\n",
    "imputed_multivariate_predictor_categorized_df.drop(columns=['pCO2', 'pCO2_category_normocapnia'], inplace=True)\n"
   ]
  },
  {
   "cell_type": "code",
   "execution_count": null,
   "id": "22bf74bd0704f289",
   "metadata": {
    "ExecuteTime": {
     "end_time": "2024-02-09T08:54:59.590289Z",
     "start_time": "2024-02-09T08:54:59.513087Z"
    }
   },
   "outputs": [],
   "source": [
    "multivariate_categorized_cph = CoxPHFitter()\n",
    "multivariate_categorized_cph.fit(imputed_multivariate_predictor_categorized_df, duration_col='follow_up_time', event_col='Death')\n",
    "multivariate_categorized_cph.print_summary(style='ascii')"
   ]
  },
  {
   "cell_type": "code",
   "execution_count": null,
   "id": "b93e510987e3befb",
   "metadata": {
    "ExecuteTime": {
     "end_time": "2024-02-09T08:55:21.064741Z",
     "start_time": "2024-02-09T08:55:20.803630Z"
    }
   },
   "outputs": [],
   "source": [
    "multivariate_categorized_cph.plot()"
   ]
  },
  {
   "cell_type": "markdown",
   "id": "b4006250c3c6e555",
   "metadata": {
    "collapsed": false
   },
   "source": [
    "Todo:\n",
    "\n",
    "Technical:\n",
    "- dummy encoding of categorical variables?\n",
    "- variable selection?\n",
    "\n",
    "Analysis:\n",
    "- 30d mortality logistic regression"
   ]
  },
  {
   "cell_type": "code",
   "execution_count": null,
   "id": "5037d7bb90d993d7",
   "metadata": {
    "ExecuteTime": {
     "start_time": "2024-02-09T08:38:48.206664Z"
    }
   },
   "outputs": [],
   "source": []
  }
 ],
 "metadata": {
  "kernelspec": {
   "display_name": "Python 3 (ipykernel)",
   "language": "python",
   "name": "python3"
  },
  "language_info": {
   "codemirror_mode": {
    "name": "ipython",
    "version": 3
   },
   "file_extension": ".py",
   "mimetype": "text/x-python",
   "name": "python",
   "nbconvert_exporter": "python",
   "pygments_lexer": "ipython3",
   "version": "3.10.13"
  }
 },
 "nbformat": 4,
 "nbformat_minor": 5
}
