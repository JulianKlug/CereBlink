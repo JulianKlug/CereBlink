{
 "cells": [
  {
   "cell_type": "markdown",
   "id": "3a082a6a91960ea0",
   "metadata": {
    "collapsed": false
   },
   "source": [
    "# Exploration of pupillometry data"
   ]
  },
  {
   "cell_type": "code",
   "execution_count": null,
   "id": "initial_id",
   "metadata": {},
   "outputs": [],
   "source": [
    "import pandas as pd\n",
    "import numpy as np\n",
    "import matplotlib.pyplot as plt\n",
    "import seaborn as sns"
   ]
  },
  {
   "cell_type": "code",
   "execution_count": null,
   "id": "54172fc5ddfe6c62",
   "metadata": {},
   "outputs": [],
   "source": [
    "pupillometry_data_path = '/Users/jk1/Library/CloudStorage/OneDrive-unige.ch/icu_research/pupillometry_sah/data/Pupillometry - Datenbank Päddy.xls'"
   ]
  },
  {
   "cell_type": "code",
   "execution_count": null,
   "id": "16aa14af5fca4961",
   "metadata": {},
   "outputs": [],
   "source": [
    "pupillometry_df = pd.read_excel(pupillometry_data_path, sheet_name='Pupillometrie')"
   ]
  },
  {
   "cell_type": "markdown",
   "id": "cb341734baf742b4",
   "metadata": {
    "collapsed": false
   },
   "source": [
    "999 equals to missing data"
   ]
  },
  {
   "cell_type": "code",
   "execution_count": null,
   "id": "2c93c06572b58231",
   "metadata": {},
   "outputs": [],
   "source": [
    "# replace 999 with NaN\n",
    "pupillometry_df = pupillometry_df.replace(999, np.nan)"
   ]
  },
  {
   "cell_type": "code",
   "execution_count": null,
   "id": "79f349230b81310a",
   "metadata": {},
   "outputs": [],
   "source": [
    "pupillometry_df"
   ]
  },
  {
   "cell_type": "code",
   "execution_count": null,
   "id": "4383db7702f714b9",
   "metadata": {},
   "outputs": [],
   "source": [
    "pupillometry_df.pNr.nunique()"
   ]
  },
  {
   "cell_type": "code",
   "execution_count": null,
   "id": "2cf43922130f1fc4",
   "metadata": {},
   "outputs": [],
   "source": [
    "# plot evolution of NPi_r_wert and NPi_r_wert.1 over time for each patient\n",
    "for pid in pupillometry_df['pNr'].unique():\n",
    "    ax = pupillometry_df[pupillometry_df['pNr'] == pid].plot(x='Pupillometrie_Zeitpunkt', y=['NPi_r_wert', 'NPi_r_wert.1'], title='Patient {}'.format(pid))\n",
    "    # tilt x ticks\n",
    "    ax.set_xticklabels(ax.get_xticklabels(), rotation=45, ha='right')\n"
   ]
  },
  {
   "cell_type": "code",
   "execution_count": null,
   "id": "b19c8294de2c2888",
   "metadata": {},
   "outputs": [],
   "source": [
    "# plot evolution of CV_r_wert and CV_r_wert.1 over time for each patient\n",
    "for pid in pupillometry_df['pNr'].unique():\n",
    "    ax = pupillometry_df[pupillometry_df['pNr'] == pid].plot(x='Pupillometrie_Zeitpunkt', y=['CV_r_wert', 'CV_r_wert.1'], title='Patient {}'.format(pid))\n",
    "    # tilt x ticks\n",
    "    ax.set_xticklabels(ax.get_xticklabels(), rotation=45, ha='right')"
   ]
  },
  {
   "cell_type": "code",
   "execution_count": null,
   "id": "9429db27f3d41bd",
   "metadata": {},
   "outputs": [],
   "source": [
    "# plot evolution of Si_r_wert and Si_r_wert.1 over time for each patient\n",
    "for pid in pupillometry_df['pNr'].unique():\n",
    "    ax = pupillometry_df[pupillometry_df['pNr'] == pid].plot(x='Pupillometrie_Zeitpunkt', y=['Si_r_wert', 'Si_r_wert.1'], title='Patient {}'.format(pid))\n",
    "    # tilt x ticks\n",
    "    ax.set_xticklabels(ax.get_xticklabels(), rotation=45, ha='right')"
   ]
  },
  {
   "cell_type": "code",
   "execution_count": null,
   "id": "ab03573f913498cd",
   "metadata": {},
   "outputs": [],
   "source": [
    "# create a common plot with 3 subplots for each patient (NPi, CV, Si) using seaborn\n",
    "fig = plt.figure(figsize=(20, 120))\n",
    "\n",
    "n_patients = pupillometry_df['pNr'].nunique()\n",
    "\n",
    "# one patient per row, 3 columns\n",
    "for i, pid in enumerate(pupillometry_df['pNr'].unique()):\n",
    "    # if patient has only missing data in relevant columns, skip\n",
    "    if pupillometry_df[pupillometry_df['pNr'] == pid][['NPi_r_wert', 'NPi_r_wert.1', 'CV_r_wert', 'CV_r_wert.1', 'Si_r_wert', 'Si_r_wert.1']].isna().all().all():\n",
    "        continue\n",
    "    \n",
    "    [ax1, ax2, ax3] = fig.add_subplot(n_patients, 3, i * 3 + 1), fig.add_subplot(n_patients, 3, i * 3 + 2), fig.add_subplot(n_patients, 3, i * 3 + 3)\n",
    "    \n",
    "    sns.lineplot(data=pupillometry_df[pupillometry_df['pNr'] == pid], x='Pupillometrie_Zeitpunkt', y='NPi_r_wert.1', ax=ax1, label='left')\n",
    "    sns.lineplot(data=pupillometry_df[pupillometry_df['pNr'] == pid], x='Pupillometrie_Zeitpunkt', y='NPi_r_wert', ax=ax1, label='right')\n",
    "    ax1.set_ylabel('NPi')\n",
    "    sns.scatterplot(data=pupillometry_df[pupillometry_df['pNr'] == pid], x='Pupillometrie_Zeitpunkt', y='NPi_r_wert.1', ax=ax1, label='left')\n",
    "    sns.scatterplot(data=pupillometry_df[pupillometry_df['pNr'] == pid], x='Pupillometrie_Zeitpunkt', y='NPi_r_wert', ax=ax1, label='right')\n",
    "    ax1.set_ylabel('NPi')\n",
    "    \n",
    "    sns.lineplot(data=pupillometry_df[pupillometry_df['pNr'] == pid], x='Pupillometrie_Zeitpunkt', y='CV_r_wert.1', ax=ax2, label='left')\n",
    "    sns.lineplot(data=pupillometry_df[pupillometry_df['pNr'] == pid], x='Pupillometrie_Zeitpunkt', y='CV_r_wert', ax=ax2, label='right')\n",
    "    ax2.set_ylabel('CV')\n",
    "    sns.scatterplot(data=pupillometry_df[pupillometry_df['pNr'] == pid], x='Pupillometrie_Zeitpunkt', y='CV_r_wert.1', ax=ax2, label='left')\n",
    "    sns.scatterplot(data=pupillometry_df[pupillometry_df['pNr'] == pid], x='Pupillometrie_Zeitpunkt', y='CV_r_wert', ax=ax2, label='right')\n",
    "    ax2.set_ylabel('CV')\n",
    "    \n",
    "    sns.lineplot(data=pupillometry_df[pupillometry_df['pNr'] == pid], x='Pupillometrie_Zeitpunkt', y='Si_r_wert.1', ax=ax3, label='left')\n",
    "    sns.lineplot(data=pupillometry_df[pupillometry_df['pNr'] == pid], x='Pupillometrie_Zeitpunkt', y='Si_r_wert', ax=ax3, label='right')\n",
    "    ax3.set_ylabel('Size')\n",
    "    sns.scatterplot(data=pupillometry_df[pupillometry_df['pNr'] == pid], x='Pupillometrie_Zeitpunkt', y='Si_r_wert.1', ax=ax3, label='left')\n",
    "    sns.scatterplot(data=pupillometry_df[pupillometry_df['pNr'] == pid], x='Pupillometrie_Zeitpunkt', y='Si_r_wert', ax=ax3, label='right')\n",
    "    ax3.set_ylabel('Size')\n",
    "    \n",
    "    # tilt x ticks\n",
    "    _ = [ax.set_xticklabels(ax.get_xticklabels(), rotation=15, ha='right') for ax in [ax1, ax2, ax3]]\n",
    "    # format x ticks by splitting at first space\n",
    "    _ = [ax.set_xticklabels([x.get_text().split(' ')[0] for x in ax.get_xticklabels()]) for ax in [ax1, ax2, ax3]]\n",
    "    \n",
    "    # if n ticks over 10, set max 10 ticks\n",
    "    if len(ax1.get_xticklabels()) > 10:\n",
    "        _ = [ax.xaxis.set_major_locator(plt.MaxNLocator(10)) for ax in [ax1, ax2, ax3]]\n",
    "    \n",
    "    # remove x label\n",
    "    _ = [ax.set_xlabel('') for ax in [ax1, ax2, ax3]]\n",
    "    \n",
    "    # set title for row\n",
    "    ax2.set_title('Patient {}'.format(pid))\n",
    "    \n",
    "    \n",
    "\n",
    "    "
   ]
  },
  {
   "cell_type": "code",
   "execution_count": null,
   "id": "123817f0161f3e38",
   "metadata": {},
   "outputs": [],
   "source": [
    "# save figure to file\n",
    "fig.savefig('', dpi=300, bbox_inches='tight')"
   ]
  },
  {
   "cell_type": "markdown",
   "id": "2a2a1865cc03105c",
   "metadata": {
    "collapsed": false
   },
   "source": [
    "### Add CT data on top of plot"
   ]
  },
  {
   "cell_type": "code",
   "execution_count": null,
   "id": "8263ac59626425ec",
   "metadata": {
    "ExecuteTime": {
     "end_time": "2023-12-12T17:56:26.663261Z",
     "start_time": "2023-12-12T17:56:26.657420Z"
    }
   },
   "outputs": [],
   "source": [
    "combined_data_path = '/Users/jk1/Library/CloudStorage/OneDrive-unige.ch/icu_research/pupillometry_sah/data/Pupillometry - Datenbank Joana.xlsx'"
   ]
  },
  {
   "cell_type": "code",
   "execution_count": null,
   "id": "2a959afdb0cf7d2b",
   "metadata": {
    "ExecuteTime": {
     "end_time": "2023-12-12T17:56:55.382046Z",
     "start_time": "2023-12-12T17:56:54.359630Z"
    }
   },
   "outputs": [],
   "source": [
    "combined_data_df = pd.read_excel(combined_data_path, sheet_name='Database')\n",
    "# replace 999 with nan\n",
    "combined_data_df = combined_data_df.replace(999, np.nan)"
   ]
  },
  {
   "cell_type": "markdown",
   "id": "54484a8cabb5528a",
   "metadata": {
    "collapsed": false
   },
   "source": [
    "Restructure data so that each row is a scan"
   ]
  },
  {
   "cell_type": "code",
   "execution_count": null,
   "id": "12c0538c2ddfde6c",
   "metadata": {
    "ExecuteTime": {
     "end_time": "2023-12-12T17:57:23.641876Z",
     "start_time": "2023-12-12T17:57:22.505028Z"
    }
   },
   "outputs": [],
   "source": [
    "identifier_columns = [\"patID\", \"pNr\"]\n",
    "constants_columns = [\n",
    "    \"Chronic_heart_failure\",\n",
    "    \"Diabetes\",\n",
    "    \"HbA1c\",\n",
    "    \"COPD/Asthma\",\n",
    "    \"Chronic_hemodialysis\",\n",
    "    \"Liver_cirrhosis\",\n",
    "    \"HIV\",\n",
    "    \"Cancer\",\n",
    "    \"Alcohol\",\n",
    "    \"Time_symptoms\",\n",
    "    \"Initial_GCS\",\n",
    "    \"Time_initial_GCS\",\n",
    "    \"Fisher_Scale\",\n",
    "    \"Rad_intervention\",\n",
    "    \"Surgery\",\n",
    "    \"Surgery_type\",\n",
    "    \"Mortality\",\n",
    "    \"30 day mortality\",\n",
    "    \"GOS_Admission\",\n",
    "    \"GOS_ICU_Discharge\",\n",
    "    \"GOS_Hospital_Discharge\",\n",
    "    \"GOS_30 day\"\n",
    "]\n",
    "\n",
    "# initial data has one row per patient and one column per scan, instead we want one row per scan (all constants are repeated)\n",
    "# get columns that are not constants\n",
    "non_constant_columns = [column_name for column_name in combined_data_df.columns\n",
    "                        if column_name not in identifier_columns + constants_columns]\n",
    "\n",
    "scan_idxs = [int(col.split('_')[-1]) for col in non_constant_columns]\n",
    "max_number_of_scans = np.max(scan_idxs)\n",
    "\n",
    "reorganized_data_df = pd.DataFrame()\n",
    "for index, row in combined_data_df.iterrows():\n",
    "    # for each scan create a new row with all the constants repeated\n",
    "    for scan_idx in range(1, max_number_of_scans + 1):\n",
    "        associated_scan_data = row[[col for col in non_constant_columns if col.endswith(f'_{scan_idx}')]]\n",
    "        # if all values are nan, skip\n",
    "        if associated_scan_data.isna().all():\n",
    "            continue\n",
    "\n",
    "        new_row = row[identifier_columns + constants_columns].copy()\n",
    "        # add scan number to identifier columns\n",
    "        new_row['scan_idx'] = scan_idx\n",
    "\n",
    "        for col in associated_scan_data.index:\n",
    "            new_row['_'.join(col.split('_')[:-1]).strip()] = associated_scan_data[col]\n",
    "\n",
    "        # add new_row to reorganized_data_df as a new row\n",
    "        reorganized_data_df = pd.concat([reorganized_data_df, new_row.to_frame().T])\n",
    "reorganized_data_df.reset_index(drop=True, inplace=True)"
   ]
  },
  {
   "cell_type": "code",
   "execution_count": null,
   "id": "8c3cde4c9315e92e",
   "metadata": {
    "ExecuteTime": {
     "end_time": "2023-12-12T17:57:36.492034Z",
     "start_time": "2023-12-12T17:57:36.476565Z"
    }
   },
   "outputs": [],
   "source": [
    "reorganized_data_df.rename(\n",
    "    columns={\n",
    "        'NPi - right side': 'NPi_right',\n",
    "        'NPi - left side': 'NPi_left',\n",
    "        'Pupil size right': 'Pupil_size_right',\n",
    "        'Pupil size left': 'Pupil_size_left',\n",
    "        'Velocity of constriction right': 'Velocity_of_constriction_right',\n",
    "        'Velocity of constriction left': 'Velocity_of_constriction_left',\n",
    "    },\n",
    "    inplace=True\n",
    ")"
   ]
  },
  {
   "cell_type": "code",
   "execution_count": null,
   "id": "65a8086472e26c91",
   "metadata": {
    "ExecuteTime": {
     "end_time": "2023-12-12T18:03:00.843788Z",
     "start_time": "2023-12-12T18:03:00.829813Z"
    }
   },
   "outputs": [],
   "source": [
    "# add mean for NPi, pupil size and CV\n",
    "reorganized_data_df['NPi_mean'] = reorganized_data_df[['NPi_right', 'NPi_left']].mean(axis=1)\n",
    "reorganized_data_df['Pupil_size_mean'] = reorganized_data_df[['Pupil_size_right', 'Pupil_size_left']].mean(axis=1)\n",
    "reorganized_data_df['Velocity_of_constriction_mean'] = reorganized_data_df[['Velocity_of_constriction_right', 'Velocity_of_constriction_left']].mean(axis=1)"
   ]
  },
  {
   "cell_type": "code",
   "execution_count": null,
   "id": "a69423480064410b",
   "metadata": {
    "ExecuteTime": {
     "end_time": "2023-12-12T18:56:01.969918Z",
     "start_time": "2023-12-12T18:56:01.569274Z"
    }
   },
   "outputs": [],
   "source": [
    "reorganized_data_df['CT_Result'] = reorganized_data_df['CT_Result'].astype(int)\n",
    "reorganized_data_df['CT_Result_dichotomized'] = reorganized_data_df['CT_Result'].isin([1, 2, 4, 5, 6]).astype(int)"
   ]
  },
  {
   "cell_type": "code",
   "execution_count": null,
   "id": "88f9191badf4c7e0",
   "metadata": {
    "ExecuteTime": {
     "end_time": "2023-12-12T19:00:50.789428Z",
     "start_time": "2023-12-12T19:00:23.909720Z"
    }
   },
   "outputs": [],
   "source": [
    "# create a common plot with 3 subplots for each patient (NPi, CV, Si) using seaborn\n",
    "# add CT results on top of plot (x axis is time, y axis is NPi, CV, Si, color is CT result)\n",
    "fig = plt.figure(figsize=(20, 120))\n",
    "\n",
    "display_ct = True\n",
    "ct_result = 'CT_Result_dichotomized'\n",
    "\n",
    "if ct_result == 'CT_Result_dichotomized':\n",
    "    # palette with 2 colors (green and red)\n",
    "    palette = ['#2ca02c', '#d62728']\n",
    "else:\n",
    "    palette = sns.light_palette(\"seagreen\", n_colors=7)\n",
    "\n",
    "n_patients = pupillometry_df['pNr'].nunique()\n",
    "\n",
    "reorganized_data_df['CT_Time'] = pd.to_datetime(reorganized_data_df['CT_Time'])\n",
    "pupillometry_df['Pupillometrie_Zeitpunkt'] = pd.to_datetime(pupillometry_df['Pupillometrie_Zeitpunkt'])\n",
    "\n",
    "temp_df = reorganized_data_df\n",
    "temp_df['NPi_mean'].fillna(0, inplace=True)\n",
    "temp_df['Velocity_of_constriction_mean'].fillna(0, inplace=True)\n",
    "temp_df['Pupil_size_mean'].fillna(0, inplace=True)\n",
    "\n",
    "# one patient per row, 3 columns\n",
    "for i, pid in enumerate(pupillometry_df['pNr'].unique()):\n",
    "    # if patient has only missing data in relevant columns, skip\n",
    "    if pupillometry_df[pupillometry_df['pNr'] == pid][['NPi_r_wert', 'NPi_r_wert.1', 'CV_r_wert', 'CV_r_wert.1', 'Si_r_wert', 'Si_r_wert.1']].isna().all().all():\n",
    "        continue\n",
    "    \n",
    "    [ax1, ax2, ax3] = fig.add_subplot(n_patients, 3, i * 3 + 1), fig.add_subplot(n_patients, 3, i * 3 + 2), fig.add_subplot(n_patients, 3, i * 3 + 3)\n",
    "    \n",
    "    if display_ct:\n",
    "        size = 100\n",
    "        for idx, row in temp_df[temp_df['pNr'] == pid].iterrows():\n",
    "            sns.scatterplot(x=[row['CT_Time']], y=[row['NPi_mean']], color=palette[row[ct_result]], ax=ax1, s=size, label=f'CT: {row[\"CT_Result\"]}')\n",
    "            sns.scatterplot(x=[row['CT_Time']], y=[row['Velocity_of_constriction_mean']], color=palette[row[ct_result]], ax=ax2, s=size, label=f'CT: {row[\"CT_Result\"]}')\n",
    "            sns.scatterplot(x=[row['CT_Time']], y=[row['Pupil_size_mean']], color=palette[row[ct_result]], ax=ax3, s=size, label=f'CT: {row[\"CT_Result\"]}')\n",
    "            for ax in [ax1, ax2, ax3]:\n",
    "                plt.setp(ax.lines, zorder=100)\n",
    "                plt.setp(ax.collections, zorder=100)\n",
    "    \n",
    "    sns.lineplot(data=pupillometry_df[pupillometry_df['pNr'] == pid], x='Pupillometrie_Zeitpunkt', y='NPi_r_wert.1', ax=ax1, label='left')\n",
    "    sns.lineplot(data=pupillometry_df[pupillometry_df['pNr'] == pid], x='Pupillometrie_Zeitpunkt', y='NPi_r_wert', ax=ax1, label='right')\n",
    "    sns.scatterplot(data=pupillometry_df[pupillometry_df['pNr'] == pid], x='Pupillometrie_Zeitpunkt', y='NPi_r_wert.1', ax=ax1)\n",
    "    sns.scatterplot(data=pupillometry_df[pupillometry_df['pNr'] == pid], x='Pupillometrie_Zeitpunkt', y='NPi_r_wert', ax=ax1)\n",
    "    ax1.set_ylabel('NPi')\n",
    "            \n",
    "    sns.lineplot(data=pupillometry_df[pupillometry_df['pNr'] == pid], x='Pupillometrie_Zeitpunkt', y='CV_r_wert.1', ax=ax2, label='left')\n",
    "    sns.lineplot(data=pupillometry_df[pupillometry_df['pNr'] == pid], x='Pupillometrie_Zeitpunkt', y='CV_r_wert', ax=ax2, label='right')\n",
    "    sns.scatterplot(data=pupillometry_df[pupillometry_df['pNr'] == pid], x='Pupillometrie_Zeitpunkt', y='CV_r_wert.1', ax=ax2)\n",
    "    sns.scatterplot(data=pupillometry_df[pupillometry_df['pNr'] == pid], x='Pupillometrie_Zeitpunkt', y='CV_r_wert', ax=ax2)\n",
    "    ax2.set_ylabel('CV')    \n",
    "    \n",
    "    sns.lineplot(data=pupillometry_df[pupillometry_df['pNr'] == pid], x='Pupillometrie_Zeitpunkt', y='Si_r_wert.1', ax=ax3, label='left')\n",
    "    sns.lineplot(data=pupillometry_df[pupillometry_df['pNr'] == pid], x='Pupillometrie_Zeitpunkt', y='Si_r_wert', ax=ax3, label='right')\n",
    "    sns.scatterplot(data=pupillometry_df[pupillometry_df['pNr'] == pid], x='Pupillometrie_Zeitpunkt', y='Si_r_wert.1', ax=ax3)\n",
    "    sns.scatterplot(data=pupillometry_df[pupillometry_df['pNr'] == pid], x='Pupillometrie_Zeitpunkt', y='Si_r_wert', ax=ax3)\n",
    "    ax3.set_ylabel('Size')\n",
    "      \n",
    "            \n",
    "    # remove duplicate legend entries\n",
    "    for ax in [ax1, ax2, ax3]:\n",
    "        handles, labels = ax.get_legend_handles_labels()\n",
    "        by_label = dict(zip(labels, handles))\n",
    "        ax.legend(by_label.values(), by_label.keys())\n",
    "    \n",
    "    \n",
    "    # tilt x ticks\n",
    "    _ = [ax.set_xticklabels(ax.get_xticklabels(), rotation=15, ha='right') for ax in [ax1, ax2, ax3]]\n",
    "    # format x ticks by splitting at first space\n",
    "    _ = [ax.set_xticklabels([x.get_text().split(' ')[0] for x in ax.get_xticklabels()]) for ax in [ax1, ax2, ax3]]\n",
    "    \n",
    "    # if n ticks over 10, set max 10 ticks\n",
    "    if len(ax1.get_xticklabels()) > 10:\n",
    "        _ = [ax.xaxis.set_major_locator(plt.MaxNLocator(10)) for ax in [ax1, ax2, ax3]]\n",
    "    \n",
    "    # remove x label\n",
    "    _ = [ax.set_xlabel('') for ax in [ax1, ax2, ax3]]\n",
    "    \n",
    "    # set title for row\n",
    "    ax2.set_title('Patient {}'.format(pid))"
   ]
  },
  {
   "cell_type": "code",
   "execution_count": null,
   "id": "3a73423a91e9862b",
   "metadata": {
    "ExecuteTime": {
     "end_time": "2023-12-12T19:53:34.972601Z",
     "start_time": "2023-12-12T19:53:04.481030Z"
    }
   },
   "outputs": [],
   "source": [
    "# save figure to file\n",
    "fig.savefig('', dpi=300, bbox_inches='tight')"
   ]
  },
  {
   "cell_type": "code",
   "execution_count": null,
   "id": "bad968708872e46f",
   "metadata": {},
   "outputs": [],
   "source": []
  }
 ],
 "metadata": {
  "kernelspec": {
   "display_name": "Python 3",
   "language": "python",
   "name": "python3"
  },
  "language_info": {
   "codemirror_mode": {
    "name": "ipython",
    "version": 2
   },
   "file_extension": ".py",
   "mimetype": "text/x-python",
   "name": "python",
   "nbconvert_exporter": "python",
   "pygments_lexer": "ipython2",
   "version": "2.7.6"
  }
 },
 "nbformat": 4,
 "nbformat_minor": 5
}
