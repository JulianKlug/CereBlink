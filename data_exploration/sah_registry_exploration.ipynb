{
 "cells": [
  {
   "cell_type": "code",
   "execution_count": null,
   "id": "initial_id",
   "metadata": {
    "ExecuteTime": {
     "end_time": "2023-12-28T04:12:23.087326Z",
     "start_time": "2023-12-28T04:12:23.080341Z"
    }
   },
   "outputs": [],
   "source": [
    "import pandas as pd\n",
    "import io\n",
    "import getpass\n",
    "import msoffcrypto\n",
    "import seaborn as sns\n",
    "import matplotlib "
   ]
  },
  {
   "cell_type": "code",
   "execution_count": null,
   "id": "b501041e41ac7baf",
   "metadata": {
    "ExecuteTime": {
     "end_time": "2023-12-26T18:45:07.173122Z",
     "start_time": "2023-12-26T18:45:07.119090Z"
    }
   },
   "outputs": [],
   "source": [
    "registry_data_path = '/Users/jk1/Library/CloudStorage/OneDrive-unige.ch/icu_research/pupillometry_sah/data/aSAH_DATA_2009_2023_24122023.xlsx'"
   ]
  },
  {
   "cell_type": "code",
   "execution_count": null,
   "id": "6a1a6229ea5b33db",
   "metadata": {
    "ExecuteTime": {
     "end_time": "2023-12-26T18:45:18.304805Z",
     "start_time": "2023-12-26T18:45:16.642782Z"
    }
   },
   "outputs": [],
   "source": [
    "password = getpass.getpass()"
   ]
  },
  {
   "cell_type": "code",
   "execution_count": null,
   "id": "bcfc1ce774b9638f",
   "metadata": {
    "ExecuteTime": {
     "end_time": "2023-12-26T18:45:30.198932Z",
     "start_time": "2023-12-26T18:45:29.995507Z"
    }
   },
   "outputs": [],
   "source": [
    "decrypted_workbook = io.BytesIO()\n",
    "with open(registry_data_path, 'rb') as file:\n",
    "    office_file = msoffcrypto.OfficeFile(file)\n",
    "    office_file.load_key(password=password)\n",
    "    office_file.decrypt(decrypted_workbook)"
   ]
  },
  {
   "cell_type": "code",
   "execution_count": null,
   "id": "93a0cacf3a5a32e1",
   "metadata": {
    "ExecuteTime": {
     "end_time": "2023-12-28T03:35:06.415365Z",
     "start_time": "2023-12-28T03:35:05.425847Z"
    }
   },
   "outputs": [],
   "source": [
    "registry_df = pd.read_excel(decrypted_workbook, sheet_name='DATA')"
   ]
  },
  {
   "cell_type": "code",
   "execution_count": null,
   "id": "fe71b40d4e18396c",
   "metadata": {
    "ExecuteTime": {
     "end_time": "2023-12-28T03:35:06.464030Z",
     "start_time": "2023-12-28T03:35:06.447159Z"
    }
   },
   "outputs": [],
   "source": [
    "registry_df.head()"
   ]
  },
  {
   "cell_type": "code",
   "execution_count": null,
   "id": "287d6324efcafd50",
   "metadata": {
    "ExecuteTime": {
     "end_time": "2023-12-28T03:20:49.372615Z",
     "start_time": "2023-12-28T03:20:49.363857Z"
    }
   },
   "outputs": [],
   "source": [
    "def safe_conversion_to_datetime(date):\n",
    "    try:\n",
    "        return pd.to_datetime(date)\n",
    "    except:\n",
    "        return pd.NaT"
   ]
  },
  {
   "cell_type": "code",
   "execution_count": null,
   "id": "a8749fe7ee8bf64a",
   "metadata": {
    "ExecuteTime": {
     "end_time": "2023-12-28T03:44:36.934254Z",
     "start_time": "2023-12-28T03:44:36.786382Z"
    }
   },
   "outputs": [],
   "source": [
    "# compute time to CVS and Infarction (DCI date not available)\n",
    "registry_df['time_to_cvs'] = registry_df['Date_CVS_Start'].apply(safe_conversion_to_datetime) - registry_df['Date_Ictus'].apply(safe_conversion_to_datetime)\n",
    "\n",
    "registry_df['time_to_infarction'] = registry_df['Date_Infarction'].apply(safe_conversion_to_datetime) - registry_df['Date_Ictus'].apply(safe_conversion_to_datetime)"
   ]
  },
  {
   "cell_type": "code",
   "execution_count": null,
   "id": "a1ce1f92435a98db",
   "metadata": {
    "ExecuteTime": {
     "end_time": "2023-12-28T03:45:40.813492Z",
     "start_time": "2023-12-28T03:45:40.802436Z"
    }
   },
   "outputs": [],
   "source": [
    "# filter out negative times\n",
    "registry_df.loc[registry_df['time_to_cvs'] < pd.Timedelta(0), 'time_to_cvs'] = pd.NaT\n",
    "registry_df.loc[registry_df['time_to_infarction'] < pd.Timedelta(0), 'time_to_infarction'] = pd.NaT"
   ]
  },
  {
   "cell_type": "code",
   "execution_count": null,
   "id": "6c465deaf9b85146",
   "metadata": {
    "ExecuteTime": {
     "end_time": "2023-12-28T03:45:47.401803Z",
     "start_time": "2023-12-28T03:45:47.388781Z"
    }
   },
   "outputs": [],
   "source": [
    "print('Number of patients in registry: {}'.format(registry_df['SOS-CENTER-YEAR-NO.'].nunique()))"
   ]
  },
  {
   "cell_type": "code",
   "execution_count": null,
   "id": "277673f516367931",
   "metadata": {
    "ExecuteTime": {
     "end_time": "2023-12-28T03:45:48.162404Z",
     "start_time": "2023-12-28T03:45:48.148627Z"
    }
   },
   "outputs": [],
   "source": [
    "registry_df.DCI_YN.value_counts(dropna=False)"
   ]
  },
  {
   "cell_type": "code",
   "execution_count": null,
   "id": "b2abb18ffec3d7e8",
   "metadata": {
    "ExecuteTime": {
     "end_time": "2023-12-28T03:45:48.675636Z",
     "start_time": "2023-12-28T03:45:48.639782Z"
    }
   },
   "outputs": [],
   "source": [
    "registry_df['CVS_YN'].value_counts(dropna=False)"
   ]
  },
  {
   "cell_type": "code",
   "execution_count": null,
   "id": "b62566701b0eb620",
   "metadata": {
    "ExecuteTime": {
     "end_time": "2023-12-28T03:15:18.227900Z",
     "start_time": "2023-12-28T03:15:18.208273Z"
    }
   },
   "outputs": [],
   "source": [
    "registry_df['Infarction_YN'].value_counts(dropna=False)"
   ]
  },
  {
   "cell_type": "markdown",
   "id": "df130aac197f27e6",
   "metadata": {
    "collapsed": false
   },
   "source": [
    "Restrict to after 2019 (when we started collecting pupillometry data)"
   ]
  },
  {
   "cell_type": "code",
   "execution_count": null,
   "id": "2aeb740c2e39b090",
   "metadata": {
    "ExecuteTime": {
     "end_time": "2023-12-26T18:56:07.473009Z",
     "start_time": "2023-12-26T18:56:07.466024Z"
    }
   },
   "outputs": [],
   "source": [
    "registry_after_2019_df = registry_df[registry_df['Date_admission'] > '2019-01-01']\n"
   ]
  },
  {
   "cell_type": "code",
   "execution_count": null,
   "id": "93221587d814e411",
   "metadata": {
    "ExecuteTime": {
     "end_time": "2023-12-26T18:56:11.511456Z",
     "start_time": "2023-12-26T18:56:11.501670Z"
    }
   },
   "outputs": [],
   "source": [
    "print('Number of patients in registry after 2019: {}'.format(registry_after_2019_df['SOS-CENTER-YEAR-NO.'].nunique()))"
   ]
  },
  {
   "cell_type": "code",
   "execution_count": null,
   "id": "3db32f1f478d82d",
   "metadata": {
    "ExecuteTime": {
     "end_time": "2023-12-28T03:15:23.071999Z",
     "start_time": "2023-12-28T03:15:23.057680Z"
    }
   },
   "outputs": [],
   "source": [
    "registry_after_2019_df.DCI_YN.value_counts(dropna=False)"
   ]
  },
  {
   "cell_type": "code",
   "execution_count": null,
   "id": "c5a54dab07b68a1d",
   "metadata": {
    "ExecuteTime": {
     "end_time": "2023-12-28T03:15:26.862621Z",
     "start_time": "2023-12-28T03:15:26.836573Z"
    }
   },
   "outputs": [],
   "source": [
    "registry_after_2019_df['CVS_YN'].value_counts(dropna=False)"
   ]
  },
  {
   "cell_type": "code",
   "execution_count": null,
   "id": "1ee103cfceec4dfb",
   "metadata": {
    "ExecuteTime": {
     "end_time": "2023-12-28T03:15:32.710713Z",
     "start_time": "2023-12-28T03:15:32.699091Z"
    }
   },
   "outputs": [],
   "source": [
    "registry_after_2019_df['Infarction_YN'].value_counts(dropna=False)"
   ]
  },
  {
   "cell_type": "markdown",
   "id": "eac4bd470d6f3bfb",
   "metadata": {
    "collapsed": false
   },
   "source": [
    "## Evaluate time to CVS and Infarction "
   ]
  },
  {
   "cell_type": "code",
   "execution_count": null,
   "id": "d3da0221ddb71b18",
   "metadata": {
    "ExecuteTime": {
     "end_time": "2023-12-28T04:26:02.722551Z",
     "start_time": "2023-12-28T04:26:02.698591Z"
    }
   },
   "outputs": [],
   "source": [
    "registry_df['time_to_cvs_days'] = registry_df['time_to_cvs'].dt.days\n",
    "registry_df['time_to_infarction_days'] = registry_df['time_to_infarction'].dt.days"
   ]
  },
  {
   "cell_type": "code",
   "execution_count": null,
   "id": "bf6b434dc6fba28",
   "metadata": {
    "ExecuteTime": {
     "end_time": "2023-12-28T03:46:14.120932Z",
     "start_time": "2023-12-28T03:46:14.095452Z"
    }
   },
   "outputs": [],
   "source": [
    "registry_df['time_to_cvs'].describe()"
   ]
  },
  {
   "cell_type": "code",
   "execution_count": null,
   "id": "dd54b4b9207b646",
   "metadata": {
    "ExecuteTime": {
     "end_time": "2023-12-28T03:46:23.611541Z",
     "start_time": "2023-12-28T03:46:23.588182Z"
    }
   },
   "outputs": [],
   "source": [
    "registry_df['time_to_infarction'].describe()"
   ]
  },
  {
   "cell_type": "code",
   "execution_count": null,
   "id": "e12096b09a7d082b",
   "metadata": {
    "ExecuteTime": {
     "end_time": "2023-12-28T05:03:08.212777Z",
     "start_time": "2023-12-28T05:03:07.527111Z"
    }
   },
   "outputs": [],
   "source": [
    "# bar plot with days on x axis and number of patients on y axis\n",
    "ax = sns.histplot(data=registry_df, x='time_to_cvs_days', hue='DCI_YN', multiple='stack', bins=30, binrange=(0,30))\n",
    "\n",
    "ax.set_xlabel('Days')\n",
    "ax.set_ylabel('Number of patients')\n",
    "ax.set_title('Time to CVS')"
   ]
  },
  {
   "cell_type": "code",
   "execution_count": null,
   "id": "80e7aeb2dd307f56",
   "metadata": {
    "ExecuteTime": {
     "end_time": "2023-12-28T05:03:20.482425Z",
     "start_time": "2023-12-28T05:03:19.651615Z"
    }
   },
   "outputs": [],
   "source": [
    "# bar plot with days on x axis and number of patients on y axis\n",
    "ax = sns.histplot(data=registry_df, x='time_to_infarction_days', hue='DCI_YN', multiple='stack', bins=30, binrange=(0,30))\n",
    "\n",
    "ax.set_xlabel('Days')\n",
    "ax.set_ylabel('Number of patients')\n",
    "ax.set_title('Time to Infarction')"
   ]
  },
  {
   "cell_type": "code",
   "execution_count": null,
   "id": "99f60eae835288e3",
   "metadata": {},
   "outputs": [],
   "source": []
  }
 ],
 "metadata": {
  "kernelspec": {
   "display_name": "Python 3",
   "language": "python",
   "name": "python3"
  },
  "language_info": {
   "codemirror_mode": {
    "name": "ipython",
    "version": 2
   },
   "file_extension": ".py",
   "mimetype": "text/x-python",
   "name": "python",
   "nbconvert_exporter": "python",
   "pygments_lexer": "ipython2",
   "version": "2.7.6"
  }
 },
 "nbformat": 4,
 "nbformat_minor": 5
}
