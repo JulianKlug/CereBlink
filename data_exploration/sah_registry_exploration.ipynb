{
 "cells": [
  {
   "cell_type": "code",
   "execution_count": null,
   "id": "initial_id",
   "metadata": {
    "ExecuteTime": {
     "end_time": "2023-12-26T18:45:06.139656Z",
     "start_time": "2023-12-26T18:45:06.124012Z"
    }
   },
   "outputs": [],
   "source": [
    "import pandas as pd\n",
    "import io\n",
    "import getpass\n",
    "import msoffcrypto"
   ]
  },
  {
   "cell_type": "code",
   "execution_count": null,
   "id": "b501041e41ac7baf",
   "metadata": {
    "ExecuteTime": {
     "end_time": "2023-12-26T18:45:07.173122Z",
     "start_time": "2023-12-26T18:45:07.119090Z"
    }
   },
   "outputs": [],
   "source": [
    "registry_data_path = '/Users/jk1/Library/CloudStorage/OneDrive-unige.ch/icu_research/pupillometry_sah/data/aSAH_DATA_2009_2023_24122023.xlsx'"
   ]
  },
  {
   "cell_type": "code",
   "execution_count": null,
   "id": "6a1a6229ea5b33db",
   "metadata": {
    "ExecuteTime": {
     "end_time": "2023-12-26T18:45:18.304805Z",
     "start_time": "2023-12-26T18:45:16.642782Z"
    }
   },
   "outputs": [],
   "source": [
    "password = getpass.getpass()"
   ]
  },
  {
   "cell_type": "code",
   "execution_count": null,
   "id": "bcfc1ce774b9638f",
   "metadata": {
    "ExecuteTime": {
     "end_time": "2023-12-26T18:45:30.198932Z",
     "start_time": "2023-12-26T18:45:29.995507Z"
    }
   },
   "outputs": [],
   "source": [
    "decrypted_workbook = io.BytesIO()\n",
    "with open(registry_data_path, 'rb') as file:\n",
    "    office_file = msoffcrypto.OfficeFile(file)\n",
    "    office_file.load_key(password=password)\n",
    "    office_file.decrypt(decrypted_workbook)"
   ]
  },
  {
   "cell_type": "code",
   "execution_count": null,
   "id": "93a0cacf3a5a32e1",
   "metadata": {
    "ExecuteTime": {
     "end_time": "2023-12-26T18:45:51.374819Z",
     "start_time": "2023-12-26T18:45:50.501141Z"
    }
   },
   "outputs": [],
   "source": [
    "registry_df = pd.read_excel(decrypted_workbook, sheet_name='DATA')"
   ]
  },
  {
   "cell_type": "code",
   "execution_count": null,
   "id": "fe71b40d4e18396c",
   "metadata": {
    "ExecuteTime": {
     "end_time": "2023-12-26T18:55:14.197526Z",
     "start_time": "2023-12-26T18:55:14.185810Z"
    }
   },
   "outputs": [],
   "source": [
    "registry_df.head()"
   ]
  },
  {
   "cell_type": "code",
   "execution_count": null,
   "id": "6c465deaf9b85146",
   "metadata": {
    "ExecuteTime": {
     "end_time": "2023-12-26T18:56:00.586343Z",
     "start_time": "2023-12-26T18:56:00.574604Z"
    }
   },
   "outputs": [],
   "source": [
    "print('Number of patients in registry: {}'.format(registry_df['SOS-CENTER-YEAR-NO.'].nunique()))"
   ]
  },
  {
   "cell_type": "code",
   "execution_count": null,
   "id": "277673f516367931",
   "metadata": {
    "ExecuteTime": {
     "end_time": "2023-12-26T18:56:03.883506Z",
     "start_time": "2023-12-26T18:56:03.861405Z"
    }
   },
   "outputs": [],
   "source": [
    "registry_df.DCI_YN.value_counts()"
   ]
  },
  {
   "cell_type": "markdown",
   "id": "df130aac197f27e6",
   "metadata": {
    "collapsed": false
   },
   "source": [
    "Restrict to after 2019 (when we started collecting pupillometry data)"
   ]
  },
  {
   "cell_type": "code",
   "execution_count": null,
   "id": "2aeb740c2e39b090",
   "metadata": {
    "ExecuteTime": {
     "end_time": "2023-12-26T18:56:07.473009Z",
     "start_time": "2023-12-26T18:56:07.466024Z"
    }
   },
   "outputs": [],
   "source": [
    "registry_after_2019_df = registry_df[registry_df['Date_admission'] > '2019-01-01']\n"
   ]
  },
  {
   "cell_type": "code",
   "execution_count": null,
   "id": "93221587d814e411",
   "metadata": {
    "ExecuteTime": {
     "end_time": "2023-12-26T18:56:11.511456Z",
     "start_time": "2023-12-26T18:56:11.501670Z"
    }
   },
   "outputs": [],
   "source": [
    "print('Number of patients in registry after 2019: {}'.format(registry_after_2019_df['SOS-CENTER-YEAR-NO.'].nunique()))"
   ]
  },
  {
   "cell_type": "code",
   "execution_count": null,
   "id": "3db32f1f478d82d",
   "metadata": {
    "ExecuteTime": {
     "end_time": "2023-12-26T18:56:16.936976Z",
     "start_time": "2023-12-26T18:56:16.911300Z"
    }
   },
   "outputs": [],
   "source": [
    "registry_after_2019_df.DCI_YN.value_counts()"
   ]
  },
  {
   "cell_type": "code",
   "execution_count": null,
   "id": "c5a54dab07b68a1d",
   "metadata": {},
   "outputs": [],
   "source": []
  }
 ],
 "metadata": {
  "kernelspec": {
   "display_name": "Python 3",
   "language": "python",
   "name": "python3"
  },
  "language_info": {
   "codemirror_mode": {
    "name": "ipython",
    "version": 2
   },
   "file_extension": ".py",
   "mimetype": "text/x-python",
   "name": "python",
   "nbconvert_exporter": "python",
   "pygments_lexer": "ipython2",
   "version": "2.7.6"
  }
 },
 "nbformat": 4,
 "nbformat_minor": 5
}
