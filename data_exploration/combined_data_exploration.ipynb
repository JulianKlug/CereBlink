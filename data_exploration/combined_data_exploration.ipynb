{
 "cells": [
  {
   "cell_type": "code",
   "execution_count": null,
   "id": "initial_id",
   "metadata": {
    "ExecuteTime": {
     "end_time": "2023-12-12T14:46:33.235091Z",
     "start_time": "2023-12-12T14:46:33.224432Z"
    }
   },
   "outputs": [],
   "source": [
    "import pandas as pd\n",
    "import numpy as np\n",
    "import seaborn as sns\n",
    "import matplotlib.pyplot as plt"
   ]
  },
  {
   "cell_type": "code",
   "execution_count": null,
   "id": "ce268c4a1267be3",
   "metadata": {
    "ExecuteTime": {
     "end_time": "2023-12-12T10:37:55.530195Z",
     "start_time": "2023-12-12T10:37:55.526974Z"
    }
   },
   "outputs": [],
   "source": [
    "combined_data_path = '/Users/jk1/Library/CloudStorage/OneDrive-unige.ch/icu_research/pupillometry_sah/data/Pupillometry - Datenbank Joana.xlsx'"
   ]
  },
  {
   "cell_type": "code",
   "execution_count": null,
   "id": "a4588d7ff4968eed",
   "metadata": {
    "ExecuteTime": {
     "end_time": "2023-12-12T10:38:32.394551Z",
     "start_time": "2023-12-12T10:38:31.834726Z"
    }
   },
   "outputs": [],
   "source": [
    "combined_data_df = pd.read_excel(combined_data_path, sheet_name='Database')"
   ]
  },
  {
   "cell_type": "code",
   "execution_count": null,
   "id": "4562fdedbf9ada21",
   "metadata": {
    "ExecuteTime": {
     "end_time": "2023-12-12T10:39:37.123657Z",
     "start_time": "2023-12-12T10:39:37.119244Z"
    }
   },
   "outputs": [],
   "source": [
    "# replace 999 with nan\n",
    "combined_data_df = combined_data_df.replace(999, np.nan)"
   ]
  },
  {
   "cell_type": "code",
   "execution_count": null,
   "id": "89975784cc054cb0",
   "metadata": {
    "ExecuteTime": {
     "end_time": "2023-12-12T10:39:40.633784Z",
     "start_time": "2023-12-12T10:39:40.605410Z"
    }
   },
   "outputs": [],
   "source": [
    "combined_data_df.head()"
   ]
  },
  {
   "cell_type": "markdown",
   "id": "47d88aa3be08eb1a",
   "metadata": {
    "collapsed": false
   },
   "source": [
    "## Number of patients\n",
    "\n",
    "patID\t\t\tPatient ID in KSSG\n",
    "pNr\t\t\tACPDMS Protocol number"
   ]
  },
  {
   "cell_type": "code",
   "execution_count": null,
   "id": "2691136c3f7e7fa4",
   "metadata": {
    "ExecuteTime": {
     "end_time": "2023-12-12T10:43:03.116222Z",
     "start_time": "2023-12-12T10:43:03.106681Z"
    }
   },
   "outputs": [],
   "source": [
    "print('Number of unique patient IDs:', combined_data_df.patID.nunique(), combined_data_df.pNr.nunique())\n",
    "if combined_data_df.pNr.nunique() > combined_data_df.patID.nunique():\n",
    "    print(f'There are {combined_data_df.pNr.nunique() - combined_data_df.patID.nunique()} patients with ICU readmission.')"
   ]
  },
  {
   "cell_type": "markdown",
   "id": "20b55bc4b6e1a054",
   "metadata": {
    "collapsed": false
   },
   "source": [
    "## Number of scans"
   ]
  },
  {
   "cell_type": "code",
   "execution_count": null,
   "id": "eba53622b2774e4c",
   "metadata": {
    "ExecuteTime": {
     "end_time": "2023-12-12T10:53:48.087009Z",
     "start_time": "2023-12-12T10:53:48.058952Z"
    }
   },
   "outputs": [],
   "source": [
    "ct_results_columns = [column_name for column_name in combined_data_df.columns\n",
    "                                if column_name.startswith('CT_Result')]"
   ]
  },
  {
   "cell_type": "code",
   "execution_count": null,
   "id": "791135b5b71db86c",
   "metadata": {
    "ExecuteTime": {
     "end_time": "2023-12-12T10:52:13.191737Z",
     "start_time": "2023-12-12T10:52:13.015586Z"
    }
   },
   "outputs": [],
   "source": [
    "# for every patient check number of scans\n",
    "n_scans_df = pd.DataFrame(columns=['patient_id', 'n_scans'])\n",
    "for patient_id in combined_data_df.pNr.unique():\n",
    "    patient_n_scans = combined_data_df[combined_data_df.pNr == patient_id][ct_results_columns].dropna(axis=1, how='all').shape[1]\n",
    "    n_scans_df = pd.concat([n_scans_df, pd.DataFrame({'patient_id': [patient_id], 'n_scans': [patient_n_scans]})])"
   ]
  },
  {
   "cell_type": "code",
   "execution_count": null,
   "id": "d7912b3e35c668a9",
   "metadata": {
    "ExecuteTime": {
     "end_time": "2023-12-12T10:52:22.454815Z",
     "start_time": "2023-12-12T10:52:22.429228Z"
    }
   },
   "outputs": [],
   "source": [
    "n_scans_df.n_scans.sum()"
   ]
  },
  {
   "cell_type": "markdown",
   "id": "b9a89067c3a81b9e",
   "metadata": {
    "collapsed": false
   },
   "source": [
    "## CT results\n",
    "\n",
    "CT_result categories:\t\n",
    "- 0: Without vasospasm, perfusion deficit or edema\n",
    "- 1: With vasospasm\n",
    "- 2: With perfusion deficit\n",
    "- 3: With cerebral edema\n",
    "- 4: With vasospasm and perfusion deficit\n",
    "- 5: With vasospasm and edema\n",
    "- 6: With perfusion deficit and edema\n",
    "\t\n",
    "Simplified\n",
    "- With vasospasm or perfusion deficit: 1, 2, 4, 5, 6\n",
    "- Without vasospasm or perfusion deficit: 0, 3"
   ]
  },
  {
   "cell_type": "code",
   "execution_count": null,
   "id": "b97a0f9a1a699fe1",
   "metadata": {
    "ExecuteTime": {
     "end_time": "2023-12-12T11:28:05.494474Z",
     "start_time": "2023-12-12T11:28:05.476728Z"
    }
   },
   "outputs": [],
   "source": [
    "ct_results_df = combined_data_df.pivot_table(index='pNr', values=ct_results_columns)"
   ]
  },
  {
   "cell_type": "code",
   "execution_count": null,
   "id": "fd562e47dc5048c7",
   "metadata": {
    "ExecuteTime": {
     "end_time": "2023-12-12T11:30:08.927177Z",
     "start_time": "2023-12-12T11:30:08.923738Z"
    }
   },
   "outputs": [],
   "source": [
    "n_scans_with_spasm_or_deficit = ct_results_df[ct_results_columns].isin([1, 2, 4, 5, 6]).sum(axis=1).sum()\n",
    "print(f'Number of scans with vasospasm or perfusion deficit: {n_scans_with_spasm_or_deficit}')"
   ]
  },
  {
   "cell_type": "code",
   "execution_count": null,
   "id": "9d49466b1a9df4a",
   "metadata": {
    "ExecuteTime": {
     "end_time": "2023-12-12T11:30:24.034054Z",
     "start_time": "2023-12-12T11:30:24.022201Z"
    }
   },
   "outputs": [],
   "source": [
    "# check distribution of CT results\n",
    "ct_results_df[ct_results_columns].stack().value_counts()"
   ]
  },
  {
   "cell_type": "markdown",
   "id": "a194864a4de78df8",
   "metadata": {
    "collapsed": false
   },
   "source": [
    "## Restructure data"
   ]
  },
  {
   "cell_type": "code",
   "execution_count": null,
   "id": "e485d51076377f37",
   "metadata": {
    "ExecuteTime": {
     "end_time": "2023-12-12T14:05:11.654022Z",
     "start_time": "2023-12-12T14:05:11.639894Z"
    }
   },
   "outputs": [],
   "source": [
    "identifier_columns = [\"patID\", \"pNr\"]\n",
    "constants_columns = [\n",
    "    \"Chronic_heart_failure\",\n",
    "    \"Diabetes\",\n",
    "    \"HbA1c\",\n",
    "    \"COPD/Asthma\",\n",
    "    \"Chronic_hemodialysis\",\n",
    "    \"Liver_cirrhosis\",\n",
    "    \"HIV\",\n",
    "    \"Cancer\",\n",
    "    \"Alcohol\",\n",
    "    \"Time_symptoms\",\n",
    "    \"Initial_GCS\",\n",
    "    \"Time_initial_GCS\",\n",
    "    \"Fisher_Scale\",\n",
    "    \"Rad_intervention\",\n",
    "    \"Surgery\",\n",
    "    \"Surgery_type\",\n",
    "    \"Mortality\",\n",
    "    \"30 day mortality\",\n",
    "    \"GOS_Admission\",\n",
    "    \"GOS_ICU_Discharge\",\n",
    "    \"GOS_Hospital_Discharge\",\n",
    "    \"GOS_30 day\"\n",
    "]"
   ]
  },
  {
   "cell_type": "code",
   "execution_count": null,
   "id": "55aa23370b6b4fda",
   "metadata": {
    "ExecuteTime": {
     "end_time": "2023-12-12T14:51:08.003118Z",
     "start_time": "2023-12-12T14:51:06.089729Z"
    }
   },
   "outputs": [],
   "source": [
    "# initial data has one row per patient and one column per scan, instead we want one row per scan (all constants are repeated)\n",
    "\n",
    "# get columns that are not constants\n",
    "non_constant_columns = [column_name for column_name in combined_data_df.columns\n",
    "                                if column_name not in identifier_columns + constants_columns]\n",
    "\n",
    "scan_idxs = [int(col.split('_')[-1]) for col in non_constant_columns]\n",
    "max_number_of_scans = np.max(scan_idxs)\n",
    "\n",
    "reorganized_data_df = pd.DataFrame()\n",
    "for index, row in combined_data_df.iterrows():\n",
    "    # for each scan create a new row with all the constants repeated\n",
    "    for scan_idx in range(1, max_number_of_scans + 1):\n",
    "        associated_scan_data = row[[col for col in non_constant_columns if col.endswith(f'_{scan_idx}')]]\n",
    "        # if all values are nan, skip\n",
    "        if associated_scan_data.isna().all():\n",
    "            continue\n",
    "\n",
    "        new_row = row[identifier_columns + constants_columns].copy()\n",
    "        # add scan number to identifier columns\n",
    "        new_row['scan_idx'] = scan_idx\n",
    "        \n",
    "        for col in associated_scan_data.index:\n",
    "            new_row['_'.join(col.split('_')[:-1]).strip()] = associated_scan_data[col]\n",
    "            \n",
    "        # add new_row to reorganized_data_df as a new row\n",
    "        reorganized_data_df = pd.concat([reorganized_data_df, new_row.to_frame().T])"
   ]
  },
  {
   "cell_type": "code",
   "execution_count": null,
   "id": "44a8e41b3355bdc8",
   "metadata": {
    "ExecuteTime": {
     "end_time": "2023-12-12T14:55:45.641125Z",
     "start_time": "2023-12-12T14:55:45.616534Z"
    }
   },
   "outputs": [],
   "source": [
    "reorganized_data_df.reset_index(drop=True, inplace=True)"
   ]
  },
  {
   "cell_type": "code",
   "execution_count": null,
   "id": "6c62a7b1a33a2a61",
   "metadata": {
    "ExecuteTime": {
     "end_time": "2023-12-12T15:09:53.765340Z",
     "start_time": "2023-12-12T15:09:53.663347Z"
    }
   },
   "outputs": [],
   "source": [
    "reorganized_data_df.rename(\n",
    "    columns={\n",
    "        'NPi - right side': 'NPi_right',\n",
    "        'NPi - left side': 'NPi_left',\n",
    "        'Pupil size right': 'Pupil_size_right',\n",
    "        'Pupil size left': 'Pupil_size_left',\n",
    "        'Velocity of constriction right': 'Velocity_of_constriction_right',\n",
    "        'Velocity of constriction left': 'Velocity_of_constriction_left',\n",
    "    },\n",
    "    inplace=True\n",
    ")"
   ]
  },
  {
   "cell_type": "code",
   "execution_count": null,
   "id": "3ce69de7ec1098e3",
   "metadata": {
    "ExecuteTime": {
     "end_time": "2023-12-12T15:09:54.312485Z",
     "start_time": "2023-12-12T15:09:54.292889Z"
    }
   },
   "outputs": [],
   "source": [
    "reorganized_data_df"
   ]
  },
  {
   "cell_type": "code",
   "execution_count": null,
   "id": "39603f49da47d84d",
   "metadata": {
    "ExecuteTime": {
     "end_time": "2023-12-12T15:10:53.078020Z",
     "start_time": "2023-12-12T15:10:51.728880Z"
    }
   },
   "outputs": [],
   "source": [
    "# sort of right and left side, one row per scan, extra column for side\n",
    "sided_reorganized_data_df = pd.DataFrame()\n",
    "for index, row in reorganized_data_df.iterrows():\n",
    "    # for each scan create a new row with all the constants repeated\n",
    "    sides = ['right', 'left']\n",
    "    for side in sides:\n",
    "        non_sided_columns = [col for col in row.index if (sides[0] not in col) and (sides[1] not in col)]\n",
    "        selected_side_columns = [col for col in row.index if side in col]\n",
    "        \n",
    "        new_row = row[non_sided_columns].copy()\n",
    "        # add side column\n",
    "        new_row['side'] = side\n",
    "        \n",
    "        for col in selected_side_columns:\n",
    "            new_row['_'.join(col.split('_')[:-1]).strip()] = row[col]\n",
    "            \n",
    "        # add new_row to sided_reorganized_data_df as a new row\n",
    "        sided_reorganized_data_df = pd.concat([sided_reorganized_data_df, new_row.to_frame().T])\n",
    "\n",
    "sided_reorganized_data_df.reset_index(drop=True, inplace=True)"
   ]
  },
  {
   "cell_type": "code",
   "execution_count": null,
   "id": "36b3c3f39609a203",
   "metadata": {
    "ExecuteTime": {
     "end_time": "2023-12-12T15:10:55.143848Z",
     "start_time": "2023-12-12T15:10:55.127078Z"
    }
   },
   "outputs": [],
   "source": [
    "sided_reorganized_data_df"
   ]
  },
  {
   "cell_type": "code",
   "execution_count": null,
   "id": "e4dbe06324dd1a03",
   "metadata": {
    "ExecuteTime": {
     "end_time": "2023-12-12T15:12:25.728823Z",
     "start_time": "2023-12-12T15:12:25.690322Z"
    }
   },
   "outputs": [],
   "source": [
    "sided_reorganized_data_df['CT_Result'] = sided_reorganized_data_df['CT_Result'].astype(int)\n",
    "sided_reorganized_data_df[\"NPi\"] = sided_reorganized_data_df[\"NPi\"].astype(float)\n",
    "sided_reorganized_data_df[\"Pupil_size\"] = sided_reorganized_data_df[\"Pupil_size\"].astype(float)\n",
    "sided_reorganized_data_df[\"Velocity_of_constriction\"] = sided_reorganized_data_df[\"Velocity_of_constriction\"].astype(float)"
   ]
  },
  {
   "cell_type": "markdown",
   "id": "7d862f15acce4f7e",
   "metadata": {
    "collapsed": false
   },
   "source": [
    "## Plot pupil metrics vs CT results"
   ]
  },
  {
   "cell_type": "code",
   "execution_count": null,
   "id": "56e7141afb82be09",
   "metadata": {
    "ExecuteTime": {
     "end_time": "2023-12-12T15:17:54.475160Z",
     "start_time": "2023-12-12T15:17:53.153392Z"
    }
   },
   "outputs": [],
   "source": [
    "# two subplots, left one for overall NPi, right one for NPi per side\n",
    "\n",
    "axes = plt.subplots(1, 2, figsize=(10, 5))\n",
    "\n",
    "sns.boxplot(x=\"CT_Result\", y=\"NPi\", data=sided_reorganized_data_df, ax=axes[1][0])\n",
    "axes[1][0].title.set_text('NPi overall')\n",
    "\n",
    "sns.boxplot(x=\"CT_Result\", y=\"NPi\", hue=\"side\", data=sided_reorganized_data_df, ax=axes[1][1])\n",
    "axes[1][1].title.set_text('NPi per side')\n",
    "\n",
    "sns.despine(offset=10, trim=True)"
   ]
  },
  {
   "cell_type": "code",
   "execution_count": null,
   "id": "9d2df3a199e671ae",
   "metadata": {
    "ExecuteTime": {
     "end_time": "2023-12-12T15:18:49.197100Z",
     "start_time": "2023-12-12T15:18:48.048399Z"
    }
   },
   "outputs": [],
   "source": [
    "# replot the same for pupil size\n",
    "axes = plt.subplots(1, 2, figsize=(10, 5))\n",
    "\n",
    "sns.boxplot(x=\"CT_Result\", y=\"Pupil_size\", data=sided_reorganized_data_df, ax=axes[1][0])\n",
    "axes[1][0].title.set_text('Pupil size overall')\n",
    "\n",
    "sns.boxplot(x=\"CT_Result\", y=\"Pupil_size\", hue=\"side\", data=sided_reorganized_data_df, ax=axes[1][1])\n",
    "axes[1][1].title.set_text('Pupil size per side')\n",
    "\n",
    "sns.despine(offset=10, trim=True)"
   ]
  },
  {
   "cell_type": "code",
   "execution_count": null,
   "id": "6162b96f6cde2f66",
   "metadata": {
    "ExecuteTime": {
     "end_time": "2023-12-12T15:19:24.619977Z",
     "start_time": "2023-12-12T15:19:23.475169Z"
    }
   },
   "outputs": [],
   "source": [
    "# replot the same for velocity of constriction\n",
    "axes = plt.subplots(1, 2, figsize=(10, 5))\n",
    "\n",
    "sns.boxplot(x=\"CT_Result\", y=\"Velocity_of_constriction\", data=sided_reorganized_data_df, ax=axes[1][0])\n",
    "axes[1][0].title.set_text('Velocity of constriction overall')\n",
    "\n",
    "sns.boxplot(x=\"CT_Result\", y=\"Velocity_of_constriction\", hue=\"side\", data=sided_reorganized_data_df, ax=axes[1][1])\n",
    "axes[1][1].title.set_text('Velocity of constriction per side')\n",
    "\n",
    "sns.despine(offset=10, trim=True)"
   ]
  },
  {
   "cell_type": "markdown",
   "id": "506b2fe044722204",
   "metadata": {
    "collapsed": false
   },
   "source": [
    "## Plot pupil metrics vs dichotomized CT results"
   ]
  },
  {
   "cell_type": "code",
   "execution_count": null,
   "id": "9094591ceceb710b",
   "metadata": {
    "ExecuteTime": {
     "end_time": "2023-12-12T15:21:28.920890Z",
     "start_time": "2023-12-12T15:21:28.882376Z"
    }
   },
   "outputs": [],
   "source": [
    "sided_reorganized_data_df['CT_Result_dichotomized'] = sided_reorganized_data_df['CT_Result'].isin([1, 2, 4, 5, 6]).astype(int)"
   ]
  },
  {
   "cell_type": "code",
   "execution_count": null,
   "id": "46bf5c9602170453",
   "metadata": {
    "ExecuteTime": {
     "end_time": "2023-12-12T15:23:24.338379Z",
     "start_time": "2023-12-12T15:23:24.277086Z"
    }
   },
   "outputs": [],
   "source": [
    "sided_reorganized_data_df"
   ]
  },
  {
   "cell_type": "code",
   "execution_count": null,
   "id": "fe92eec973865841",
   "metadata": {
    "ExecuteTime": {
     "end_time": "2023-12-12T15:22:03.872165Z",
     "start_time": "2023-12-12T15:22:02.910008Z"
    }
   },
   "outputs": [],
   "source": [
    "# NPi\n",
    "# two subplots, left one for overall NPi, right one for NPi per side\n",
    "axes = plt.subplots(1, 2, figsize=(10, 5))\n",
    "\n",
    "sns.boxplot(x=\"CT_Result_dichotomized\", y=\"NPi\", data=sided_reorganized_data_df, ax=axes[1][0])\n",
    "axes[1][0].title.set_text('NPi overall')\n",
    "\n",
    "sns.boxplot(x=\"CT_Result_dichotomized\", y=\"NPi\", hue=\"side\", data=sided_reorganized_data_df, ax=axes[1][1])\n",
    "axes[1][1].title.set_text('NPi per side')\n",
    "\n",
    "sns.despine(offset=10, trim=True)"
   ]
  },
  {
   "cell_type": "code",
   "execution_count": null,
   "id": "9e19e7f1f11e9508",
   "metadata": {
    "ExecuteTime": {
     "end_time": "2023-12-12T15:32:37.866814Z",
     "start_time": "2023-12-12T15:32:37.784554Z"
    }
   },
   "outputs": [],
   "source": [
    "# Associated p-values\n",
    "from scipy.stats import mannwhitneyu\n",
    "from scipy.stats import ttest_ind\n",
    "\n",
    "print('NPi overall')\n",
    "print(mannwhitneyu(\n",
    "    sided_reorganized_data_df[(sided_reorganized_data_df['CT_Result_dichotomized'] == 0)]['NPi'].dropna(),\n",
    "    sided_reorganized_data_df[(sided_reorganized_data_df['CT_Result_dichotomized'] == 1)]['NPi'].dropna(),\n",
    "))\n",
    "print(ttest_ind(\n",
    "    sided_reorganized_data_df[(sided_reorganized_data_df['CT_Result_dichotomized'] == 0)]['NPi'].dropna(),\n",
    "    sided_reorganized_data_df[(sided_reorganized_data_df['CT_Result_dichotomized'] == 1)]['NPi'].dropna(),\n",
    "))\n",
    "\n",
    "for side in ['right', 'left']:\n",
    "    print(f'NPi {side}')\n",
    "    print(mannwhitneyu(\n",
    "        sided_reorganized_data_df[(sided_reorganized_data_df['side'] == side) & (sided_reorganized_data_df['CT_Result_dichotomized'] == 0)]['NPi'].dropna(),\n",
    "        sided_reorganized_data_df[(sided_reorganized_data_df['side'] == side) & (sided_reorganized_data_df['CT_Result_dichotomized'] == 1)]['NPi'].dropna(),\n",
    "    ))\n",
    "    print(ttest_ind(\n",
    "        sided_reorganized_data_df[(sided_reorganized_data_df['side'] == side) & (sided_reorganized_data_df['CT_Result_dichotomized'] == 0)]['NPi'].dropna(),\n",
    "        sided_reorganized_data_df[(sided_reorganized_data_df['side'] == side) & (sided_reorganized_data_df['CT_Result_dichotomized'] == 1)]['NPi'].dropna(),\n",
    "    ))"
   ]
  },
  {
   "cell_type": "code",
   "execution_count": null,
   "id": "3f8e2e98b709941a",
   "metadata": {
    "ExecuteTime": {
     "end_time": "2023-12-12T15:24:24.597889Z",
     "start_time": "2023-12-12T15:24:23.688266Z"
    }
   },
   "outputs": [],
   "source": [
    "# pupil size\n",
    "# two subplots, left one for overall pupil size, right one for pupil size per side\n",
    "axes = plt.subplots(1, 2, figsize=(10, 5))\n",
    "\n",
    "sns.boxplot(x=\"CT_Result_dichotomized\", y=\"Pupil_size\", data=sided_reorganized_data_df, ax=axes[1][0])\n",
    "axes[1][0].title.set_text('Pupil size overall')\n",
    "\n",
    "sns.boxplot(x=\"CT_Result_dichotomized\", y=\"Pupil_size\", hue=\"side\", data=sided_reorganized_data_df, ax=axes[1][1])\n",
    "axes[1][1].title.set_text('Pupil size per side')\n",
    "\n",
    "sns.despine(offset=10, trim=True)"
   ]
  },
  {
   "cell_type": "code",
   "execution_count": null,
   "id": "5329ad32cdc38050",
   "metadata": {
    "ExecuteTime": {
     "end_time": "2023-12-12T15:33:23.867176Z",
     "start_time": "2023-12-12T15:33:23.794569Z"
    }
   },
   "outputs": [],
   "source": [
    "# Associated p-values\n",
    "print('Pupil size overall')\n",
    "print(mannwhitneyu(\n",
    "    sided_reorganized_data_df[(sided_reorganized_data_df['CT_Result_dichotomized'] == 0)]['Pupil_size'].dropna(),\n",
    "    sided_reorganized_data_df[(sided_reorganized_data_df['CT_Result_dichotomized'] == 1)]['Pupil_size'].dropna(),\n",
    "))\n",
    "print(ttest_ind(\n",
    "    sided_reorganized_data_df[(sided_reorganized_data_df['CT_Result_dichotomized'] == 0)]['Pupil_size'].dropna(),\n",
    "    sided_reorganized_data_df[(sided_reorganized_data_df['CT_Result_dichotomized'] == 1)]['Pupil_size'].dropna(),\n",
    "))\n",
    "\n",
    "for side in ['right', 'left']:\n",
    "    print(f'Pupil size {side}')\n",
    "    print(mannwhitneyu(\n",
    "        sided_reorganized_data_df[(sided_reorganized_data_df['side'] == side) & (sided_reorganized_data_df['CT_Result_dichotomized'] == 0)]['Pupil_size'].dropna(),\n",
    "        sided_reorganized_data_df[(sided_reorganized_data_df['side'] == side) & (sided_reorganized_data_df['CT_Result_dichotomized'] == 1)]['Pupil_size'].dropna(),\n",
    "    ))\n",
    "    print(ttest_ind(\n",
    "        sided_reorganized_data_df[(sided_reorganized_data_df['side'] == side) & (sided_reorganized_data_df['CT_Result_dichotomized'] == 0)]['Pupil_size'].dropna(),\n",
    "        sided_reorganized_data_df[(sided_reorganized_data_df['side'] == side) & (sided_reorganized_data_df['CT_Result_dichotomized'] == 1)]['Pupil_size'].dropna(),\n",
    "    ))"
   ]
  },
  {
   "cell_type": "code",
   "execution_count": null,
   "id": "a8878986bd5c7c5f",
   "metadata": {
    "ExecuteTime": {
     "end_time": "2023-12-12T15:24:57.119878Z",
     "start_time": "2023-12-12T15:24:56.379700Z"
    }
   },
   "outputs": [],
   "source": [
    "# velocity of constriction\n",
    "# two subplots, left one for overall velocity of constriction, right one for velocity of constriction per side\n",
    "axes = plt.subplots(1, 2, figsize=(10, 5))\n",
    "\n",
    "sns.boxplot(x=\"CT_Result_dichotomized\", y=\"Velocity_of_constriction\", data=sided_reorganized_data_df, ax=axes[1][0])\n",
    "axes[1][0].title.set_text('Velocity of constriction overall')\n",
    "\n",
    "sns.boxplot(x=\"CT_Result_dichotomized\", y=\"Velocity_of_constriction\", hue=\"side\", data=sided_reorganized_data_df, ax=axes[1][1])\n",
    "axes[1][1].title.set_text('Velocity of constriction per side')\n",
    "\n",
    "sns.despine(offset=10, trim=True)"
   ]
  },
  {
   "cell_type": "code",
   "execution_count": null,
   "id": "8342d8bbda8a6d8d",
   "metadata": {
    "ExecuteTime": {
     "end_time": "2023-12-12T15:33:48.417226Z",
     "start_time": "2023-12-12T15:33:48.366623Z"
    }
   },
   "outputs": [],
   "source": [
    "# Associated p-values\n",
    "print('Velocity of constriction overall')\n",
    "print(mannwhitneyu(\n",
    "    sided_reorganized_data_df[(sided_reorganized_data_df['CT_Result_dichotomized'] == 0)]['Velocity_of_constriction'].dropna(),\n",
    "    sided_reorganized_data_df[(sided_reorganized_data_df['CT_Result_dichotomized'] == 1)]['Velocity_of_constriction'].dropna(),\n",
    "))\n",
    "print(ttest_ind(\n",
    "    sided_reorganized_data_df[(sided_reorganized_data_df['CT_Result_dichotomized'] == 0)]['Velocity_of_constriction'].dropna(),\n",
    "    sided_reorganized_data_df[(sided_reorganized_data_df['CT_Result_dichotomized'] == 1)]['Velocity_of_constriction'].dropna(),\n",
    "))\n",
    "\n",
    "for side in ['right', 'left']:\n",
    "    print(f'Velocity of constriction {side}')\n",
    "    print(mannwhitneyu(\n",
    "        sided_reorganized_data_df[(sided_reorganized_data_df['side'] == side) & (sided_reorganized_data_df['CT_Result_dichotomized'] == 0)]['Velocity_of_constriction'].dropna(),\n",
    "        sided_reorganized_data_df[(sided_reorganized_data_df['side'] == side) & (sided_reorganized_data_df['CT_Result_dichotomized'] == 1)]['Velocity_of_constriction'].dropna(),\n",
    "    ))\n",
    "    print(ttest_ind(\n",
    "        sided_reorganized_data_df[(sided_reorganized_data_df['side'] == side) & (sided_reorganized_data_df['CT_Result_dichotomized'] == 0)]['Velocity_of_constriction'].dropna(),\n",
    "        sided_reorganized_data_df[(sided_reorganized_data_df['side'] == side) & (sided_reorganized_data_df['CT_Result_dichotomized'] == 1)]['Velocity_of_constriction'].dropna(),\n",
    "    ))"
   ]
  },
  {
   "cell_type": "markdown",
   "id": "e4afa635d8b81b02",
   "metadata": {
    "collapsed": false
   },
   "source": [
    "## Plot delta (left - right) pupil metrics vs dichotomized CT results"
   ]
  },
  {
   "cell_type": "code",
   "execution_count": null,
   "id": "a3c2b14f12c97cdf",
   "metadata": {
    "ExecuteTime": {
     "end_time": "2023-12-12T15:42:46.878695Z",
     "start_time": "2023-12-12T15:42:46.836633Z"
    }
   },
   "outputs": [],
   "source": [
    "reorganized_data_df['delta_NPi'] = np.abs(reorganized_data_df['NPi_right'].astype(float) - reorganized_data_df['NPi_left'].astype(float))\n",
    "reorganized_data_df['delta_Pupil_size'] = np.abs(reorganized_data_df['Pupil_size_right'].astype(float) - reorganized_data_df['Pupil_size_left'].astype(float))\n",
    "reorganized_data_df['delta_Velocity_of_constriction'] = np.abs(reorganized_data_df['Velocity_of_constriction_right'].astype(float) - reorganized_data_df['Velocity_of_constriction_left'].astype(float))"
   ]
  },
  {
   "cell_type": "code",
   "execution_count": null,
   "id": "5da2d91a48fa0180",
   "metadata": {
    "ExecuteTime": {
     "end_time": "2023-12-12T15:42:48.624585Z",
     "start_time": "2023-12-12T15:42:48.596066Z"
    }
   },
   "outputs": [],
   "source": [
    "reorganized_data_df['CT_Result_dichotomized'] = reorganized_data_df['CT_Result'].isin([1, 2, 4, 5, 6]).astype(int)"
   ]
  },
  {
   "cell_type": "code",
   "execution_count": null,
   "id": "c1ae4fd3bee047ec",
   "metadata": {
    "ExecuteTime": {
     "end_time": "2023-12-12T15:42:53.531539Z",
     "start_time": "2023-12-12T15:42:53.221110Z"
    }
   },
   "outputs": [],
   "source": [
    "# Delta NPi\n",
    "\n",
    "ax = sns.boxplot(x=\"CT_Result_dichotomized\", y=\"delta_NPi\", data=reorganized_data_df)\n",
    "ax.title.set_text('Delta NPi')\n",
    "\n",
    "sns.despine(offset=10, trim=True)"
   ]
  },
  {
   "cell_type": "code",
   "execution_count": null,
   "id": "f81e090cba998e5a",
   "metadata": {
    "ExecuteTime": {
     "end_time": "2023-12-12T15:43:12.503266Z",
     "start_time": "2023-12-12T15:43:12.431384Z"
    }
   },
   "outputs": [],
   "source": [
    "# associated p-values\n",
    "print('Delta NPi')\n",
    "print(mannwhitneyu(\n",
    "    reorganized_data_df[(reorganized_data_df['CT_Result_dichotomized'] == 0)]['delta_NPi'].dropna(),\n",
    "    reorganized_data_df[(reorganized_data_df['CT_Result_dichotomized'] == 1)]['delta_NPi'].dropna(),\n",
    "))\n",
    "print(ttest_ind(\n",
    "    reorganized_data_df[(reorganized_data_df['CT_Result_dichotomized'] == 0)]['delta_NPi'].dropna(),\n",
    "    reorganized_data_df[(reorganized_data_df['CT_Result_dichotomized'] == 1)]['delta_NPi'].dropna(),\n",
    "))"
   ]
  },
  {
   "cell_type": "code",
   "execution_count": null,
   "id": "5aeb3be3e7e124d0",
   "metadata": {
    "ExecuteTime": {
     "end_time": "2023-12-12T15:43:42.983894Z",
     "start_time": "2023-12-12T15:43:42.757918Z"
    }
   },
   "outputs": [],
   "source": [
    "# Delta pupil size\n",
    "ax = sns.boxplot(x=\"CT_Result_dichotomized\", y=\"delta_Pupil_size\", data=reorganized_data_df)\n",
    "ax.title.set_text('Delta pupil size')\n",
    "\n",
    "sns.despine(offset=10, trim=True)"
   ]
  },
  {
   "cell_type": "code",
   "execution_count": null,
   "id": "60c8fb0543466acd",
   "metadata": {
    "ExecuteTime": {
     "end_time": "2023-12-12T15:44:05.904665Z",
     "start_time": "2023-12-12T15:44:05.809205Z"
    }
   },
   "outputs": [],
   "source": [
    "# associated p-values\n",
    "print('Delta pupil size')\n",
    "print(mannwhitneyu(\n",
    "    reorganized_data_df[(reorganized_data_df['CT_Result_dichotomized'] == 0)]['delta_Pupil_size'].dropna(),\n",
    "    reorganized_data_df[(reorganized_data_df['CT_Result_dichotomized'] == 1)]['delta_Pupil_size'].dropna(),\n",
    "))\n",
    "print(ttest_ind(\n",
    "    reorganized_data_df[(reorganized_data_df['CT_Result_dichotomized'] == 0)]['delta_Pupil_size'].dropna(),\n",
    "    reorganized_data_df[(reorganized_data_df['CT_Result_dichotomized'] == 1)]['delta_Pupil_size'].dropna(),\n",
    "))"
   ]
  },
  {
   "cell_type": "code",
   "execution_count": null,
   "id": "29966af3981f898d",
   "metadata": {
    "ExecuteTime": {
     "end_time": "2023-12-12T15:44:22.283107Z",
     "start_time": "2023-12-12T15:44:21.950983Z"
    }
   },
   "outputs": [],
   "source": [
    "# Delta velocity of constriction\n",
    "ax = sns.boxplot(x=\"CT_Result_dichotomized\", y=\"delta_Velocity_of_constriction\", data=reorganized_data_df)\n",
    "ax.title.set_text('Delta velocity of constriction')\n",
    "\n",
    "sns.despine(offset=10, trim=True)"
   ]
  },
  {
   "cell_type": "code",
   "execution_count": null,
   "id": "1204ac72f3d3c03c",
   "metadata": {
    "ExecuteTime": {
     "end_time": "2023-12-12T15:44:36.174362Z",
     "start_time": "2023-12-12T15:44:36.134680Z"
    }
   },
   "outputs": [],
   "source": [
    "# associated p-values\n",
    "\n",
    "print('Delta velocity of constriction')\n",
    "print(mannwhitneyu(\n",
    "    reorganized_data_df[(reorganized_data_df['CT_Result_dichotomized'] == 0)]['delta_Velocity_of_constriction'].dropna(),\n",
    "    reorganized_data_df[(reorganized_data_df['CT_Result_dichotomized'] == 1)]['delta_Velocity_of_constriction'].dropna(),\n",
    "))\n",
    "print(ttest_ind(\n",
    "    reorganized_data_df[(reorganized_data_df['CT_Result_dichotomized'] == 0)]['delta_Velocity_of_constriction'].dropna(),\n",
    "    reorganized_data_df[(reorganized_data_df['CT_Result_dichotomized'] == 1)]['delta_Velocity_of_constriction'].dropna(),\n",
    "))"
   ]
  },
  {
   "cell_type": "code",
   "execution_count": null,
   "id": "3c43e6b15819195f",
   "metadata": {},
   "outputs": [],
   "source": []
  }
 ],
 "metadata": {
  "kernelspec": {
   "display_name": "Python 3",
   "language": "python",
   "name": "python3"
  },
  "language_info": {
   "codemirror_mode": {
    "name": "ipython",
    "version": 2
   },
   "file_extension": ".py",
   "mimetype": "text/x-python",
   "name": "python",
   "nbconvert_exporter": "python",
   "pygments_lexer": "ipython2",
   "version": "2.7.6"
  }
 },
 "nbformat": 4,
 "nbformat_minor": 5
}
