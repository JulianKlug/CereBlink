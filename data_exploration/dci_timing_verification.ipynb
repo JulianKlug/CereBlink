{
 "cells": [
  {
   "cell_type": "code",
   "execution_count": null,
   "id": "54fb0710d09bd44a",
   "metadata": {
    "ExecuteTime": {
     "end_time": "2024-02-08T12:54:16.168013Z",
     "start_time": "2024-02-08T12:54:16.158875Z"
    }
   },
   "outputs": [],
   "source": [
    "import pandas as pd\n",
    "import io\n",
    "import getpass\n",
    "import msoffcrypto\n",
    "import seaborn as sns\n",
    "import matplotlib"
   ]
  },
  {
   "cell_type": "code",
   "execution_count": null,
   "id": "32fb749264b48979",
   "metadata": {
    "ExecuteTime": {
     "end_time": "2024-02-08T12:55:03.107607Z",
     "start_time": "2024-02-08T12:55:03.102362Z"
    }
   },
   "outputs": [],
   "source": [
    "registry_data_path = '/Users/jk1/Library/CloudStorage/OneDrive-unige.ch/icu_research/dci_sah/data/sos_sah_data/aSAH_DATA_2009_2023_24122023.xlsx'\n",
    "date_verification_path = '/Users/jk1/Library/CloudStorage/OneDrive-unige.ch/icu_research/dci_sah/data/sos_sah_data/DCI_timing_aSAH_DATA_2009_2023_24122023.xlsx'"
   ]
  },
  {
   "cell_type": "code",
   "execution_count": null,
   "id": "initial_id",
   "metadata": {
    "ExecuteTime": {
     "end_time": "2024-02-08T12:55:05.527761Z",
     "start_time": "2024-02-08T12:55:03.408256Z"
    }
   },
   "outputs": [],
   "source": [
    "password = getpass.getpass()\n",
    "decrypted_workbook = io.BytesIO()\n",
    "with open(registry_data_path, 'rb') as file:\n",
    "    office_file = msoffcrypto.OfficeFile(file)\n",
    "    office_file.load_key(password=password)\n",
    "    office_file.decrypt(decrypted_workbook)\n",
    "registry_df = pd.read_excel(decrypted_workbook, sheet_name='DATA')\n"
   ]
  },
  {
   "cell_type": "code",
   "execution_count": null,
   "id": "15f87e51b087e03d",
   "metadata": {
    "ExecuteTime": {
     "end_time": "2024-02-08T12:55:05.781983Z",
     "start_time": "2024-02-08T12:55:05.766371Z"
    }
   },
   "outputs": [],
   "source": [
    "registry_df.head()"
   ]
  },
  {
   "cell_type": "code",
   "execution_count": null,
   "id": "e41e973c04964354",
   "metadata": {
    "ExecuteTime": {
     "end_time": "2024-02-08T12:55:27.387387Z",
     "start_time": "2024-02-08T12:55:25.179437Z"
    }
   },
   "outputs": [],
   "source": [
    "password = getpass.getpass()\n",
    "decrypted_workbook = io.BytesIO()\n",
    "with open(date_verification_path, 'rb') as file:\n",
    "    office_file = msoffcrypto.OfficeFile(file)\n",
    "    office_file.load_key(password=password)\n",
    "    office_file.decrypt(decrypted_workbook)\n",
    "date_verification_df = pd.read_excel(decrypted_workbook, sheet_name='DATA')"
   ]
  },
  {
   "cell_type": "code",
   "execution_count": null,
   "id": "4d2142ebdc01b957",
   "metadata": {
    "ExecuteTime": {
     "end_time": "2024-02-08T12:55:30.236986Z",
     "start_time": "2024-02-08T12:55:30.223969Z"
    }
   },
   "outputs": [],
   "source": [
    "date_verification_df.head()"
   ]
  },
  {
   "cell_type": "code",
   "execution_count": null,
   "id": "2ac48cd8e0628d58",
   "metadata": {
    "ExecuteTime": {
     "end_time": "2024-02-08T12:59:17.456411Z",
     "start_time": "2024-02-08T12:59:17.448130Z"
    }
   },
   "outputs": [],
   "source": [
    "infarct_data_df = registry_df[['SOS-CENTER-YEAR-NO.', 'Name', 'Date_birth', 'Infarction_YN', 'Date_Infarction', 'Infarct_postTh_YN', 'Infarct_Discharge_YN']]"
   ]
  },
  {
   "cell_type": "code",
   "execution_count": null,
   "id": "ce8225fee1f3ef36",
   "metadata": {
    "ExecuteTime": {
     "end_time": "2024-02-08T12:59:17.807500Z",
     "start_time": "2024-02-08T12:59:17.802959Z"
    }
   },
   "outputs": [],
   "source": [
    "date_verification_with_infarct_df = date_verification_df.merge(infarct_data_df, on=['SOS-CENTER-YEAR-NO.', 'Name', 'Date_birth'], how='left')"
   ]
  },
  {
   "cell_type": "code",
   "execution_count": null,
   "id": "165689bc03f803e9",
   "metadata": {
    "ExecuteTime": {
     "end_time": "2024-02-08T12:59:18.548442Z",
     "start_time": "2024-02-08T12:59:18.531477Z"
    }
   },
   "outputs": [],
   "source": [
    "date_verification_with_infarct_df.head()"
   ]
  },
  {
   "cell_type": "code",
   "execution_count": null,
   "id": "c4fa9954634bbbd2",
   "metadata": {
    "ExecuteTime": {
     "end_time": "2024-02-08T13:00:37.904677Z",
     "start_time": "2024-02-08T13:00:37.628803Z"
    }
   },
   "outputs": [],
   "source": [
    "# save date_verification_df\n",
    "date_verification_with_infarct_df.to_excel('/Users/jk1/Downloads/date_verification_with_infarct_df.xlsx', index=False)"
   ]
  },
  {
   "cell_type": "code",
   "execution_count": null,
   "id": "e3e2d756d2d51763",
   "metadata": {},
   "outputs": [],
   "source": []
  }
 ],
 "metadata": {
  "kernelspec": {
   "display_name": "Python 3",
   "language": "python",
   "name": "python3"
  },
  "language_info": {
   "codemirror_mode": {
    "name": "ipython",
    "version": 2
   },
   "file_extension": ".py",
   "mimetype": "text/x-python",
   "name": "python",
   "nbconvert_exporter": "python",
   "pygments_lexer": "ipython2",
   "version": "2.7.6"
  }
 },
 "nbformat": 4,
 "nbformat_minor": 5
}
