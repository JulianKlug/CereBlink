{
 "cells": [
  {
   "cell_type": "code",
   "execution_count": null,
   "id": "89a7339ab678aabb",
   "metadata": {
    "ExecuteTime": {
     "end_time": "2024-02-09T18:27:30.981877Z",
     "start_time": "2024-02-09T18:27:30.975907Z"
    }
   },
   "outputs": [],
   "source": [
    "import pandas as pd\n",
    "from utils import load_encrypted_xlsx\n",
    "import os"
   ]
  },
  {
   "cell_type": "code",
   "execution_count": null,
   "id": "ba9af5f74ae9fca6",
   "metadata": {
    "ExecuteTime": {
     "end_time": "2024-02-09T18:27:31.498053Z",
     "start_time": "2024-02-09T18:27:31.492290Z"
    }
   },
   "outputs": [],
   "source": [
    "registry_data_path = '/Users/jk1/Library/CloudStorage/OneDrive-unige.ch/icu_research/dci_sah/data/sos_sah_data/original_data/aSAH_DATA_2009_2023_24122023.xlsx'\n",
    "registry_timing_verification_path = '/Users/jk1/Library/CloudStorage/OneDrive-unige.ch/icu_research/dci_sah/data/sos_sah_data/manual_completions/date_verification_with_infarct_df.xlsx'\n",
    "post_hoc_modifications_path = '/Users/jk1/Library/CloudStorage/OneDrive-unige.ch/icu_research/dci_sah/data/sos_sah_data/manual_completions/post_hoc_modifications_sos_db.xlsx'\n",
    "output_dir = '/Users/jk1/Library/CloudStorage/OneDrive-unige.ch/icu_research/dci_sah/data/sos_sah_data/'"
   ]
  },
  {
   "cell_type": "code",
   "execution_count": null,
   "id": "70560f82c787eb72",
   "metadata": {
    "ExecuteTime": {
     "end_time": "2024-02-09T18:27:37.652299Z",
     "start_time": "2024-02-09T18:27:31.918151Z"
    }
   },
   "outputs": [],
   "source": [
    "registry_df = load_encrypted_xlsx(registry_data_path, sheet_name='DATA')\n",
    "registry_timing_verification_df = load_encrypted_xlsx(registry_timing_verification_path)\n",
    "post_hoc_modifications_df = load_encrypted_xlsx(post_hoc_modifications_path)"
   ]
  },
  {
   "cell_type": "code",
   "execution_count": null,
   "id": "initial_id",
   "metadata": {
    "ExecuteTime": {
     "end_time": "2024-02-09T18:27:39.295276Z",
     "start_time": "2024-02-09T18:27:39.275069Z"
    }
   },
   "outputs": [],
   "source": [
    "# Join data from ischemia / infarct timing verification\n",
    "registry_df = registry_df.merge(registry_timing_verification_df[\n",
    "                                    ['SOS-CENTER-YEAR-NO.', 'Name', 'Date_DCI_ischemia_first_image',\n",
    "                                     'Time_DCI_ischemia_first_image', 'Date_DCI_infarct_first_image',\n",
    "                                     'Time_DCI_infarct_first_image', 'DCI_YN_verified']],\n",
    "                                on=['SOS-CENTER-YEAR-NO.', 'Name'], how='left')\n",
    "registry_df['DCI_ischemia'] = registry_df['Date_DCI_ischemia_first_image'].notnull()\n",
    "registry_df['DCI_infarct'] = registry_df['Date_DCI_infarct_first_image'].notnull()"
   ]
  },
  {
   "cell_type": "code",
   "execution_count": null,
   "id": "ead8e9afcf6b2734",
   "metadata": {
    "ExecuteTime": {
     "end_time": "2024-02-09T18:27:40.078886Z",
     "start_time": "2024-02-09T18:27:40.067636Z"
    }
   },
   "outputs": [],
   "source": [
    "post_hoc_modifications_df"
   ]
  },
  {
   "cell_type": "code",
   "execution_count": null,
   "id": "ca615a47b5b35c1b",
   "metadata": {
    "ExecuteTime": {
     "end_time": "2024-02-09T18:27:44.325102Z",
     "start_time": "2024-02-09T18:27:44.317069Z"
    }
   },
   "outputs": [],
   "source": [
    "# apply modifications of post_hoc_modifications_df to registry_df\n",
    "for i, row in post_hoc_modifications_df.iterrows():\n",
    "    assert registry_df.loc[(registry_df['SOS-CENTER-YEAR-NO.'] == row['SOS-CENTER-YEAR-NO.']) \n",
    "                    & (registry_df['Name'] == row['Name'])\n",
    "                    & (registry_df['Date_birth'] == row['Date_birth'])].shape[0] > 0\n",
    "    registry_df.loc[(registry_df['SOS-CENTER-YEAR-NO.'] == row['SOS-CENTER-YEAR-NO.']) \n",
    "                    & (registry_df['Name'] == row['Name'])\n",
    "                    & (registry_df['Date_birth'] == row['Date_birth']), row['modified_column']] = row['new_value']\n",
    "    print(f\"{row['SOS-CENTER-YEAR-NO.']}, {row['Name']}, {row['Date_birth']}, changed {row['modified_column']} to {row['new_value']} because {row['reason']}\")\n",
    "    \n",
    "    "
   ]
  },
  {
   "cell_type": "code",
   "execution_count": null,
   "id": "17006b2f070e5c82",
   "metadata": {
    "ExecuteTime": {
     "end_time": "2024-02-09T18:27:46.758088Z",
     "start_time": "2024-02-09T18:27:45.605738Z"
    }
   },
   "outputs": [],
   "source": [
    "# save registry_df\n",
    "original_file_name = os.path.basename(registry_data_path)\n",
    "registry_df.to_excel(os.path.join(output_dir, 'post_hoc_modified_' + original_file_name), index=False)\n",
    "# modal warning\n",
    "print('ADD PASSWORD TO THE FILE!')"
   ]
  },
  {
   "cell_type": "code",
   "execution_count": null,
   "id": "3b8caa85a23ec360",
   "metadata": {},
   "outputs": [],
   "source": []
  }
 ],
 "metadata": {
  "kernelspec": {
   "display_name": "Python 3",
   "language": "python",
   "name": "python3"
  },
  "language_info": {
   "codemirror_mode": {
    "name": "ipython",
    "version": 2
   },
   "file_extension": ".py",
   "mimetype": "text/x-python",
   "name": "python",
   "nbconvert_exporter": "python",
   "pygments_lexer": "ipython2",
   "version": "2.7.6"
  }
 },
 "nbformat": 4,
 "nbformat_minor": 5
}
