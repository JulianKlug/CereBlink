{
 "cells": [
  {
   "cell_type": "code",
   "execution_count": null,
   "id": "89a7339ab678aabb",
   "metadata": {
    "ExecuteTime": {
     "end_time": "2024-03-26T17:35:58.219254Z",
     "start_time": "2024-03-26T17:35:58.215879Z"
    }
   },
   "outputs": [],
   "source": [
    "import numpy as np\n",
    "import pandas as pd\n",
    "from utils import load_encrypted_xlsx\n",
    "import os"
   ]
  },
  {
   "cell_type": "code",
   "execution_count": null,
   "id": "ba9af5f74ae9fca6",
   "metadata": {
    "ExecuteTime": {
     "end_time": "2024-03-26T17:35:58.225176Z",
     "start_time": "2024-03-26T17:35:58.221782Z"
    }
   },
   "outputs": [],
   "source": [
    "registry_data_path = '/Users/jk1/Library/CloudStorage/OneDrive-unige.ch/icu_research/dci_sah/data/sos_sah_data/original_data/aSAH_DATA_2009_2023_24122023.xlsx'\n",
    "registry_timing_verification_path = '/Users/jk1/Library/CloudStorage/OneDrive-unige.ch/icu_research/dci_sah/data/sos_sah_data/manual_completions/date_verification_with_infarct_df.xlsx'\n",
    "post_hoc_modifications_path = '/Users/jk1/Library/CloudStorage/OneDrive-unige.ch/icu_research/dci_sah/data/sos_sah_data/manual_completions/post_hoc_modifications_sos_db.xlsx'\n",
    "output_dir = '/Users/jk1/Library/CloudStorage/OneDrive-unige.ch/icu_research/dci_sah/data/sos_sah_data/'"
   ]
  },
  {
   "cell_type": "code",
   "execution_count": null,
   "id": "70560f82c787eb72",
   "metadata": {
    "ExecuteTime": {
     "end_time": "2024-03-26T17:36:03.006345Z",
     "start_time": "2024-03-26T17:35:58.227479Z"
    }
   },
   "outputs": [],
   "source": [
    "registry_df = load_encrypted_xlsx(registry_data_path, sheet_name='DATA')\n",
    "registry_timing_verification_df = load_encrypted_xlsx(registry_timing_verification_path)\n",
    "post_hoc_modifications_df = load_encrypted_xlsx(post_hoc_modifications_path)"
   ]
  },
  {
   "cell_type": "code",
   "execution_count": null,
   "id": "initial_id",
   "metadata": {
    "ExecuteTime": {
     "end_time": "2024-03-26T17:36:03.016203Z",
     "start_time": "2024-03-26T17:36:03.007554Z"
    }
   },
   "outputs": [],
   "source": [
    "# Join data from ischemia / infarct timing verification\n",
    "registry_df = registry_df.merge(registry_timing_verification_df[\n",
    "                                    ['SOS-CENTER-YEAR-NO.', 'Name', 'Date_DCI_ischemia_first_image',\n",
    "                                     'Time_DCI_ischemia_first_image', 'Date_DCI_infarct_first_image',\n",
    "                                     'Time_DCI_infarct_first_image', 'DCI_YN_verified']],\n",
    "                                on=['SOS-CENTER-YEAR-NO.', 'Name'], how='left')\n",
    "registry_df['DCI_ischemia'] = registry_df['Date_DCI_ischemia_first_image'].notnull()\n",
    "registry_df['DCI_infarct'] = registry_df['Date_DCI_infarct_first_image'].notnull()"
   ]
  },
  {
   "cell_type": "code",
   "execution_count": null,
   "id": "ead8e9afcf6b2734",
   "metadata": {
    "ExecuteTime": {
     "end_time": "2024-03-26T17:36:03.028091Z",
     "start_time": "2024-03-26T17:36:03.019047Z"
    }
   },
   "outputs": [],
   "source": [
    "post_hoc_modifications_df"
   ]
  },
  {
   "cell_type": "code",
   "execution_count": null,
   "id": "eb2f201232894eaa",
   "metadata": {
    "ExecuteTime": {
     "end_time": "2024-03-26T17:36:03.034167Z",
     "start_time": "2024-03-26T17:36:03.029354Z"
    }
   },
   "outputs": [],
   "source": [
    "row"
   ]
  },
  {
   "cell_type": "code",
   "execution_count": null,
   "id": "7245fcf135938796",
   "metadata": {
    "ExecuteTime": {
     "end_time": "2024-03-26T17:36:03.038409Z",
     "start_time": "2024-03-26T17:36:03.035717Z"
    }
   },
   "outputs": [],
   "source": [
    "import numpy as np"
   ]
  },
  {
   "cell_type": "code",
   "execution_count": null,
   "id": "ca615a47b5b35c1b",
   "metadata": {
    "ExecuteTime": {
     "end_time": "2024-03-26T17:36:03.218732Z",
     "start_time": "2024-03-26T17:36:03.039991Z"
    }
   },
   "outputs": [],
   "source": [
    "# apply modifications of post_hoc_modifications_df to registry_df\n",
    "for i, row in post_hoc_modifications_df.iterrows():\n",
    "    try:\n",
    "        assert registry_df.loc[(registry_df['SOS-CENTER-YEAR-NO.'] == row['SOS-CENTER-YEAR-NO.']) \n",
    "                        & (registry_df['Name'] == row['Name'])\n",
    "                        & (registry_df['Date_birth'] == row['Date_birth'])].shape[0] > 0\n",
    "        registry_df.loc[(registry_df['SOS-CENTER-YEAR-NO.'] == row['SOS-CENTER-YEAR-NO.']) \n",
    "                        & (registry_df['Name'] == row['Name'])\n",
    "                        & (registry_df['Date_birth'] == row['Date_birth']), row['modified_column']] = row['new_value']\n",
    "    except:\n",
    "        if type(row['SOS-CENTER-YEAR-NO.']) != str:\n",
    "            assert registry_df.loc[(registry_df['Name'] == row['Name'])\n",
    "                        & (registry_df['Date_birth'] == row['Date_birth'])].shape[0] > 0\n",
    "            registry_df.loc[(registry_df['Name'] == row['Name'])\n",
    "                        & (registry_df['Date_birth'] == row['Date_birth']), row['modified_column']] = row['new_value']\n",
    "        # elif type(row['Name']) != str:\n",
    "        #     assert registry_df.loc[(registry_df['SOS-CENTER-YEAR-NO.'] == row['SOS-CENTER-YEAR-NO.'])\n",
    "        #                 & (registry_df['Date_birth'] == row['Date_birth'])].shape[0] > 0\n",
    "        #     registry_df.loc[(registry_df['SOS-CENTER-YEAR-NO.'] == row['SOS-CENTER-YEAR-NO.'])\n",
    "        #                 & (registry_df['Date_birth'] == row['Date_birth']), row['modified_column']] = row['new_value']\n",
    "        # elif type(row['Date_birth']) != str:\n",
    "        #     assert registry_df.loc[(registry_df['SOS-CENTER-YEAR-NO.'] == row['SOS-CENTER-YEAR-NO.'])\n",
    "        #                 & (registry_df['Name'] == row['Name'])].shape[0] > 0\n",
    "        #     registry_df.loc[(registry_df['SOS-CENTER-YEAR-NO.'] == row['SOS-CENTER-YEAR-NO.'])\n",
    "        #                 & (registry_df['Name'] == row['Name']), row['modified_column']] = row['new_value']\n",
    "        else:\n",
    "            print(f\"Could not find row {row['SOS-CENTER-YEAR-NO.']}, {row['Name']}, {row['Date_birth']}\")\n",
    "            continue\n",
    "        \n",
    "    print(f\"{row['SOS-CENTER-YEAR-NO.']}, {row['Name']}, {row['Date_birth']}, changed {row['modified_column']} to {row['new_value']} because {row['reason']}\")\n",
    "    \n",
    "    "
   ]
  },
  {
   "cell_type": "code",
   "execution_count": null,
   "id": "17006b2f070e5c82",
   "metadata": {
    "ExecuteTime": {
     "end_time": "2024-03-26T17:36:04.307622Z",
     "start_time": "2024-03-26T17:36:03.220549Z"
    }
   },
   "outputs": [],
   "source": [
    "# save registry_df\n",
    "original_file_name = os.path.basename(registry_data_path)\n",
    "registry_df.to_excel(os.path.join(output_dir, 'post_hoc_modified_' + original_file_name), index=False)\n",
    "# modal warning\n",
    "print('ADD PASSWORD TO THE FILE!')"
   ]
  },
  {
   "cell_type": "code",
   "execution_count": null,
   "id": "3b8caa85a23ec360",
   "metadata": {
    "ExecuteTime": {
     "end_time": "2024-03-26T17:36:04.311022Z",
     "start_time": "2024-03-26T17:36:04.308999Z"
    }
   },
   "outputs": [],
   "source": []
  }
 ],
 "metadata": {
  "kernelspec": {
   "display_name": "Python 3",
   "language": "python",
   "name": "python3"
  },
  "language_info": {
   "codemirror_mode": {
    "name": "ipython",
    "version": 2
   },
   "file_extension": ".py",
   "mimetype": "text/x-python",
   "name": "python",
   "nbconvert_exporter": "python",
   "pygments_lexer": "ipython2",
   "version": "2.7.6"
  }
 },
 "nbformat": 4,
 "nbformat_minor": 5
}
