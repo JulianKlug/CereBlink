{
 "cells": [
  {
   "cell_type": "markdown",
   "id": "14e088d66bfa9c6",
   "metadata": {
    "collapsed": false
   },
   "source": [
    "# Time to DCI\n",
    "\n",
    "- time to DCI (data after 2019 verified by JK)\n",
    "- time to DCI related infarction (data after 2019 verified by JK)\n",
    "- time to CVS (as reported in the SOS registry)\n",
    "- time to CT (as extracted from PDMS)\n",
    "\n",
    "Possibly tie this with new definition of DCI as ischemia and not infarction?"
   ]
  },
  {
   "cell_type": "code",
   "execution_count": null,
   "id": "initial_id",
   "metadata": {
    "ExecuteTime": {
     "end_time": "2024-02-10T19:05:01.224068Z",
     "start_time": "2024-02-10T19:05:01.167881Z"
    }
   },
   "outputs": [],
   "source": [
    "import pandas as pd\n",
    "from utils import load_encrypted_xlsx\n",
    "\n",
    "import seaborn as sns\n",
    "from matplotlib import pyplot as plt"
   ]
  },
  {
   "cell_type": "markdown",
   "id": "12b5bdf370fe81aa",
   "metadata": {
    "collapsed": false
   },
   "source": [
    "Load data"
   ]
  },
  {
   "cell_type": "code",
   "execution_count": null,
   "id": "b501041e41ac7baf",
   "metadata": {
    "ExecuteTime": {
     "end_time": "2024-02-10T18:43:48.622167Z",
     "start_time": "2024-02-10T18:43:48.617274Z"
    }
   },
   "outputs": [],
   "source": [
    "post_hoc_corrected_registry_path = '/Users/jk1/Library/CloudStorage/OneDrive-unige.ch/icu_research/dci_sah/data/sos_sah_data/post_hoc_modified_aSAH_DATA_2009_2023_24122023.xlsx'\n",
    "ct_timings_path = '/Users/jk1/Library/CloudStorage/OneDrive-unige.ch/icu_research/dci_sah/data/pdms_data/Transfer Urs.pietsch@kssg.ch 22.01.24, 15_34/20240207_SAH_SOS_CT.csv'\n",
    "registry_pdms_correspondence_path = '/Users/jk1/Library/CloudStorage/OneDrive-unige.ch/icu_research/dci_sah/data/pdms_data/registry_pdms_correspondence.csv'"
   ]
  },
  {
   "cell_type": "code",
   "execution_count": null,
   "id": "bcfc1ce774b9638f",
   "metadata": {
    "ExecuteTime": {
     "end_time": "2024-02-10T18:43:52.470227Z",
     "start_time": "2024-02-10T18:43:48.972165Z"
    }
   },
   "outputs": [],
   "source": [
    "registry_df = load_encrypted_xlsx(post_hoc_corrected_registry_path)\n",
    "ct_timings_df = pd.read_csv(ct_timings_path, sep=';', decimal='.')\n",
    "registry_pdms_correspondence_df = pd.read_csv(registry_pdms_correspondence_path)\n",
    "registry_pdms_correspondence_df['Date_birth'] = pd.to_datetime(registry_pdms_correspondence_df['Date_birth'], format='%Y-%m-%d')"
   ]
  },
  {
   "cell_type": "markdown",
   "id": "fd2b0fc6b1c48570",
   "metadata": {
    "collapsed": false
   },
   "source": [
    "Preprocessing"
   ]
  },
  {
   "cell_type": "code",
   "execution_count": null,
   "id": "34641e47e4d7f456",
   "metadata": {
    "ExecuteTime": {
     "end_time": "2024-02-10T18:43:54.709492Z",
     "start_time": "2024-02-10T18:43:54.702992Z"
    }
   },
   "outputs": [],
   "source": [
    "def safe_conversion_to_datetime(date):\n",
    "    try:\n",
    "        return pd.to_datetime(date)\n",
    "    except:\n",
    "        return pd.NaT"
   ]
  },
  {
   "cell_type": "code",
   "execution_count": null,
   "id": "ddd67c85b257f22a",
   "metadata": {
    "ExecuteTime": {
     "end_time": "2024-02-10T18:43:55.127399Z",
     "start_time": "2024-02-10T18:43:55.119079Z"
    }
   },
   "outputs": [],
   "source": [
    "# for patients with Date_CVS_Start nan but Date_CVS_DSA not nan, set Date_CVS_Start = Date_CVS_DSA\n",
    "registry_df.loc[(registry_df['Date_CVS_Start'].isnull()) & (\n",
    "    registry_df['Date_CVS_DSA'].notnull()), 'Date_CVS_Start'] = registry_df['Date_CVS_DSA']\n",
    "# for patients with Date_CVS_Start nan but Date_CVS_CTA not nan, set Date_CVS_Start = Date_CVS_CTA\n",
    "registry_df.loc[(registry_df['Date_CVS_Start'].isnull()) & (\n",
    "    registry_df['Date_CVS_CTA'].notnull()), 'Date_CVS_Start'] = registry_df['Date_CVS_CTA']\n",
    "# for patients with Date_CVS_Start nan but Date_CVS_TCD not nan, set Date_CVS_Start = Date_CVS_TCD\n",
    "registry_df.loc[(registry_df['Date_CVS_Start'].isnull()) & (\n",
    "    registry_df['Date_CVS_TCD'].notnull()), 'Date_CVS_Start'] = registry_df['Date_CVS_TCD']\n",
    "\n",
    "# patients with Date_CVS_Start not na but with  but CVS_YN = 0, in this case we should set CVS_YN = 1\n",
    "registry_df.loc[(registry_df['CVS_YN'] == 0) & (\n",
    "    registry_df['Date_CVS_Start'].apply(safe_conversion_to_datetime).notnull()), 'CVS_YN'] = 1"
   ]
  },
  {
   "cell_type": "code",
   "execution_count": null,
   "id": "5ba055428712c56d",
   "metadata": {
    "ExecuteTime": {
     "end_time": "2024-02-10T18:43:55.858908Z",
     "start_time": "2024-02-10T18:43:55.847819Z"
    }
   },
   "outputs": [],
   "source": [
    "# if Date_Ictus is nan, set it to Date_admission\n",
    "registry_df.loc[registry_df['Date_Ictus'].isnull(), 'Date_Ictus'] = registry_df['Date_admission']"
   ]
  },
  {
   "cell_type": "code",
   "execution_count": null,
   "id": "8997389a9d9f3167",
   "metadata": {
    "ExecuteTime": {
     "end_time": "2024-02-10T18:43:56.377416Z",
     "start_time": "2024-02-10T18:43:56.361503Z"
    }
   },
   "outputs": [],
   "source": [
    "ct_timings_df = ct_timings_df.merge(registry_pdms_correspondence_df, on='pNr', how='left')\n",
    "ct_timings_df.rename(columns={'JoinedName': 'Name'}, inplace=True)\n",
    "ct_timings_df = ct_timings_df.merge(registry_df[['SOS-CENTER-YEAR-NO.','Name', 'Date_birth', 'Date_admission', 'Date_Ictus', 'CVS_YN']], on=['SOS-CENTER-YEAR-NO.','Name', 'Date_birth'], how='left')"
   ]
  },
  {
   "cell_type": "code",
   "execution_count": null,
   "id": "409220902fbedb7d",
   "metadata": {
    "ExecuteTime": {
     "end_time": "2024-02-10T18:43:57.705324Z",
     "start_time": "2024-02-10T18:43:57.193710Z"
    }
   },
   "outputs": [],
   "source": [
    "# for each image check if it is the first image of DCI ischemia\n",
    "registry_df['ct_date'] = registry_df['Date_DCI_ischemia_first_image'].apply(safe_conversion_to_datetime)\n",
    "ct_timings_df['ct_date'] = ct_timings_df['timeAktion'].apply(safe_conversion_to_datetime).dt.date.apply(safe_conversion_to_datetime)\n",
    "ct_timings_df = ct_timings_df.merge(registry_df[['SOS-CENTER-YEAR-NO.','Name', 'Date_birth', 'ct_date', 'DCI_ischemia',]], on=['SOS-CENTER-YEAR-NO.','Name', 'Date_birth', 'ct_date'], how='left')\n",
    "ct_timings_df['DCI_ischemia'] = ct_timings_df['DCI_ischemia'].fillna(0).astype(int)\n",
    "registry_df.drop(columns=['ct_date'], inplace=True)\n",
    "ct_timings_df.drop(columns=['ct_date'], inplace=True)"
   ]
  },
  {
   "cell_type": "markdown",
   "id": "f9c9d0e0f62da3e1",
   "metadata": {
    "collapsed": false
   },
   "source": [
    "Limit analysis to after 2019 (start of PDMS data collection)"
   ]
  },
  {
   "cell_type": "code",
   "execution_count": null,
   "id": "24f677d01d7691b4",
   "metadata": {
    "ExecuteTime": {
     "end_time": "2024-02-10T18:43:59.042227Z",
     "start_time": "2024-02-10T18:43:59.034590Z"
    }
   },
   "outputs": [],
   "source": [
    "registry_after_2019_df = registry_df[registry_df['Date_admission'] >= '2019-01-01']\n",
    "ct_timings_after_2019_df = ct_timings_df[ct_timings_df['Date_admission'] >= '2019-01-01']"
   ]
  },
  {
   "cell_type": "code",
   "execution_count": null,
   "id": "8ef644379796af7d",
   "metadata": {
    "ExecuteTime": {
     "end_time": "2024-02-10T18:44:00.737954Z",
     "start_time": "2024-02-10T18:44:00.721334Z"
    }
   },
   "outputs": [],
   "source": [
    "n_patients = registry_after_2019_df['Name'].nunique()\n",
    "n_cts = ct_timings_after_2019_df.shape[0]\n",
    "\n",
    "print('Number of patients in registry after 2019: {}'.format(n_patients))\n",
    "print('Number of CTs after 2019: {}'.format(n_cts))"
   ]
  },
  {
   "cell_type": "code",
   "execution_count": null,
   "id": "98d2e9da316241d",
   "metadata": {
    "ExecuteTime": {
     "end_time": "2024-02-10T18:44:01.434628Z",
     "start_time": "2024-02-10T18:44:01.414629Z"
    }
   },
   "outputs": [],
   "source": [
    "n_dci_ischemia = registry_after_2019_df['DCI_ischemia'].sum()\n",
    "n_dci_infarct = registry_after_2019_df['DCI_infarct'].sum()\n",
    "n_cvs = registry_after_2019_df['CVS_YN'].sum()\n",
    "\n",
    "print('Number of patients with DCI ischemia: {}'.format(n_dci_ischemia))\n",
    "print('Number of patients with DCI infarct: {}'.format(n_dci_infarct))\n",
    "print('Number of patients with CVS: {}'.format(n_cvs))"
   ]
  },
  {
   "cell_type": "markdown",
   "id": "c4d4b14557a52b56",
   "metadata": {
    "collapsed": false
   },
   "source": [
    "#### Compute timings"
   ]
  },
  {
   "cell_type": "code",
   "execution_count": null,
   "id": "cefbc1494e9ba4ec",
   "metadata": {
    "ExecuteTime": {
     "end_time": "2024-02-10T18:44:04.476353Z",
     "start_time": "2024-02-10T18:44:04.473236Z"
    }
   },
   "outputs": [],
   "source": [
    "# add Date_DCI_ischemia_first_image and Time_DCI_ischemia_first_image to get the full date\n",
    "registry_after_2019_df['full_date_dci_ischemia'] = registry_after_2019_df['Date_DCI_ischemia_first_image'].astype(str) + ' ' + registry_after_2019_df['Time_DCI_ischemia_first_image'].astype(str)\n",
    "# replace NaT nan with nan\n",
    "registry_after_2019_df['full_date_dci_ischemia'] = registry_after_2019_df['full_date_dci_ischemia'].replace('NaT nan', pd.NaT)\n",
    "registry_after_2019_df['full_date_dci_ischemia'] = registry_after_2019_df['full_date_dci_ischemia'].apply(safe_conversion_to_datetime)\n",
    "\n",
    "registry_after_2019_df['full_date_dci_infarction'] = registry_after_2019_df['Date_DCI_infarct_first_image'].astype(str) + ' ' + registry_after_2019_df['Time_DCI_infarct_first_image'].astype(str)\n",
    "# replace NaT nan with nan\n",
    "registry_after_2019_df['full_date_dci_infarction'] = registry_after_2019_df['full_date_dci_infarction'].replace('NaT nan', pd.NaT)\n",
    "registry_after_2019_df['full_date_dci_infarction'] = registry_after_2019_df['full_date_dci_infarction'].apply(safe_conversion_to_datetime)\n",
    "\n",
    "# ensure number of nans in full_date_dci_ischemia and Date_DCI_ischemia_first_image are the same\n",
    "assert registry_after_2019_df['full_date_dci_ischemia'].isnull().sum() == registry_after_2019_df['Date_DCI_ischemia_first_image'].isnull().sum()\n",
    "# ensure number of nans in full_date_dci_infarction and Date_DCI_infarct_first_image are the same\n",
    "assert registry_after_2019_df['full_date_dci_infarction'].isnull().sum() == registry_after_2019_df['Date_DCI_infarct_first_image'].isnull().sum()"
   ]
  },
  {
   "cell_type": "code",
   "execution_count": null,
   "id": "a8749fe7ee8bf64a",
   "metadata": {
    "ExecuteTime": {
     "end_time": "2024-02-10T18:44:05.486639Z",
     "start_time": "2024-02-10T18:44:05.478531Z"
    }
   },
   "outputs": [],
   "source": [
    "# compute time to CVS, DCI ischemia and DCI infarction\n",
    "registry_after_2019_df['time_to_cvs'] = registry_after_2019_df['Date_CVS_Start'].apply(safe_conversion_to_datetime) - registry_after_2019_df['Date_Ictus'].apply(safe_conversion_to_datetime)\n",
    "\n",
    "registry_after_2019_df['time_to_dci_ischemia'] = registry_after_2019_df['full_date_dci_ischemia'] - registry_after_2019_df['Date_Ictus'].apply(safe_conversion_to_datetime)\n",
    "registry_after_2019_df['time_to_dci_infarction'] = registry_after_2019_df['full_date_dci_infarction'] - registry_after_2019_df['Date_Ictus'].apply(safe_conversion_to_datetime)"
   ]
  },
  {
   "cell_type": "code",
   "execution_count": null,
   "id": "2fa00ce86ce2b002",
   "metadata": {
    "ExecuteTime": {
     "end_time": "2024-02-10T18:44:06.371896Z",
     "start_time": "2024-02-10T18:44:06.246100Z"
    }
   },
   "outputs": [],
   "source": [
    "# compute ct timings\n",
    "ct_timings_after_2019_df['time_to_ct'] = ct_timings_after_2019_df['timeAktion'].apply(safe_conversion_to_datetime) - ct_timings_after_2019_df['Date_Ictus'].apply(safe_conversion_to_datetime)"
   ]
  },
  {
   "cell_type": "code",
   "execution_count": null,
   "id": "a414df5dea9af0e4",
   "metadata": {
    "ExecuteTime": {
     "end_time": "2024-02-10T18:44:07.701852Z",
     "start_time": "2024-02-10T18:44:07.672204Z"
    }
   },
   "outputs": [],
   "source": [
    "# check if any negative timings\n",
    "print('Number of negative time_to_cvs: {}'.format((registry_after_2019_df['time_to_cvs'] < pd.Timedelta(0)).sum()))\n",
    "print('Number of negative time_to_dci_ischemia: {}'.format((registry_after_2019_df['time_to_dci_ischemia'] < pd.Timedelta(0)).sum()))\n",
    "print('Number of negative time_to_dci_infarction: {}'.format((registry_after_2019_df['time_to_dci_infarction'] < pd.Timedelta(0)).sum()))\n",
    "print('Number of negative time_to_ct: {}'.format((ct_timings_after_2019_df['time_to_ct'] < pd.Timedelta(0)).sum()))\n",
    "\n",
    "# filter out negative times\n",
    "registry_after_2019_df.loc[registry_after_2019_df['time_to_cvs'] < pd.Timedelta(0), 'time_to_cvs'] = pd.NaT\n",
    "registry_after_2019_df.loc[registry_after_2019_df['time_to_dci_ischemia'] < pd.Timedelta(0), 'time_to_dci_ischemia'] = pd.NaT\n",
    "registry_after_2019_df.loc[registry_after_2019_df['time_to_dci_infarction'] < pd.Timedelta(0), 'time_to_dci_infarction'] = pd.NaT\n",
    "ct_timings_after_2019_df.loc[ct_timings_after_2019_df['time_to_ct'] < pd.Timedelta(0), 'time_to_ct'] = pd.NaT"
   ]
  },
  {
   "cell_type": "code",
   "execution_count": null,
   "id": "a2fcfe1aa75106b5",
   "metadata": {
    "ExecuteTime": {
     "end_time": "2024-02-10T18:45:27.148302Z",
     "start_time": "2024-02-10T18:45:27.116121Z"
    }
   },
   "outputs": [],
   "source": [
    "restrict_ct_timings_to_dci = False\n",
    "restrict_ct_timings_to_cvs = True\n",
    "if restrict_ct_timings_to_cvs:\n",
    "    ct_timings_after_2019_df = ct_timings_after_2019_df[ct_timings_after_2019_df['CVS_YN'] == 1]\n",
    "if restrict_ct_timings_to_dci:\n",
    "    ct_timings_after_2019_df = ct_timings_after_2019_df[ct_timings_after_2019_df['DCI_ischemia'] == 1]"
   ]
  },
  {
   "cell_type": "markdown",
   "id": "eac4bd470d6f3bfb",
   "metadata": {
    "collapsed": false
   },
   "source": [
    "## Evaluate time to CVS and DCI "
   ]
  },
  {
   "cell_type": "code",
   "execution_count": null,
   "id": "d3da0221ddb71b18",
   "metadata": {
    "ExecuteTime": {
     "end_time": "2024-02-10T18:45:29.268834Z",
     "start_time": "2024-02-10T18:45:29.252736Z"
    }
   },
   "outputs": [],
   "source": [
    "registry_after_2019_df['time_to_cvs_days'] = registry_after_2019_df['time_to_cvs'].dt.total_seconds() / (60*60*24)\n",
    "registry_after_2019_df['time_to_dci_ischemia_days'] = registry_after_2019_df['time_to_dci_ischemia'].dt.total_seconds() / (60*60*24)\n",
    "registry_after_2019_df['time_to_dci_infarction_days'] = registry_after_2019_df['time_to_dci_infarction'].dt.total_seconds() / (60*60*24)\n",
    "ct_timings_after_2019_df['time_to_ct_days'] = ct_timings_after_2019_df['time_to_ct'].dt.total_seconds() / (60*60*24)"
   ]
  },
  {
   "cell_type": "code",
   "execution_count": null,
   "id": "bf6b434dc6fba28",
   "metadata": {
    "ExecuteTime": {
     "end_time": "2024-02-10T18:45:30.780417Z",
     "start_time": "2024-02-10T18:45:30.763835Z"
    }
   },
   "outputs": [],
   "source": [
    "registry_after_2019_df['time_to_cvs'].describe()"
   ]
  },
  {
   "cell_type": "code",
   "execution_count": null,
   "id": "c7bce4c4c7162158",
   "metadata": {
    "ExecuteTime": {
     "end_time": "2024-02-10T18:45:33.023429Z",
     "start_time": "2024-02-10T18:45:33.005047Z"
    }
   },
   "outputs": [],
   "source": [
    "registry_after_2019_df['time_to_dci_ischemia'].describe()"
   ]
  },
  {
   "cell_type": "code",
   "execution_count": null,
   "id": "a8a3edf7c980a70c",
   "metadata": {
    "ExecuteTime": {
     "end_time": "2024-02-10T18:45:33.612913Z",
     "start_time": "2024-02-10T18:45:33.606680Z"
    }
   },
   "outputs": [],
   "source": [
    "registry_after_2019_df['time_to_dci_infarction'].describe()"
   ]
  },
  {
   "cell_type": "code",
   "execution_count": null,
   "id": "6850fac8ee153d4f",
   "metadata": {
    "ExecuteTime": {
     "end_time": "2024-02-10T18:45:34.628709Z",
     "start_time": "2024-02-10T18:45:34.610230Z"
    }
   },
   "outputs": [],
   "source": [
    "ct_timings_after_2019_df['time_to_ct'].describe()"
   ]
  },
  {
   "cell_type": "code",
   "execution_count": null,
   "id": "90b5e52079156da2",
   "metadata": {
    "ExecuteTime": {
     "end_time": "2024-02-10T18:45:36.571726Z",
     "start_time": "2024-02-10T18:45:36.561333Z"
    }
   },
   "outputs": [],
   "source": [
    "n_bins = 15"
   ]
  },
  {
   "cell_type": "code",
   "execution_count": null,
   "id": "e12096b09a7d082b",
   "metadata": {
    "ExecuteTime": {
     "end_time": "2024-02-10T18:45:37.940646Z",
     "start_time": "2024-02-10T18:45:37.390953Z"
    }
   },
   "outputs": [],
   "source": [
    "# bar plot with days on x axis and number of patients on y axis\n",
    "g = sns.displot(data=registry_after_2019_df, x='time_to_cvs_days', hue='DCI_YN', multiple='stack', bins=n_bins, palette='viridis', kde=True, alpha=0.6)\n",
    "ax = g.ax\n",
    "ax.set_xlabel('Days')\n",
    "ax.set_ylabel('Number of patients')\n",
    "ax.set_title('Time to first detected vasospasm')"
   ]
  },
  {
   "cell_type": "code",
   "execution_count": null,
   "id": "80e7aeb2dd307f56",
   "metadata": {
    "ExecuteTime": {
     "end_time": "2024-02-10T18:45:38.998004Z",
     "start_time": "2024-02-10T18:45:38.465541Z"
    }
   },
   "outputs": [],
   "source": [
    "# bar plot with days on x axis and number of patients on y axis\n",
    "g = sns.displot(data=registry_after_2019_df, x='time_to_dci_ischemia_days', multiple='stack', bins=n_bins, hue='DCI_infarct', palette='magma', alpha=0.6, kde=True)\n",
    "ax = g.ax\n",
    "\n",
    "ax.set_xlabel('Days')\n",
    "ax.set_ylabel('Number of patients')\n",
    "ax.set_title('Time to first detected DCI (ischemia)')"
   ]
  },
  {
   "cell_type": "code",
   "execution_count": null,
   "id": "99f60eae835288e3",
   "metadata": {
    "ExecuteTime": {
     "end_time": "2024-02-10T18:45:40.077191Z",
     "start_time": "2024-02-10T18:45:39.554635Z"
    }
   },
   "outputs": [],
   "source": [
    "# bar plot with days on x axis and number of patients on y axis\n",
    "g = sns.displot(data=registry_after_2019_df, x='time_to_dci_infarction_days', multiple='stack', bins=n_bins, hue='CVS_YN', palette='ocean', alpha=0.6, kde=True)\n",
    "ax = g.ax\n",
    "\n",
    "ax.set_xlabel('Days')\n",
    "ax.set_ylabel('Number of patients')\n",
    "ax.set_title('Time to first detected DCI (infarction)')"
   ]
  },
  {
   "cell_type": "code",
   "execution_count": null,
   "id": "fb50676c53be7820",
   "metadata": {
    "ExecuteTime": {
     "end_time": "2024-02-10T18:45:41.343091Z",
     "start_time": "2024-02-10T18:45:40.763834Z"
    }
   },
   "outputs": [],
   "source": [
    "# bar plot with days on x axis and number of cts on y axis\n",
    "palette = sns.color_palette(['lightgrey', 'black'])\n",
    "g = sns.displot(data=ct_timings_after_2019_df, x='time_to_ct_days', bins=50, kde=True, alpha=0.3, hue='DCI_ischemia', palette=palette)\n",
    "ax = g.ax\n",
    "\n",
    "ax.set_xlabel('Days')\n",
    "ax.set_ylabel('Number of CTs')\n",
    "ax.set_title('Time to CT')"
   ]
  },
  {
   "cell_type": "code",
   "execution_count": null,
   "id": "b20a508a20883a62",
   "metadata": {
    "ExecuteTime": {
     "end_time": "2024-02-10T18:47:06.388166Z",
     "start_time": "2024-02-10T18:47:06.022387Z"
    }
   },
   "outputs": [],
   "source": [
    "# overlay the distributions\n",
    "common_norm = False\n",
    "\n",
    "ax = sns.kdeplot(data=ct_timings_after_2019_df, x='time_to_ct_days', color='black', alpha=0.1, fill=True, common_norm=common_norm, label='CT')\n",
    "sns.kdeplot(data=registry_after_2019_df, x='time_to_cvs_days', color='turquoise', alpha=0.2, fill=True, common_norm=common_norm, label='CVS')\n",
    "sns.kdeplot(data=registry_after_2019_df, x='time_to_dci_ischemia_days', color='magenta', alpha=0.2, fill=True, common_norm=common_norm, label='DCI (ischemia)')\n",
    "sns.kdeplot(data=registry_after_2019_df, x='time_to_dci_infarction_days', color='blue', alpha=0.2, fill=True, common_norm=common_norm, label='DCI (infarction)')\n",
    "\n",
    "ax.set_xlabel('Days')\n",
    "ax.set_ylabel('Density')\n",
    "ax.set_title('Time to first detected CVS and DCI')\n",
    "\n",
    "# add legend\n",
    "ax.legend()\n"
   ]
  },
  {
   "cell_type": "code",
   "execution_count": null,
   "id": "faab88842a7b5aa2",
   "metadata": {
    "ExecuteTime": {
     "end_time": "2024-02-10T18:49:27.647104Z",
     "start_time": "2024-02-10T18:49:26.881647Z"
    }
   },
   "outputs": [],
   "source": [
    "n_bins = 20\n",
    "alpha = 0.35\n",
    "overlay_kde = True\n",
    "range = (0, 15)\n",
    "\n",
    "ax1 = sns.histplot(data=ct_timings_after_2019_df, x='time_to_ct_days', color='lightgrey', alpha=alpha, bins=n_bins, label='CT', kde=overlay_kde, binrange=range)\n",
    "\n",
    "ax2 = ax1.twinx()\n",
    "sns.histplot(data=registry_after_2019_df, x='time_to_cvs_days', color='turquoise', alpha=alpha, bins=n_bins, label='CVS', kde=overlay_kde, ax=ax2, binrange=range)\n",
    "sns.histplot(data=registry_after_2019_df, x='time_to_dci_ischemia_days', color='magenta', alpha=alpha, bins=n_bins, label='DCI (ischemia)', kde=overlay_kde, ax=ax2, binrange=range)\n",
    "sns.histplot(data=registry_after_2019_df, x='time_to_dci_infarction_days', color='blue', alpha=alpha, bins=n_bins, label='DCI (infarction)', kde=overlay_kde, ax=ax2, binrange=range)\n",
    "\n",
    "ax1.set_xlabel('Days')\n",
    "ax1.set_ylabel('Number of CTs')\n",
    "ax2.set_ylabel('Number of events')\n",
    "ax2.set_title('Time to first detected CVS and DCI')\n",
    "\n",
    "# add legend\n",
    "ax2.legend()\n",
    "# add legend for CT into legend of ax2\n",
    "handles, labels = ax1.get_legend_handles_labels()\n",
    "handles2, labels2 = ax2.get_legend_handles_labels()\n",
    "ax2.legend(handles + handles2, labels + labels2)\n",
    "\n",
    "# ax1 remove horizontal grid\n",
    "ax1.yaxis.grid(False)\n",
    "\n",
    "ax1.set_xlim(0, range[1])"
   ]
  },
  {
   "cell_type": "code",
   "execution_count": null,
   "id": "a7b192e97d45520",
   "metadata": {
    "ExecuteTime": {
     "end_time": "2024-02-09T18:46:17.788614Z",
     "start_time": "2024-02-09T18:46:17.577364Z"
    }
   },
   "outputs": [],
   "source": [
    "# plot box plots for time to CVS, DCI ischemia and DCI infarction\n",
    "palette = sns.color_palette(['turquoise', 'magenta', 'blue'])\n",
    "\n",
    "ax = sns.boxplot(data=registry_after_2019_df[['time_to_cvs_days', 'time_to_dci_ischemia_days', 'time_to_dci_infarction_days']], palette=palette, boxprops=dict(alpha=.6))\n",
    "ax.set_xticklabels(['CVS', 'DCI (ischemia)', 'DCI (infarction)'])\n",
    "ax.set_ylabel('Days')\n",
    "ax.set_title('Time to first detected CVS and DCI')\n"
   ]
  },
  {
   "cell_type": "markdown",
   "id": "edab3d2778a510f6",
   "metadata": {
    "collapsed": false
   },
   "source": [
    "## Test for bimodality\n",
    "\n",
    "dip test: measures multimodality in a sample by the maximum difference, over all sample points, between the empirical distribution function, and the unimodal distribution function that minimizes that maximum difference."
   ]
  },
  {
   "cell_type": "code",
   "execution_count": null,
   "id": "668f8ef2b4a90d93",
   "metadata": {
    "ExecuteTime": {
     "end_time": "2024-02-10T19:13:51.196521Z",
     "start_time": "2024-02-10T19:13:51.134279Z"
    }
   },
   "outputs": [],
   "source": [
    "import diptest"
   ]
  },
  {
   "cell_type": "code",
   "execution_count": null,
   "id": "2072a58ff3cc16d9",
   "metadata": {
    "ExecuteTime": {
     "end_time": "2024-02-10T19:14:09.042076Z",
     "start_time": "2024-02-10T19:14:09.021633Z"
    }
   },
   "outputs": [],
   "source": [
    "dip, pval = diptest.diptest(registry_after_2019_df['time_to_dci_ischemia_days'].dropna().values)\n",
    "dip, pval"
   ]
  },
  {
   "cell_type": "code",
   "execution_count": null,
   "id": "7ba9884dca6461fc",
   "metadata": {
    "ExecuteTime": {
     "end_time": "2024-02-10T19:14:19.342861Z",
     "start_time": "2024-02-10T19:14:19.295660Z"
    }
   },
   "outputs": [],
   "source": [
    "dip, pval = diptest.diptest(registry_after_2019_df['time_to_dci_infarction_days'].dropna().values)\n",
    "dip, pval"
   ]
  },
  {
   "cell_type": "code",
   "execution_count": null,
   "id": "c649156f9292c2eb",
   "metadata": {
    "ExecuteTime": {
     "end_time": "2024-02-10T19:14:49.844885Z",
     "start_time": "2024-02-10T19:14:49.801490Z"
    }
   },
   "outputs": [],
   "source": [
    "dip, pval = diptest.diptest(registry_after_2019_df['time_to_cvs_days'].dropna().values)\n",
    "dip, pval"
   ]
  },
  {
   "cell_type": "code",
   "execution_count": null,
   "id": "e26f79a38c8c109b",
   "metadata": {
    "ExecuteTime": {
     "end_time": "2024-02-10T19:15:13.413210Z",
     "start_time": "2024-02-10T19:15:13.359971Z"
    }
   },
   "outputs": [],
   "source": [
    "dip, pval = diptest.diptest(ct_timings_after_2019_df['time_to_ct_days'].dropna().values)\n",
    "dip, pval"
   ]
  },
  {
   "cell_type": "code",
   "execution_count": null,
   "id": "1439bb771f50c4b5",
   "metadata": {},
   "outputs": [],
   "source": []
  }
 ],
 "metadata": {
  "kernelspec": {
   "display_name": "Python 3",
   "language": "python",
   "name": "python3"
  },
  "language_info": {
   "codemirror_mode": {
    "name": "ipython",
    "version": 2
   },
   "file_extension": ".py",
   "mimetype": "text/x-python",
   "name": "python",
   "nbconvert_exporter": "python",
   "pygments_lexer": "ipython2",
   "version": "2.7.6"
  }
 },
 "nbformat": 4,
 "nbformat_minor": 5
}
