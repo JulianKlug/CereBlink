{
 "cells": [
  {
   "cell_type": "markdown",
   "id": "ee1c95d85337a680",
   "metadata": {
    "collapsed": false
   },
   "source": [
    "## Matching registry and pdms data"
   ]
  },
  {
   "cell_type": "code",
   "execution_count": null,
   "id": "initial_id",
   "metadata": {
    "ExecuteTime": {
     "end_time": "2024-03-07T18:08:52.464729Z",
     "start_time": "2024-03-07T18:08:52.455951Z"
    }
   },
   "outputs": [],
   "source": [
    "import pandas as pd\n",
    "import numpy as np\n",
    "import getpass\n",
    "import io\n",
    "import msoffcrypto"
   ]
  },
  {
   "cell_type": "code",
   "execution_count": null,
   "id": "300b6e8e10d296e9",
   "metadata": {
    "ExecuteTime": {
     "end_time": "2024-03-07T18:08:52.470436Z",
     "start_time": "2024-03-07T18:08:52.465352Z"
    }
   },
   "outputs": [],
   "source": [
    "sah_sos_data_path = '/Users/jk1/Library/CloudStorage/OneDrive-unige.ch/icu_research/dci_sah/data/sos_sah_data/post_hoc_modified_aSAH_DATA_2009_2023_24122023.xlsx'\n",
    "patient_id_link_data_path = '/Users/jk1/Library/CloudStorage/OneDrive-unige.ch/icu_research/dci_sah/data/pdms_data/Transfer Urs.pietsch@kssg.ch 22.01.24, 15_34/20240116_SAH_SOS_Patienten.csv'"
   ]
  },
  {
   "cell_type": "code",
   "execution_count": null,
   "id": "4631e3769456c4c2",
   "metadata": {
    "ExecuteTime": {
     "end_time": "2024-03-07T18:08:52.476499Z",
     "start_time": "2024-03-07T18:08:52.469255Z"
    }
   },
   "outputs": [],
   "source": [
    "output_dir = '/Users/jk1/Library/CloudStorage/OneDrive-unige.ch/icu_research/dci_sah/data/pdms_data'"
   ]
  },
  {
   "cell_type": "code",
   "execution_count": null,
   "id": "fc0b3ba9477e965a",
   "metadata": {
    "ExecuteTime": {
     "end_time": "2024-03-07T18:08:54.935585Z",
     "start_time": "2024-03-07T18:08:52.473881Z"
    }
   },
   "outputs": [],
   "source": [
    "password = getpass.getpass()"
   ]
  },
  {
   "cell_type": "code",
   "execution_count": null,
   "id": "34330cbc4db0540d",
   "metadata": {
    "ExecuteTime": {
     "end_time": "2024-03-07T18:08:55.157729Z",
     "start_time": "2024-03-07T18:08:54.911413Z"
    }
   },
   "outputs": [],
   "source": [
    "decrypted_workbook = io.BytesIO()\n",
    "with open(sah_sos_data_path, 'rb') as file:\n",
    "    office_file = msoffcrypto.OfficeFile(file)\n",
    "    office_file.load_key(password=password)\n",
    "    office_file.decrypt(decrypted_workbook)"
   ]
  },
  {
   "cell_type": "code",
   "execution_count": null,
   "id": "4dc6faabca403b13",
   "metadata": {
    "ExecuteTime": {
     "end_time": "2024-03-07T18:08:55.727946Z",
     "start_time": "2024-03-07T18:08:55.157653Z"
    }
   },
   "outputs": [],
   "source": [
    "registry_df = pd.read_excel(decrypted_workbook)\n",
    "registry_df.head()"
   ]
  },
  {
   "cell_type": "code",
   "execution_count": null,
   "id": "e19408729f7639db",
   "metadata": {
    "ExecuteTime": {
     "end_time": "2024-03-07T18:08:55.733217Z",
     "start_time": "2024-03-07T18:08:55.725595Z"
    }
   },
   "outputs": [],
   "source": [
    "patient_id_link_df = pd.read_csv(patient_id_link_data_path, sep=';', decimal='.')"
   ]
  },
  {
   "cell_type": "code",
   "execution_count": null,
   "id": "4e1a486b9ec975d2",
   "metadata": {
    "ExecuteTime": {
     "end_time": "2024-03-07T19:04:24.549131Z",
     "start_time": "2024-03-07T19:04:24.531039Z"
    }
   },
   "outputs": [],
   "source": [
    "# Joining registry and pdms data\n",
    "registry_df['Date_birth'] = pd.to_datetime(registry_df['Date_birth'], format='%d.%m.%Y')\n",
    "registry_df['Date_admission'] = pd.to_datetime(registry_df['Date_admission'], format='%d.%m.%Y')\n",
    "registry_df.rename(columns={'Name': 'JoinedName'}, inplace=True)\n",
    "\n",
    "patient_id_link_df['GebDatum'] = pd.to_datetime(patient_id_link_df['GebDatum'], format='%Y-%m-%d')\n",
    "patient_id_link_df['Eintritt'] = pd.to_datetime(patient_id_link_df['Eintritt'], format='%Y-%m-%d')\n",
    "\n",
    "# join patient id link on registry by (first: dob, then admission date)\n",
    "# joined_registry_df = registry_df.merge(patient_id_link_df, how='left', left_on=['Date_birth', 'Date_admission'],\n",
    "#                                        right_on=['GebDatum', 'Eintritt'])\n",
    "joined_registry_df = registry_df.merge(patient_id_link_df, how='left', left_on=['Date_birth'],\n",
    "                                       right_on=['GebDatum'])\n",
    "joined_registry_df['delta_admission'] = ((joined_registry_df['Date_admission'] - joined_registry_df['Eintritt']).dt.total_seconds() / (60 * 60 * 24)).abs()\n",
    "# restrict to patients with admission date within 2 day of each other\n",
    "joined_registry_df = joined_registry_df[(joined_registry_df['delta_admission'] <= 2) | (joined_registry_df['delta_admission'].isnull())]\n"
   ]
  },
  {
   "cell_type": "code",
   "execution_count": null,
   "id": "b953719b60bbad",
   "metadata": {
    "ExecuteTime": {
     "end_time": "2024-03-07T19:04:25.289522Z",
     "start_time": "2024-03-07T19:04:25.279830Z"
    }
   },
   "outputs": [],
   "source": [
    "joined_registry_df[['JoinedName', 'Name', 'Vorname', 'Date_birth', 'Date_admission', 'GebDatum', 'Eintritt', 'delta_admission']]"
   ]
  },
  {
   "cell_type": "code",
   "execution_count": null,
   "id": "63578164dfd1fa82",
   "metadata": {
    "ExecuteTime": {
     "end_time": "2024-03-07T19:07:34.348307Z",
     "start_time": "2024-03-07T19:07:34.327106Z"
    }
   },
   "outputs": [],
   "source": [
    "# check that joinedName contains Name if name is not null\n",
    "joined_registry_df['name_verification'] = joined_registry_df.apply(\n",
    "    lambda x: x['Name'] in x['JoinedName'] if pd.notnull(x['Name']) else True, axis=1)"
   ]
  },
  {
   "cell_type": "code",
   "execution_count": null,
   "id": "4edeabfb09d60de9",
   "metadata": {
    "ExecuteTime": {
     "end_time": "2024-03-07T19:07:34.806724Z",
     "start_time": "2024-03-07T19:07:34.784154Z"
    }
   },
   "outputs": [],
   "source": [
    "# Proceed with manual verification of the remaining patients with non matching names\n",
    "joined_registry_df[joined_registry_df.name_verification == False][\n",
    "    ['JoinedName', 'Name', 'Vorname', 'name_verification', 'Date_birth', 'Date_admission', 'GebDatum', 'Eintritt']]"
   ]
  },
  {
   "cell_type": "markdown",
   "id": "b8bcfa51765ba349",
   "metadata": {
    "collapsed": false
   },
   "source": [
    "##### try to find remaining patients where admission date does not match exactly"
   ]
  },
  {
   "cell_type": "code",
   "execution_count": null,
   "id": "eca82e3d5b69259b",
   "metadata": {
    "ExecuteTime": {
     "end_time": "2024-03-07T19:07:48.442045Z",
     "start_time": "2024-03-07T19:07:48.255954Z"
    }
   },
   "outputs": [],
   "source": [
    "# for all rows with nan in pNr, check if there is a patient with the same dob and admission year in the pdms data\n",
    "\n",
    "for index, row in joined_registry_df.iterrows():\n",
    "    if pd.notnull(row['pNr']):\n",
    "        continue\n",
    "    dob = row['Date_birth']\n",
    "    year = row['Year']\n",
    "    name = row['JoinedName']\n",
    "    \n",
    "    potential_match_df = patient_id_link_df[(patient_id_link_df['GebDatum'] == dob) & (patient_id_link_df['Eintritt'].dt.year == year)]\n",
    "    \n",
    "    if potential_match_df.shape[0] > 0 and potential_match_df['Name'].values[0] in name:\n",
    "        joined_registry_df.at[index, 'pNr'] = potential_match_df['pNr'].values[0]\n",
    "        print(f'Found match for {name} with pNr {row[\"pNr\"]}')\n",
    "    \n"
   ]
  },
  {
   "cell_type": "markdown",
   "id": "9952d6e89344fb1",
   "metadata": {
    "collapsed": false
   },
   "source": [
    "## Remaining unmatched patients\n",
    "\n",
    "patients in SOS db but not found in PDMS db"
   ]
  },
  {
   "cell_type": "code",
   "execution_count": null,
   "id": "696e6119b3d1bc72",
   "metadata": {
    "ExecuteTime": {
     "end_time": "2024-03-07T19:08:00.099064Z",
     "start_time": "2024-03-07T19:08:00.083359Z"
    }
   },
   "outputs": [],
   "source": [
    "joined_registry_df[(joined_registry_df['pNr'].isnull())]['Year'].value_counts()"
   ]
  },
  {
   "cell_type": "code",
   "execution_count": null,
   "id": "b1fc31c342825afe",
   "metadata": {
    "ExecuteTime": {
     "end_time": "2024-03-07T19:08:02.684767Z",
     "start_time": "2024-03-07T19:08:02.654194Z"
    }
   },
   "outputs": [],
   "source": [
    "joined_registry_df[(joined_registry_df['pNr'].isnull()) & (joined_registry_df['Year'] >= 2019)][\n",
    "    ['JoinedName', 'Name', 'Vorname', 'Date_birth', 'Date_admission', 'DCI_YN']]"
   ]
  },
  {
   "cell_type": "markdown",
   "id": "4c1cf5c71e62408a",
   "metadata": {
    "collapsed": false
   },
   "source": [
    "### Save correspondence file"
   ]
  },
  {
   "cell_type": "code",
   "execution_count": null,
   "id": "bf3c2ecab61e36ea",
   "metadata": {
    "ExecuteTime": {
     "end_time": "2024-03-07T19:08:07.984092Z",
     "start_time": "2024-03-07T19:08:07.979961Z"
    }
   },
   "outputs": [],
   "source": [
    "registry_pdms_correspondence_df = joined_registry_df[\n",
    "    ['SOS-CENTER-YEAR-NO.', 'JoinedName', 'Date_birth', 'pNr']]\n",
    "registry_pdms_correspondence_df.rename(columns={'JoinedName.': 'sos_name'}, inplace=True)"
   ]
  },
  {
   "cell_type": "code",
   "execution_count": null,
   "id": "94d0f6cedeb687f0",
   "metadata": {
    "ExecuteTime": {
     "end_time": "2024-03-07T19:08:16.408359Z",
     "start_time": "2024-03-07T19:08:16.383155Z"
    }
   },
   "outputs": [],
   "source": [
    "# registry_pdms_correspondence_df.to_csv(f'{output_dir}/registry_pdms_correspondence.csv', index=False)"
   ]
  },
  {
   "cell_type": "code",
   "execution_count": null,
   "id": "cd412554ab4beacc",
   "metadata": {
    "ExecuteTime": {
     "end_time": "2024-03-07T19:08:19.817845Z",
     "start_time": "2024-03-07T19:08:19.789286Z"
    }
   },
   "outputs": [],
   "source": [
    "missing_patients_df = joined_registry_df[(joined_registry_df['pNr'].isnull())][\n",
    "    ['SOS-CENTER-YEAR-NO.', 'JoinedName', 'Date_birth', 'Date_admission', 'Year', 'Date_discharge_ICU', 'DCI_YN']]\n",
    "missing_patients_df.head()"
   ]
  },
  {
   "cell_type": "code",
   "execution_count": null,
   "id": "e04b7eb63785f9c2",
   "metadata": {
    "ExecuteTime": {
     "end_time": "2024-03-07T19:08:20.897411Z",
     "start_time": "2024-03-07T19:08:20.882737Z"
    }
   },
   "outputs": [],
   "source": [
    "# save missing_patients_df\n",
    "# allow for umlaute in encoding\n",
    "missing_patients_df.to_csv(f'{output_dir}/missing_patients_in_pdms_data.csv', index=False, encoding='utf-8-sig')"
   ]
  },
  {
   "cell_type": "code",
   "execution_count": null,
   "id": "3691249af2db9fd2",
   "metadata": {},
   "outputs": [],
   "source": []
  }
 ],
 "metadata": {
  "kernelspec": {
   "display_name": "Python 3",
   "language": "python",
   "name": "python3"
  },
  "language_info": {
   "codemirror_mode": {
    "name": "ipython",
    "version": 2
   },
   "file_extension": ".py",
   "mimetype": "text/x-python",
   "name": "python",
   "nbconvert_exporter": "python",
   "pygments_lexer": "ipython2",
   "version": "2.7.6"
  }
 },
 "nbformat": 4,
 "nbformat_minor": 5
}
