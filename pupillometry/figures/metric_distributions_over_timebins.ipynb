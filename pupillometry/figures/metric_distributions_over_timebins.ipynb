{
 "cells": [
  {
   "cell_type": "code",
   "execution_count": null,
   "id": "initial_id",
   "metadata": {
    "ExecuteTime": {
     "end_time": "2024-03-09T14:05:58.724826Z",
     "start_time": "2024-03-09T14:05:58.460463Z"
    }
   },
   "outputs": [],
   "source": [
    "import os\n",
    "import numpy as np\n",
    "import re\n",
    "from statannotations.Annotator import Annotator\n",
    "import pandas as pd\n",
    "import matplotlib.pyplot as plt\n",
    "import seaborn as sns"
   ]
  },
  {
   "cell_type": "code",
   "execution_count": null,
   "id": "b5c1b564d4397246",
   "metadata": {
    "ExecuteTime": {
     "end_time": "2024-03-09T14:05:59.177007Z",
     "start_time": "2024-03-09T14:05:58.825598Z"
    }
   },
   "outputs": [],
   "source": [
    "assert int(pd.__version__[0]) < 2, 'Please < 2 required for statannotations'"
   ]
  },
  {
   "cell_type": "code",
   "execution_count": null,
   "id": "c46d6fbd4290198a",
   "metadata": {
    "ExecuteTime": {
     "end_time": "2024-03-09T14:13:53.421718Z",
     "start_time": "2024-03-09T14:13:53.417212Z"
    }
   },
   "outputs": [],
   "source": [
    "data_dir = '/Users/jk1/Downloads/data_saving/exclude_nan_outcome_False'\n",
    "pvals_dir = '/Users/jk1/Downloads/data_saving/exclude_nan_outcome_False'\n",
    "output_dir = '/Users/jk1/Downloads/data_saving'"
   ]
  },
  {
   "cell_type": "markdown",
   "id": "5e9d9ed10fb2b03e",
   "metadata": {
    "collapsed": false
   },
   "source": [
    "# Load pupillometry data"
   ]
  },
  {
   "cell_type": "code",
   "execution_count": null,
   "id": "e7f8022b40394470",
   "metadata": {
    "ExecuteTime": {
     "end_time": "2024-03-09T14:06:00.635358Z",
     "start_time": "2024-03-09T14:05:59.368373Z"
    }
   },
   "outputs": [],
   "source": [
    "data_filenames = [f for f in os.listdir(data_dir) if f.endswith('.csv') and 'timebin' in f and 'reassembled_pupillometry' in f]\n",
    "\n",
    "pupillometry_df = pd.DataFrame()\n",
    "for data_filename in data_filenames:\n",
    "    # find timebin size with regex identifying pattern : _xh_\n",
    "    timebin_size = int(re.search(r'_(\\d+)h_', data_filename).group(1))\n",
    "    data_is_normalized = int(('normalized' in data_filename) or ('normalised' in data_filename))\n",
    "    outcome = '_'.join(data_filename.split('_')[0:2])\n",
    "\n",
    "    df = pd.read_csv(os.path.join(data_dir, data_filename))\n",
    "    df['timebin_size'] = timebin_size\n",
    "    df['normalized'] = data_is_normalized\n",
    "    df['outcome'] = outcome\n",
    "    pupillometry_df = pd.concat([pupillometry_df, df], axis=0)\n",
    "    \n",
    "pupillometry_df = pupillometry_df.reset_index(drop=True)"
   ]
  },
  {
   "cell_type": "code",
   "execution_count": null,
   "id": "4cf54031de900a2",
   "metadata": {
    "ExecuteTime": {
     "end_time": "2024-03-09T14:06:00.817491Z",
     "start_time": "2024-03-09T14:06:00.570263Z"
    }
   },
   "outputs": [],
   "source": [
    "pupillometry_df.head()"
   ]
  },
  {
   "cell_type": "markdown",
   "id": "ecb8733d994cc769",
   "metadata": {
    "collapsed": false
   },
   "source": [
    "# Load p-values"
   ]
  },
  {
   "cell_type": "code",
   "execution_count": null,
   "id": "dded125e32d41446",
   "metadata": {
    "ExecuteTime": {
     "end_time": "2024-03-09T14:06:00.926659Z",
     "start_time": "2024-03-09T14:06:00.609903Z"
    }
   },
   "outputs": [],
   "source": [
    "pvals_filenames = [f for f in os.listdir(pvals_dir) if f.endswith('.csv') and 'pvals' in f]\n",
    "\n",
    "pvals_df = pd.DataFrame()\n",
    "for pvals_filename in pvals_filenames:\n",
    "    # find timebin size with regex identifying pattern : _xh_\n",
    "    timebin_size = int(re.search(r'_(\\d+)h_', pvals_filename).group(1))\n",
    "    data_is_normalized = int(('normalized' in pvals_filename) or ('normalised' in pvals_filename))\n",
    "    using_span = int(('with_span' in pvals_filename))\n",
    "    outcome = '_'.join(pvals_filename.split('_')[0:2])\n",
    "\n",
    "    df = pd.read_csv(os.path.join(pvals_dir, pvals_filename), index_col=0)\n",
    "    df.reset_index(inplace=True)\n",
    "    df.rename(columns={'index': 'metric'}, inplace=True)\n",
    "    df['timebin_size'] = timebin_size\n",
    "    df['normalized'] = data_is_normalized\n",
    "    df['using_span'] = using_span\n",
    "    df['outcome'] = outcome\n",
    "    pvals_df = pd.concat([pvals_df, df], axis=0)\n",
    "    \n",
    "pvals_df = pvals_df[pvals_df['using_span'] == 0]"
   ]
  },
  {
   "cell_type": "markdown",
   "id": "cc1f685654f84cfd",
   "metadata": {
    "collapsed": false
   },
   "source": [
    "# Plot pupillometry data"
   ]
  },
  {
   "cell_type": "code",
   "execution_count": null,
   "id": "56d1388003c615ea",
   "metadata": {
    "ExecuteTime": {
     "end_time": "2024-03-09T14:06:01.065534Z",
     "start_time": "2024-03-09T14:06:00.744114Z"
    }
   },
   "outputs": [],
   "source": [
    "pupillometry_metrics = ['NPI', 'CV']\n",
    "inter_eye_metrics = ['mean', 'min', 'max', 'delta']\n",
    "# combine to get all metrics\n",
    "single_timepoint_metrics = [f'{metric}_inter_eye_{metric_type}' for metric in pupillometry_metrics for metric_type in\n",
    "                            inter_eye_metrics]\n",
    "over_time_metrics = ['max', 'min', 'median']\n",
    "# combine to get all metrics\n",
    "timebin_metrics = [f'{metric}_timebin_{metric_type}' for metric in single_timepoint_metrics for metric_type in\n",
    "                   over_time_metrics]"
   ]
  },
  {
   "cell_type": "code",
   "execution_count": null,
   "id": "877aa7f80f097cd9",
   "metadata": {
    "ExecuteTime": {
     "end_time": "2024-03-09T14:06:01.126805Z",
     "start_time": "2024-03-09T14:06:00.761729Z"
    }
   },
   "outputs": [],
   "source": [
    "def plot_metric_distributions_over_timebins(df, over_time_metrics, timebin_metrics, plot_type='box', pvals=None, pval_method='adjusted_pval'):\n",
    "    n_columns = len(over_time_metrics)\n",
    "    n_rows = int(np.ceil(len(timebin_metrics) / n_columns))\n",
    "        \n",
    "    fig, axes = plt.subplots(n_rows, n_columns, figsize=(20, 60))\n",
    "    \n",
    "    for i, metric in enumerate(timebin_metrics):\n",
    "        plot_params = {\n",
    "                'data': df,\n",
    "                'x': 'timebin_size',\n",
    "                'y': metric,\n",
    "                'hue': 'label',\n",
    "                'palette': 'pastel'\n",
    "            }\n",
    "        if plot_type == 'violin':\n",
    "            plot_params['split'] = True\n",
    "            plot_params['gap'] = 0.1\n",
    "            sns.violinplot(**plot_params, ax=axes[i // n_columns, i % n_columns])\n",
    "        elif plot_type == 'box':\n",
    "            plot_params['showfliers'] = False\n",
    "            sns.boxplot(**plot_params, ax=axes[i // n_columns, i % n_columns])\n",
    "        else:\n",
    "            print('plot type not recognized')\n",
    "        axes[i // n_columns, i % n_columns].set_title(metric)\n",
    "        axes[i // n_columns, i % n_columns].set_ylabel(metric)\n",
    "        axes[i // n_columns, i % n_columns].set_ylabel('')\n",
    "        axes[i // n_columns, i % n_columns].legend(title='DCI', loc='upper right')\n",
    "        \n",
    "        if pvals is not None:\n",
    "            pvals_metric = pvals[pvals['metric'] == metric]\n",
    "            pvals_metric = pvals_metric.sort_values(by='timebin_size')\n",
    "\n",
    "            timebin_values = pvals_metric['timebin_size'].unique()\n",
    "            # use statannotations to display p-values\n",
    "            pairs = (\n",
    "                [(timebin_values[0], 0), (timebin_values[0], 1)],\n",
    "                [(timebin_values[1], 0), (timebin_values[1], 1)],\n",
    "                [(timebin_values[2], 0), (timebin_values[2], 1)],\n",
    "                [(timebin_values[3], 0), (timebin_values[3], 1)],\n",
    "            )\n",
    "            \n",
    "            # Add annotations\n",
    "            annotator = Annotator(axes[i // n_columns, i % n_columns], pairs, **plot_params, verbose=False)\n",
    "            annotator.set_pvalues(pvals_metric[pval_method].values)\n",
    "            annotator.annotate()\n",
    "        \n",
    "    return fig, axes"
   ]
  },
  {
   "cell_type": "markdown",
   "id": "75d4a088ca7107a",
   "metadata": {
    "collapsed": false
   },
   "source": [
    "DCI ischemia"
   ]
  },
  {
   "cell_type": "code",
   "execution_count": null,
   "id": "1f7a9dc44d1432be",
   "metadata": {
    "ExecuteTime": {
     "end_time": "2024-03-09T14:27:34.944819Z",
     "start_time": "2024-03-09T14:25:34.386658Z"
    }
   },
   "outputs": [],
   "source": [
    "target = 'DCI_ischemia'\n",
    "fig1, axes = plot_metric_distributions_over_timebins(pupillometry_df[(pupillometry_df['normalized'] == 0) \n",
    "                                                    & (pupillometry_df['outcome'] == target)], over_time_metrics, timebin_metrics, plot_type='box',\n",
    "                                                    pvals=pvals_df[(pvals_df['normalized'] == 0) & (pvals_df['outcome'] == target)])\n",
    "fig1.suptitle(f'{target}: Pupillometry metrics over timebins (not normalized)', fontsize=16, y=0.9)"
   ]
  },
  {
   "cell_type": "code",
   "execution_count": null,
   "id": "da8e4ba2144d98c5",
   "metadata": {
    "ExecuteTime": {
     "end_time": "2024-03-09T14:27:38.603952Z",
     "start_time": "2024-03-09T14:27:35.445930Z"
    }
   },
   "outputs": [],
   "source": [
    "# fig1.savefig(os.path.join(output_dir, f'{target}_pupillometry_metrics_over_timebins_not_normalized.tiff'), format='tiff', dpi=300)"
   ]
  },
  {
   "cell_type": "code",
   "execution_count": null,
   "id": "7668e213473d7af1",
   "metadata": {
    "ExecuteTime": {
     "end_time": "2024-03-09T14:29:39.515177Z",
     "start_time": "2024-03-09T14:27:38.615437Z"
    }
   },
   "outputs": [],
   "source": [
    "target = 'DCI_ischemia'\n",
    "fig2, axes = plot_metric_distributions_over_timebins(pupillometry_df[(pupillometry_df['normalized'] == 1)\n",
    "                                                    & (pupillometry_df['outcome'] == target)], over_time_metrics, timebin_metrics, plot_type='box',\n",
    "                                                    pvals=pvals_df[(pvals_df['normalized'] == 1) & (pvals_df['outcome'] == target)])\n",
    "fig2.suptitle(f'{target}: Pupillometry metrics over timebins (normalized)', fontsize=16, y=0.9)"
   ]
  },
  {
   "cell_type": "code",
   "execution_count": null,
   "id": "37cef2d82d2a2c4c",
   "metadata": {
    "ExecuteTime": {
     "end_time": "2024-03-09T14:29:43.327058Z",
     "start_time": "2024-03-09T14:29:39.991574Z"
    }
   },
   "outputs": [],
   "source": [
    "# fig2.savefig(os.path.join(output_dir, f'{target}_pupillometry_metrics_over_timebins_normalized.tiff'), format='tiff', dpi=300)"
   ]
  },
  {
   "cell_type": "markdown",
   "id": "10a3eb4fa32c7f63",
   "metadata": {
    "collapsed": false
   },
   "source": [
    "DCI infarct"
   ]
  },
  {
   "cell_type": "code",
   "execution_count": null,
   "id": "aecc5285d37894f9",
   "metadata": {
    "ExecuteTime": {
     "end_time": "2024-03-09T14:31:45.338236Z",
     "start_time": "2024-03-09T14:29:43.337318Z"
    }
   },
   "outputs": [],
   "source": [
    "target = 'DCI_infarct'\n",
    "fig3, axes = plot_metric_distributions_over_timebins(pupillometry_df[(pupillometry_df['normalized'] == 0) \n",
    "                                                    & (pupillometry_df['outcome'] == target)], over_time_metrics, timebin_metrics, plot_type='box',\n",
    "                                                    pvals=pvals_df[(pvals_df['normalized'] == 0) & (pvals_df['outcome'] == target)])\n",
    "fig3.suptitle(f'{target}: Pupillometry metrics over timebins (not normalized)', fontsize=16, y=0.9)"
   ]
  },
  {
   "cell_type": "code",
   "execution_count": null,
   "id": "9643862e5d00ef2b",
   "metadata": {
    "ExecuteTime": {
     "end_time": "2024-03-09T14:31:49.106503Z",
     "start_time": "2024-03-09T14:31:45.806726Z"
    }
   },
   "outputs": [],
   "source": [
    "# fig3.savefig(os.path.join(output_dir, f'{target}_pupillometry_metrics_over_timebins_not_normalized.tiff'), format='tiff', dpi=300)"
   ]
  },
  {
   "cell_type": "code",
   "execution_count": null,
   "id": "fe062b46f6f3dfa3",
   "metadata": {
    "ExecuteTime": {
     "end_time": "2024-03-09T14:33:45.368579Z",
     "start_time": "2024-03-09T14:31:49.096320Z"
    }
   },
   "outputs": [],
   "source": [
    "target = 'DCI_infarct'\n",
    "fig4, axes = plot_metric_distributions_over_timebins(pupillometry_df[(pupillometry_df['normalized'] == 1)\n",
    "                                                    & (pupillometry_df['outcome'] == target)], over_time_metrics, timebin_metrics, plot_type='box',\n",
    "                                                    pvals=pvals_df[(pvals_df['normalized'] == 1) & (pvals_df['outcome'] == target)])\n",
    "fig4.suptitle(f'{target}: Pupillometry metrics over timebins (normalized)', fontsize=16, y=0.9)"
   ]
  },
  {
   "cell_type": "code",
   "execution_count": null,
   "id": "b0fe30a3277c523b",
   "metadata": {
    "ExecuteTime": {
     "end_time": "2024-03-09T14:33:48.992126Z",
     "start_time": "2024-03-09T14:33:45.749051Z"
    }
   },
   "outputs": [],
   "source": [
    "# fig4.savefig(os.path.join(output_dir, f'{target}_pupillometry_metrics_over_timebins_normalized.tiff'), format='tiff', dpi=300)"
   ]
  },
  {
   "cell_type": "markdown",
   "id": "74bc03a982f05a54",
   "metadata": {
    "collapsed": false
   },
   "source": [
    "Decompose figure into NPI and CV"
   ]
  },
  {
   "cell_type": "code",
   "execution_count": null,
   "id": "1297904d9614c0eb",
   "metadata": {
    "ExecuteTime": {
     "end_time": "2024-03-09T14:25:34.373601Z",
     "start_time": "2024-03-09T14:20:47.636358Z"
    }
   },
   "outputs": [],
   "source": [
    "for target in ['DCI_ischemia', 'DCI_infarct']:\n",
    "    for metric in ['NPI', 'CV']:\n",
    "        selected_timebin_metrics = [m for m in timebin_metrics if metric in m]\n",
    "        fig, axes = plot_metric_distributions_over_timebins(pupillometry_df[(pupillometry_df['normalized'] == 0) \n",
    "                                                        & (pupillometry_df['outcome'] == target)], over_time_metrics, selected_timebin_metrics, plot_type='box',\n",
    "                                                        pvals=pvals_df[(pvals_df['normalized'] == 0) & (pvals_df['outcome'] == target)])\n",
    "        fig.suptitle(f'{target}: Pupillometry {metric} over timebins (not normalized)', fontsize=16, y=0.9)\n",
    "        # adjust figsize 20, 40\n",
    "        fig.set_size_inches(20, 40)\n",
    "        fig.savefig(os.path.join(output_dir, f'{target}_{metric}_pupillometry_metrics_over_timebins_not_normalized.tiff'), format='tiff', dpi=300)\n",
    "        \n",
    "        fig, axes = plot_metric_distributions_over_timebins(pupillometry_df[(pupillometry_df['normalized'] == 1)\n",
    "                                                        & (pupillometry_df['outcome'] == target)], over_time_metrics, selected_timebin_metrics, plot_type='box',\n",
    "                                                        pvals=pvals_df[(pvals_df['normalized'] == 1) & (pvals_df['outcome'] == target)])\n",
    "        fig.suptitle(f'{target}: Pupillometry {metric} over timebins (normalized)', fontsize=16, y=0.9)\n",
    "        fig.set_size_inches(20, 40)\n",
    "        fig.savefig(os.path.join(output_dir, f'{target}_{metric}_pupillometry_metrics_over_timebins_normalized.tiff'), format='tiff', dpi=300)\n"
   ]
  },
  {
   "cell_type": "code",
   "execution_count": null,
   "id": "60fe3a2018f06f6a",
   "metadata": {},
   "outputs": [],
   "source": []
  }
 ],
 "metadata": {
  "kernelspec": {
   "display_name": "Python 3",
   "language": "python",
   "name": "python3"
  },
  "language_info": {
   "codemirror_mode": {
    "name": "ipython",
    "version": 2
   },
   "file_extension": ".py",
   "mimetype": "text/x-python",
   "name": "python",
   "nbconvert_exporter": "python",
   "pygments_lexer": "ipython2",
   "version": "2.7.6"
  }
 },
 "nbformat": 4,
 "nbformat_minor": 5
}
