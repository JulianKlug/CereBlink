{
 "cells": [
  {
   "cell_type": "code",
   "execution_count": null,
   "id": "initial_id",
   "metadata": {
    "ExecuteTime": {
     "end_time": "2024-03-28T19:52:54.904454Z",
     "start_time": "2024-03-28T19:52:54.900884Z"
    }
   },
   "outputs": [],
   "source": [
    "import os\n",
    "import numpy as np\n",
    "import re\n",
    "from statannotations.Annotator import Annotator\n",
    "import pandas as pd\n",
    "import matplotlib.pyplot as plt\n",
    "import matplotlib\n",
    "import seaborn as sns"
   ]
  },
  {
   "cell_type": "code",
   "execution_count": null,
   "id": "b5c1b564d4397246",
   "metadata": {
    "ExecuteTime": {
     "end_time": "2024-03-28T19:52:55.184025Z",
     "start_time": "2024-03-28T19:52:55.180712Z"
    }
   },
   "outputs": [],
   "source": [
    "assert int(pd.__version__[0]) < 2, 'Please < 2 required for statannotations'"
   ]
  },
  {
   "cell_type": "code",
   "execution_count": null,
   "id": "c46d6fbd4290198a",
   "metadata": {
    "ExecuteTime": {
     "end_time": "2024-03-28T19:53:07.122669Z",
     "start_time": "2024-03-28T19:53:07.119381Z"
    }
   },
   "outputs": [],
   "source": [
    "data_dir = '/Users/jk1/temp/cereblink/data_saving/exclude_nan_outcome_False'\n",
    "pvals_dir = '/Users/jk1/temp/cereblink/data_saving/exclude_nan_outcome_False'\n",
    "output_dir = '/Users/jk1/Downloads'"
   ]
  },
  {
   "cell_type": "markdown",
   "id": "5e9d9ed10fb2b03e",
   "metadata": {
    "collapsed": false
   },
   "source": [
    "# Load pupillometry data"
   ]
  },
  {
   "cell_type": "code",
   "execution_count": null,
   "id": "e7f8022b40394470",
   "metadata": {
    "ExecuteTime": {
     "end_time": "2024-03-28T19:53:09.057311Z",
     "start_time": "2024-03-28T19:53:08.371748Z"
    }
   },
   "outputs": [],
   "source": [
    "data_filenames = [f for f in os.listdir(data_dir) if f.endswith('.csv') and 'timebin' in f and 'reassembled_pupillometry' in f]\n",
    "\n",
    "pupillometry_df = pd.DataFrame()\n",
    "for data_filename in data_filenames:\n",
    "    # find timebin size with regex identifying pattern : _xh_\n",
    "    timebin_size = int(re.search(r'_(\\d+)h_', data_filename).group(1))\n",
    "    data_is_normalized = int(('normalized' in data_filename) or ('normalised' in data_filename))\n",
    "    outcome = '_'.join(data_filename.split('_')[0:2])\n",
    "\n",
    "    df = pd.read_csv(os.path.join(data_dir, data_filename))\n",
    "    df['timebin_size'] = timebin_size\n",
    "    df['normalized'] = data_is_normalized\n",
    "    df['outcome'] = outcome\n",
    "    pupillometry_df = pd.concat([pupillometry_df, df], axis=0)\n",
    "    \n",
    "pupillometry_df = pupillometry_df.reset_index(drop=True)"
   ]
  },
  {
   "cell_type": "code",
   "execution_count": null,
   "id": "4cf54031de900a2",
   "metadata": {
    "ExecuteTime": {
     "end_time": "2024-03-28T19:53:09.085149Z",
     "start_time": "2024-03-28T19:53:09.059652Z"
    }
   },
   "outputs": [],
   "source": [
    "pupillometry_df.head()"
   ]
  },
  {
   "cell_type": "markdown",
   "id": "ecb8733d994cc769",
   "metadata": {
    "collapsed": false
   },
   "source": [
    "# Load p-values"
   ]
  },
  {
   "cell_type": "code",
   "execution_count": null,
   "id": "dded125e32d41446",
   "metadata": {
    "ExecuteTime": {
     "end_time": "2024-03-28T19:53:10.002816Z",
     "start_time": "2024-03-28T19:53:09.927621Z"
    }
   },
   "outputs": [],
   "source": [
    "pvals_filenames = [f for f in os.listdir(pvals_dir) if f.endswith('.csv') and 'pvals' in f]\n",
    "\n",
    "pvals_df = pd.DataFrame()\n",
    "for pvals_filename in pvals_filenames:\n",
    "    # find timebin size with regex identifying pattern : _xh_\n",
    "    timebin_size = int(re.search(r'_(\\d+)h_', pvals_filename).group(1))\n",
    "    data_is_normalized = int(('normalized' in pvals_filename) or ('normalised' in pvals_filename))\n",
    "    using_span = int(('with_span' in pvals_filename))\n",
    "    outcome = '_'.join(pvals_filename.split('_')[0:2])\n",
    "\n",
    "    df = pd.read_csv(os.path.join(pvals_dir, pvals_filename), index_col=0)\n",
    "    df.reset_index(inplace=True)\n",
    "    df.rename(columns={'index': 'metric'}, inplace=True)\n",
    "    df['timebin_size'] = timebin_size\n",
    "    df['normalized'] = data_is_normalized\n",
    "    df['using_span'] = using_span\n",
    "    df['outcome'] = outcome\n",
    "    pvals_df = pd.concat([pvals_df, df], axis=0)\n",
    "    \n",
    "pvals_df = pvals_df[pvals_df['using_span'] == 0]"
   ]
  },
  {
   "cell_type": "markdown",
   "id": "cc1f685654f84cfd",
   "metadata": {
    "collapsed": false
   },
   "source": [
    "# Plot pupillometry data"
   ]
  },
  {
   "cell_type": "code",
   "execution_count": null,
   "id": "cd4ed4a16e0e7641",
   "metadata": {
    "ExecuteTime": {
     "end_time": "2024-03-28T19:53:11.084914Z",
     "start_time": "2024-03-28T19:53:11.079107Z"
    }
   },
   "outputs": [],
   "source": [
    "all_colors_palette = sns.color_palette(['#f61067', '#049b9a', '#012D98', '#a76dfe', '#FFA987', '#E2FDFF'], n_colors=6)\n",
    "all_colors_palette"
   ]
  },
  {
   "cell_type": "code",
   "execution_count": null,
   "id": "8e8bb0b6c27809c8",
   "metadata": {
    "ExecuteTime": {
     "end_time": "2024-03-28T19:53:11.339265Z",
     "start_time": "2024-03-28T19:53:11.333938Z"
    }
   },
   "outputs": [],
   "source": [
    "selected_colors_palette = sns.color_palette(['#FFA987', '#049b9a'], n_colors=2)\n",
    "selected_colors_palette"
   ]
  },
  {
   "cell_type": "code",
   "execution_count": null,
   "id": "56d1388003c615ea",
   "metadata": {
    "ExecuteTime": {
     "end_time": "2024-03-28T19:53:14.890439Z",
     "start_time": "2024-03-28T19:53:14.885991Z"
    }
   },
   "outputs": [],
   "source": [
    "pupillometry_metrics = ['NPI', 'CV']\n",
    "inter_eye_metrics = ['mean', 'min', 'max', 'delta']\n",
    "# combine to get all metrics\n",
    "single_timepoint_metrics = [f'{metric}_inter_eye_{metric_type}' for metric in pupillometry_metrics for metric_type in\n",
    "                            inter_eye_metrics]\n",
    "over_time_metrics = ['max', 'min', 'median']\n",
    "# combine to get all metrics\n",
    "timebin_metrics = [f'{metric}_timebin_{metric_type}' for metric in single_timepoint_metrics for metric_type in\n",
    "                   over_time_metrics]"
   ]
  },
  {
   "cell_type": "code",
   "execution_count": null,
   "id": "877aa7f80f097cd9",
   "metadata": {
    "ExecuteTime": {
     "end_time": "2024-03-28T19:53:16.567120Z",
     "start_time": "2024-03-28T19:53:16.553640Z"
    }
   },
   "outputs": [],
   "source": [
    "def plot_metric_distributions_over_timebins(df, over_time_metrics, timebin_metrics, plot_type='box', pvals=None, pval_method='adjusted_pval', alpha=0.5, \n",
    "                                            plot_legend = True, tick_label_size = 11,\n",
    "                                            label_font_size = 13, fig=None):\n",
    "    n_columns = len(over_time_metrics)\n",
    "    n_rows = int(np.ceil(len(timebin_metrics) / n_columns))\n",
    "        \n",
    "    if fig is None:\n",
    "        fig, axes = plt.subplots(n_rows, n_columns, figsize=(n_columns * 20/3, n_rows * 60/8))\n",
    "    else:\n",
    "        axes = fig.subplots(n_rows, n_columns)\n",
    "    # ensure axes is a 2D array\n",
    "    if n_rows == 1:\n",
    "        axes = axes[np.newaxis, :]\n",
    "    custom_palette = {0: '#FFA987', 1: '#049b9a'}\n",
    "    \n",
    "    for i, metric in enumerate(timebin_metrics):\n",
    "        plot_params = {\n",
    "                'data': df,\n",
    "                'x': 'timebin_size',\n",
    "                'y': metric,\n",
    "                'hue': 'label',\n",
    "                'palette': custom_palette\n",
    "            }\n",
    "        if plot_type == 'violin':\n",
    "            plot_params['split'] = True\n",
    "            plot_params['gap'] = 0.1\n",
    "            sns.violinplot(**plot_params, ax=axes[i // n_columns, i % n_columns])\n",
    "        elif plot_type == 'box':\n",
    "            plot_params['showfliers'] = False\n",
    "            sns.boxplot(**plot_params, ax=axes[i // n_columns, i % n_columns])\n",
    "        else:\n",
    "            print('plot type not recognized')\n",
    "        axes[i // n_columns, i % n_columns].set_title(metric)\n",
    "        axes[i // n_columns, i % n_columns].set_ylabel('')\n",
    "        axes[i // n_columns, i % n_columns].set_xlabel('Timebin size (hours)', fontsize=label_font_size)\n",
    "        axes[i // n_columns, i % n_columns].tick_params('x', labelsize=tick_label_size)\n",
    "        axes[i // n_columns, i % n_columns].tick_params('y', labelsize=tick_label_size)\n",
    "\n",
    "        # added transparency to the boxplot\n",
    "        for patch in axes[i // n_columns, i % n_columns].patches:\n",
    "            r, g, b, a = patch.get_facecolor()\n",
    "            patch.set_facecolor((r, g, b, alpha))\n",
    "        \n",
    "        if pvals is not None:\n",
    "            pvals_metric = pvals[pvals['metric'] == metric]\n",
    "            pvals_metric = pvals_metric.sort_values(by='timebin_size')\n",
    "\n",
    "            timebin_values = pvals_metric['timebin_size'].unique()\n",
    "            # use statannotations to display p-values\n",
    "            pairs = (\n",
    "                [(timebin_values[0], 0), (timebin_values[0], 1)],\n",
    "                [(timebin_values[1], 0), (timebin_values[1], 1)],\n",
    "                [(timebin_values[2], 0), (timebin_values[2], 1)],\n",
    "                [(timebin_values[3], 0), (timebin_values[3], 1)],\n",
    "            )\n",
    "            \n",
    "            # Add annotations\n",
    "            annotator = Annotator(axes[i // n_columns, i % n_columns], pairs, **plot_params, verbose=False)\n",
    "            annotator.set_pvalues(pvals_metric[pval_method].values)\n",
    "            annotator.annotate()\n",
    "            \n",
    "        if plot_legend:\n",
    "            handles, _ = axes[i // n_columns, i % n_columns].get_legend_handles_labels()\n",
    "            # set alpha in handles\n",
    "            for handle in handles:\n",
    "                handle.set_alpha(alpha)\n",
    "            labels = ['No DCI', 'DCI']\n",
    "            axes[i // n_columns, i % n_columns].legend(handles, labels, title='', loc='lower right', facecolor='white', framealpha=0.9,\n",
    "                                                       fontsize=tick_label_size, title_fontsize=label_font_size)\n",
    "            \n",
    "    return fig, axes"
   ]
  },
  {
   "cell_type": "markdown",
   "id": "75d4a088ca7107a",
   "metadata": {
    "collapsed": false
   },
   "source": [
    "DCI ischemia"
   ]
  },
  {
   "cell_type": "code",
   "execution_count": null,
   "id": "1f7a9dc44d1432be",
   "metadata": {
    "ExecuteTime": {
     "end_time": "2024-03-28T19:54:37.592479Z",
     "start_time": "2024-03-28T19:53:18.826787Z"
    }
   },
   "outputs": [],
   "source": [
    "target = 'DCI_ischemia'\n",
    "fig1, axes = plot_metric_distributions_over_timebins(pupillometry_df[(pupillometry_df['normalized'] == 0) \n",
    "                                                    & (pupillometry_df['outcome'] == target)], over_time_metrics, timebin_metrics, plot_type='box',\n",
    "                                                    pvals=pvals_df[(pvals_df['normalized'] == 0) & (pvals_df['outcome'] == target)])\n",
    "fig1.suptitle(f'{target}: Pupillometry metrics over timebins (not normalized)', fontsize=16, y=0.9)"
   ]
  },
  {
   "cell_type": "code",
   "execution_count": null,
   "id": "da8e4ba2144d98c5",
   "metadata": {
    "ExecuteTime": {
     "end_time": "2024-03-28T19:54:37.596913Z",
     "start_time": "2024-03-28T19:54:37.594423Z"
    }
   },
   "outputs": [],
   "source": [
    "# fig1.savefig(os.path.join(output_dir, f'{target}_pupillometry_metrics_over_timebins_not_normalized.tiff'), format='tiff', dpi=300)"
   ]
  },
  {
   "cell_type": "code",
   "execution_count": null,
   "id": "7668e213473d7af1",
   "metadata": {
    "ExecuteTime": {
     "end_time": "2024-03-28T19:55:53.184040Z",
     "start_time": "2024-03-28T19:54:37.598090Z"
    }
   },
   "outputs": [],
   "source": [
    "target = 'DCI_ischemia'\n",
    "fig2, axes = plot_metric_distributions_over_timebins(pupillometry_df[(pupillometry_df['normalized'] == 1)\n",
    "                                                    & (pupillometry_df['outcome'] == target)], over_time_metrics, timebin_metrics, plot_type='box',\n",
    "                                                    pvals=pvals_df[(pvals_df['normalized'] == 1) & (pvals_df['outcome'] == target)])\n",
    "fig2.suptitle(f'{target}: Pupillometry metrics over timebins (normalized)', fontsize=16, y=0.9)"
   ]
  },
  {
   "cell_type": "code",
   "execution_count": null,
   "id": "37cef2d82d2a2c4c",
   "metadata": {},
   "outputs": [],
   "source": [
    "# fig2.savefig(os.path.join(output_dir, f'{target}_pupillometry_metrics_over_timebins_normalized.tiff'), format='tiff', dpi=300)"
   ]
  },
  {
   "cell_type": "markdown",
   "id": "10a3eb4fa32c7f63",
   "metadata": {
    "collapsed": false
   },
   "source": [
    "DCI infarct"
   ]
  },
  {
   "cell_type": "code",
   "execution_count": null,
   "id": "aecc5285d37894f9",
   "metadata": {
    "ExecuteTime": {
     "end_time": "2024-03-28T19:57:09.872648Z",
     "start_time": "2024-03-28T19:55:53.190427Z"
    }
   },
   "outputs": [],
   "source": [
    "target = 'DCI_infarct'\n",
    "fig3, axes = plot_metric_distributions_over_timebins(pupillometry_df[(pupillometry_df['normalized'] == 0) \n",
    "                                                    & (pupillometry_df['outcome'] == target)], over_time_metrics, timebin_metrics, plot_type='box',\n",
    "                                                    pvals=pvals_df[(pvals_df['normalized'] == 0) & (pvals_df['outcome'] == target)])\n",
    "fig3.suptitle(f'{target}: Pupillometry metrics over timebins (not normalized)', fontsize=16, y=0.9)"
   ]
  },
  {
   "cell_type": "code",
   "execution_count": null,
   "id": "9643862e5d00ef2b",
   "metadata": {
    "ExecuteTime": {
     "end_time": "2024-03-28T19:57:09.876814Z",
     "start_time": "2024-03-28T19:57:09.874141Z"
    }
   },
   "outputs": [],
   "source": [
    "# fig3.savefig(os.path.join(output_dir, f'{target}_pupillometry_metrics_over_timebins_not_normalized.tiff'), format='tiff', dpi=300)"
   ]
  },
  {
   "cell_type": "code",
   "execution_count": null,
   "id": "fe062b46f6f3dfa3",
   "metadata": {
    "ExecuteTime": {
     "end_time": "2024-03-28T19:58:27.430455Z",
     "start_time": "2024-03-28T19:57:09.878455Z"
    }
   },
   "outputs": [],
   "source": [
    "target = 'DCI_infarct'\n",
    "fig4, axes = plot_metric_distributions_over_timebins(pupillometry_df[(pupillometry_df['normalized'] == 1)\n",
    "                                                    & (pupillometry_df['outcome'] == target)], over_time_metrics, timebin_metrics, plot_type='box',\n",
    "                                                    pvals=pvals_df[(pvals_df['normalized'] == 1) & (pvals_df['outcome'] == target)])\n",
    "fig4.suptitle(f'{target}: Pupillometry metrics over timebins (normalized)', fontsize=16, y=0.9)"
   ]
  },
  {
   "cell_type": "code",
   "execution_count": null,
   "id": "b0fe30a3277c523b",
   "metadata": {
    "ExecuteTime": {
     "end_time": "2024-03-28T19:58:27.434435Z",
     "start_time": "2024-03-28T19:58:27.431894Z"
    }
   },
   "outputs": [],
   "source": [
    "# fig4.savefig(os.path.join(output_dir, f'{target}_pupillometry_metrics_over_timebins_normalized.tiff'), format='tiff', dpi=300)"
   ]
  },
  {
   "cell_type": "markdown",
   "id": "74bc03a982f05a54",
   "metadata": {
    "collapsed": false
   },
   "source": [
    "Decompose figure into NPI and CV"
   ]
  },
  {
   "cell_type": "code",
   "execution_count": null,
   "id": "1297904d9614c0eb",
   "metadata": {
    "ExecuteTime": {
     "end_time": "2024-03-28T19:58:27.438655Z",
     "start_time": "2024-03-28T19:58:27.435841Z"
    }
   },
   "outputs": [],
   "source": [
    "# for target in ['DCI_ischemia', 'DCI_infarct']:\n",
    "#     for metric in ['NPI', 'CV']:\n",
    "#         selected_timebin_metrics = [m for m in timebin_metrics if metric in m]\n",
    "#         fig, axes = plot_metric_distributions_over_timebins(pupillometry_df[(pupillometry_df['normalized'] == 0) \n",
    "#                                                         & (pupillometry_df['outcome'] == target)], over_time_metrics, selected_timebin_metrics, plot_type='box',\n",
    "#                                                         pvals=pvals_df[(pvals_df['normalized'] == 0) & (pvals_df['outcome'] == target)])\n",
    "#         fig.suptitle(f'{target}: Pupillometry {metric} over timebins (not normalized)', fontsize=16, y=0.9)\n",
    "#         # adjust figsize 20, 40\n",
    "#         fig.set_size_inches(20, 40)\n",
    "#         fig.savefig(os.path.join(output_dir, f'{target}_{metric}_pupillometry_metrics_over_timebins_not_normalized.tiff'), format='tiff', dpi=300)\n",
    "#         \n",
    "#         fig, axes = plot_metric_distributions_over_timebins(pupillometry_df[(pupillometry_df['normalized'] == 1)\n",
    "#                                                         & (pupillometry_df['outcome'] == target)], over_time_metrics, selected_timebin_metrics, plot_type='box',\n",
    "#                                                         pvals=pvals_df[(pvals_df['normalized'] == 1) & (pvals_df['outcome'] == target)])\n",
    "#         fig.suptitle(f'{target}: Pupillometry {metric} over timebins (normalized)', fontsize=16, y=0.9)\n",
    "#         fig.set_size_inches(20, 40)\n",
    "#         fig.savefig(os.path.join(output_dir, f'{target}_{metric}_pupillometry_metrics_over_timebins_normalized.tiff'), format='tiff', dpi=300)\n"
   ]
  },
  {
   "cell_type": "code",
   "execution_count": null,
   "id": "60fe3a2018f06f6a",
   "metadata": {
    "ExecuteTime": {
     "end_time": "2024-03-28T19:58:33.010733Z",
     "start_time": "2024-03-28T19:58:27.442382Z"
    }
   },
   "outputs": [],
   "source": [
    "sns.set_theme(style=\"whitegrid\", context=\"paper\", font_scale = 1)\n",
    "cm = 1/2.54  # centimeters in inches\n",
    "main_fig = plt.figure(figsize=(26 * cm, 20 * cm))\n",
    "\n",
    "tick_label_size = 6\n",
    "label_font_size = 7\n",
    "subplot_number_font_size = 9\n",
    "suptitle_font_size = 10\n",
    "plot_subplot_titles = True\n",
    "wspace = 0.15\n",
    "\n",
    "target = 'DCI_ischemia'\n",
    "selected_timebin_metrics = ['CV_inter_eye_min_timebin_max', 'CV_inter_eye_min_timebin_min', 'NPI_inter_eye_min_timebin_max']\n",
    "\n",
    "subfigs = main_fig.subfigures(2, 1, height_ratios=[1, 1])\n",
    "\n",
    "# Not normalized\n",
    "fig1, axes1 = plot_metric_distributions_over_timebins(pupillometry_df[(pupillometry_df['normalized'] == 0) \n",
    "                                                & (pupillometry_df['outcome'] == target)], ['min', 'max', 'max'], selected_timebin_metrics, plot_type='box',\n",
    "                                                pvals=pvals_df[(pvals_df['normalized'] == 0) & (pvals_df['outcome'] == target)], alpha=0.5,\n",
    "                                                plot_legend=True, tick_label_size=tick_label_size, label_font_size=label_font_size, fig=subfigs[1])\n",
    "# set subplot titles\n",
    "axes1[0, 0].set_title('D. CV (inter-eye min, max in timebin)', horizontalalignment='left', x=-0.1, fontsize=subplot_number_font_size)\n",
    "axes1[0, 1].set_title('E. CV (inter-eye min, min in timebin)', horizontalalignment='left', x=-0.1, fontsize=subplot_number_font_size)\n",
    "axes1[0, 2].set_title('F. NPI (inter-eye min, max in timebin)', horizontalalignment='left', x=-0.1, fontsize=subplot_number_font_size)\n",
    "subfigs[1].suptitle(f'II. Not normalized', fontsize=suptitle_font_size, horizontalalignment='left', x=0.1, y=1.)\n",
    "subfigs[1].subplots_adjust(wspace=wspace)\n",
    "\n",
    "# set ylims of CV to 0, 5.\n",
    "for ax in axes1.flatten()[0:2]:\n",
    "    ax.set_ylim(0, 4.75)\n",
    "\n",
    "# Normalized\n",
    "fig2, axes2 = plot_metric_distributions_over_timebins(pupillometry_df[(pupillometry_df['normalized'] == 1)\n",
    "                                                & (pupillometry_df['outcome'] == target)], ['min', 'max', 'max'], selected_timebin_metrics, plot_type='box',\n",
    "                                                pvals=pvals_df[(pvals_df['normalized'] == 1) & (pvals_df['outcome'] == target)], alpha=0.7,\n",
    "                                                plot_legend=True, tick_label_size=tick_label_size, label_font_size=label_font_size, fig=subfigs[0])\n",
    "# set subplot titles\n",
    "axes2[0, 0].set_title('A. CV (inter-eye min, max in timebin)', horizontalalignment='left', x=-0.1, fontsize=subplot_number_font_size)\n",
    "axes2[0, 1].set_title('B. CV (inter-eye min, min in timebin)', horizontalalignment='left', x=-0.1, fontsize=subplot_number_font_size)\n",
    "axes2[0, 2].set_title('C. NPI (inter-eye min, max in timebin)', horizontalalignment='left', x=-0.1, fontsize=subplot_number_font_size)\n",
    "subfigs[0].suptitle(f'I. Normalized', fontsize=suptitle_font_size, horizontalalignment='left', x=0.1, y=1.)\n",
    "subfigs[0].subplots_adjust(wspace=wspace)\n",
    "\n",
    "# set ylims to 0, 1.6\n",
    "for ax in axes2.flatten():\n",
    "    ax.set_ylim(0, 1.6)\n",
    "\n",
    "main_fig.show()"
   ]
  },
  {
   "cell_type": "code",
   "execution_count": null,
   "id": "3bbc1b39aa5e5ab0",
   "metadata": {
    "ExecuteTime": {
     "end_time": "2024-03-28T19:58:33.015226Z",
     "start_time": "2024-03-28T19:58:33.012274Z"
    }
   },
   "outputs": [],
   "source": [
    "# main_fig.savefig(os.path.join(output_dir, f'main_metrics_boxplot_rescaled.tiff'), format='tiff', dpi=600, bbox_inches='tight')"
   ]
  }
 ],
 "metadata": {
  "kernelspec": {
   "display_name": "Python 3",
   "language": "python",
   "name": "python3"
  },
  "language_info": {
   "codemirror_mode": {
    "name": "ipython",
    "version": 2
   },
   "file_extension": ".py",
   "mimetype": "text/x-python",
   "name": "python",
   "nbconvert_exporter": "python",
   "pygments_lexer": "ipython2",
   "version": "2.7.6"
  }
 },
 "nbformat": 4,
 "nbformat_minor": 5
}
