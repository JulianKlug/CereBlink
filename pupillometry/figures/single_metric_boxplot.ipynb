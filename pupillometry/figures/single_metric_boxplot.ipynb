{
 "cells": [
  {
   "cell_type": "code",
   "execution_count": null,
   "id": "initial_id",
   "metadata": {
    "ExecuteTime": {
     "end_time": "2024-03-28T20:03:21.389209Z",
     "start_time": "2024-03-28T20:03:21.369924Z"
    }
   },
   "outputs": [],
   "source": [
    "import os\n",
    "import numpy as np\n",
    "import re\n",
    "from statannotations.Annotator import Annotator\n",
    "import pandas as pd\n",
    "import matplotlib.pyplot as plt\n",
    "import matplotlib\n",
    "import seaborn as sns"
   ]
  },
  {
   "cell_type": "code",
   "execution_count": null,
   "id": "30e76c6542c26490",
   "metadata": {
    "ExecuteTime": {
     "end_time": "2024-03-28T20:03:21.393265Z",
     "start_time": "2024-03-28T20:03:21.390587Z"
    }
   },
   "outputs": [],
   "source": [
    "assert int(pd.__version__[0]) < 2, 'Please < 2 required for statannotations'"
   ]
  },
  {
   "cell_type": "code",
   "execution_count": null,
   "id": "4e113e8fb2334044",
   "metadata": {
    "ExecuteTime": {
     "end_time": "2024-03-28T20:03:21.397692Z",
     "start_time": "2024-03-28T20:03:21.395001Z"
    }
   },
   "outputs": [],
   "source": [
    "data_dir = '/Users/jk1/temp/cereblink/data_saving/exclude_nan_outcome_False'\n",
    "pvals_dir = '/Users/jk1/temp/cereblink/data_saving/exclude_nan_outcome_False'\n",
    "output_dir = '/Users/jk1/Downloads'"
   ]
  },
  {
   "cell_type": "code",
   "execution_count": null,
   "id": "dbf1f7483f276792",
   "metadata": {
    "ExecuteTime": {
     "end_time": "2024-03-28T20:03:22.062771Z",
     "start_time": "2024-03-28T20:03:21.401915Z"
    }
   },
   "outputs": [],
   "source": [
    "data_filenames = [f for f in os.listdir(data_dir) if f.endswith('.csv') and 'timebin' in f and 'reassembled_pupillometry' in f]\n",
    "\n",
    "pupillometry_df = pd.DataFrame()\n",
    "for data_filename in data_filenames:\n",
    "    # find timebin size with regex identifying pattern : _xh_\n",
    "    timebin_size = int(re.search(r'_(\\d+)h_', data_filename).group(1))\n",
    "    data_is_normalized = int(('normalized' in data_filename) or ('normalised' in data_filename))\n",
    "    outcome = '_'.join(data_filename.split('_')[0:2])\n",
    "\n",
    "    df = pd.read_csv(os.path.join(data_dir, data_filename))\n",
    "    df['timebin_size'] = timebin_size\n",
    "    df['normalized'] = data_is_normalized\n",
    "    df['outcome'] = outcome\n",
    "    pupillometry_df = pd.concat([pupillometry_df, df], axis=0)\n",
    "    \n",
    "pupillometry_df = pupillometry_df.reset_index(drop=True)"
   ]
  },
  {
   "cell_type": "code",
   "execution_count": null,
   "id": "a119a31b20c1f58",
   "metadata": {
    "ExecuteTime": {
     "end_time": "2024-03-28T20:03:22.193805Z",
     "start_time": "2024-03-28T20:03:22.064408Z"
    }
   },
   "outputs": [],
   "source": [
    "\n",
    "pvals_filenames = [f for f in os.listdir(pvals_dir) if f.endswith('.csv') and 'pvals' in f]\n",
    "\n",
    "pvals_df = pd.DataFrame()\n",
    "for pvals_filename in pvals_filenames:\n",
    "    # find timebin size with regex identifying pattern : _xh_\n",
    "    timebin_size = int(re.search(r'_(\\d+)h_', pvals_filename).group(1))\n",
    "    data_is_normalized = int(('normalized' in pvals_filename) or ('normalised' in pvals_filename))\n",
    "    using_span = int(('with_span' in pvals_filename))\n",
    "    outcome = '_'.join(pvals_filename.split('_')[0:2])\n",
    "\n",
    "    df = pd.read_csv(os.path.join(pvals_dir, pvals_filename), index_col=0)\n",
    "    df.reset_index(inplace=True)\n",
    "    df.rename(columns={'index': 'metric'}, inplace=True)\n",
    "    df['timebin_size'] = timebin_size\n",
    "    df['normalized'] = data_is_normalized\n",
    "    df['using_span'] = using_span\n",
    "    df['outcome'] = outcome\n",
    "    pvals_df = pd.concat([pvals_df, df], axis=0)\n",
    "\n",
    "pvals_df = pvals_df[pvals_df['using_span'] == 0]"
   ]
  },
  {
   "cell_type": "code",
   "execution_count": null,
   "id": "7ad34f0d0bcdce29",
   "metadata": {
    "ExecuteTime": {
     "end_time": "2024-03-28T20:03:22.204635Z",
     "start_time": "2024-03-28T20:03:22.196209Z"
    }
   },
   "outputs": [],
   "source": [
    "selected_colors_palette = sns.color_palette(['#E6F5F5', '#F8F0FF'], n_colors=2)\n",
    "selected_colors_palette"
   ]
  },
  {
   "cell_type": "code",
   "execution_count": null,
   "id": "46d7776688839c0b",
   "metadata": {
    "ExecuteTime": {
     "end_time": "2024-03-28T20:03:22.211255Z",
     "start_time": "2024-03-28T20:03:22.206682Z"
    }
   },
   "outputs": [],
   "source": [
    "pupillometry_metrics = ['NPI', 'CV']\n",
    "inter_eye_metrics = ['mean', 'min', 'max', 'delta']\n",
    "# combine to get all metrics\n",
    "single_timepoint_metrics = [f'{metric}_inter_eye_{metric_type}' for metric in pupillometry_metrics for metric_type in\n",
    "                            inter_eye_metrics]\n",
    "over_time_metrics = ['max', 'min', 'median']\n",
    "# combine to get all metrics\n",
    "timebin_metrics = [f'{metric}_timebin_{metric_type}' for metric in single_timepoint_metrics for metric_type in\n",
    "                   over_time_metrics]"
   ]
  },
  {
   "cell_type": "code",
   "execution_count": null,
   "id": "40dfb617741b12b6",
   "metadata": {
    "ExecuteTime": {
     "end_time": "2024-03-28T20:03:22.232264Z",
     "start_time": "2024-03-28T20:03:22.213196Z"
    }
   },
   "outputs": [],
   "source": [
    "pvals_df.head()"
   ]
  },
  {
   "cell_type": "code",
   "execution_count": null,
   "id": "425bc379c16c7a11",
   "metadata": {
    "ExecuteTime": {
     "end_time": "2024-03-28T20:03:22.247505Z",
     "start_time": "2024-03-28T20:03:22.233963Z"
    }
   },
   "outputs": [],
   "source": [
    "target_df = pupillometry_df[(pupillometry_df['outcome'] == 'DCI_ischemia') & (pupillometry_df['normalized'] == 1) & (pupillometry_df['timebin_size'] == 8)]\n",
    "metric = 'CV_inter_eye_min_timebin_max'"
   ]
  },
  {
   "cell_type": "code",
   "execution_count": null,
   "id": "84e8c017834153ef",
   "metadata": {
    "ExecuteTime": {
     "end_time": "2024-03-28T20:03:22.262569Z",
     "start_time": "2024-03-28T20:03:22.249244Z"
    }
   },
   "outputs": [],
   "source": [
    "pvals_metric = pvals_df[(pvals_df['metric'] == metric) & (pvals_df['outcome'] == 'DCI_ischemia') & (pvals_df['normalized'] == 1) & (pvals_df['timebin_size'] == 8)]\n",
    "pvals_metric"
   ]
  },
  {
   "cell_type": "code",
   "execution_count": null,
   "id": "5c6d51cbd8ed8445",
   "metadata": {
    "ExecuteTime": {
     "end_time": "2024-03-28T20:03:22.512867Z",
     "start_time": "2024-03-28T20:03:22.264194Z"
    }
   },
   "outputs": [],
   "source": [
    "fig, ax = plt.subplots(1, 1, figsize=(5, 7.5))\n",
    "sns.set_theme(style=\"whitegrid\", context=\"paper\", font_scale = 8)\n",
    "# box plot lines in black\n",
    "\n",
    "plot_params = {\n",
    "                'data': target_df,\n",
    "                'x': 'timebin_size',\n",
    "                'y': metric,\n",
    "                'hue': 'label',\n",
    "                'palette': selected_colors_palette,\n",
    "                'showfliers': False,\n",
    "                'boxprops':{'edgecolor':'black'},\n",
    "                'medianprops':{'color':'black'},\n",
    "                'whiskerprops':{'color':'black'},\n",
    "                'capprops':{'color':'black'}\n",
    "            }\n",
    "\n",
    "sns.boxplot(**plot_params, ax=ax)\n",
    "\n",
    "pairs = (\n",
    "                [(8, 0), (8, 1)],\n",
    "            )\n",
    "\n",
    "annotator = Annotator(ax,pairs , **plot_params, verbose=False)\n",
    "annotator.set_pvalues(pvals_metric.adjusted_pval.values)\n",
    "annotator.annotate()\n",
    "\n",
    "ax.set_xlabel('')\n",
    "ax.set_xticklabels([''])\n",
    "ax.set_ylabel('norm(CV)', fontstyle='italic')\n",
    "# set legend title\n",
    "# ax.legend(title='DCI', loc='upper left')\n",
    "# remove legend\n",
    "ax.get_legend().remove()"
   ]
  },
  {
   "cell_type": "code",
   "execution_count": null,
   "id": "f5f6f48f931f8b3d",
   "metadata": {
    "ExecuteTime": {
     "end_time": "2024-03-28T20:03:22.517586Z",
     "start_time": "2024-03-28T20:03:22.514607Z"
    }
   },
   "outputs": [],
   "source": [
    "# fig.savefig(os.path.join(output_dir, f'{metric}_DCI_ischemia_normalized_8h.svg'), format='svg', bbox_inches='tight')"
   ]
  },
  {
   "cell_type": "code",
   "execution_count": null,
   "id": "17920bc237b5b3f8",
   "metadata": {
    "ExecuteTime": {
     "end_time": "2024-03-28T20:03:22.521712Z",
     "start_time": "2024-03-28T20:03:22.519548Z"
    }
   },
   "outputs": [],
   "source": []
  }
 ],
 "metadata": {
  "kernelspec": {
   "display_name": "Python 3",
   "language": "python",
   "name": "python3"
  },
  "language_info": {
   "codemirror_mode": {
    "name": "ipython",
    "version": 2
   },
   "file_extension": ".py",
   "mimetype": "text/x-python",
   "name": "python",
   "nbconvert_exporter": "python",
   "pygments_lexer": "ipython2",
   "version": "2.7.6"
  }
 },
 "nbformat": 4,
 "nbformat_minor": 5
}
