{
 "cells": [
  {
   "cell_type": "code",
   "execution_count": null,
   "id": "initial_id",
   "metadata": {
    "ExecuteTime": {
     "end_time": "2024-06-18T13:57:18.036933Z",
     "start_time": "2024-06-18T13:57:18.026048Z"
    }
   },
   "outputs": [],
   "source": [
    "import pandas as pd\n",
    "from utils import load_encrypted_xlsx\n",
    "import seaborn as sns\n",
    "import matplotlib.pyplot as plt"
   ]
  },
  {
   "cell_type": "code",
   "execution_count": null,
   "id": "392ea172927a04cf",
   "metadata": {
    "ExecuteTime": {
     "end_time": "2024-06-18T14:01:53.298158Z",
     "start_time": "2024-06-18T14:01:53.294763Z"
    }
   },
   "outputs": [],
   "source": [
    "data_path = '/Users/jk1/temp/cereblink/pupillometry/data_saving/exclude_nan_outcome_False/DCI_ischemia_normalised_pupillometry_df.csv'\n",
    "registry_data_path = '/Users/jk1/Library/CloudStorage/OneDrive-unige.ch/icu_research/dci_sah/data/sos_sah_data/post_hoc_modified_aSAH_DATA_2009_2023_24122023.xlsx'\n",
    "registry_pdms_correspondence_path = '/Users/jk1/Library/CloudStorage/OneDrive-unige.ch/icu_research/dci_sah/data/pdms_data/registry_pdms_correspondence.csv'"
   ]
  },
  {
   "cell_type": "code",
   "execution_count": null,
   "id": "50471d0ac364a5ae",
   "metadata": {
    "ExecuteTime": {
     "end_time": "2024-06-18T14:01:55.336283Z",
     "start_time": "2024-06-18T14:01:53.517196Z"
    }
   },
   "outputs": [],
   "source": [
    "df = pd.read_csv(data_path)\n",
    "registry_df = load_encrypted_xlsx(registry_data_path)\n",
    "registry_pdms_correspondence_df = pd.read_csv(registry_pdms_correspondence_path)\n",
    "registry_pdms_correspondence_df['Date_birth'] = pd.to_datetime(registry_pdms_correspondence_df['Date_birth'],\n",
    "                                                               format='%Y-%m-%d')\n",
    "registry_pdms_correspondence_df.rename(columns={'JoinedName': 'Name'}, inplace=True)\n",
    "registry_df = registry_df.merge(registry_pdms_correspondence_df, on=['SOS-CENTER-YEAR-NO.', 'Name', 'Date_birth'],\n",
    "                                how='left')"
   ]
  },
  {
   "cell_type": "code",
   "execution_count": null,
   "id": "969e32a6dd319cd6",
   "metadata": {
    "ExecuteTime": {
     "end_time": "2024-06-18T14:01:55.414625Z",
     "start_time": "2024-06-18T14:01:55.388586Z"
    }
   },
   "outputs": [],
   "source": [
    "registry_df"
   ]
  },
  {
   "cell_type": "code",
   "execution_count": null,
   "id": "ac0698b6486be540",
   "metadata": {
    "ExecuteTime": {
     "end_time": "2024-06-18T14:01:56.052476Z",
     "start_time": "2024-06-18T14:01:56.039245Z"
    }
   },
   "outputs": [],
   "source": [
    "joined_df = df.merge(registry_df[['pNr', 'Date_Ictus', 'Date_DCI_ischemia_first_image', 'Time_DCI_ischemia_first_image', 'DCI_ischemia']], on='pNr', how='left')"
   ]
  },
  {
   "cell_type": "code",
   "execution_count": null,
   "id": "1f767c215a6ce2b9",
   "metadata": {
    "ExecuteTime": {
     "end_time": "2024-06-18T14:01:56.783772Z",
     "start_time": "2024-06-18T14:01:56.393201Z"
    }
   },
   "outputs": [],
   "source": [
    "from utils import safe_conversion_to_datetime\n",
    "\n",
    "joined_df['full_date_dci_ischemia'] = joined_df['Date_DCI_ischemia_first_image'].astype(str) + ' ' + \\\n",
    "                                             joined_df['Time_DCI_ischemia_first_image'].astype(str)\n",
    "# replace NaT nan with nan\n",
    "joined_df['full_date_dci_ischemia'] = joined_df['full_date_dci_ischemia'].replace('NaT nan', pd.NaT)\n",
    "joined_df['full_date_dci_ischemia'] = joined_df['full_date_dci_ischemia'].apply(\n",
    "    safe_conversion_to_datetime)"
   ]
  },
  {
   "cell_type": "code",
   "execution_count": null,
   "id": "94fa19f078d6e83d",
   "metadata": {
    "ExecuteTime": {
     "end_time": "2024-06-18T14:02:19.749771Z",
     "start_time": "2024-06-18T14:02:19.719077Z"
    }
   },
   "outputs": [],
   "source": [
    "joined_df"
   ]
  },
  {
   "cell_type": "code",
   "execution_count": null,
   "id": "78acf139173a9b79",
   "metadata": {
    "ExecuteTime": {
     "end_time": "2024-06-18T14:07:36.089041Z",
     "start_time": "2024-06-18T14:07:36.073015Z"
    }
   },
   "outputs": [],
   "source": [
    "# convert to relative time\n",
    "joined_df['relative_time_dci'] = (pd.to_datetime(joined_df['full_date_dci_ischemia']) - pd.to_datetime(joined_df['Date_Ictus'])).dt.total_seconds() / (60*60*24)\n",
    "joined_df['relative_time_measure'] = (pd.to_datetime(joined_df['timePupil']) - pd.to_datetime(joined_df['Date_Ictus'])).dt.total_seconds() / (60*60*24)"
   ]
  },
  {
   "cell_type": "code",
   "execution_count": null,
   "id": "d00d53ccc3dc2329",
   "metadata": {
    "ExecuteTime": {
     "end_time": "2024-06-18T14:07:37.984380Z",
     "start_time": "2024-06-18T14:07:37.978986Z"
    }
   },
   "outputs": [],
   "source": [
    "positive_joined_df = joined_df[joined_df['DCI_ischemia'] == 1]"
   ]
  },
  {
   "cell_type": "code",
   "execution_count": null,
   "id": "6836d82cf1409418",
   "metadata": {
    "ExecuteTime": {
     "end_time": "2024-06-18T14:07:40.234192Z",
     "start_time": "2024-06-18T14:07:40.204350Z"
    }
   },
   "outputs": [],
   "source": [
    "positive_joined_df"
   ]
  },
  {
   "cell_type": "code",
   "execution_count": null,
   "id": "26a717e9c532d5c",
   "metadata": {
    "ExecuteTime": {
     "end_time": "2024-06-18T14:10:48.556794Z",
     "start_time": "2024-06-18T14:10:48.551595Z"
    }
   },
   "outputs": [],
   "source": [
    "positive_joined_df.pNr.unique()"
   ]
  },
  {
   "cell_type": "code",
   "execution_count": null,
   "id": "b250d8d84f68db3a",
   "metadata": {
    "ExecuteTime": {
     "end_time": "2024-06-18T14:16:34.170882Z",
     "start_time": "2024-06-18T14:16:34.166164Z"
    }
   },
   "outputs": [],
   "source": [
    "all_colors_palette = sns.color_palette(['#f61067', '#049b9a', '#012D98', '#a76dfe', '#FFA987', '#E2FDFF'], n_colors=6)\n",
    "all_colors_palette"
   ]
  },
  {
   "cell_type": "code",
   "execution_count": null,
   "id": "f629fa2ad4653b1",
   "metadata": {
    "ExecuteTime": {
     "end_time": "2024-06-18T14:18:49.913574Z",
     "start_time": "2024-06-18T14:18:49.906840Z"
    }
   },
   "outputs": [],
   "source": [
    "def plot_pupillometry_over_time(temp_df, point_plot=True):\n",
    "    fig, ax = plt.subplots(figsize=(15, 6))\n",
    "    \n",
    "    # plot CV_r_value_normalised and CV_l_value_normalised over time\n",
    "    sns.lineplot(x='relative_time_measure', y='CV_r_value_normalised', data=temp_df, ax=ax, label='Right eye', color=all_colors_palette[1], alpha=0.5)\n",
    "    sns.lineplot(x='relative_time_measure', y='CV_l_value_normalised', data=temp_df, ax=ax, label='Left eye', color=all_colors_palette[2], alpha=0.5)\n",
    "    \n",
    "    if point_plot:\n",
    "        sns.scatterplot(x='relative_time_measure', y='CV_r_value_normalised', data=temp_df, ax=ax, color=all_colors_palette[1], alpha=0.7)\n",
    "        sns.scatterplot(x='relative_time_measure', y='CV_l_value_normalised', data=temp_df, ax=ax, color=all_colors_palette[2], alpha=0.7)\n",
    "    \n",
    "    time_of_dci = temp_df.relative_time_dci.mode()[0]\n",
    "    \n",
    "    # add red bar at time of DCI\n",
    "    plt.axvline(x=time_of_dci, color='r', linestyle='--')\n",
    "    \n",
    "    plt.xlabel('Time since ictus (days)')\n",
    "    plt.ylabel('Normalised CV')\n",
    "    \n",
    "    # xlim to 0-15\n",
    "    plt.xlim(0, time_of_dci + 0.1)\n",
    "    plt.show()\n",
    "    \n",
    "    return fig"
   ]
  },
  {
   "cell_type": "code",
   "execution_count": null,
   "id": "3009ea458c4ab439",
   "metadata": {
    "ExecuteTime": {
     "end_time": "2024-06-18T14:18:54.565221Z",
     "start_time": "2024-06-18T14:18:53.918090Z"
    }
   },
   "outputs": [],
   "source": [
    "point_plot = True\n",
    "temp_df = positive_joined_df[positive_joined_df.pNr == 81512]\n",
    "plot_pupillometry_over_time(temp_df, point_plot)"
   ]
  },
  {
   "cell_type": "code",
   "execution_count": null,
   "id": "b478773f5337dbdd",
   "metadata": {
    "ExecuteTime": {
     "end_time": "2024-06-18T14:19:14.309038Z",
     "start_time": "2024-06-18T14:19:04.647257Z"
    }
   },
   "outputs": [],
   "source": [
    "for pNr in positive_joined_df.pNr.unique():\n",
    "    temp_df = positive_joined_df[positive_joined_df.pNr == pNr]\n",
    "    plot_pupillometry_over_time(temp_df, point_plot)"
   ]
  },
  {
   "cell_type": "code",
   "execution_count": null,
   "id": "b5ed781092f7c6e6",
   "metadata": {},
   "outputs": [],
   "source": []
  }
 ],
 "metadata": {
  "kernelspec": {
   "display_name": "Python 3",
   "language": "python",
   "name": "python3"
  },
  "language_info": {
   "codemirror_mode": {
    "name": "ipython",
    "version": 2
   },
   "file_extension": ".py",
   "mimetype": "text/x-python",
   "name": "python",
   "nbconvert_exporter": "python",
   "pygments_lexer": "ipython2",
   "version": "2.7.6"
  }
 },
 "nbformat": 4,
 "nbformat_minor": 5
}
