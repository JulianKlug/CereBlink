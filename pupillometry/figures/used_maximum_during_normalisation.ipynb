{
 "cells": [
  {
   "cell_type": "code",
   "execution_count": null,
   "id": "initial_id",
   "metadata": {
    "ExecuteTime": {
     "end_time": "2024-06-15T21:41:22.309165Z",
     "start_time": "2024-06-15T21:41:22.305347Z"
    }
   },
   "outputs": [],
   "source": [
    "import pandas as pd\n",
    "from tqdm import tqdm\n",
    "import seaborn as sns\n",
    "import matplotlib.pyplot as plt\n",
    "\n",
    "from utils import load_encrypted_xlsx"
   ]
  },
  {
   "cell_type": "code",
   "execution_count": null,
   "id": "ff4e8447025dfb24",
   "metadata": {
    "ExecuteTime": {
     "end_time": "2024-06-15T21:35:13.215274Z",
     "start_time": "2024-06-15T21:35:13.212336Z"
    }
   },
   "outputs": [],
   "source": [
    "data_path = '/Users/jk1/temp/cereblink/pupillometry/data_saving/exclude_nan_outcome_False/DCI_ischemia_normalised_pupillometry_df.csv'\n",
    "registry_data_path = '/Users/jk1/Library/CloudStorage/OneDrive-unige.ch/icu_research/dci_sah/data/sos_sah_data/post_hoc_modified_aSAH_DATA_2009_2023_24122023.xlsx'\n",
    "registry_pdms_correspondence_path = '/Users/jk1/Library/CloudStorage/OneDrive-unige.ch/icu_research/dci_sah/data/pdms_data/registry_pdms_correspondence.csv'"
   ]
  },
  {
   "cell_type": "code",
   "execution_count": null,
   "id": "7a0614a6b1bba61b",
   "metadata": {
    "ExecuteTime": {
     "end_time": "2024-06-15T21:28:38.267833Z",
     "start_time": "2024-06-15T21:28:38.238926Z"
    }
   },
   "outputs": [],
   "source": [
    "df = pd.read_csv(data_path)"
   ]
  },
  {
   "cell_type": "code",
   "execution_count": null,
   "id": "14318399dd027a35",
   "metadata": {
    "ExecuteTime": {
     "end_time": "2024-06-15T21:36:06.759729Z",
     "start_time": "2024-06-15T21:36:03.831070Z"
    }
   },
   "outputs": [],
   "source": [
    "registry_df = load_encrypted_xlsx(registry_data_path)\n",
    "registry_pdms_correspondence_df = pd.read_csv(registry_pdms_correspondence_path)\n",
    "registry_pdms_correspondence_df['Date_birth'] = pd.to_datetime(registry_pdms_correspondence_df['Date_birth'],\n",
    "                                                               format='%Y-%m-%d')\n",
    "registry_pdms_correspondence_df.rename(columns={'JoinedName': 'Name'}, inplace=True)\n",
    "registry_df = registry_df.merge(registry_pdms_correspondence_df, on=['SOS-CENTER-YEAR-NO.', 'Name', 'Date_birth'],\n",
    "                                how='left')"
   ]
  },
  {
   "cell_type": "code",
   "execution_count": null,
   "id": "218e3e91706472b4",
   "metadata": {
    "ExecuteTime": {
     "end_time": "2024-06-15T21:36:23.450308Z",
     "start_time": "2024-06-15T21:36:23.444187Z"
    }
   },
   "outputs": [],
   "source": [
    "registry_df = registry_df[~registry_df.pNr.isna()]"
   ]
  },
  {
   "cell_type": "code",
   "execution_count": null,
   "id": "12780b0fdf513425",
   "metadata": {
    "ExecuteTime": {
     "end_time": "2024-06-15T21:28:38.405034Z",
     "start_time": "2024-06-15T21:28:38.388131Z"
    }
   },
   "outputs": [],
   "source": [
    "df.head()"
   ]
  },
  {
   "cell_type": "code",
   "execution_count": null,
   "id": "3b7764983a8b478b",
   "metadata": {
    "ExecuteTime": {
     "end_time": "2024-06-15T21:28:38.786683Z",
     "start_time": "2024-06-15T21:28:38.778239Z"
    }
   },
   "outputs": [],
   "source": [
    "df['timePupil'] = pd.to_datetime(df['timePupil'], format='%Y-%m-%d %H:%M:%S.%f')"
   ]
  },
  {
   "cell_type": "code",
   "execution_count": null,
   "id": "645e8914067a765",
   "metadata": {
    "ExecuteTime": {
     "end_time": "2024-06-15T21:29:12.436785Z",
     "start_time": "2024-06-15T21:28:40.210891Z"
    }
   },
   "outputs": [],
   "source": [
    "# for every pNr go through every row and annotate the prior maximum for NPi_r_value, NPi_l_value, CV_r_value, CV_l_value\n",
    "pnr_dfs = []\n",
    "for pNr in tqdm(df['pNr'].unique()):\n",
    "    pNr_df = df[df['pNr'] == pNr]\n",
    "    # sort by timePupil\n",
    "    pNr_df = pNr_df.sort_values(by='timePupil')\n",
    "    for i, row in pNr_df.iterrows():\n",
    "        \n",
    "        prior_NPi_r = pNr_df[pNr_df['timePupil'] < row['timePupil']]['NPI_r_value']\n",
    "        # if not empty and not all nan\n",
    "        if not prior_NPi_r.empty and not prior_NPi_r.isnull().all():\n",
    "            row['NPi_r_prior_max_idx'] = prior_NPi_r.argmax()\n",
    "            pNr_df.loc[pNr_df.timePupil == row['timePupil'],'NPi_r_prior_max_time'] = pNr_df.iloc[row['NPi_r_prior_max_idx']][ 'timePupil']\n",
    "                \n",
    "        prior_NPi_l = pNr_df[pNr_df['timePupil'] < row['timePupil']]['NPI_l_value']\n",
    "        # if not empty and not all nan\n",
    "        if not prior_NPi_l.empty and not prior_NPi_l.isnull().all():\n",
    "            row['NPi_l_prior_max_idx'] = prior_NPi_l.argmax()\n",
    "            pNr_df.loc[pNr_df.timePupil == row['timePupil'],'NPi_l_prior_max_time'] = pNr_df.iloc[row['NPi_l_prior_max_idx']]['timePupil']\n",
    "            \n",
    "        prior_CV_r = pNr_df[pNr_df['timePupil'] < row['timePupil']]['CV_r_value']\n",
    "        # if not empty and not all nan\n",
    "        if not prior_CV_r.empty and not prior_CV_r.isnull().all():\n",
    "            row['CV_r_prior_max_idx'] = prior_CV_r.argmax()\n",
    "            pNr_df.loc[pNr_df.timePupil == row['timePupil'],'CV_r_prior_max_time'] = pNr_df.iloc[row['CV_r_prior_max_idx']]['timePupil']\n",
    "        \n",
    "        prior_CV_l = pNr_df[pNr_df['timePupil'] < row['timePupil']]['CV_l_value']\n",
    "        # if not empty and not all nan\n",
    "        if not prior_CV_l.empty and not prior_CV_l.isnull().all():\n",
    "            row['CV_l_prior_max_idx'] = prior_CV_l.argmax()\n",
    "            pNr_df.loc[pNr_df.timePupil == row['timePupil'],'CV_l_prior_max_time'] = pNr_df.iloc[row['CV_l_prior_max_idx']]['timePupil']\n",
    "            \n",
    "    pnr_dfs.append(pNr_df)\n",
    "        \n"
   ]
  },
  {
   "cell_type": "code",
   "execution_count": null,
   "id": "ac7145a8b450c633",
   "metadata": {
    "ExecuteTime": {
     "end_time": "2024-06-15T21:34:41.585280Z",
     "start_time": "2024-06-15T21:34:41.482026Z"
    }
   },
   "outputs": [],
   "source": [
    "joined_df = pd.concat(pnr_dfs)"
   ]
  },
  {
   "cell_type": "code",
   "execution_count": null,
   "id": "3b00b800e5ea8a4f",
   "metadata": {
    "ExecuteTime": {
     "end_time": "2024-06-15T21:37:46.395635Z",
     "start_time": "2024-06-15T21:37:46.369268Z"
    }
   },
   "outputs": [],
   "source": [
    "joined_df = joined_df.merge(registry_df, left_on='pNr', right_on='pNr', how='left')"
   ]
  },
  {
   "cell_type": "code",
   "execution_count": null,
   "id": "ccfdbab24355f042",
   "metadata": {
    "ExecuteTime": {
     "end_time": "2024-06-15T21:39:27.507463Z",
     "start_time": "2024-06-15T21:39:27.469007Z"
    }
   },
   "outputs": [],
   "source": [
    "joined_df['relative_NPi_r_prior_max_time'] = (pd.to_datetime(joined_df['NPi_r_prior_max_time']) - pd.to_datetime(joined_df['Date_Ictus'])).dt.total_seconds() / (60*60*24)\n",
    "joined_df['relative_NPi_l_prior_max_time'] = (pd.to_datetime(joined_df['NPi_l_prior_max_time']) - pd.to_datetime(joined_df['Date_Ictus'])).dt.total_seconds() / (60*60*24)\n",
    "joined_df['relative_CV_r_prior_max_time'] = (pd.to_datetime(joined_df['CV_r_prior_max_time']) - pd.to_datetime(joined_df['Date_Ictus'])).dt.total_seconds() / (60*60*24)\n",
    "joined_df['relative_CV_l_prior_max_time'] = (pd.to_datetime(joined_df['CV_l_prior_max_time']) - pd.to_datetime(joined_df['Date_Ictus'])).dt.total_seconds() / (60*60*24)"
   ]
  },
  {
   "cell_type": "code",
   "execution_count": null,
   "id": "16cbf64677e4d4a",
   "metadata": {
    "ExecuteTime": {
     "end_time": "2024-06-15T21:49:55.400236Z",
     "start_time": "2024-06-15T21:49:55.393216Z"
    }
   },
   "outputs": [],
   "source": [
    "# build a new df where relative_NPi_r_prior_max_time and relative_NPi_l_prior_max_time are grouped as relative_NPi_prior_max_time and relative_CV_r_prior_max_time and relative_CV_l_prior_max_time are grouped as relative_CV_prior_max_time\n",
    "relative_times_df = joined_df[['relative_NPi_r_prior_max_time', 'relative_NPi_l_prior_max_time', 'relative_CV_r_prior_max_time', 'relative_CV_l_prior_max_time']]\n",
    "relative_times_df = relative_times_df.melt(var_name='variable', value_name='value')\n"
   ]
  },
  {
   "cell_type": "code",
   "execution_count": null,
   "id": "7083ac6b05e5a954",
   "metadata": {
    "ExecuteTime": {
     "end_time": "2024-06-15T21:49:55.664251Z",
     "start_time": "2024-06-15T21:49:55.612389Z"
    }
   },
   "outputs": [],
   "source": [
    "relative_times_df['variable'] = relative_times_df['variable'].str.replace('NPi_r', 'NPi')\n",
    "relative_times_df['variable'] = relative_times_df['variable'].str.replace('NPi_l', 'NPi')\n",
    "relative_times_df['variable'] = relative_times_df['variable'].str.replace('CV_r', 'CV')\n",
    "relative_times_df['variable'] = relative_times_df['variable'].str.replace('CV_l', 'CV')\n"
   ]
  },
  {
   "cell_type": "code",
   "execution_count": null,
   "id": "e5d40a5bab322031",
   "metadata": {
    "ExecuteTime": {
     "end_time": "2024-06-15T21:49:55.889968Z",
     "start_time": "2024-06-15T21:49:55.876923Z"
    }
   },
   "outputs": [],
   "source": [
    "# undo melt\n",
    "relative_times_df = relative_times_df.pivot(columns='variable', values='value')"
   ]
  },
  {
   "cell_type": "code",
   "execution_count": null,
   "id": "687a0c8bc985d728",
   "metadata": {
    "ExecuteTime": {
     "end_time": "2024-06-15T21:50:30.269905Z",
     "start_time": "2024-06-15T21:50:30.264816Z"
    }
   },
   "outputs": [],
   "source": [
    "# exclude negative values\n",
    "cv_relative_times_df = relative_times_df[relative_times_df['relative_CV_prior_max_time'] > 0]['relative_CV_prior_max_time']\n",
    "npi_relative_times_df = relative_times_df[relative_times_df['relative_NPi_prior_max_time'] > 0]['relative_NPi_prior_max_time']"
   ]
  },
  {
   "cell_type": "code",
   "execution_count": null,
   "id": "404129021c0fb44d",
   "metadata": {
    "ExecuteTime": {
     "end_time": "2024-06-15T21:50:40.784931Z",
     "start_time": "2024-06-15T21:50:40.778048Z"
    }
   },
   "outputs": [],
   "source": [
    "cv_relative_times_df.describe()"
   ]
  },
  {
   "cell_type": "code",
   "execution_count": null,
   "id": "2222b3e50776201a",
   "metadata": {
    "ExecuteTime": {
     "end_time": "2024-06-15T21:50:45.917830Z",
     "start_time": "2024-06-15T21:50:45.910873Z"
    }
   },
   "outputs": [],
   "source": [
    "npi_relative_times_df.describe()"
   ]
  },
  {
   "cell_type": "code",
   "execution_count": null,
   "id": "a83d21b0edbfc357",
   "metadata": {
    "ExecuteTime": {
     "end_time": "2024-06-15T21:53:42.889171Z",
     "start_time": "2024-06-15T21:53:42.883852Z"
    }
   },
   "outputs": [],
   "source": [
    "all_colors_palette = sns.color_palette(['#f61067', '#049b9a', '#012D98', '#a76dfe', '#FFA987'], n_colors=5)\n",
    "all_colors_palette"
   ]
  },
  {
   "cell_type": "code",
   "execution_count": null,
   "id": "cfc7ccaca8cfa457",
   "metadata": {
    "ExecuteTime": {
     "end_time": "2024-06-15T22:03:19.451607Z",
     "start_time": "2024-06-15T22:03:18.996565Z"
    }
   },
   "outputs": [],
   "source": [
    "# plot histograms of relative max times for NPi and CV superimposed\n",
    "\n",
    "n_bins = 50\n",
    "# single ax\n",
    "fig, ax = plt.subplots(figsize=(10, 6))\n",
    "\n",
    "# represent as fractional counts\n",
    "sns.histplot(npi_relative_times_df, bins=n_bins, stat='percent', color=all_colors_palette[2], label='NPi', ax=ax, alpha=0.4)\n",
    "sns.histplot(cv_relative_times_df, bins=n_bins, stat='percent', color=all_colors_palette[0], label='CV', ax=ax, alpha=0.4)\n",
    "\n",
    "add_legend = True\n",
    "if add_legend:\n",
    "    ax.legend()\n",
    "    ax.set_xlabel('Time since event (days)')\n",
    "    ax.set_ylabel('Fraction of all reference values (%)')\n",
    "    \n",
    "# set lower bound of x axis to 0\n",
    "ax.set_xlim(left=0)\n",
    "\n",
    "# add % to y ticks\n",
    "y_ticks = ax.get_yticks()\n",
    "ax.set_yticklabels([f'{int(tick)}%' for tick in y_ticks])"
   ]
  },
  {
   "cell_type": "code",
   "execution_count": null,
   "id": "d148ada8317aabff",
   "metadata": {
    "ExecuteTime": {
     "end_time": "2024-06-15T22:11:47.485838Z",
     "start_time": "2024-06-15T22:11:47.252666Z"
    }
   },
   "outputs": [],
   "source": [
    "# save image to file\n",
    "output_dir = '/Users/jk1/Downloads'\n",
    "output_file = 'relative_max_times_histogram.svg'\n",
    "output_path = f'{output_dir}/{output_file}'\n",
    "fig.savefig(output_path, format='svg', bbox_inches='tight')"
   ]
  },
  {
   "cell_type": "code",
   "execution_count": null,
   "id": "12bb1249cf4f305f",
   "metadata": {},
   "outputs": [],
   "source": []
  }
 ],
 "metadata": {
  "kernelspec": {
   "display_name": "Python 3",
   "language": "python",
   "name": "python3"
  },
  "language_info": {
   "codemirror_mode": {
    "name": "ipython",
    "version": 2
   },
   "file_extension": ".py",
   "mimetype": "text/x-python",
   "name": "python",
   "nbconvert_exporter": "python",
   "pygments_lexer": "ipython2",
   "version": "2.7.6"
  }
 },
 "nbformat": 4,
 "nbformat_minor": 5
}
