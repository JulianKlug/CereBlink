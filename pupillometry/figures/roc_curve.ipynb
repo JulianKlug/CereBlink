{
 "cells": [
  {
   "cell_type": "code",
   "execution_count": null,
   "id": "initial_id",
   "metadata": {
    "ExecuteTime": {
     "end_time": "2024-03-28T20:01:06.281567Z",
     "start_time": "2024-03-28T20:01:06.275069Z"
    }
   },
   "outputs": [],
   "source": [
    "import os\n",
    "import numpy as np\n",
    "import re\n",
    "import pandas as pd\n",
    "import matplotlib.pyplot as plt\n",
    "import seaborn as sns\n",
    "import roc_utils as ru"
   ]
  },
  {
   "cell_type": "code",
   "execution_count": null,
   "id": "d9925019faa2019b",
   "metadata": {
    "ExecuteTime": {
     "end_time": "2024-03-28T20:01:06.286006Z",
     "start_time": "2024-03-28T20:01:06.283235Z"
    }
   },
   "outputs": [],
   "source": [
    "data_dir = '/Users/jk1/temp/cereblink/data_saving/exclude_nan_outcome_False'\n",
    "output_dir = '/Users/jk1/Downloads'"
   ]
  },
  {
   "cell_type": "code",
   "execution_count": null,
   "id": "5a2a88b612cec968",
   "metadata": {
    "ExecuteTime": {
     "end_time": "2024-03-28T20:01:06.885792Z",
     "start_time": "2024-03-28T20:01:06.287391Z"
    }
   },
   "outputs": [],
   "source": [
    "data_filenames = [f for f in os.listdir(data_dir) if f.endswith('.csv') and 'timebin' in f and 'reassembled_pupillometry' in f]\n",
    "\n",
    "pupillometry_df = pd.DataFrame()\n",
    "for data_filename in data_filenames:\n",
    "    # find timebin size with regex identifying pattern : _xh_\n",
    "    timebin_size = int(re.search(r'_(\\d+)h_', data_filename).group(1))\n",
    "    data_is_normalized = int(('normalized' in data_filename) or ('normalised' in data_filename))\n",
    "    outcome = '_'.join(data_filename.split('_')[0:2])\n",
    "\n",
    "    df = pd.read_csv(os.path.join(data_dir, data_filename))\n",
    "    df['timebin_size'] = timebin_size\n",
    "    df['normalized'] = data_is_normalized\n",
    "    df['outcome'] = outcome\n",
    "    pupillometry_df = pd.concat([pupillometry_df, df], axis=0)\n",
    "    \n",
    "pupillometry_df = pupillometry_df.reset_index(drop=True)\n",
    "pupillometry_df.drop(columns=['Unnamed: 0'], inplace=True)"
   ]
  },
  {
   "cell_type": "code",
   "execution_count": null,
   "id": "82b2f924aa3a2ed7",
   "metadata": {
    "ExecuteTime": {
     "end_time": "2024-03-28T20:01:06.918215Z",
     "start_time": "2024-03-28T20:01:06.891451Z"
    }
   },
   "outputs": [],
   "source": [
    "pupillometry_df.head()"
   ]
  },
  {
   "cell_type": "code",
   "execution_count": null,
   "id": "3b01507b2c6d8a33",
   "metadata": {
    "ExecuteTime": {
     "end_time": "2024-03-28T20:01:06.922622Z",
     "start_time": "2024-03-28T20:01:06.919723Z"
    }
   },
   "outputs": [],
   "source": [
    "outcome = 'DCI_ischemia'\n",
    "timebin_size = 8\n",
    "data_is_normalized = 1\n",
    "metric = 'CV_inter_eye_min_timebin_min'"
   ]
  },
  {
   "cell_type": "code",
   "execution_count": null,
   "id": "874ced233b4677de",
   "metadata": {
    "ExecuteTime": {
     "end_time": "2024-03-28T20:01:06.928557Z",
     "start_time": "2024-03-28T20:01:06.923868Z"
    }
   },
   "outputs": [],
   "source": [
    "all_colors_palette = sns.color_palette(['#f61067', '#049b9a', '#012D98', '#a76dfe', '#FFA987'], n_colors=5)\n",
    "all_colors_palette"
   ]
  },
  {
   "cell_type": "code",
   "execution_count": null,
   "id": "849174cd3d224f53",
   "metadata": {
    "ExecuteTime": {
     "end_time": "2024-03-28T20:01:07.858336Z",
     "start_time": "2024-03-28T20:01:06.930439Z"
    }
   },
   "outputs": [],
   "source": [
    "from sklearn.metrics import roc_curve, auc\n",
    "import matplotlib.patches as mpatches\n",
    "from matplotlib.legend_handler import HandlerTuple\n",
    "\n",
    "def plot_roc_curve(pupillometry_df, outcome, timebin_size, metric, all_colors_palette, \n",
    "    tick_label_size = 11,\n",
    "    label_font_size = 13,\n",
    "    n_samples = 10,\n",
    "    plot_legend = True,\n",
    "    plot_NPI = True,\n",
    "    fig=None):\n",
    "    \n",
    "    title = f\"{metric}, {timebin_size}h timebin\"\n",
    "    \n",
    "    normalized_metric_df = pupillometry_df[(pupillometry_df['outcome'] == outcome) & (pupillometry_df['timebin_size'] == timebin_size) & (pupillometry_df['normalized'] == 1)]\n",
    "    normalized_metric_df.dropna(subset=[metric], inplace=True)\n",
    "    \n",
    "    non_normalized_metric_df = pupillometry_df[(pupillometry_df['outcome'] == outcome) & (pupillometry_df['timebin_size'] == timebin_size) & (pupillometry_df['normalized'] == 0)]\n",
    "    non_normalized_metric_df.dropna(subset=[metric], inplace=True)\n",
    "    \n",
    "    corresponding_npi = 'NPI' + metric[2:]\n",
    "    non_normalized_npi_df = pupillometry_df[(pupillometry_df['outcome'] == outcome) & (pupillometry_df['timebin_size'] == timebin_size) & (pupillometry_df['normalized'] == 1)]\n",
    "    non_normalized_npi_df.dropna(subset=[corresponding_npi], inplace=True)\n",
    "    \n",
    "    norm_metric_fpr, norm_metric_tpr, norm_metric_thresholds = roc_curve(\n",
    "        normalized_metric_df['label'],\n",
    "        -1 * normalized_metric_df[metric],\n",
    "        pos_label=1,\n",
    "    )\n",
    "    norm_metric_roc_auc = auc(norm_metric_fpr, norm_metric_tpr)\n",
    "    \n",
    "    non_norm_metric_fpr, non_norm_metric_tpr, non_norm_metric_thresholds = roc_curve(\n",
    "        non_normalized_metric_df['label'],\n",
    "        -1 * non_normalized_metric_df[metric],\n",
    "        pos_label=1,\n",
    "    )\n",
    "    non_norm_metric_roc_auc = auc(non_norm_metric_fpr, non_norm_metric_tpr)\n",
    "    \n",
    "    non_norm_npi_fpr, non_norm_npi_tpr, non_norm_npi_thresholds = roc_curve(\n",
    "        non_normalized_npi_df['label'],\n",
    "        non_normalized_npi_df[corresponding_npi],\n",
    "        pos_label=1,\n",
    "    )\n",
    "    non_norm_npi_roc_auc = auc(non_norm_npi_fpr, non_norm_npi_tpr)\n",
    "    if non_norm_npi_roc_auc < 0.5:\n",
    "        non_norm_npi_roc_auc = 1 - non_norm_npi_roc_auc\n",
    "    \n",
    "    if fig is None:\n",
    "        fig, ax = plt.subplots(figsize=(10, 10))\n",
    "    else:\n",
    "        ax = fig.add_subplot(1, 1, 1)\n",
    "    \n",
    "    # Plot normalized metric \n",
    "    ru.plot_roc_bootstrap(X=-1 * normalized_metric_df[metric], y=normalized_metric_df['label'], ax=ax, \n",
    "                          pos_label=1,\n",
    "                          n_bootstrap=n_samples,\n",
    "                          random_state=42, show_ti=False)\n",
    "    \n",
    "    # set color \n",
    "    ax.get_lines()[0].set_color(all_colors_palette[0])\n",
    "    ax.get_children()[0].set_facecolor(all_colors_palette[0])\n",
    "    ax.get_children()[0].set_edgecolor(all_colors_palette[0])\n",
    "    ax.get_children()[0].set_alpha(0.1)\n",
    "    \n",
    "    # Plot non-normalized metric\n",
    "    ru.plot_roc_bootstrap(X=-1 * non_normalized_metric_df[metric], y=non_normalized_metric_df['label'], ax=ax, \n",
    "                          pos_label=1,\n",
    "                          n_bootstrap=n_samples,\n",
    "                          random_state=42, show_ti=False)\n",
    "    \n",
    "    # set color\n",
    "    ax.get_lines()[2].set_color(all_colors_palette[3])\n",
    "    ax.get_children()[3].set_facecolor(all_colors_palette[3])\n",
    "    ax.get_children()[3].set_edgecolor(all_colors_palette[3])\n",
    "    ax.get_children()[3].set_alpha(0.1)\n",
    "    \n",
    "    if plot_NPI:\n",
    "        # Plot non-normalized NPI\n",
    "        ru.plot_roc_bootstrap(X=non_normalized_npi_df[corresponding_npi], y=non_normalized_npi_df['label'], ax=ax, \n",
    "                              pos_label=1,\n",
    "                              n_bootstrap=n_samples,\n",
    "                              random_state=42, show_ti=False, auto_flip=True)\n",
    "    \n",
    "        # set color\n",
    "        ax.get_lines()[4].set_color(all_colors_palette[2])\n",
    "        ax.get_children()[6].set_facecolor(all_colors_palette[2])\n",
    "        ax.get_children()[6].set_edgecolor(all_colors_palette[2])\n",
    "        ax.get_children()[6].set_alpha(0.1)\n",
    "    \n",
    "    # Plot chance\n",
    "    ax.plot([0, 1], [0, 1], color='grey', lw=1, linestyle='--', alpha=0.5)\n",
    "    \n",
    "    if plot_legend:\n",
    "        legend_markers, _ = ax.get_legend_handles_labels()\n",
    "        norm_label = f'Normalized (AUC = {norm_metric_roc_auc:.2f})'\n",
    "        non_norm_label = f'Non-normalized (AUC = {non_norm_metric_roc_auc:.2f})'\n",
    "        legend_labels = [norm_label, non_norm_label]\n",
    "        \n",
    "        if plot_NPI:\n",
    "            npi_label = f'NPI (normalized) (AUC = {non_norm_npi_roc_auc:.2f})'\n",
    "            legend_labels.append(npi_label)\n",
    "        \n",
    "        sd1_patch = mpatches.Patch(color=all_colors_palette[0], alpha=0.3)\n",
    "        sd2_patch = mpatches.Patch(color=all_colors_palette[3], alpha=0.3)\n",
    "        sd_marker = (sd1_patch, sd2_patch)\n",
    "        if plot_NPI:\n",
    "            sd3_patch = mpatches.Patch(color=all_colors_palette[2], alpha=0.3)\n",
    "            sd_marker = (sd1_patch, sd2_patch, sd3_patch)\n",
    "        sd_labels = '95% CI'\n",
    "        legend_markers.append(sd_marker)\n",
    "        legend_labels.append(sd_labels)\n",
    "        ax.legend(legend_markers, legend_labels, fontsize=label_font_size,\n",
    "                  handler_map={tuple: HandlerTuple(ndivide=None)})\n",
    "        \n",
    "    else:\n",
    "        # remove legend\n",
    "        ax.get_legend().remove()\n",
    "    \n",
    "    \n",
    "    ax.set_xlim([0.0, 1.0])\n",
    "    ax.set_ylim([0.0, 1.05])\n",
    "    ax.set_xlabel('1 - Specificity (False Positive Rate)', fontsize=label_font_size)\n",
    "    ax.set_ylabel('Sensitivity (True Positive Rate)', fontsize=label_font_size)\n",
    "    ax.tick_params('x', labelsize=tick_label_size)\n",
    "    ax.tick_params('y', labelsize=tick_label_size)\n",
    "    \n",
    "    \n",
    "    plt.title(title)\n",
    "    # remove suptitle\n",
    "    plt.suptitle('')\n",
    "    \n",
    "    return ax, fig"
   ]
  },
  {
   "cell_type": "code",
   "execution_count": null,
   "id": "4db4cd9168e8f106",
   "metadata": {
    "ExecuteTime": {
     "end_time": "2024-03-28T20:01:08.406451Z",
     "start_time": "2024-03-28T20:01:07.859662Z"
    }
   },
   "outputs": [],
   "source": [
    "ax, fig = plot_roc_curve(pupillometry_df, outcome, timebin_size, metric, all_colors_palette, plot_NPI=True, plot_legend=True)"
   ]
  },
  {
   "cell_type": "code",
   "execution_count": null,
   "id": "998a0fd70363f9d",
   "metadata": {
    "ExecuteTime": {
     "end_time": "2024-03-28T20:01:08.413089Z",
     "start_time": "2024-03-28T20:01:08.409416Z"
    }
   },
   "outputs": [],
   "source": [
    "# Save figure\n",
    "# fig.savefig(os.path.join(output_dir, f'{outcome}_{timebin_size}h_{metric}_roc.png'), dpi=300, bbox_inches='tight')"
   ]
  },
  {
   "cell_type": "code",
   "execution_count": null,
   "id": "db7bf3fab5986f3c",
   "metadata": {
    "ExecuteTime": {
     "end_time": "2024-03-28T20:01:10.810486Z",
     "start_time": "2024-03-28T20:01:08.416025Z"
    }
   },
   "outputs": [],
   "source": [
    "# create combined figure\n",
    "sns.set_theme(style=\"whitegrid\", context=\"paper\", font_scale = 1)\n",
    "cm = 1/2.54  # centimeters in inches\n",
    "main_fig = plt.figure(figsize=(18 * cm, 10 * cm))\n",
    "\n",
    "outcome = 'DCI_ischemia'\n",
    "timebin_sizes = [8, 6]\n",
    "metrics = ['CV_inter_eye_min_timebin_max', 'CV_inter_eye_min_timebin_min']\n",
    "n_samples = 100\n",
    "\n",
    "tick_label_size = 6\n",
    "label_font_size = 7\n",
    "subplot_number_font_size = 9\n",
    "suptitle_font_size = 10\n",
    "plot_subplot_titles = True\n",
    "wspace = 0.15\n",
    "\n",
    "subfigs = main_fig.subfigures(1, 2, width_ratios=[1, 1])\n",
    "subfigs[0].subplots_adjust(wspace=wspace)\n",
    "subfigs[1].subplots_adjust(wspace=wspace)\n",
    "\n",
    "# CV_inter_eye_min_timebin_max at 8h\n",
    "ax1, fig1 = plot_roc_curve(pupillometry_df, outcome, timebin_sizes[0], metrics[0], all_colors_palette, plot_NPI=True, plot_legend=True, fig=subfigs[0],\n",
    "                            tick_label_size=tick_label_size, label_font_size=label_font_size, n_samples=n_samples)\n",
    "ax1.title.set_text('')\n",
    "fig1.suptitle(f'A. CV (inter-eye min, max in timebin), {timebin_sizes[0]}h', fontsize=subplot_number_font_size, horizontalalignment='left', x=0, y=1.)\n",
    "\n",
    "# CV_inter_eye_min_timebin_min at 6h\n",
    "ax2, fig2 = plot_roc_curve(pupillometry_df, outcome, timebin_sizes[1], metrics[1], all_colors_palette, plot_NPI=True, plot_legend=True, fig=subfigs[1],\n",
    "                            tick_label_size=tick_label_size, label_font_size=label_font_size, n_samples=n_samples)\n",
    "ax2.title.set_text('')\n",
    "fig2.suptitle(f'B. CV (inter-eye min, min in timebin), {timebin_sizes[1]}h', fontsize=subplot_number_font_size, horizontalalignment='left', x=0, y=1.)\n",
    "\n",
    "main_fig.tight_layout()"
   ]
  },
  {
   "cell_type": "code",
   "execution_count": null,
   "id": "fcc1ea49d0351808",
   "metadata": {
    "ExecuteTime": {
     "end_time": "2024-03-28T20:01:10.815696Z",
     "start_time": "2024-03-28T20:01:10.812081Z"
    }
   },
   "outputs": [],
   "source": [
    "# save figure\n",
    "# main_fig.savefig(os.path.join(output_dir, f'{outcome}_roc_combined.tiff'), dpi=600, format='tiff', bbox_inches='tight')"
   ]
  },
  {
   "cell_type": "code",
   "execution_count": null,
   "id": "528edceed3333376",
   "metadata": {
    "ExecuteTime": {
     "end_time": "2024-03-28T20:01:10.820452Z",
     "start_time": "2024-03-28T20:01:10.818175Z"
    }
   },
   "outputs": [],
   "source": []
  }
 ],
 "metadata": {
  "kernelspec": {
   "display_name": "Python 3",
   "language": "python",
   "name": "python3"
  },
  "language_info": {
   "codemirror_mode": {
    "name": "ipython",
    "version": 2
   },
   "file_extension": ".py",
   "mimetype": "text/x-python",
   "name": "python",
   "nbconvert_exporter": "python",
   "pygments_lexer": "ipython2",
   "version": "2.7.6"
  }
 },
 "nbformat": 4,
 "nbformat_minor": 5
}
