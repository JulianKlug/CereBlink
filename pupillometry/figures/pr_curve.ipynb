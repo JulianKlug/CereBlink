{
 "cells": [
  {
   "cell_type": "code",
   "execution_count": null,
   "id": "initial_id",
   "metadata": {
    "ExecuteTime": {
     "end_time": "2024-03-12T05:00:19.798992Z",
     "start_time": "2024-03-12T05:00:19.792690Z"
    }
   },
   "outputs": [],
   "source": [
    "import numpy as np\n",
    "import pandas as pd\n",
    "from tqdm import tqdm\n",
    "import os\n",
    "import re\n",
    "from sklearn.metrics import auc, precision_recall_curve\n",
    "from sklearn.utils import resample\n",
    "import seaborn as sns\n",
    "import matplotlib.pyplot as plt"
   ]
  },
  {
   "cell_type": "code",
   "execution_count": null,
   "id": "ce53c3174fdfe006",
   "metadata": {
    "ExecuteTime": {
     "end_time": "2024-03-12T05:00:19.807364Z",
     "start_time": "2024-03-12T05:00:19.804006Z"
    }
   },
   "outputs": [],
   "source": [
    "data_dir = '/Users/jk1/temp/cereblink/data_saving/exclude_nan_outcome_False'\n",
    "output_dir = '/Users/jk1/Downloads'"
   ]
  },
  {
   "cell_type": "code",
   "execution_count": null,
   "id": "59baf58c9b765338",
   "metadata": {
    "ExecuteTime": {
     "end_time": "2024-03-12T05:00:19.823699Z",
     "start_time": "2024-03-12T05:00:19.810370Z"
    }
   },
   "outputs": [],
   "source": [
    "\n",
    "def boostrapped_pr_curve(gt, predictions, interpolations_points=200, n_samples=100):\n",
    "    bs_gt, bs_predictions  = [], []\n",
    "    for i in range(n_samples):\n",
    "        bs_sample_gt, bs_sample_predictions = resample(gt, predictions, replace=True, random_state=i)\n",
    "        bs_gt.append(bs_sample_gt)\n",
    "        bs_predictions.append(bs_sample_predictions)\n",
    "    bs_pr_aucs = []\n",
    "\n",
    "    resampled_pr_df = pd.DataFrame()\n",
    "\n",
    "    for idx in tqdm(range(len(bs_predictions))):\n",
    "        bs_precision, bs_recall, _ = precision_recall_curve(bs_gt[idx], bs_predictions[idx])\n",
    "        bs_pr_auc = auc(bs_recall, bs_precision)\n",
    "        bs_pr_aucs.append(bs_pr_auc)\n",
    "\n",
    "        # sort by recall\n",
    "        bs_recall, bs_precision = zip(*sorted(zip(bs_recall, bs_precision)))\n",
    "        bs_resampled_precision = np.interp(np.linspace(0, 1, interpolations_points), bs_recall, bs_precision)\n",
    "        bs_resampled_pr_df = pd.DataFrame({'precision': bs_resampled_precision, 'recall': np.linspace(0, 1, interpolations_points)})\n",
    "        bs_resampled_pr_df['bootstrap_idx'] = idx\n",
    "        resampled_pr_df = pd.concat([resampled_pr_df, bs_resampled_pr_df], axis=0)\n",
    "\n",
    "    return bs_pr_aucs, resampled_pr_df"
   ]
  },
  {
   "cell_type": "code",
   "execution_count": null,
   "id": "f862846337ee875",
   "metadata": {
    "ExecuteTime": {
     "end_time": "2024-03-12T05:00:19.832473Z",
     "start_time": "2024-03-12T05:00:19.826085Z"
    }
   },
   "outputs": [],
   "source": [
    "drop_overlapping_timebins = True"
   ]
  },
  {
   "cell_type": "code",
   "execution_count": null,
   "id": "2c7ddd987ab5e895",
   "metadata": {
    "ExecuteTime": {
     "end_time": "2024-03-12T05:00:19.841307Z",
     "start_time": "2024-03-12T05:00:19.835272Z"
    }
   },
   "outputs": [],
   "source": [
    "pupillometry_metrics = ['NPI', 'CV']\n",
    "inter_eye_metrics = ['mean', 'min', 'max', 'delta']\n",
    "# combine to get all metrics\n",
    "single_timepoint_metrics = [f'{metric}_inter_eye_{metric_type}' for metric in pupillometry_metrics for metric_type in\n",
    "                            inter_eye_metrics]\n",
    "over_time_metrics = ['max', 'min', 'median']\n",
    "# combine to get all metrics\n",
    "timebin_metrics = [f'{metric}_timebin_{metric_type}' for metric in single_timepoint_metrics for metric_type in\n",
    "                   over_time_metrics]"
   ]
  },
  {
   "cell_type": "code",
   "execution_count": null,
   "id": "24da18c0d518b0da",
   "metadata": {
    "ExecuteTime": {
     "end_time": "2024-03-12T05:00:20.737900Z",
     "start_time": "2024-03-12T05:00:19.844582Z"
    }
   },
   "outputs": [],
   "source": [
    "data_filenames = [f for f in os.listdir(data_dir) if f.endswith('.csv') and 'timebin' in f and 'reassembled_pupillometry' in f]\n",
    "\n",
    "pupillometry_df = pd.DataFrame()\n",
    "for data_filename in data_filenames:\n",
    "    # find timebin size with regex identifying pattern : _xh_\n",
    "    timebin_size = int(re.search(r'_(\\d+)h_', data_filename).group(1))\n",
    "    data_is_normalized = int(('normalized' in data_filename) or ('normalised' in data_filename))\n",
    "    outcome = '_'.join(data_filename.split('_')[0:2])\n",
    "\n",
    "    df = pd.read_csv(os.path.join(data_dir, data_filename))\n",
    "    df['timebin_size'] = timebin_size\n",
    "    df['normalized'] = data_is_normalized\n",
    "    df['outcome'] = outcome\n",
    "    \n",
    "    # # drop overlapping timebins\n",
    "    if drop_overlapping_timebins:\n",
    "       # find first timebin for every pNr\n",
    "        df.timebin_end = pd.to_datetime(df.timebin_end)\n",
    "        df['first_timebin'] = df.groupby('pNr')['timebin_end'].transform('min')\n",
    "        df['relative_timebin_end'] = (df['timebin_end'] - df['first_timebin']).dt.total_seconds() / 3600\n",
    "        df['relative_timebin_end_cat'] = df['relative_timebin_end'] / df['timebin_size']\n",
    "        df.loc[~df.relative_timebin_end_cat.isna(), 'relative_timebin_end_cat'] = df.loc[~df.relative_timebin_end_cat.isna(), 'relative_timebin_end_cat'].astype(int)\n",
    "        # drop row if all timebin metrics in row are NaN\n",
    "        df.dropna(subset=timebin_metrics, how='all', inplace=True)\n",
    "        df.drop_duplicates(subset=['pNr', 'relative_timebin_end_cat', 'label'], inplace=True)\n",
    "    \n",
    "    pupillometry_df = pd.concat([pupillometry_df, df], axis=0)\n",
    "    \n",
    "pupillometry_df = pupillometry_df.reset_index(drop=True)\n",
    "pupillometry_df.drop(columns=['Unnamed: 0'], inplace=True)"
   ]
  },
  {
   "cell_type": "code",
   "execution_count": null,
   "id": "415de4bc9cada1d",
   "metadata": {
    "ExecuteTime": {
     "end_time": "2024-03-12T05:14:32.199243Z",
     "start_time": "2024-03-12T05:14:32.183579Z"
    }
   },
   "outputs": [],
   "source": [
    "outcome = 'DCI_ischemia'\n",
    "timebin_size = 8\n",
    "data_is_normalized = 1\n",
    "metric = 'CV_inter_eye_mean_timebin_max'"
   ]
  },
  {
   "cell_type": "code",
   "execution_count": null,
   "id": "ac706c9462514ced",
   "metadata": {
    "ExecuteTime": {
     "end_time": "2024-03-12T05:14:32.659648Z",
     "start_time": "2024-03-12T05:14:32.647576Z"
    }
   },
   "outputs": [],
   "source": [
    "all_colors_palette = sns.color_palette(['#f61067', '#049b9a', '#012D98', '#a76dfe'], n_colors=4)\n",
    "all_colors_palette\n"
   ]
  },
  {
   "cell_type": "code",
   "execution_count": null,
   "id": "efca9698d7edeceb",
   "metadata": {
    "ExecuteTime": {
     "end_time": "2024-03-12T05:14:33.295094Z",
     "start_time": "2024-03-12T05:14:33.266150Z"
    }
   },
   "outputs": [],
   "source": [
    "normalized_metric_df"
   ]
  },
  {
   "cell_type": "code",
   "execution_count": null,
   "id": "5f4b18f5c5de844d",
   "metadata": {
    "ExecuteTime": {
     "end_time": "2024-03-12T05:14:47.961850Z",
     "start_time": "2024-03-12T05:14:33.807739Z"
    }
   },
   "outputs": [],
   "source": [
    "import matplotlib.patches as mpatches\n",
    "from matplotlib.legend_handler import HandlerTuple\n",
    "\n",
    "tick_label_size = 11\n",
    "label_font_size = 13\n",
    "n_samples = 10\n",
    "plot_legend = True\n",
    "plot_NPI = True\n",
    "\n",
    "interpolations_points = 200\n",
    "title = f\"{metric}, {timebin_size}h timebin\"\n",
    "\n",
    "\n",
    "normalized_metric_df = pupillometry_df[(pupillometry_df['outcome'] == outcome) & (pupillometry_df['timebin_size'] == timebin_size) & (pupillometry_df['normalized'] == 1)]\n",
    "normalized_metric_df.dropna(subset=[metric], inplace=True)\n",
    "\n",
    "non_normalized_metric_df = pupillometry_df[(pupillometry_df['outcome'] == outcome) & (pupillometry_df['timebin_size'] == timebin_size) & (pupillometry_df['normalized'] == 0)]\n",
    "non_normalized_metric_df.dropna(subset=[metric], inplace=True)\n",
    "\n",
    "corresponding_npi = 'NPI' + metric[2:]\n",
    "non_normalized_npi_df = pupillometry_df[(pupillometry_df['outcome'] == outcome) & (pupillometry_df['timebin_size'] == timebin_size) & (pupillometry_df['normalized'] == 1)]\n",
    "non_normalized_npi_df.dropna(subset=[corresponding_npi], inplace=True)\n",
    "\n",
    "normalized_metric_bs_pr_aucs, normalized_metric_resampled_pr_df = boostrapped_pr_curve(normalized_metric_df.label, normalized_metric_df[metric], interpolations_points=interpolations_points, n_samples=n_samples)\n",
    "non_normalized_metric_bs_pr_aucs, non_normalized_metric_resampled_pr_df = boostrapped_pr_curve(non_normalized_metric_df.label, non_normalized_metric_df[metric], interpolations_points=interpolations_points, n_samples=n_samples)\n",
    "corresponding_npi_bs_pr_aucs, corresponding_npi_resampled_pr_df = boostrapped_pr_curve(non_normalized_npi_df.label, non_normalized_npi_df[corresponding_npi], interpolations_points=interpolations_points, n_samples=n_samples)\n",
    "\n",
    "fig, ax = plt.subplots(figsize=(10, 10))\n",
    "\n",
    "sns.lineplot(x='recall', y='precision', data=normalized_metric_resampled_pr_df, color=all_colors_palette[0], label=f'Normalized, AUC: {np.median(normalized_metric_bs_pr_aucs):.3f}', ax=ax, errorbar=('ci', 95))\n",
    "sns.lineplot(x='recall', y='precision', data=non_normalized_metric_resampled_pr_df, color=all_colors_palette[1], label=f'Non-normalized, AUC: {np.median(non_normalized_metric_bs_pr_aucs):.3f}', ax=ax, errorbar=('ci', 95))\n",
    "\n",
    "if plot_NPI:\n",
    "    sns.lineplot(x='recall', y='precision', data=corresponding_npi_resampled_pr_df, color=all_colors_palette[2], label=f'NPI, AUC: {np.median(corresponding_npi_bs_pr_aucs):.3f}', ax=ax, errorbar=('ci', 95))\n",
    "\n",
    "ax.set_xlabel('Recall (Sensitivity)', fontsize=label_font_size)\n",
    "ax.set_ylabel('Precision (PPV)', fontsize=label_font_size)\n",
    "\n",
    "ax.set_yscale('log')\n"
   ]
  },
  {
   "cell_type": "code",
   "execution_count": null,
   "id": "250691f19c0da710",
   "metadata": {
    "ExecuteTime": {
     "end_time": "2024-03-12T05:08:23.197308Z",
     "start_time": "2024-03-12T05:08:23.190605Z"
    }
   },
   "outputs": [],
   "source": [
    "normalized_metric_bs_pr_aucs"
   ]
  },
  {
   "cell_type": "code",
   "execution_count": null,
   "id": "9b2c1a3c27526883",
   "metadata": {
    "ExecuteTime": {
     "end_time": "2024-03-12T05:00:36.183942Z",
     "start_time": "2024-03-12T05:00:36.181858Z"
    }
   },
   "outputs": [],
   "source": []
  }
 ],
 "metadata": {
  "kernelspec": {
   "display_name": "Python 3",
   "language": "python",
   "name": "python3"
  },
  "language_info": {
   "codemirror_mode": {
    "name": "ipython",
    "version": 2
   },
   "file_extension": ".py",
   "mimetype": "text/x-python",
   "name": "python",
   "nbconvert_exporter": "python",
   "pygments_lexer": "ipython2",
   "version": "2.7.6"
  }
 },
 "nbformat": 4,
 "nbformat_minor": 5
}
