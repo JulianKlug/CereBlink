{
 "cells": [
  {
   "cell_type": "markdown",
   "id": "d07efebed176e87e",
   "metadata": {
    "collapsed": false
   },
   "source": [
    "## Frequency of pupillometry measurements"
   ]
  },
  {
   "cell_type": "code",
   "execution_count": null,
   "id": "initial_id",
   "metadata": {
    "ExecuteTime": {
     "end_time": "2024-03-12T01:22:30.476550Z",
     "start_time": "2024-03-12T01:22:30.464200Z"
    }
   },
   "outputs": [],
   "source": [
    "import pandas as pd\n",
    "from utils import load_encrypted_xlsx\n",
    "import os"
   ]
  },
  {
   "cell_type": "code",
   "execution_count": null,
   "id": "3805f89264648f76",
   "metadata": {
    "ExecuteTime": {
     "end_time": "2024-03-12T01:22:30.482845Z",
     "start_time": "2024-03-12T01:22:30.479118Z"
    }
   },
   "outputs": [],
   "source": [
    "registry_data_path = '/Users/jk1/Library/CloudStorage/OneDrive-unige.ch/icu_research/dci_sah/data/sos_sah_data/post_hoc_modified_aSAH_DATA_2009_2023_24122023.xlsx'\n",
    "pupillometry_data_path = '/Users/jk1/Library/CloudStorage/OneDrive-unige.ch/icu_research/dci_sah/data/pdms_data/Transfer Urs.pietsch@kssg.ch 22.01.24, 15_34/20240117_SAH_SOS_Pupillometrie.csv'\n",
    "registry_pdms_correspondence_path = '/Users/jk1/Library/CloudStorage/OneDrive-unige.ch/icu_research/dci_sah/data/pdms_data/registry_pdms_correspondence.csv'\n",
    "output_path = '/Users/jk1/Downloads'"
   ]
  },
  {
   "cell_type": "code",
   "execution_count": null,
   "id": "5cd8bcb9300d26f2",
   "metadata": {
    "ExecuteTime": {
     "end_time": "2024-03-12T01:23:00.318611Z",
     "start_time": "2024-03-12T01:22:30.485098Z"
    }
   },
   "outputs": [],
   "source": [
    "registry_df = load_encrypted_xlsx(registry_data_path)\n",
    "pupillometry_df = pd.read_csv(pupillometry_data_path, sep=';', decimal='.')\n",
    "registry_pdms_correspondence_df = pd.read_csv(registry_pdms_correspondence_path)"
   ]
  },
  {
   "cell_type": "code",
   "execution_count": null,
   "id": "3295fc63c0ff377b",
   "metadata": {
    "ExecuteTime": {
     "end_time": "2024-03-12T01:23:00.366949Z",
     "start_time": "2024-03-12T01:23:00.326033Z"
    }
   },
   "outputs": [],
   "source": [
    "registry_pdms_correspondence_df.rename(columns={'JoinedName': 'Name'}, inplace=True)\n",
    "registry_pdms_correspondence_df['Date_birth'] = pd.to_datetime(registry_pdms_correspondence_df['Date_birth'], format='%Y-%m-%d')\n",
    "registry_df = registry_df.merge(registry_pdms_correspondence_df, on=['SOS-CENTER-YEAR-NO.', 'Name', 'Date_birth'], how='left')"
   ]
  },
  {
   "cell_type": "code",
   "execution_count": null,
   "id": "920f98ee97bde226",
   "metadata": {
    "ExecuteTime": {
     "end_time": "2024-03-12T01:23:00.391399Z",
     "start_time": "2024-03-12T01:23:00.370171Z"
    }
   },
   "outputs": [],
   "source": [
    "registry_df.Date_Ictus.fillna(registry_df.Date_admission, inplace=True)\n",
    "pupillometry_df = pupillometry_df.merge(registry_df[['pNr', 'Date_Ictus']], on='pNr', how='left')"
   ]
  },
  {
   "cell_type": "markdown",
   "id": "f4759f598f220ed",
   "metadata": {
    "collapsed": false
   },
   "source": [
    "## Frequency of measurements"
   ]
  },
  {
   "cell_type": "code",
   "execution_count": null,
   "id": "5c749067d230f1a3",
   "metadata": {
    "ExecuteTime": {
     "end_time": "2024-03-12T01:23:00.424186Z",
     "start_time": "2024-03-12T01:23:00.393436Z"
    }
   },
   "outputs": [],
   "source": [
    "# for every pNr get the frequency of measurements (timings in timePupil)\n",
    "pupillometry_df['timePupil'] = pd.to_datetime(pupillometry_df['timePupil'])\n",
    "# groupby pNr; then sort by timePupil and get the difference between consecutive timePupil values\n",
    "pupillometry_df = pupillometry_df.sort_values('timePupil')\n",
    "pupillometry_df['timePupilDiff'] = pupillometry_df.groupby('pNr')['timePupil'].diff()\n",
    "# convert to hours\n",
    "pupillometry_df['timePupilDiff'] = pupillometry_df['timePupilDiff'].dt.total_seconds() / (60*60)"
   ]
  },
  {
   "cell_type": "code",
   "execution_count": null,
   "id": "4b08f918cc68630d",
   "metadata": {
    "ExecuteTime": {
     "end_time": "2024-03-12T01:24:10.125632Z",
     "start_time": "2024-03-12T01:24:10.117585Z"
    }
   },
   "outputs": [],
   "source": [
    "pupillometry_df.drop_duplicates(subset=['pNr', 'timePupil'], inplace=True)"
   ]
  },
  {
   "cell_type": "code",
   "execution_count": null,
   "id": "677d7db2576a4720",
   "metadata": {
    "ExecuteTime": {
     "end_time": "2024-03-12T01:24:11.750342Z",
     "start_time": "2024-03-12T01:24:11.741648Z"
    }
   },
   "outputs": [],
   "source": [
    "pupillometry_df['timePupilDiff'].describe()"
   ]
  },
  {
   "cell_type": "markdown",
   "id": "c866101d1759efe0",
   "metadata": {
    "collapsed": false
   },
   "source": [
    "### Plot Time between measurements over time"
   ]
  },
  {
   "cell_type": "code",
   "execution_count": null,
   "id": "f597dbeb12d57bd3",
   "metadata": {
    "ExecuteTime": {
     "end_time": "2024-03-12T01:23:00.487346Z",
     "start_time": "2024-03-12T01:23:00.453588Z"
    }
   },
   "outputs": [],
   "source": [
    "pupillometry_df['relative_time'] = pd.to_datetime(pupillometry_df['timePupil']) - pd.to_datetime(pupillometry_df['Date_Ictus'])\n",
    "pupillometry_df['relative_time'] = pupillometry_df['relative_time'].dt.total_seconds() / (60*60*24)\n",
    "pupillometry_df.loc[~pupillometry_df['relative_time'].isna(), 'relative_time_cat'] = pupillometry_df[~pupillometry_df['relative_time'].isna()]['relative_time'].astype(int)\n",
    "pupillometry_df.loc[~pupillometry_df['timePupilDiff'].isna(), 'timePupilDiff_cat'] = pupillometry_df[~pupillometry_df['timePupilDiff'].isna()]['timePupilDiff'].astype(int)"
   ]
  },
  {
   "cell_type": "code",
   "execution_count": null,
   "id": "ade42e8ee86541ca",
   "metadata": {
    "ExecuteTime": {
     "end_time": "2024-03-12T01:23:01.691638Z",
     "start_time": "2024-03-12T01:23:00.489607Z"
    }
   },
   "outputs": [],
   "source": [
    "import seaborn as sns\n",
    "import matplotlib.pyplot as plt\n",
    "\n",
    "temp_df = pupillometry_df[pupillometry_df['timePupilDiff'] < 20]\n",
    "\n",
    "ax = sns.scatterplot(data=temp_df, x='relative_time', y='timePupilDiff', hue='timePupilDiff', alpha=0.5, palette='rocket')\n",
    "ax.set(xlabel='Time since event (days)', ylabel='Time between measurements (hours)')"
   ]
  },
  {
   "cell_type": "code",
   "execution_count": null,
   "id": "494701961c52e5f0",
   "metadata": {
    "ExecuteTime": {
     "end_time": "2024-03-12T01:23:05.678240Z",
     "start_time": "2024-03-12T01:23:01.693816Z"
    }
   },
   "outputs": [],
   "source": [
    "fg = sns.displot(data=pupillometry_df, x='relative_time_cat', y='timePupilDiff_cat', kind='kde', fill=True, cmap='rocket', cbar=True, cbar_kws={'label': 'Density of measurements'}, \n",
    "                 cut=0)\n",
    "fg.ax.set(xlabel='Time since event (days)', ylabel='Time between measurements (hours)')\n",
    "fg.ax.set_ylim(0, 20)"
   ]
  },
  {
   "cell_type": "code",
   "execution_count": null,
   "id": "d3147e398d5f295c",
   "metadata": {
    "ExecuteTime": {
     "end_time": "2024-03-12T01:23:05.685442Z",
     "start_time": "2024-03-12T01:23:05.680956Z"
    }
   },
   "outputs": [],
   "source": [
    "# fg.savefig(os.path.join(output_path, 'pupillometry_frequency.tiff'), dpi=300)"
   ]
  },
  {
   "cell_type": "code",
   "execution_count": null,
   "id": "5884517ad3cc22d3",
   "metadata": {
    "ExecuteTime": {
     "end_time": "2024-03-12T01:23:05.690319Z",
     "start_time": "2024-03-12T01:23:05.687614Z"
    }
   },
   "outputs": [],
   "source": []
  }
 ],
 "metadata": {
  "kernelspec": {
   "display_name": "Python 3",
   "language": "python",
   "name": "python3"
  },
  "language_info": {
   "codemirror_mode": {
    "name": "ipython",
    "version": 2
   },
   "file_extension": ".py",
   "mimetype": "text/x-python",
   "name": "python",
   "nbconvert_exporter": "python",
   "pygments_lexer": "ipython2",
   "version": "2.7.6"
  }
 },
 "nbformat": 4,
 "nbformat_minor": 5
}
