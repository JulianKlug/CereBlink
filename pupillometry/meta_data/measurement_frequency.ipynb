{
 "cells": [
  {
   "cell_type": "markdown",
   "id": "d07efebed176e87e",
   "metadata": {
    "collapsed": false
   },
   "source": [
    "## Frequency of pupillometry measurements"
   ]
  },
  {
   "cell_type": "code",
   "execution_count": null,
   "id": "initial_id",
   "metadata": {
    "ExecuteTime": {
     "end_time": "2024-06-15T07:07:29.478138Z",
     "start_time": "2024-06-15T07:07:29.469113Z"
    }
   },
   "outputs": [],
   "source": [
    "import pandas as pd\n",
    "from utils import load_encrypted_xlsx\n",
    "import os\n",
    "import numpy as np"
   ]
  },
  {
   "cell_type": "code",
   "execution_count": null,
   "id": "3805f89264648f76",
   "metadata": {
    "ExecuteTime": {
     "end_time": "2024-06-15T07:07:29.484475Z",
     "start_time": "2024-06-15T07:07:29.479735Z"
    }
   },
   "outputs": [],
   "source": [
    "registry_data_path = '/Users/jk1/Library/CloudStorage/OneDrive-unige.ch/icu_research/dci_sah/data/sos_sah_data/post_hoc_modified_aSAH_DATA_2009_2023_24122023.xlsx'\n",
    "pupillometry_data_path = '/Users/jk1/Library/CloudStorage/OneDrive-unige.ch/icu_research/dci_sah/data/pdms_data/Transfer Urs.pietsch@kssg.ch 22.01.24, 15_34/20240117_SAH_SOS_Pupillometrie.csv'\n",
    "registry_pdms_correspondence_path = '/Users/jk1/Library/CloudStorage/OneDrive-unige.ch/icu_research/dci_sah/data/pdms_data/registry_pdms_correspondence.csv'\n",
    "output_path = '/Users/jk1/Downloads'"
   ]
  },
  {
   "cell_type": "code",
   "execution_count": null,
   "id": "5cd8bcb9300d26f2",
   "metadata": {
    "ExecuteTime": {
     "end_time": "2024-06-15T07:07:32.006033Z",
     "start_time": "2024-06-15T07:07:29.486013Z"
    }
   },
   "outputs": [],
   "source": [
    "registry_df = load_encrypted_xlsx(registry_data_path)\n",
    "pupillometry_df = pd.read_csv(pupillometry_data_path, sep=';', decimal='.')\n",
    "registry_pdms_correspondence_df = pd.read_csv(registry_pdms_correspondence_path)"
   ]
  },
  {
   "cell_type": "code",
   "execution_count": null,
   "id": "3295fc63c0ff377b",
   "metadata": {
    "ExecuteTime": {
     "end_time": "2024-06-15T07:07:32.029236Z",
     "start_time": "2024-06-15T07:07:32.007265Z"
    }
   },
   "outputs": [],
   "source": [
    "registry_pdms_correspondence_df.rename(columns={'JoinedName': 'Name'}, inplace=True)\n",
    "registry_pdms_correspondence_df['Date_birth'] = pd.to_datetime(registry_pdms_correspondence_df['Date_birth'], format='%Y-%m-%d')\n",
    "registry_df = registry_df.merge(registry_pdms_correspondence_df, on=['SOS-CENTER-YEAR-NO.', 'Name', 'Date_birth'], how='left')"
   ]
  },
  {
   "cell_type": "code",
   "execution_count": null,
   "id": "920f98ee97bde226",
   "metadata": {
    "ExecuteTime": {
     "end_time": "2024-06-15T07:07:32.043203Z",
     "start_time": "2024-06-15T07:07:32.030681Z"
    }
   },
   "outputs": [],
   "source": [
    "registry_df.Date_Ictus.fillna(registry_df.Date_admission, inplace=True)\n",
    "pupillometry_df = pupillometry_df.merge(registry_df[['pNr', 'Date_Ictus']], on='pNr', how='left')"
   ]
  },
  {
   "cell_type": "markdown",
   "id": "cf3dc1a9d4e5e2c0",
   "metadata": {
    "collapsed": false
   },
   "source": [
    "### Number of measurements per patient"
   ]
  },
  {
   "cell_type": "code",
   "execution_count": null,
   "id": "7d9182e1bd742d7b",
   "metadata": {
    "ExecuteTime": {
     "end_time": "2024-06-15T07:12:21.790651Z",
     "start_time": "2024-06-15T07:12:21.786342Z"
    }
   },
   "outputs": [],
   "source": [
    "pupillometry_df.shape[0] / pupillometry_df.pNr.nunique()"
   ]
  },
  {
   "cell_type": "code",
   "execution_count": null,
   "id": "6794b45e3b4362f8",
   "metadata": {
    "ExecuteTime": {
     "end_time": "2024-06-15T07:10:32.761520Z",
     "start_time": "2024-06-15T07:10:32.753957Z"
    }
   },
   "outputs": [],
   "source": [
    "pupillometry_df.groupby('pNr').size().describe()"
   ]
  },
  {
   "cell_type": "markdown",
   "id": "f4759f598f220ed",
   "metadata": {
    "collapsed": false
   },
   "source": [
    "## Frequency of measurements"
   ]
  },
  {
   "cell_type": "code",
   "execution_count": null,
   "id": "5c749067d230f1a3",
   "metadata": {
    "ExecuteTime": {
     "end_time": "2024-06-09T18:42:46.404013Z",
     "start_time": "2024-06-09T18:42:46.392260Z"
    }
   },
   "outputs": [],
   "source": [
    "# for every pNr get the frequency of measurements (timings in timePupil)\n",
    "pupillometry_df['timePupil'] = pd.to_datetime(pupillometry_df['timePupil'])\n",
    "# groupby pNr; then sort by timePupil and get the difference between consecutive timePupil values\n",
    "pupillometry_df = pupillometry_df.sort_values('timePupil')\n",
    "pupillometry_df['timePupilDiff'] = pupillometry_df.groupby('pNr')['timePupil'].diff()\n",
    "# convert to hours\n",
    "pupillometry_df['timePupilDiff'] = pupillometry_df['timePupilDiff'].dt.total_seconds() / (60*60)"
   ]
  },
  {
   "cell_type": "code",
   "execution_count": null,
   "id": "4b08f918cc68630d",
   "metadata": {
    "ExecuteTime": {
     "end_time": "2024-06-09T18:42:46.953603Z",
     "start_time": "2024-06-09T18:42:46.944870Z"
    }
   },
   "outputs": [],
   "source": [
    "pupillometry_df.drop_duplicates(subset=['pNr', 'timePupil'], inplace=True)"
   ]
  },
  {
   "cell_type": "code",
   "execution_count": null,
   "id": "677d7db2576a4720",
   "metadata": {
    "ExecuteTime": {
     "end_time": "2024-06-09T18:42:47.367747Z",
     "start_time": "2024-06-09T18:42:47.357736Z"
    }
   },
   "outputs": [],
   "source": [
    "pupillometry_df['timePupilDiff'].describe()"
   ]
  },
  {
   "cell_type": "markdown",
   "id": "c866101d1759efe0",
   "metadata": {
    "collapsed": false
   },
   "source": [
    "### Plot Time between measurements over time"
   ]
  },
  {
   "cell_type": "code",
   "execution_count": null,
   "id": "f597dbeb12d57bd3",
   "metadata": {
    "ExecuteTime": {
     "end_time": "2024-06-09T18:42:48.495782Z",
     "start_time": "2024-06-09T18:42:48.471837Z"
    }
   },
   "outputs": [],
   "source": [
    "pupillometry_df['relative_time'] = pd.to_datetime(pupillometry_df['timePupil']) - pd.to_datetime(pupillometry_df['Date_Ictus'])\n",
    "pupillometry_df['relative_time'] = pupillometry_df['relative_time'].dt.total_seconds() / (60*60*24)\n",
    "pupillometry_df.loc[~pupillometry_df['relative_time'].isna(), 'relative_time_cat'] = pupillometry_df[~pupillometry_df['relative_time'].isna()]['relative_time'].astype(int)\n",
    "pupillometry_df.loc[~pupillometry_df['timePupilDiff'].isna(), 'timePupilDiff_cat'] = pupillometry_df[~pupillometry_df['timePupilDiff'].isna()]['timePupilDiff'].astype(int)"
   ]
  },
  {
   "cell_type": "code",
   "execution_count": null,
   "id": "ade42e8ee86541ca",
   "metadata": {
    "ExecuteTime": {
     "end_time": "2024-06-09T18:42:50.617573Z",
     "start_time": "2024-06-09T18:42:49.745900Z"
    }
   },
   "outputs": [],
   "source": [
    "import seaborn as sns\n",
    "import matplotlib.pyplot as plt\n",
    "\n",
    "temp_df = pupillometry_df[pupillometry_df['timePupilDiff'] < 20]\n",
    "\n",
    "ax = sns.scatterplot(data=temp_df, x='relative_time', y='timePupilDiff', hue='timePupilDiff', alpha=0.5, palette='rocket')\n",
    "ax.set(xlabel='Time since event (days)', ylabel='Time between measurements (hours)')"
   ]
  },
  {
   "cell_type": "code",
   "execution_count": null,
   "id": "8ba3da84f2d75cec",
   "metadata": {},
   "outputs": [],
   "source": []
  },
  {
   "cell_type": "code",
   "execution_count": null,
   "id": "494701961c52e5f0",
   "metadata": {
    "ExecuteTime": {
     "end_time": "2024-06-09T19:41:39.759380Z",
     "start_time": "2024-06-09T19:41:37.110433Z"
    }
   },
   "outputs": [],
   "source": [
    "fg = sns.displot(data=pupillometry_df, x='relative_time_cat', y='timePupilDiff_cat', kind='kde', fill=True, cmap='rocket', cut=0, \n",
    "                 # remove ticks from colorbar\n",
    "                 cbar=True, cbar_kws={'label': 'Fraction of all measurements'})\n",
    "fg.ax.set(xlabel='Time since event (days)', ylabel='Time between measurements (hours)')\n",
    "fg.ax.set_ylim(0, 20)\n",
    "fg.ax.set_xlim(left=0)\n",
    "\n",
    "# densities = fg.ax.collections[0].get_array()\n",
    "# densities = densities / densities.sum()\n",
    "densities = (fg.ax.collections[0].colorbar.get_ticks() / fg.ax.collections[0].colorbar.get_ticks().sum())\n",
    "fractions_strings = [f'{int(np.round(fraction*100))}%' for fraction in densities]\n",
    "# set ticks of colorbar\n",
    "fg.ax.collections[0].colorbar.set_ticklabels(fractions_strings)"
   ]
  },
  {
   "cell_type": "code",
   "execution_count": null,
   "id": "4973dff958ac2bb3",
   "metadata": {
    "ExecuteTime": {
     "end_time": "2024-06-09T19:22:15.670744Z",
     "start_time": "2024-06-09T19:22:15.666632Z"
    }
   },
   "outputs": [],
   "source": [
    "# convert densities to frequencies\n",
    "densities = fg.ax.collections[0].get_array()\n",
    "densities = densities / densities.sum()\n",
    "average_number_of_measures_per_patient = densities * len(pupillometry_df) / pupillometry_df.pNr.nunique() \n",
    "# densities = densities.astype(int)"
   ]
  },
  {
   "cell_type": "code",
   "execution_count": null,
   "id": "caec597c68e0dbee",
   "metadata": {
    "ExecuteTime": {
     "end_time": "2024-06-09T19:31:27.923788Z",
     "start_time": "2024-06-09T19:31:27.917833Z"
    }
   },
   "outputs": [],
   "source": [
    "fractions_strings = [f'{int(np.round(fraction*100))}%' for fraction in densities]\n",
    "fractions_strings"
   ]
  },
  {
   "cell_type": "code",
   "execution_count": null,
   "id": "c139200b4c6a2e79",
   "metadata": {
    "ExecuteTime": {
     "end_time": "2024-06-09T19:13:24.736598Z",
     "start_time": "2024-06-09T19:13:24.730527Z"
    }
   },
   "outputs": [],
   "source": [
    "import numpy as np\n",
    "from scipy.stats import gaussian_kde\n",
    "\n",
    "temp_df = pupillometry_df[['relative_time_cat', 'timePupilDiff_cat']].dropna()\n",
    "x = temp_df['relative_time_cat']\n",
    "y = temp_df['timePupilDiff_cat']\n",
    "\n",
    "kde = gaussian_kde([x, y])\n",
    "\n",
    "# Access the bandwidth\n",
    "bandwidth = kde.factor * np.std([x, y], axis=1)"
   ]
  },
  {
   "cell_type": "code",
   "execution_count": null,
   "id": "60941b52fe03713f",
   "metadata": {
    "ExecuteTime": {
     "end_time": "2024-06-09T19:13:25.318245Z",
     "start_time": "2024-06-09T19:13:25.310614Z"
    }
   },
   "outputs": [],
   "source": [
    "bandwidth"
   ]
  },
  {
   "cell_type": "code",
   "execution_count": null,
   "id": "d3147e398d5f295c",
   "metadata": {
    "ExecuteTime": {
     "end_time": "2024-06-09T19:43:08.209253Z",
     "start_time": "2024-06-09T19:43:07.756673Z"
    }
   },
   "outputs": [],
   "source": [
    "# fg.savefig(os.path.join(output_path, 'pupillometry_frequency.tiff'), dpi=300)\n",
    "# fg.savefig(os.path.join(output_path, 'pupillometry_frequency.eps'), dpi=900)"
   ]
  },
  {
   "cell_type": "code",
   "execution_count": null,
   "id": "5884517ad3cc22d3",
   "metadata": {},
   "outputs": [],
   "source": []
  }
 ],
 "metadata": {
  "kernelspec": {
   "display_name": "Python 3",
   "language": "python",
   "name": "python3"
  },
  "language_info": {
   "codemirror_mode": {
    "name": "ipython",
    "version": 2
   },
   "file_extension": ".py",
   "mimetype": "text/x-python",
   "name": "python",
   "nbconvert_exporter": "python",
   "pygments_lexer": "ipython2",
   "version": "2.7.6"
  }
 },
 "nbformat": 4,
 "nbformat_minor": 5
}
