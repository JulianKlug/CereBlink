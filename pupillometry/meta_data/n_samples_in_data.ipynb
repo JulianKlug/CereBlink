{
 "cells": [
  {
   "cell_type": "code",
   "execution_count": null,
   "id": "initial_id",
   "metadata": {
    "ExecuteTime": {
     "end_time": "2024-03-10T07:21:02.894684Z",
     "start_time": "2024-03-10T07:21:02.883079Z"
    }
   },
   "outputs": [],
   "source": [
    "import pandas as pd\n",
    "import os\n",
    "import re"
   ]
  },
  {
   "cell_type": "code",
   "execution_count": null,
   "id": "8c5fe95871a84c21",
   "metadata": {
    "ExecuteTime": {
     "end_time": "2024-03-10T07:21:02.895674Z",
     "start_time": "2024-03-10T07:21:02.887871Z"
    }
   },
   "outputs": [],
   "source": [
    "data_dir = '/Users/jk1/Downloads/data_saving/exclude_nan_outcome_False'"
   ]
  },
  {
   "cell_type": "code",
   "execution_count": null,
   "id": "8c48b7cbd4b6070",
   "metadata": {
    "ExecuteTime": {
     "end_time": "2024-03-10T07:21:03.686452Z",
     "start_time": "2024-03-10T07:21:02.896468Z"
    }
   },
   "outputs": [],
   "source": [
    "data_filenames = [f for f in os.listdir(data_dir) if f.endswith('.csv') and 'timebin' in f and 'reassembled_pupillometry' in f]\n",
    "\n",
    "pupillometry_df = pd.DataFrame()\n",
    "for data_filename in data_filenames:\n",
    "    # find timebin size with regex identifying pattern : _xh_\n",
    "    timebin_size = int(re.search(r'_(\\d+)h_', data_filename).group(1))\n",
    "    data_is_normalized = int(('normalized' in data_filename) or ('normalised' in data_filename))\n",
    "    outcome = '_'.join(data_filename.split('_')[0:2])\n",
    "\n",
    "    df = pd.read_csv(os.path.join(data_dir, data_filename))\n",
    "    df['timebin_size'] = timebin_size\n",
    "    df['normalized'] = data_is_normalized\n",
    "    df['outcome'] = outcome\n",
    "    pupillometry_df = pd.concat([pupillometry_df, df], axis=0)\n",
    "    \n",
    "pupillometry_df = pupillometry_df.reset_index(drop=True)"
   ]
  },
  {
   "cell_type": "code",
   "execution_count": null,
   "id": "b803f3ac4e6ad137",
   "metadata": {
    "ExecuteTime": {
     "end_time": "2024-03-10T07:21:03.698406Z",
     "start_time": "2024-03-10T07:21:03.689776Z"
    }
   },
   "outputs": [],
   "source": [
    "pupillometry_metrics = ['NPI', 'CV']\n",
    "inter_eye_metrics = ['mean', 'min', 'max', 'delta']\n",
    "# combine to get all metrics\n",
    "single_timepoint_metrics = [f'{metric}_inter_eye_{metric_type}' for metric in pupillometry_metrics for metric_type in\n",
    "                            inter_eye_metrics]\n",
    "over_time_metrics = ['max', 'min', 'median']\n",
    "# combine to get all metrics\n",
    "timebin_metrics = [f'{metric}_timebin_{metric_type}' for metric in single_timepoint_metrics for metric_type in\n",
    "                   over_time_metrics]"
   ]
  },
  {
   "cell_type": "code",
   "execution_count": null,
   "id": "e28c7cbe0d553e40",
   "metadata": {
    "ExecuteTime": {
     "end_time": "2024-03-10T07:21:03.770738Z",
     "start_time": "2024-03-10T07:21:03.702370Z"
    }
   },
   "outputs": [],
   "source": [
    "# drop rows where all timebin_metrics are nan\n",
    "pupillometry_df = pupillometry_df.dropna(subset=timebin_metrics, how='all')\n",
    "\n",
    "# for every outcome and timebin size, count number of positive and negative labels\n",
    "pupillometry_df.groupby(['outcome', 'timebin_size', 'normalized', 'label']).size().unstack(fill_value=0).reset_index()"
   ]
  },
  {
   "cell_type": "code",
   "execution_count": null,
   "id": "42b760400fe20429",
   "metadata": {
    "ExecuteTime": {
     "end_time": "2024-03-10T07:21:03.771289Z",
     "start_time": "2024-03-10T07:21:03.766505Z"
    }
   },
   "outputs": [],
   "source": []
  }
 ],
 "metadata": {
  "kernelspec": {
   "display_name": "Python 3",
   "language": "python",
   "name": "python3"
  },
  "language_info": {
   "codemirror_mode": {
    "name": "ipython",
    "version": 2
   },
   "file_extension": ".py",
   "mimetype": "text/x-python",
   "name": "python",
   "nbconvert_exporter": "python",
   "pygments_lexer": "ipython2",
   "version": "2.7.6"
  }
 },
 "nbformat": 4,
 "nbformat_minor": 5
}
