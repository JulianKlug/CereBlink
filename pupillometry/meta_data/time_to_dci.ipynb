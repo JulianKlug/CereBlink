{
 "cells": [
  {
   "cell_type": "code",
   "execution_count": null,
   "id": "initial_id",
   "metadata": {
    "ExecuteTime": {
     "end_time": "2024-06-19T19:05:18.789536Z",
     "start_time": "2024-06-19T19:05:18.229945Z"
    }
   },
   "outputs": [],
   "source": [
    "import pandas as pd\n",
    "from utils import load_encrypted_xlsx"
   ]
  },
  {
   "cell_type": "code",
   "execution_count": null,
   "id": "6f467b37dbda29fb",
   "metadata": {
    "ExecuteTime": {
     "end_time": "2024-06-19T19:07:04.862081Z",
     "start_time": "2024-06-19T19:07:04.859043Z"
    }
   },
   "outputs": [],
   "source": [
    "data_path = '/Users/jk1/temp/cereblink/pupillometry/data_saving/exclude_nan_outcome_False/DCI_ischemia_normalised_pupillometry_df.csv'\n",
    "registry_data_path = '/Users/jk1/Library/CloudStorage/OneDrive-unige.ch/icu_research/dci_sah/data/sos_sah_data/post_hoc_modified_aSAH_DATA_2009_2023_24122023.xlsx'\n",
    "registry_pdms_correspondence_path = '/Users/jk1/Library/CloudStorage/OneDrive-unige.ch/icu_research/dci_sah/data/pdms_data/registry_pdms_correspondence.csv'"
   ]
  },
  {
   "cell_type": "code",
   "execution_count": null,
   "id": "b0d0e835501e0bd",
   "metadata": {
    "ExecuteTime": {
     "end_time": "2024-06-19T19:07:07.517877Z",
     "start_time": "2024-06-19T19:07:05.737616Z"
    }
   },
   "outputs": [],
   "source": [
    "df = pd.read_csv(data_path)\n",
    "registry_df = load_encrypted_xlsx(registry_data_path)\n",
    "registry_pdms_correspondence_df = pd.read_csv(registry_pdms_correspondence_path)\n",
    "registry_pdms_correspondence_df['Date_birth'] = pd.to_datetime(registry_pdms_correspondence_df['Date_birth'],\n",
    "                                                               format='%Y-%m-%d')\n",
    "registry_pdms_correspondence_df.rename(columns={'JoinedName': 'Name'}, inplace=True)\n",
    "registry_df = registry_df.merge(registry_pdms_correspondence_df, on=['SOS-CENTER-YEAR-NO.', 'Name', 'Date_birth'],\n",
    "                                how='left')"
   ]
  },
  {
   "cell_type": "code",
   "execution_count": null,
   "id": "e22c7bd85aec5c2b",
   "metadata": {
    "ExecuteTime": {
     "end_time": "2024-06-19T19:07:33.339448Z",
     "start_time": "2024-06-19T19:07:33.331485Z"
    }
   },
   "outputs": [],
   "source": [
    "registry_df = registry_df[registry_df.pNr.isin(df.pNr.unique())]"
   ]
  },
  {
   "cell_type": "code",
   "execution_count": null,
   "id": "2c4106bdba808230",
   "metadata": {
    "ExecuteTime": {
     "end_time": "2024-06-19T19:07:42.730398Z",
     "start_time": "2024-06-19T19:07:42.710467Z"
    }
   },
   "outputs": [],
   "source": [
    "registry_df.head()"
   ]
  },
  {
   "cell_type": "code",
   "execution_count": null,
   "id": "7666f8fc4d8bc7a6",
   "metadata": {
    "ExecuteTime": {
     "end_time": "2024-06-19T19:08:21.038509Z",
     "start_time": "2024-06-19T19:08:21.018284Z"
    }
   },
   "outputs": [],
   "source": [
    "from utils import safe_conversion_to_datetime\n",
    "\n",
    "registry_df['full_date_dci_ischemia'] = registry_df['Date_DCI_ischemia_first_image'].astype(str) + ' ' + \\\n",
    "                                             registry_df['Time_DCI_ischemia_first_image'].astype(str)\n",
    "# replace NaT nan with nan\n",
    "registry_df['full_date_dci_ischemia'] = registry_df['full_date_dci_ischemia'].replace('NaT nan', pd.NaT)\n",
    "registry_df['full_date_dci_ischemia'] = registry_df['full_date_dci_ischemia'].apply(\n",
    "    safe_conversion_to_datetime)"
   ]
  },
  {
   "cell_type": "code",
   "execution_count": null,
   "id": "1a37b7e12f8e47b5",
   "metadata": {
    "ExecuteTime": {
     "end_time": "2024-06-19T19:12:39.812903Z",
     "start_time": "2024-06-19T19:12:39.801848Z"
    }
   },
   "outputs": [],
   "source": [
    "registry_df['relative_time_dci'] = (pd.to_datetime(registry_df['full_date_dci_ischemia']) - pd.to_datetime(registry_df['Date_Ictus'])).dt.total_seconds() / (60*60*24)\n"
   ]
  },
  {
   "cell_type": "code",
   "execution_count": null,
   "id": "bbd38a45226b53ab",
   "metadata": {
    "ExecuteTime": {
     "end_time": "2024-06-19T19:12:43.914597Z",
     "start_time": "2024-06-19T19:12:43.906257Z"
    }
   },
   "outputs": [],
   "source": [
    "registry_df['relative_time_dci'].describe()"
   ]
  },
  {
   "cell_type": "code",
   "execution_count": null,
   "id": "d6ba08c594c9bb68",
   "metadata": {},
   "outputs": [],
   "source": []
  }
 ],
 "metadata": {
  "kernelspec": {
   "display_name": "Python 3",
   "language": "python",
   "name": "python3"
  },
  "language_info": {
   "codemirror_mode": {
    "name": "ipython",
    "version": 2
   },
   "file_extension": ".py",
   "mimetype": "text/x-python",
   "name": "python",
   "nbconvert_exporter": "python",
   "pygments_lexer": "ipython2",
   "version": "2.7.6"
  }
 },
 "nbformat": 4,
 "nbformat_minor": 5
}
