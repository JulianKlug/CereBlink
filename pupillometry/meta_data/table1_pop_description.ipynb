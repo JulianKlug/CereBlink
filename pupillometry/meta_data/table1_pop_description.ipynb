{
 "cells": [
  {
   "cell_type": "code",
   "execution_count": null,
   "id": "initial_id",
   "metadata": {
    "ExecuteTime": {
     "end_time": "2024-04-12T13:16:48.471328Z",
     "start_time": "2024-04-12T13:16:48.462977Z"
    }
   },
   "outputs": [],
   "source": [
    "import pandas as pd\n",
    "from utils import load_encrypted_xlsx"
   ]
  },
  {
   "cell_type": "code",
   "execution_count": null,
   "id": "7066ffd6d823c032",
   "metadata": {
    "ExecuteTime": {
     "end_time": "2024-04-12T13:16:48.476520Z",
     "start_time": "2024-04-12T13:16:48.472886Z"
    }
   },
   "outputs": [],
   "source": [
    "data_path = '/Users/jk1/temp/cereblink/data_saving/exclude_nan_outcome_False/DCI_ischemia_normalised_pupillometry_df.csv'\n",
    "gcs_path = '/Users/jk1/Library/CloudStorage/OneDrive-unige.ch/icu_research/dci_sah/data/pdms_data/Transfer Urs.pietsch@kssg.ch 22.01.24, 15_34/20240117_SAH_SOS_GCS.csv'\n",
    "registry_data_path = '/Users/jk1/Library/CloudStorage/OneDrive-unige.ch/icu_research/dci_sah/data/sos_sah_data/post_hoc_modified_aSAH_DATA_2009_2023_24122023.xlsx'\n",
    "registry_ids_data_path = '/Users/jk1/Library/CloudStorage/OneDrive-unige.ch/icu_research/dci_sah/data/sos_sah_data/saved_versions/post_hoc_modified_aSAH_DATA_2009_2023_24122023_version_at_time_of_publication.xlsx'\n",
    "outcomes_data_path = '/Users/jk1/Library/CloudStorage/OneDrive-unige.ch/icu_research/dci_sah/data/sos_sah_data/original_data/outcomes_aSAH_DATA_2009_2024_17022024.xlsx'\n",
    "registry_pdms_correspondence_path = '/Users/jk1/Library/CloudStorage/OneDrive-unige.ch/icu_research/dci_sah/data/pdms_data/registry_pdms_correspondence.csv'\n",
    "output_dir = '/Users/jk1/Downloads/'"
   ]
  },
  {
   "cell_type": "code",
   "execution_count": null,
   "id": "dab65b8e7cf37f86",
   "metadata": {
    "ExecuteTime": {
     "end_time": "2024-04-12T13:16:48.482711Z",
     "start_time": "2024-04-12T13:16:48.479780Z"
    }
   },
   "outputs": [],
   "source": [
    "target = 'DCI_ischemia'"
   ]
  },
  {
   "cell_type": "code",
   "execution_count": null,
   "id": "1d9ca9fb7805623e",
   "metadata": {
    "ExecuteTime": {
     "end_time": "2024-04-12T13:17:14.879205Z",
     "start_time": "2024-04-12T13:16:48.484112Z"
    }
   },
   "outputs": [],
   "source": [
    "pupillometry_df = pd.read_csv(data_path)\n",
    "registry_df = load_encrypted_xlsx(registry_data_path)\n",
    "registry_ids_df = load_encrypted_xlsx(registry_ids_data_path)\n",
    "outcomes_df = load_encrypted_xlsx(outcomes_data_path)\n",
    "registry_pdms_correspondence_df = pd.read_csv(registry_pdms_correspondence_path)\n",
    "gcs_df = pd.read_csv(gcs_path, sep=';', decimal='.')\n"
   ]
  },
  {
   "cell_type": "code",
   "execution_count": null,
   "id": "35eff7ca8eef1d45",
   "metadata": {
    "ExecuteTime": {
     "end_time": "2024-04-12T13:18:27.872922Z",
     "start_time": "2024-04-12T13:18:27.849792Z"
    }
   },
   "outputs": [],
   "source": [
    "pupillometry_df.head()"
   ]
  },
  {
   "cell_type": "code",
   "execution_count": null,
   "id": "232a43c28a666601",
   "metadata": {
    "ExecuteTime": {
     "end_time": "2024-04-12T13:18:28.571494Z",
     "start_time": "2024-04-12T13:18:28.562480Z"
    }
   },
   "outputs": [],
   "source": [
    "measures = ['NPI_r_value_normalised', 'NPI_l_value_normalised', 'CV_r_value_normalised', 'CV_l_value_normalised']\n",
    "# if all in measures nan, drop the row\n",
    "pupillometry_df = pupillometry_df.dropna(subset=measures, how='all')"
   ]
  },
  {
   "cell_type": "code",
   "execution_count": null,
   "id": "db53b4ee9ff6470c",
   "metadata": {
    "ExecuteTime": {
     "end_time": "2024-04-12T13:18:29.292964Z",
     "start_time": "2024-04-12T13:18:29.288501Z"
    }
   },
   "outputs": [],
   "source": [
    "included_admissions = pupillometry_df.pNr.unique()\n",
    "n_pnr_nan = pupillometry_df.pNr.isna().sum()\n",
    "print(f'Number of included admissions: {len(included_admissions)}')\n",
    "print(f'Number of admissions with missing pNr: {n_pnr_nan}')"
   ]
  },
  {
   "cell_type": "code",
   "execution_count": null,
   "id": "c5a38b5a629be3c6",
   "metadata": {
    "ExecuteTime": {
     "end_time": "2024-04-12T13:18:30.090863Z",
     "start_time": "2024-04-12T13:18:30.065707Z"
    }
   },
   "outputs": [],
   "source": [
    "registry_pdms_correspondence_df.rename(columns={'JoinedName': 'Name'}, inplace=True)\n",
    "registry_pdms_correspondence_df['Date_birth'] = pd.to_datetime(registry_pdms_correspondence_df['Date_birth'], format='%Y-%m-%d')\n",
    "registry_df = registry_df.merge(registry_pdms_correspondence_df, on=['SOS-CENTER-YEAR-NO.', 'Name', 'Date_birth'], how='left')\n",
    "registry_ids_df = registry_ids_df.merge(registry_pdms_correspondence_df, on=['SOS-CENTER-YEAR-NO.', 'Name', 'Date_birth'], how='left')\n",
    "outcomes_df = outcomes_df.merge(registry_pdms_correspondence_df, on=['SOS-CENTER-YEAR-NO.', 'Name', 'Date_birth'], how='left')"
   ]
  },
  {
   "cell_type": "code",
   "execution_count": null,
   "id": "8106081be4096d26",
   "metadata": {
    "ExecuteTime": {
     "end_time": "2024-04-12T13:18:31.145941Z",
     "start_time": "2024-04-12T13:18:31.134546Z"
    }
   },
   "outputs": [],
   "source": [
    "registry_df = registry_df[registry_df['pNr'].isin(included_admissions)]\n",
    "registry_ids_df = registry_ids_df[registry_ids_df['pNr'].isin(included_admissions)]\n",
    "outcomes_df = outcomes_df[outcomes_df['pNr'].isin(included_admissions)]\n",
    "# drop rows duplicate pNr\n",
    "registry_df = registry_df.drop_duplicates(subset='pNr')\n",
    "outcomes_df = outcomes_df.drop_duplicates(subset='pNr')"
   ]
  },
  {
   "cell_type": "code",
   "execution_count": null,
   "id": "8bb9b7dcc80da682",
   "metadata": {
    "ExecuteTime": {
     "end_time": "2024-04-12T13:18:31.807210Z",
     "start_time": "2024-04-12T13:18:31.803142Z"
    }
   },
   "outputs": [],
   "source": [
    "registry_df.pNr.nunique()"
   ]
  },
  {
   "cell_type": "code",
   "execution_count": null,
   "id": "abf0c44df30bc898",
   "metadata": {
    "ExecuteTime": {
     "end_time": "2024-04-12T13:18:33.035737Z",
     "start_time": "2024-04-12T13:18:33.015289Z"
    }
   },
   "outputs": [],
   "source": [
    "registry_df.head()"
   ]
  },
  {
   "cell_type": "markdown",
   "id": "ad8a8d01026bff82",
   "metadata": {
    "collapsed": false
   },
   "source": [
    "variables to extract\n",
    "- age\n",
    "- sex\n",
    "- hta\n",
    "- dm\n",
    "- an location\n",
    "- an treatment\n",
    "- admission GCS\n",
    "- admission WFNS\n",
    "- admission Fisher\n",
    "- mortality\n",
    "- LOS icu / hospital\n",
    "- 3 month mRS / GOS\n",
    "\n",
    "in groups\n",
    "- all\n",
    "- DCI\n",
    "- no DCI"
   ]
  },
  {
   "cell_type": "code",
   "execution_count": null,
   "id": "785fcde8c24d7dd",
   "metadata": {
    "ExecuteTime": {
     "end_time": "2024-04-12T13:18:37.292767Z",
     "start_time": "2024-04-12T13:18:37.266082Z"
    }
   },
   "outputs": [],
   "source": [
    "registry_df"
   ]
  },
  {
   "cell_type": "code",
   "execution_count": null,
   "id": "4e38d7ca55b32939",
   "metadata": {
    "ExecuteTime": {
     "end_time": "2024-04-12T13:18:42.902306Z",
     "start_time": "2024-04-12T13:18:42.893170Z"
    }
   },
   "outputs": [],
   "source": [
    "registry_df['an_loc_acoma'] = registry_df['Aneurysm_Artery_Code'] == 8\n",
    "registry_df['an_loc_aca'] = registry_df['Aneurysm_Artery_Code'].isin([9, 22, 24])\n",
    "registry_df['an_loc_mca'] = registry_df['Aneurysm_Artery_Code'].isin([7, 20, 21])\n",
    "registry_df['an_loc_ica'] = registry_df['Aneurysm_Artery_Code'].isin([1,2,3,4,5,6,25, 18, 19, 25, 26, 27, 29, 31])\n",
    "registry_df['an_loc_vert_bas_branches'] = registry_df['Aneurysm_Artery_Code'].isin([10, 11, 12, 13, 14, 15, 16, 17,])\n",
    "registry_df['an_loc_pca'] = registry_df['Aneurysm_Artery_Code'].isin([23, 28])"
   ]
  },
  {
   "cell_type": "code",
   "execution_count": null,
   "id": "83d3b50b59907be5",
   "metadata": {
    "ExecuteTime": {
     "end_time": "2024-04-12T13:18:43.291416Z",
     "start_time": "2024-04-12T13:18:43.286319Z"
    }
   },
   "outputs": [],
   "source": [
    "# preprocess registry data\n",
    "registry_df['Sex'] = registry_df['Sex'].str.upper().map({'M': 0, 'F': 1, 'W': 1})"
   ]
  },
  {
   "cell_type": "code",
   "execution_count": null,
   "id": "527929bc46ae9d7b",
   "metadata": {
    "ExecuteTime": {
     "end_time": "2024-04-12T13:18:43.938524Z",
     "start_time": "2024-04-12T13:18:43.811169Z"
    }
   },
   "outputs": [],
   "source": [
    "gcs_df['GCS'] = gcs_df.eyes + gcs_df.verbal + gcs_df.movement\n",
    "first_gcs_df = gcs_df.groupby('pNr').apply(lambda x: x.sort_values('timeGCS', ascending=True).iloc[0])\n",
    "first_gcs_df.reset_index(drop=True, inplace=True)\n",
    "first_gcs_df.rename(columns={'GCS': 'GCS_pdms', 'intubated': 'intubated_pdms'}, inplace=True)\n",
    "registry_df = registry_df.merge(first_gcs_df[['pNr', 'GCS_pdms', 'intubated_pdms']], left_on='pNr', right_on='pNr', how='left')\n",
    "registry_df['GCS_admission'] = registry_df['GCS_admission'].fillna(registry_df['GCS_pdms'])\n",
    "registry_df['Intubated_on_admission_YN'] = registry_df['Intubated_on_admission_YN'].fillna(registry_df['intubated_pdms'])"
   ]
  },
  {
   "cell_type": "code",
   "execution_count": null,
   "id": "c5b7140f341eca09",
   "metadata": {
    "ExecuteTime": {
     "end_time": "2024-04-12T13:18:45.186739Z",
     "start_time": "2024-04-12T13:18:45.182670Z"
    }
   },
   "outputs": [],
   "source": [
    "registry_df['Fischer_Score'] = pd.to_numeric(registry_df['Fisher_Score'])"
   ]
  },
  {
   "cell_type": "code",
   "execution_count": null,
   "id": "4d6da2747611033b",
   "metadata": {
    "ExecuteTime": {
     "end_time": "2024-04-12T13:18:50.145829Z",
     "start_time": "2024-04-12T13:18:50.136941Z"
    }
   },
   "outputs": [],
   "source": [
    "registry_df['los'] = (pd.to_datetime(registry_df['Date_Discharge']) - pd.to_datetime(registry_df['Date_admission'])).dt.days\n",
    "registry_df['los_icu'] = (pd.to_datetime(registry_df['Date_discharge_ICU']) - pd.to_datetime(registry_df['Date_admission'])).dt.days"
   ]
  },
  {
   "cell_type": "code",
   "execution_count": null,
   "id": "3f48283e07174f42",
   "metadata": {
    "ExecuteTime": {
     "end_time": "2024-04-12T13:19:03.612566Z",
     "start_time": "2024-04-12T13:19:03.588589Z"
    }
   },
   "outputs": [],
   "source": [
    "registry_df"
   ]
  },
  {
   "cell_type": "code",
   "execution_count": null,
   "id": "139ac86bd8df5cde",
   "metadata": {
    "ExecuteTime": {
     "end_time": "2024-04-12T13:20:57.481108Z",
     "start_time": "2024-04-12T13:20:57.475088Z"
    }
   },
   "outputs": [],
   "source": [
    "# count patients where Coiling and Cliping are both 0\n",
    "registry_df[(registry_df['Coiling'] == 0) & (registry_df['Clipping'] == 0)].shape[0] / registry_df.pNr.nunique()"
   ]
  },
  {
   "cell_type": "code",
   "execution_count": null,
   "id": "2fbec3616292b884",
   "metadata": {
    "ExecuteTime": {
     "end_time": "2024-03-26T17:36:41.063764Z",
     "start_time": "2024-03-26T17:36:41.047294Z"
    }
   },
   "outputs": [],
   "source": [
    "def get_population_stats(registry_df, outcomes_df, pupillometry_df):\n",
    "    population_df = pd.DataFrame()\n",
    "    population_df['n_patients'] = [pupillometry_df.pNr.nunique()]\n",
    "    \n",
    "    population_df['age_median'] = registry_df.Age.median()\n",
    "    population_df['age_q1'] = registry_df.Age.quantile(0.25)\n",
    "    population_df['age_q3'] = registry_df.Age.quantile(0.75)\n",
    "    population_df['age_str'] = f'{population_df.age_median.iloc[0]:.1f} ({population_df.age_q1.iloc[0]:.1f}-{population_df.age_q3.iloc[0]:.1f})'\n",
    "    \n",
    "    population_df['n_female'] = registry_df.Sex.sum()\n",
    "    population_df['p_female'] = registry_df.Sex.sum() / registry_df.pNr.nunique()\n",
    "    population_df['female_str'] = f'{population_df.n_female.iloc[0]} ({population_df.p_female.iloc[0]*100:.1f}%)'\n",
    "    \n",
    "    population_df['n_hta'] = registry_df.HTN.sum()\n",
    "    population_df['p_hta'] = registry_df.HTN.sum() / registry_df.pNr.nunique()\n",
    "    population_df['hta_str'] = f'{population_df.n_hta.iloc[0]:.0f} ({population_df.p_hta.iloc[0]*100:.1f}%)'\n",
    "    \n",
    "    population_df['n_dm'] = registry_df.DM.sum()\n",
    "    population_df['p_dm'] = registry_df.DM.sum() / registry_df.pNr.nunique()\n",
    "    population_df['dm_str'] = f'{population_df.n_dm.iloc[0]:.0f} ({population_df.p_dm.iloc[0]*100:.1f}%)'\n",
    "    \n",
    "    population_df['n_acoma'] = registry_df.an_loc_acoma.sum()\n",
    "    population_df['p_acoma'] = registry_df.an_loc_acoma.sum() / registry_df.pNr.nunique()\n",
    "    population_df['acoma_str'] = f'{population_df.n_acoma.iloc[0]} ({population_df.p_acoma.iloc[0]*100:.1f}%)'\n",
    "    \n",
    "    population_df['n_aca'] = registry_df.an_loc_aca.sum()\n",
    "    population_df['p_aca'] = registry_df.an_loc_aca.sum() / registry_df.pNr.nunique()\n",
    "    population_df['aca_str'] = f'{population_df.n_aca.iloc[0]} ({population_df.p_aca.iloc[0]*100:.1f}%)'\n",
    "    \n",
    "    population_df['n_mca'] = registry_df.an_loc_mca.sum()\n",
    "    population_df['p_mca'] = registry_df.an_loc_mca.sum() / registry_df.pNr.nunique()\n",
    "    population_df['mca_str'] = f'{population_df.n_mca.iloc[0]} ({population_df.p_mca.iloc[0]*100:.1f}%)'\n",
    "    \n",
    "    population_df['n_pca'] = registry_df.an_loc_pca.sum()\n",
    "    population_df['p_pca'] = registry_df.an_loc_pca.sum() / registry_df.pNr.nunique()\n",
    "    population_df['pca_str'] = f'{population_df.n_pca.iloc[0]} ({population_df.p_pca.iloc[0]*100:.1f}%)'\n",
    "    \n",
    "    population_df['n_ica'] = registry_df.an_loc_ica.sum()\n",
    "    population_df['p_ica'] = registry_df.an_loc_ica.sum() / registry_df.pNr.nunique()\n",
    "    population_df['ica_str'] = f'{population_df.n_ica.iloc[0]} ({population_df.p_ica.iloc[0]*100:.1f}%)'\n",
    "    \n",
    "    population_df['n_vert_bas_branches'] = registry_df.an_loc_vert_bas_branches.sum()\n",
    "    population_df['p_vert_bas_branches'] = registry_df.an_loc_vert_bas_branches.sum() / registry_df.pNr.nunique()\n",
    "    population_df['vert_bas_branches_str'] = f'{population_df.n_vert_bas_branches.iloc[0]} ({population_df.p_vert_bas_branches.iloc[0]*100:.1f}%)'\n",
    "    \n",
    "    population_df['loc_missing'] = registry_df.Aneurysm_Artery_Code.isna().sum()\n",
    "    population_df['p_loc_missing'] = registry_df.Aneurysm_Artery_Code.isna().sum() / registry_df.pNr.nunique()\n",
    "    population_df['loc_missing_str'] = f'{population_df.loc_missing.iloc[0]} ({population_df.p_loc_missing.iloc[0]*100:.1f}%)'\n",
    "    \n",
    "    population_df['gcs_admission_median'] = registry_df.GCS_admission.median()\n",
    "    population_df['gcs_admission_q1'] = registry_df.GCS_admission.quantile(0.25)\n",
    "    population_df['gcs_admission_q3'] = registry_df.GCS_admission.quantile(0.75)\n",
    "    population_df['gcs_admission_str'] = f'{population_df.gcs_admission_median.iloc[0]:.0f} ({population_df.gcs_admission_q1.iloc[0]:.0f}-{population_df.gcs_admission_q3.iloc[0]:.0f})'\n",
    "    \n",
    "    population_df['wfns_median'] = registry_df.WFNS.median()\n",
    "    population_df['wfns_q1'] = registry_df.WFNS.quantile(0.25)\n",
    "    population_df['wfns_q3'] = registry_df.WFNS.quantile(0.75)\n",
    "    population_df['wfns_str'] = f'{population_df.wfns_median.iloc[0]:.0f} ({population_df.wfns_q1.iloc[0]:.0f}-{population_df.wfns_q3.iloc[0]:.0f})'\n",
    "    \n",
    "    population_df['fisher_median'] = pd.to_numeric(registry_df['Fisher_Score']).median()\n",
    "    population_df['fisher_q1'] = pd.to_numeric(registry_df['Fisher_Score']).quantile(0.25)\n",
    "    population_df['fisher_q3'] = pd.to_numeric(registry_df['Fisher_Score']).quantile(0.75)\n",
    "    population_df['fisher_str'] = f'{population_df.fisher_median.iloc[0]:.0f} ({population_df.fisher_q1.iloc[0]:.0f}-{population_df.fisher_q3.iloc[0]:.0f})'\n",
    "    \n",
    "    # coiling or stenting\n",
    "    population_df['n_coiling'] = (registry_df.Coiling + registry_df.Stenting).astype(bool).astype(int).sum()\n",
    "    population_df['p_coiling'] = (registry_df.Coiling + registry_df.Stenting).astype(bool).astype(int).sum() / registry_df.pNr.nunique()\n",
    "    population_df['coiling_str'] = f'{population_df.n_coiling.iloc[0]:.0f} ({population_df.p_coiling.iloc[0]*100:.1f}%)'\n",
    "    \n",
    "    population_df['n_clipping'] = registry_df.Clipping.sum()\n",
    "    population_df['p_clipping'] = registry_df.Clipping.sum() / registry_df.pNr.nunique()\n",
    "    population_df['clipping_str'] = f'{population_df.n_clipping.iloc[0]:.0f} ({population_df.p_clipping.iloc[0]*100:.1f}%)'\n",
    "    \n",
    "    population_df['los_icu_median'] = registry_df.los_icu.median()\n",
    "    population_df['los_icu_q1'] = registry_df.los_icu.quantile(0.25)\n",
    "    population_df['los_icu_q3'] = registry_df.los_icu.quantile(0.75)\n",
    "    population_df['los_icu_str'] = f'{population_df.los_icu_median.iloc[0]:.0f} ({population_df.los_icu_q1.iloc[0]:.0f}-{population_df.los_icu_q3.iloc[0]:.0f})'\n",
    "    \n",
    "    population_df['los_median'] = registry_df.los.median()\n",
    "    population_df['los_q1'] = registry_df.los.quantile(0.25)\n",
    "    population_df['los_q3'] = registry_df.los.quantile(0.75)\n",
    "    population_df['los_str'] = f'{population_df.los_median.iloc[0]:.0f} ({population_df.los_q1.iloc[0]:.0f}-{population_df.los_q3.iloc[0]:.0f})'\n",
    "    \n",
    "    population_df['n_mortality'] = registry_df.Death.sum()\n",
    "    population_df['p_mortality'] = registry_df.Death.sum() / registry_df.pNr.nunique()\n",
    "    population_df['mortality_str'] = f'{population_df.n_mortality.iloc[0]:.0f} ({population_df.p_mortality.iloc[0]*100:.1f}%)'\n",
    "    \n",
    "    population_df['1y_mrs_median'] = outcomes_df['mRS_FU_1y'].median()\n",
    "    population_df['1y_mrs_q1'] = pd.to_numeric(outcomes_df['mRS_FU_1y']).quantile(0.25)\n",
    "    population_df['1y_mrs_q3'] = pd.to_numeric(outcomes_df['mRS_FU_1y']).quantile(0.75)\n",
    "    population_df['1y_mrs_str'] = f'{population_df[\"1y_mrs_median\"].iloc[0]:.0f} ({population_df[\"1y_mrs_q1\"].iloc[0]:.0f}-{population_df[\"1y_mrs_q3\"].iloc[0]:.0f})'\n",
    "    \n",
    "    return population_df"
   ]
  },
  {
   "cell_type": "code",
   "execution_count": null,
   "id": "cb5c3dd739e43d5a",
   "metadata": {
    "ExecuteTime": {
     "end_time": "2024-03-26T17:36:41.109615Z",
     "start_time": "2024-03-26T17:36:41.065159Z"
    }
   },
   "outputs": [],
   "source": [
    "overall_population_df = get_population_stats(registry_df, outcomes_df, pupillometry_df)\n",
    "overall_population_df"
   ]
  },
  {
   "cell_type": "code",
   "execution_count": null,
   "id": "97da993b839fa720",
   "metadata": {
    "ExecuteTime": {
     "end_time": "2024-03-26T17:36:41.157139Z",
     "start_time": "2024-03-26T17:36:41.110846Z"
    }
   },
   "outputs": [],
   "source": [
    "# registry_ids_df is used to identify the target group reflecting the exact inclusion population at the moment of the study (DB has been updated since)\n",
    "dci_pnr = registry_ids_df[registry_ids_df[target] == 1].pNr.astype(int).unique()\n",
    "dci_population_df = get_population_stats(registry_df[registry_df.pNr.isin(dci_pnr)], outcomes_df[outcomes_df.pNr.isin(dci_pnr)], pupillometry_df[pupillometry_df.pNr.isin(dci_pnr)])\n",
    "dci_population_df"
   ]
  },
  {
   "cell_type": "code",
   "execution_count": null,
   "id": "cb4d89c273278bec",
   "metadata": {
    "ExecuteTime": {
     "end_time": "2024-03-26T17:36:41.206334Z",
     "start_time": "2024-03-26T17:36:41.158967Z"
    }
   },
   "outputs": [],
   "source": [
    "no_dci_pnr = registry_ids_df[registry_ids_df[target] == 0].pNr.astype(int).unique()\n",
    "no_dci_population_df = get_population_stats(registry_df[registry_df.pNr.isin(no_dci_pnr)], outcomes_df[outcomes_df.pNr.isin(no_dci_pnr)], pupillometry_df[pupillometry_df.pNr.isin(no_dci_pnr)])\n",
    "no_dci_population_df"
   ]
  },
  {
   "cell_type": "code",
   "execution_count": null,
   "id": "f5133ffaa103219e",
   "metadata": {
    "ExecuteTime": {
     "end_time": "2024-03-26T17:36:41.215216Z",
     "start_time": "2024-03-26T17:36:41.207840Z"
    }
   },
   "outputs": [],
   "source": [
    "full_population_df = pd.concat([overall_population_df, dci_population_df, no_dci_population_df], keys=['overall', 'dci', 'no_dci'])\n",
    "full_population_df = full_population_df.droplevel(1).T"
   ]
  },
  {
   "cell_type": "code",
   "execution_count": null,
   "id": "b65aa7931fec92d1",
   "metadata": {
    "ExecuteTime": {
     "end_time": "2024-03-26T17:36:41.223827Z",
     "start_time": "2024-03-26T17:36:41.216437Z"
    }
   },
   "outputs": [],
   "source": [
    "full_population_df"
   ]
  },
  {
   "cell_type": "code",
   "execution_count": null,
   "id": "a6657ff8ddb86979",
   "metadata": {
    "ExecuteTime": {
     "end_time": "2024-03-26T17:36:41.229273Z",
     "start_time": "2024-03-26T17:36:41.225237Z"
    }
   },
   "outputs": [],
   "source": [
    "str_pop_df = full_population_df.loc[['n_patients', 'age_str', 'female_str', \n",
    "                                        'hta_str', 'dm_str', \n",
    "                                     'acoma_str', 'aca_str', 'mca_str', 'pca_str', 'ica_str', 'vert_bas_branches_str', 'loc_missing_str',\n",
    "                                     'gcs_admission_str', 'wfns_str', 'fisher_str', \n",
    "                                     'coiling_str', 'clipping_str',\n",
    "                                     'los_icu_str', 'los_str', 'mortality_str', '1y_mrs_str']]"
   ]
  },
  {
   "cell_type": "code",
   "execution_count": null,
   "id": "213b758ac5934246",
   "metadata": {
    "ExecuteTime": {
     "end_time": "2024-03-26T17:36:41.240166Z",
     "start_time": "2024-03-26T17:36:41.230955Z"
    }
   },
   "outputs": [],
   "source": [
    "# rename indices\n",
    "str_pop_df.index = ['Number of patients', 'Age', 'Sex (Female)',\n",
    "                    'Hypertension', 'Diabetes',\n",
    "                    'Ant. communicating artery', 'Ant. cerebral artery', 'Middle cerebral artery', 'Post. cerebral artery', 'Internal carotid artery', 'Vertebral/basilar artery', 'Location unspecified',\n",
    "                    'Admission GCS', 'Admission WFNS', 'Admission Fisher', \n",
    "                    'Coiling', 'Clipping',\n",
    "                    'ICU length of stay', 'Hospital length of stay', 'Hospital mortality', '1 year mRS']\n",
    "str_pop_df.rename(columns={'overall': 'Overall population', 'dci': 'DCI', 'no_dci': 'No DCI'}, inplace=True)\n",
    "str_pop_df"
   ]
  },
  {
   "cell_type": "code",
   "execution_count": null,
   "id": "74685306a04a4626",
   "metadata": {
    "ExecuteTime": {
     "end_time": "2024-03-26T17:36:41.245168Z",
     "start_time": "2024-03-26T17:36:41.241498Z"
    }
   },
   "outputs": [],
   "source": [
    "str_pop_df.to_csv(output_dir + 'population_stats.csv')"
   ]
  },
  {
   "cell_type": "code",
   "execution_count": null,
   "id": "b40912e076beb20b",
   "metadata": {
    "ExecuteTime": {
     "end_time": "2024-03-26T17:36:41.248551Z",
     "start_time": "2024-03-26T17:36:41.246550Z"
    }
   },
   "outputs": [],
   "source": []
  }
 ],
 "metadata": {
  "kernelspec": {
   "display_name": "Python 3",
   "language": "python",
   "name": "python3"
  },
  "language_info": {
   "codemirror_mode": {
    "name": "ipython",
    "version": 2
   },
   "file_extension": ".py",
   "mimetype": "text/x-python",
   "name": "python",
   "nbconvert_exporter": "python",
   "pygments_lexer": "ipython2",
   "version": "2.7.6"
  }
 },
 "nbformat": 4,
 "nbformat_minor": 5
}
