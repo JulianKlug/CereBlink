{
 "cells": [
  {
   "cell_type": "code",
   "execution_count": null,
   "id": "initial_id",
   "metadata": {
    "ExecuteTime": {
     "end_time": "2024-06-15T13:14:18.935069Z",
     "start_time": "2024-06-15T13:14:18.889404Z"
    }
   },
   "outputs": [],
   "source": [
    "import pandas as pd\n",
    "from utils import load_encrypted_xlsx\n",
    "from statsmodels.miscmodels.ordinal_model import OrderedModel"
   ]
  },
  {
   "cell_type": "code",
   "execution_count": null,
   "id": "ec6bc548a8b53fac",
   "metadata": {
    "ExecuteTime": {
     "end_time": "2024-06-15T13:14:18.939532Z",
     "start_time": "2024-06-15T13:14:18.936569Z"
    }
   },
   "outputs": [],
   "source": [
    "pupillometry_processed_data = '/Users/jk1/temp/cereblink/pupillometry/data_saving/exclude_nan_outcome_False/DCI_ischemia_normalised_pupillometry_df.csv'\n",
    "outcomes_registry_data_path = '/Users/jk1/Library/CloudStorage/OneDrive-unige.ch/icu_research/dci_sah/data/sos_sah_data/original_data/outcomes_aSAH_DATA_2009_2024_17022024.xlsx'\n",
    "registry_data_path = '/Users/jk1/Library/CloudStorage/OneDrive-unige.ch/icu_research/dci_sah/data/sos_sah_data/post_hoc_modified_aSAH_DATA_2009_2023_24122023.xlsx'\n",
    "registry_pdms_correspondence_path = '/Users/jk1/Library/CloudStorage/OneDrive-unige.ch/icu_research/dci_sah/data/pdms_data/registry_pdms_correspondence.csv'"
   ]
  },
  {
   "cell_type": "code",
   "execution_count": null,
   "id": "a520dff2aef511e4",
   "metadata": {
    "ExecuteTime": {
     "end_time": "2024-06-15T13:14:18.978699Z",
     "start_time": "2024-06-15T13:14:18.940962Z"
    }
   },
   "outputs": [],
   "source": [
    "df = pd.read_csv(pupillometry_processed_data)"
   ]
  },
  {
   "cell_type": "code",
   "execution_count": null,
   "id": "390e7499bcd8b09e",
   "metadata": {
    "ExecuteTime": {
     "end_time": "2024-06-15T13:14:23.222925Z",
     "start_time": "2024-06-15T13:14:18.980152Z"
    }
   },
   "outputs": [],
   "source": [
    "outcomes_registry_df = load_encrypted_xlsx(outcomes_registry_data_path)\n",
    "registry_df = load_encrypted_xlsx(registry_data_path)\n",
    "registry_pdms_correspondence_df = pd.read_csv(registry_pdms_correspondence_path)\n",
    "registry_pdms_correspondence_df['Date_birth'] = pd.to_datetime(registry_pdms_correspondence_df['Date_birth'],\n",
    "                                                               format='%Y-%m-%d')\n",
    "registry_pdms_correspondence_df.rename(columns={'JoinedName': 'Name'}, inplace=True)\n",
    "outcomes_registry_df = outcomes_registry_df.merge(registry_pdms_correspondence_df, on=['SOS-CENTER-YEAR-NO.', 'Name', 'Date_birth'],\n",
    "                                how='left')\n",
    "registry_df = outcomes_registry_df.merge(registry_df, on=['SOS-CENTER-YEAR-NO.', 'Name', 'Date_birth'],\n",
    "                                how='left')"
   ]
  },
  {
   "cell_type": "code",
   "execution_count": null,
   "id": "a4f0b2adea2f8e0c",
   "metadata": {
    "ExecuteTime": {
     "end_time": "2024-06-15T15:07:11.199692Z",
     "start_time": "2024-06-15T15:07:11.160156Z"
    }
   },
   "outputs": [],
   "source": [
    "registry_df = registry_df[~registry_df.pNr.isna()]\n",
    "registry_df.mRS_FU_1y = pd.to_numeric(registry_df.mRS_FU_1y, errors='coerce')"
   ]
  },
  {
   "cell_type": "code",
   "execution_count": null,
   "id": "205d5d7586ef0a23",
   "metadata": {
    "ExecuteTime": {
     "end_time": "2024-06-15T15:07:11.582426Z",
     "start_time": "2024-06-15T15:07:11.564202Z"
    }
   },
   "outputs": [],
   "source": [
    "df['inter_eye_min_NPI'] = df[['NPI_r_value', 'NPI_l_value']].min(axis=1)\n",
    "df['inter_eye_min_CV'] = df[['CV_r_value', 'CV_l_value']].min(axis=1)\n",
    "df['inter_eye_min_norm_NPI'] = df[['NPI_r_value_normalised', 'NPI_l_value_normalised']].min(axis=1)\n",
    "df['inter_eye_min_norm_CV'] = df[['CV_r_value_normalised', 'CV_l_value_normalised']].min(axis=1)"
   ]
  },
  {
   "cell_type": "code",
   "execution_count": null,
   "id": "6e6a9a19f0f40622",
   "metadata": {
    "ExecuteTime": {
     "end_time": "2024-06-15T15:07:11.983540Z",
     "start_time": "2024-06-15T15:07:11.979683Z"
    }
   },
   "outputs": [],
   "source": [
    "# define aggregration with function of relative frequency of value less than 3\n",
    "def relative_frequency_less_than_3(x):\n",
    "    return (x < 3).sum() / len(x)"
   ]
  },
  {
   "cell_type": "code",
   "execution_count": null,
   "id": "7474099b25477aa2",
   "metadata": {
    "ExecuteTime": {
     "end_time": "2024-06-15T15:07:12.664290Z",
     "start_time": "2024-06-15T15:07:12.611233Z"
    }
   },
   "outputs": [],
   "source": [
    "summary_df = df.groupby('pNr').agg({'inter_eye_min_NPI': 'median', 'inter_eye_min_CV': 'median', 'inter_eye_min_norm_NPI': 'median', 'inter_eye_min_norm_CV': 'median'}).reset_index()\n",
    "npi_rel_f_less_than_3_df = df.groupby('pNr').agg({'inter_eye_min_NPI': relative_frequency_less_than_3}).reset_index()\n",
    "# rename column \n",
    "npi_rel_f_less_than_3_df.rename(columns={'inter_eye_min_NPI': 'inter_eye_min_NPI_rel_f_less_than_3'}, inplace=True)\n",
    "\n",
    "summary_df = summary_df.merge(npi_rel_f_less_than_3_df, on='pNr', how='left')"
   ]
  },
  {
   "cell_type": "code",
   "execution_count": null,
   "id": "6b219cfc048a82f8",
   "metadata": {
    "ExecuteTime": {
     "end_time": "2024-06-15T15:07:13.284357Z",
     "start_time": "2024-06-15T15:07:13.268958Z"
    }
   },
   "outputs": [],
   "source": [
    "joined_df = summary_df.merge(registry_df, on='pNr', how='left')"
   ]
  },
  {
   "cell_type": "code",
   "execution_count": null,
   "id": "5d64c1599cf9a14a",
   "metadata": {
    "ExecuteTime": {
     "end_time": "2024-06-15T15:07:13.611739Z",
     "start_time": "2024-06-15T15:07:13.599594Z"
    }
   },
   "outputs": [],
   "source": [
    "114 - joined_df.mRS_FU_1y.count(), 1 - joined_df.mRS_FU_1y.count() / joined_df.pNr.nunique()"
   ]
  },
  {
   "cell_type": "code",
   "execution_count": null,
   "id": "d488fd3bd27d9d47",
   "metadata": {
    "ExecuteTime": {
     "end_time": "2024-06-15T15:07:15.558732Z",
     "start_time": "2024-06-15T15:07:13.943318Z"
    }
   },
   "outputs": [],
   "source": [
    "# plot correlation between inter_eye_min_NPI and mRS_FU_1y, as well as inter_eye_min_CV and mRS_FU_1y\n",
    "import seaborn as sns\n",
    "import matplotlib.pyplot as plt\n",
    "\n",
    "# for every column in summary_df, plot correlation with mRS_FU_1y\n",
    "for column in summary_df.columns:\n",
    "    if column == 'pNr':\n",
    "        continue\n",
    "    sns.scatterplot(data=joined_df, x=column, y='mRS_FU_1y')\n",
    "    plt.show()"
   ]
  },
  {
   "cell_type": "code",
   "execution_count": null,
   "id": "988c40cf9469b5e7",
   "metadata": {
    "ExecuteTime": {
     "end_time": "2024-06-15T15:07:15.563630Z",
     "start_time": "2024-06-15T15:07:15.560670Z"
    }
   },
   "outputs": [],
   "source": [
    "dependent_variable = 'mRS_FU_1y'\n",
    "independent_variables = ['inter_eye_min_CV', 'inter_eye_min_NPI']\n",
    "# independent_variables = ['inter_eye_min_norm_NPI', 'inter_eye_min_norm_CV']\n",
    "# independent_variables = ['inter_eye_min_NPI_rel_f_less_than_3']"
   ]
  },
  {
   "cell_type": "code",
   "execution_count": null,
   "id": "a0e4c94d46372744",
   "metadata": {
    "ExecuteTime": {
     "end_time": "2024-06-15T15:07:16.296944Z",
     "start_time": "2024-06-15T15:07:16.293342Z"
    }
   },
   "outputs": [],
   "source": [
    "# suggestion: WFNS/HH, age, Fisher / intraventricular / intraparenchymal hemorrhage\n",
    "covariates = ['Age', 'WFNS', 'Fisher_Score']"
   ]
  },
  {
   "cell_type": "code",
   "execution_count": null,
   "id": "55e775bacb1f7ce",
   "metadata": {
    "ExecuteTime": {
     "end_time": "2024-06-15T15:07:16.750119Z",
     "start_time": "2024-06-15T15:07:16.740069Z"
    }
   },
   "outputs": [],
   "source": [
    "temp_df = joined_df[[dependent_variable] + independent_variables + covariates]\n",
    "for covariate in covariates:\n",
    "    temp_df[covariate] = pd.to_numeric(temp_df[covariate], errors='coerce')\n",
    "temp_df = temp_df.dropna(subset=[dependent_variable] + independent_variables + covariates)"
   ]
  },
  {
   "cell_type": "code",
   "execution_count": null,
   "id": "1bc3775cb2b2786e",
   "metadata": {
    "ExecuteTime": {
     "end_time": "2024-06-15T15:07:17.659771Z",
     "start_time": "2024-06-15T15:07:17.654953Z"
    }
   },
   "outputs": [],
   "source": [
    "mod_log = OrderedModel(temp_df[dependent_variable], temp_df[independent_variables + covariates], distr='logit')"
   ]
  },
  {
   "cell_type": "code",
   "execution_count": null,
   "id": "ffdfffd74b416e1a",
   "metadata": {
    "ExecuteTime": {
     "end_time": "2024-06-15T15:07:19.195047Z",
     "start_time": "2024-06-15T15:07:18.328476Z"
    }
   },
   "outputs": [],
   "source": [
    "res_log = mod_log.fit(maxiter=10000)\n",
    "res_log.summary()"
   ]
  },
  {
   "cell_type": "code",
   "execution_count": null,
   "id": "88ac31e54c54d7a",
   "metadata": {
    "ExecuteTime": {
     "end_time": "2024-06-09T15:05:42.189560Z",
     "start_time": "2024-06-09T15:05:42.175435Z"
    }
   },
   "outputs": [],
   "source": [
    "results_as_html = res_log.summary().as_html()\n",
    "results_df = pd.read_html(results_as_html, index_col=0, header=0)[1]"
   ]
  },
  {
   "cell_type": "code",
   "execution_count": null,
   "id": "4dcbfa95b6047724",
   "metadata": {
    "ExecuteTime": {
     "end_time": "2024-06-09T15:06:02.561763Z",
     "start_time": "2024-06-09T15:06:02.555887Z"
    }
   },
   "outputs": [],
   "source": []
  },
  {
   "cell_type": "code",
   "execution_count": null,
   "id": "88039d3d3fba9632",
   "metadata": {},
   "outputs": [],
   "source": []
  }
 ],
 "metadata": {
  "kernelspec": {
   "display_name": "Python 3 (ipykernel)",
   "language": "python",
   "name": "python3"
  },
  "language_info": {
   "codemirror_mode": {
    "name": "ipython",
    "version": 3
   },
   "file_extension": ".py",
   "mimetype": "text/x-python",
   "name": "python",
   "nbconvert_exporter": "python",
   "pygments_lexer": "ipython3",
   "version": "3.10.13"
  }
 },
 "nbformat": 4,
 "nbformat_minor": 5
}
