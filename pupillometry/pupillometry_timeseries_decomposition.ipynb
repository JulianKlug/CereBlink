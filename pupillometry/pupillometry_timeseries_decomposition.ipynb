{
 "cells": [
  {
   "cell_type": "markdown",
   "id": "bca4d3e321368485",
   "metadata": {
    "collapsed": false
   },
   "source": [
    "# Timeseries decomposition\n",
    "Goal: decompose timeseries into timebins of X hours and seperate if end of timebin includes CT showing DCI/vasospasm or not"
   ]
  },
  {
   "cell_type": "code",
   "execution_count": null,
   "id": "initial_id",
   "metadata": {
    "ExecuteTime": {
     "end_time": "2024-02-14T10:51:19.623669Z",
     "start_time": "2024-02-14T10:51:19.163244Z"
    }
   },
   "outputs": [],
   "source": [
    "import os\n",
    "import pandas as pd\n",
    "import numpy as np\n",
    "from tqdm import tqdm\n",
    "import matplotlib.pyplot as plt\n",
    "import seaborn as sns\n",
    "from utils import load_encrypted_xlsx\n",
    "from utils import safe_conversion_to_datetime"
   ]
  },
  {
   "cell_type": "code",
   "execution_count": null,
   "id": "fbe215ceaa8dc540",
   "metadata": {
    "ExecuteTime": {
     "end_time": "2024-02-14T10:51:19.656778Z",
     "start_time": "2024-02-14T10:51:19.616807Z"
    }
   },
   "outputs": [],
   "source": [
    "registry_data_path = '/Users/jk1/Library/CloudStorage/OneDrive-unige.ch/icu_research/dci_sah/data/sos_sah_data/post_hoc_modified_aSAH_DATA_2009_2023_24122023.xlsx'\n",
    "pupillometry_data_path = '/Users/jk1/Library/CloudStorage/OneDrive-unige.ch/icu_research/dci_sah/data/pdms_data/Transfer Urs.pietsch@kssg.ch 22.01.24, 15_34/20240117_SAH_SOS_Pupillometrie.csv'\n",
    "registry_pdms_correspondence_path = '/Users/jk1/Library/CloudStorage/OneDrive-unige.ch/icu_research/dci_sah/data/pdms_data/registry_pdms_correspondence.csv'"
   ]
  },
  {
   "cell_type": "code",
   "execution_count": null,
   "id": "9c1b44f11af5bb0e",
   "metadata": {
    "ExecuteTime": {
     "end_time": "2024-02-14T10:51:19.768880Z",
     "start_time": "2024-02-14T10:51:19.663609Z"
    }
   },
   "outputs": [],
   "source": [
    "timebin_hours = 12\n",
    "target = 'DCI_infarct'\n",
    "\n",
    "censure_data_after_first_positive_CT = True\n",
    "use_span = False"
   ]
  },
  {
   "cell_type": "code",
   "execution_count": null,
   "id": "d57b852e02bc90c2",
   "metadata": {
    "ExecuteTime": {
     "end_time": "2024-02-14T10:51:24.442622Z",
     "start_time": "2024-02-14T10:51:19.738286Z"
    }
   },
   "outputs": [],
   "source": [
    "registry_df = load_encrypted_xlsx(registry_data_path)\n",
    "pupillometry_df = pd.read_csv(pupillometry_data_path, sep=';', decimal='.')\n",
    "registry_pdms_correspondence_df = pd.read_csv(registry_pdms_correspondence_path)\n",
    "registry_pdms_correspondence_df['Date_birth'] = pd.to_datetime(registry_pdms_correspondence_df['Date_birth'], format='%Y-%m-%d')"
   ]
  },
  {
   "cell_type": "code",
   "execution_count": null,
   "id": "4a85f64d03c95546",
   "metadata": {
    "ExecuteTime": {
     "end_time": "2024-02-14T10:51:24.460927Z",
     "start_time": "2024-02-14T10:51:24.450377Z"
    }
   },
   "outputs": [],
   "source": [
    "pupillometry_df = pupillometry_df.merge(registry_pdms_correspondence_df, on='pNr', how='left')\n",
    "pupillometry_df.rename(columns={'JoinedName': 'Name'}, inplace=True)"
   ]
  },
  {
   "cell_type": "markdown",
   "id": "29397f120829c056",
   "metadata": {
    "collapsed": false
   },
   "source": [
    "# Preprocessing"
   ]
  },
  {
   "cell_type": "code",
   "execution_count": null,
   "id": "b60ed917807081bd",
   "metadata": {
    "ExecuteTime": {
     "end_time": "2024-02-14T10:51:24.532272Z",
     "start_time": "2024-02-14T10:51:24.483085Z"
    }
   },
   "outputs": [],
   "source": [
    "# in NPI_r_value NPI_l_value, CV_r_value and CV_l_value, if contains '-' set to np.nan, then replace , with . and \"..\" with \".\"\n",
    "pupillometry_df['NPI_r_value'] = pd.to_numeric(pupillometry_df['NPI_r_value'].apply(lambda x: np.nan if '-' in str(x) else x).str.replace(',', '.').str.replace('..', '.'), errors='coerce')\n",
    "pupillometry_df['NPI_l_value'] = pd.to_numeric(pupillometry_df['NPI_l_value'].apply(lambda x: np.nan if '-' in str(x) else x).str.replace(',', '.').str.replace('..', '.') , errors='coerce')\n",
    "pupillometry_df['CV_r_value'] = pd.to_numeric(pupillometry_df['CV_r_value'].apply(lambda x: np.nan if '-' in str(x) else x).str.replace(',', '.').str.replace('..', '.'), errors='coerce')\n",
    "pupillometry_df['CV_l_value'] = pd.to_numeric(pupillometry_df['CV_l_value'].apply(lambda x: np.nan if '-' in str(x) else x).str.replace(',', '.').str.replace('..', '.'), errors='coerce')"
   ]
  },
  {
   "cell_type": "code",
   "execution_count": null,
   "id": "a63bd9446049f1d5",
   "metadata": {
    "ExecuteTime": {
     "end_time": "2024-02-14T10:51:24.536247Z",
     "start_time": "2024-02-14T10:51:24.518989Z"
    }
   },
   "outputs": [],
   "source": [
    "# exclude NPI values outside of 0-5\n",
    "pupillometry_df = pupillometry_df[(pupillometry_df['NPI_r_value'] >= 0) & (pupillometry_df['NPI_r_value'] <= 5)]\n",
    "pupillometry_df = pupillometry_df[(pupillometry_df['NPI_l_value'] >= 0) & (pupillometry_df['NPI_l_value'] <= 5)]"
   ]
  },
  {
   "cell_type": "code",
   "execution_count": null,
   "id": "82e61b70db25b2bb",
   "metadata": {
    "ExecuteTime": {
     "end_time": "2024-02-14T10:51:24.569621Z",
     "start_time": "2024-02-14T10:51:24.533014Z"
    }
   },
   "outputs": [],
   "source": [
    "# exclude CV values outside of 0 - 10\n",
    "pupillometry_df = pupillometry_df[(pupillometry_df['CV_r_value'] >= 0) & (pupillometry_df['CV_r_value'] <= 10)]\n",
    "pupillometry_df = pupillometry_df[(pupillometry_df['CV_l_value'] >= 0) & (pupillometry_df['CV_l_value'] <= 10)]"
   ]
  },
  {
   "cell_type": "code",
   "execution_count": null,
   "id": "96536b76aee2f10e",
   "metadata": {
    "ExecuteTime": {
     "end_time": "2024-02-14T10:51:26.448498Z",
     "start_time": "2024-02-14T10:51:24.605321Z"
    }
   },
   "outputs": [],
   "source": [
    "# plot histogram of all values\n",
    "import seaborn as sns\n",
    "import matplotlib.pyplot as plt\n",
    "\n",
    "fig, ax = plt.subplots(2, 2, figsize=(15, 10))\n",
    "sns.histplot(pupillometry_df['NPI_r_value'], ax=ax[0, 0])\n",
    "sns.histplot(pupillometry_df['NPI_l_value'], ax=ax[0, 1])\n",
    "sns.histplot(pupillometry_df['CV_r_value'], ax=ax[1, 0])\n",
    "sns.histplot(pupillometry_df['CV_l_value'], ax=ax[1, 1])"
   ]
  },
  {
   "cell_type": "code",
   "execution_count": null,
   "id": "4363f483599fd338",
   "metadata": {
    "ExecuteTime": {
     "end_time": "2024-02-14T10:51:26.449193Z",
     "start_time": "2024-02-14T10:51:26.432850Z"
    }
   },
   "outputs": [],
   "source": [
    "pupillometry_df['timePupil'] = pd.to_datetime(pupillometry_df['timePupil'], format='%Y-%m-%d %H:%M:%S.%f')"
   ]
  },
  {
   "cell_type": "code",
   "execution_count": null,
   "id": "38d9439cec586dbd",
   "metadata": {
    "ExecuteTime": {
     "end_time": "2024-02-14T13:11:59.959987Z",
     "start_time": "2024-02-14T13:11:59.803446Z"
    }
   },
   "outputs": [],
   "source": [
    "registry_df['DCI_YN_verified'] = registry_df['DCI_YN_verified'].replace('Yes', 1).fillna(registry_df['DCI_YN'])\n",
    "registry_df"
   ]
  },
  {
   "cell_type": "code",
   "execution_count": null,
   "id": "846a55a0f25333a4",
   "metadata": {
    "ExecuteTime": {
     "end_time": "2024-02-14T13:12:10.411766Z",
     "start_time": "2024-02-14T13:12:10.256927Z"
    }
   },
   "outputs": [],
   "source": [
    "pupillometry_df"
   ]
  },
  {
   "cell_type": "code",
   "execution_count": null,
   "id": "208d030cb17afb83",
   "metadata": {
    "ExecuteTime": {
     "end_time": "2024-02-14T10:51:26.449780Z",
     "start_time": "2024-02-14T10:51:26.441331Z"
    }
   },
   "outputs": [],
   "source": [
    "registry_df[target] = registry_df[target].astype(int)\n",
    "target_events_df = registry_df[registry_df[target] == 1]"
   ]
  },
  {
   "cell_type": "code",
   "execution_count": null,
   "id": "52885f35b6929c50",
   "metadata": {
    "ExecuteTime": {
     "end_time": "2024-02-14T10:51:26.484376Z",
     "start_time": "2024-02-14T10:51:26.449876Z"
    }
   },
   "outputs": [],
   "source": [
    "# add Date_DCI_ischemia_first_image and Time_DCI_ischemia_first_image to get the full date\n",
    "target_events_df['full_date_dci_ischemia'] = target_events_df['Date_DCI_ischemia_first_image'].astype(str) + ' ' + target_events_df['Time_DCI_ischemia_first_image'].astype(str)\n",
    "# replace NaT nan with nan\n",
    "target_events_df['full_date_dci_ischemia'] = target_events_df['full_date_dci_ischemia'].replace('NaT nan', pd.NaT)\n",
    "target_events_df['full_date_dci_ischemia'] = target_events_df['full_date_dci_ischemia'].apply(safe_conversion_to_datetime)\n",
    "\n",
    "target_events_df['full_date_dci_infarct'] = target_events_df['Date_DCI_infarct_first_image'].astype(str) + ' ' + target_events_df['Time_DCI_infarct_first_image'].astype(str)\n",
    "# replace NaT nan with nan\n",
    "target_events_df['full_date_dci_infarct'] = target_events_df['full_date_dci_infarct'].replace('NaT nan', pd.NaT)\n",
    "target_events_df['full_date_dci_infarct'] = target_events_df['full_date_dci_infarct'].apply(safe_conversion_to_datetime)\n"
   ]
  },
  {
   "cell_type": "code",
   "execution_count": null,
   "id": "2b79b2b1877151e5",
   "metadata": {
    "ExecuteTime": {
     "end_time": "2024-02-14T10:51:26.570573Z",
     "start_time": "2024-02-14T10:51:26.494408Z"
    }
   },
   "outputs": [],
   "source": [
    "# loop through all events and label pupillometry data with event\n",
    "for index, row in target_events_df.iterrows():\n",
    "    # verify that patient is in pupillometry data\n",
    "    if not row['Name'] in pupillometry_df['Name'].values:\n",
    "        print(f'Patient {row[\"Name\"]} not in pupillometry data')\n",
    "        continue\n",
    "        \n",
    "    target_event_time_column = f'full_date_{target.lower()}'\n",
    "    timebin_begin = pd.to_datetime(row[target_event_time_column]) - pd.Timedelta(hours=timebin_hours, unit='h')\n",
    "    timebin_end = pd.to_datetime(row[target_event_time_column])\n",
    "    \n",
    "    # for all associated pupillometry entries add a 'within_event_timebin' column\n",
    "    pupillometry_df.loc[(pupillometry_df['Name'] == row['Name']) \n",
    "                        & (pupillometry_df['Date_birth'] == row['Date_birth'])\n",
    "                        & (pupillometry_df['SOS-CENTER-YEAR-NO.'] == row['SOS-CENTER-YEAR-NO.'])\n",
    "                        & (pupillometry_df['timePupil'] >= timebin_begin) \n",
    "                        & (pupillometry_df['timePupil'] <= timebin_end), 'within_event_timebin'] = 1\n",
    "    \n",
    "    # for all associated pupillometry entries add a 'associated_CT_time' column\n",
    "    pupillometry_df.loc[(pupillometry_df['Name'] == row['Name']) \n",
    "                        & (pupillometry_df['Date_birth'] == row['Date_birth'])\n",
    "                        & (pupillometry_df['SOS-CENTER-YEAR-NO.'] == row['SOS-CENTER-YEAR-NO.'])\n",
    "                        & (pupillometry_df['timePupil'] >= timebin_begin) \n",
    "                        & (pupillometry_df['timePupil'] <= timebin_end), 'associated_CT_time'] = row[target_event_time_column]\n",
    "    \n",
    "pupillometry_df['within_event_timebin'] = pupillometry_df['within_event_timebin'].fillna(0).astype(int)"
   ]
  },
  {
   "cell_type": "code",
   "execution_count": null,
   "id": "c29b57a837dd24ea",
   "metadata": {
    "ExecuteTime": {
     "end_time": "2024-02-14T10:51:26.578655Z",
     "start_time": "2024-02-14T10:51:26.575447Z"
    }
   },
   "outputs": [],
   "source": [
    "pupillometry_df[pupillometry_df.within_event_timebin == 1].pNr.nunique()"
   ]
  },
  {
   "cell_type": "markdown",
   "id": "32df75e1ac201fef",
   "metadata": {
    "collapsed": false
   },
   "source": [
    "### For every pupillometry entry add metrics for the timebin it ends\n",
    "\n",
    "Gist: every new measure represents the end of a timebin of X hours\n",
    "\n",
    "Metrics: \n",
    "- For every two sided measure: mean, min, max, delta\n",
    "- Over time: median, min, max, span\n",
    "\n",
    "ToDo: Span should prpably be excluded as in negative samples more samples will have > 1 measure within timebin (alternative exclude all measures with < 2 measure within timebin)"
   ]
  },
  {
   "cell_type": "code",
   "execution_count": null,
   "id": "1c1c7ca721572a3b",
   "metadata": {
    "ExecuteTime": {
     "end_time": "2024-02-14T10:51:26.643827Z",
     "start_time": "2024-02-14T10:51:26.586757Z"
    }
   },
   "outputs": [],
   "source": [
    "# add inter eye metrics for every pupillometry entry\n",
    "# NPI\n",
    "pupillometry_df['NPI_inter_eye_mean'] = pupillometry_df[['NPI_r_value', 'NPI_l_value']].mean(axis=1)\n",
    "pupillometry_df['NPI_inter_eye_min'] = pupillometry_df[['NPI_r_value', 'NPI_l_value']].min(axis=1)\n",
    "pupillometry_df['NPI_inter_eye_max'] = pupillometry_df[['NPI_r_value', 'NPI_l_value']].max(axis=1)\n",
    "pupillometry_df['NPI_inter_eye_delta'] = np.abs(pupillometry_df['NPI_r_value'] - pupillometry_df['NPI_l_value'])\n",
    "\n",
    "# CV\n",
    "pupillometry_df['CV_inter_eye_mean'] = pupillometry_df[['CV_r_value', 'CV_l_value']].mean(axis=1)\n",
    "pupillometry_df['CV_inter_eye_min'] = pupillometry_df[['CV_r_value', 'CV_l_value']].min(axis=1)\n",
    "pupillometry_df['CV_inter_eye_max'] = pupillometry_df[['CV_r_value', 'CV_l_value']].max(axis=1)\n",
    "pupillometry_df['CV_inter_eye_delta'] = np.abs(pupillometry_df['CV_r_value'] - pupillometry_df['CV_l_value'])"
   ]
  },
  {
   "cell_type": "code",
   "execution_count": null,
   "id": "c91e80d5ab50224a",
   "metadata": {
    "ExecuteTime": {
     "end_time": "2024-02-14T10:51:26.644558Z",
     "start_time": "2024-02-14T10:51:26.629475Z"
    }
   },
   "outputs": [],
   "source": [
    "pupillometry_metrics = ['NPI', 'CV']\n",
    "inter_eye_metrics = ['mean', 'min', 'max', 'delta']\n",
    "# combine to get all metrics\n",
    "single_timepoint_metrics = [f'{metric}_inter_eye_{metric_type}' for metric in pupillometry_metrics for metric_type in inter_eye_metrics]"
   ]
  },
  {
   "cell_type": "code",
   "execution_count": null,
   "id": "5511fef826063ebe",
   "metadata": {
    "ExecuteTime": {
     "end_time": "2024-02-14T10:51:26.646109Z",
     "start_time": "2024-02-14T10:51:26.629622Z"
    }
   },
   "outputs": [],
   "source": [
    "over_time_metrics = ['max', 'min', 'median', 'span']\n",
    "if not use_span:\n",
    "    over_time_metrics.remove('span')\n",
    "# combine to get all metrics\n",
    "timebin_metrics = [f'{metric}_timebin_{metric_type}' for metric in single_timepoint_metrics for metric_type in over_time_metrics]\n",
    "timebin_metrics"
   ]
  },
  {
   "cell_type": "code",
   "execution_count": null,
   "id": "9917712b675d466c",
   "metadata": {
    "ExecuteTime": {
     "end_time": "2024-02-14T10:54:06.021651Z",
     "start_time": "2024-02-14T10:51:26.642513Z"
    }
   },
   "outputs": [],
   "source": [
    "# add timebin metrics for every pupillometry entry\n",
    "for index, row in tqdm(pupillometry_df.iterrows(), total=len(pupillometry_df)):\n",
    "    timebin_begin = row['timePupil'] - pd.Timedelta(hours=timebin_hours, unit='h')\n",
    "    timebin_end = row['timePupil']\n",
    "    \n",
    "    # compute timebin metrics for every single timepoint metric\n",
    "    for metric in single_timepoint_metrics:\n",
    "        # get all values within timebin\n",
    "        values_within_timebin = pupillometry_df.loc[(pupillometry_df['pNr'] == row['pNr']) \n",
    "                                                    & (pupillometry_df['timePupil'] >= timebin_begin) \n",
    "                                                    & (pupillometry_df['timePupil'] <= timebin_end), metric]\n",
    "        \n",
    "        n_values_within_timebin = len(values_within_timebin)\n",
    "        \n",
    "        # if no values within timebin, skip\n",
    "        if n_values_within_timebin == 0:\n",
    "            continue\n",
    "            \n",
    "        # add timebin metrics\n",
    "        pupillometry_df.loc[(pupillometry_df['pNr'] == row['pNr']) & \n",
    "                            (pupillometry_df['timePupil'] == row['timePupil']), f'{metric}_timebin_median'] = values_within_timebin.median()\n",
    "        pupillometry_df.loc[(pupillometry_df['pNr'] == row['pNr']) & \n",
    "                            (pupillometry_df['timePupil'] == row['timePupil']), f'{metric}_timebin_min'] = values_within_timebin.min()\n",
    "        pupillometry_df.loc[(pupillometry_df['pNr'] == row['pNr']) & \n",
    "                            (pupillometry_df['timePupil'] == row['timePupil']), f'{metric}_timebin_max'] = values_within_timebin.max()\n",
    "        pupillometry_df.loc[(pupillometry_df['pNr'] == row['pNr']) &   \n",
    "                            (pupillometry_df['timePupil'] == row['timePupil']), f'{metric}_timebin_span'] = values_within_timebin.max() - values_within_timebin.min()\n",
    "        \n",
    "    pupillometry_df.loc[(pupillometry_df['pNr'] == row['pNr']) &   \n",
    "                            (pupillometry_df['timePupil'] == row['timePupil']), 'n_values_within_timebin'] = n_values_within_timebin"
   ]
  },
  {
   "cell_type": "markdown",
   "id": "e9717a646467618d",
   "metadata": {
    "collapsed": false
   },
   "source": [
    "### Build negative pupillometry dataset (only pupillometry data outside of timebins containing target event)"
   ]
  },
  {
   "cell_type": "code",
   "execution_count": null,
   "id": "7ccd0a9a59f526c9",
   "metadata": {
    "ExecuteTime": {
     "end_time": "2024-02-14T10:54:06.046064Z",
     "start_time": "2024-02-14T10:54:06.026230Z"
    }
   },
   "outputs": [],
   "source": [
    "negative_pupillometry_df = pupillometry_df[pupillometry_df['within_event_timebin'] == 0]\n",
    "negative_pupillometry_df['label'] = 0\n",
    "negative_pupillometry_df['timebin_end'] = pd.to_datetime(negative_pupillometry_df['timePupil'])"
   ]
  },
  {
   "cell_type": "markdown",
   "id": "438e93dde5b46d46",
   "metadata": {
    "collapsed": false
   },
   "source": [
    "### Build positive pupillometry dataset (only pupillometry data within CT timebin)\n",
    "\n",
    "loop through CTs and collect all pupillometry data within CT timebin"
   ]
  },
  {
   "cell_type": "code",
   "execution_count": null,
   "id": "c5a74ebbbd7a63dd",
   "metadata": {
    "ExecuteTime": {
     "end_time": "2024-02-14T10:54:06.721378Z",
     "start_time": "2024-02-14T10:54:06.058669Z"
    }
   },
   "outputs": [],
   "source": [
    "for index, row in tqdm(target_events_df.iterrows(), total=len(target_events_df)):\n",
    "    # verify that patient is in pupillometry data\n",
    "    if not row['Name'] in pupillometry_df['Name'].values:\n",
    "        print(f'Patient {row[\"Name\"]} not in pupillometry data')\n",
    "        target_events_df.loc[(target_events_df['Name'] == row['Name']), 'pupillometry_available'] = 0\n",
    "        continue\n",
    "        \n",
    "    target_events_df.loc[(target_events_df['Name'] == row['Name']), 'pupillometry_available'] = 1\n",
    "    \n",
    "    target_event_time_column = f'full_date_{target.lower()}'\n",
    "    timebin_begin = pd.to_datetime(row[target_event_time_column]) - pd.Timedelta(hours=timebin_hours, unit='h')\n",
    "    timebin_end = pd.to_datetime(row[target_event_time_column])\n",
    "    \n",
    "    # add timebin metrics comprising all data within timebin\n",
    "    values_within_timebin = pupillometry_df.loc[(pupillometry_df['Name'] == row['Name']) \n",
    "                                                    & (pupillometry_df['Date_birth'] == row['Date_birth'])\n",
    "                                                    & (pupillometry_df['SOS-CENTER-YEAR-NO.'] == row['SOS-CENTER-YEAR-NO.'])\n",
    "                                                    & (pupillometry_df['timePupil'] >= timebin_begin) \n",
    "                                                    & (pupillometry_df['timePupil'] <= timebin_end)]\n",
    "    \n",
    "    n_values_within_timebin = len(values_within_timebin)\n",
    "    # if no values within timebin, skip\n",
    "    if n_values_within_timebin == 0:\n",
    "        continue\n",
    "        \n",
    "    target_events_df.loc[(target_events_df['Name'] == row['Name']) \n",
    "                                     & (target_events_df['Date_birth'] == row['Date_birth']) & (target_events_df['SOS-CENTER-YEAR-NO.'] == row['SOS-CENTER-YEAR-NO.']) &\n",
    "                                (target_events_df[target_event_time_column] == row[target_event_time_column]), 'n_values_within_timebin'] = n_values_within_timebin\n",
    "    \n",
    "        \n",
    "    for metric in single_timepoint_metrics:\n",
    "        # add timebin metrics\n",
    "        target_events_df.loc[(target_events_df['Name'] == row['Name']) \n",
    "                             & (target_events_df['Date_birth'] == row['Date_birth']) & (target_events_df['SOS-CENTER-YEAR-NO.'] == row['SOS-CENTER-YEAR-NO.']) &\n",
    "                                (target_events_df[target_event_time_column] == row[target_event_time_column]), f'{metric}_timebin_median'] = values_within_timebin[metric].median()\n",
    "        target_events_df.loc[(target_events_df['Name'] == row['Name']) \n",
    "                                     & (target_events_df['Date_birth'] == row['Date_birth']) & (target_events_df['SOS-CENTER-YEAR-NO.'] == row['SOS-CENTER-YEAR-NO.']) &\n",
    "                                (target_events_df[target_event_time_column] == row[target_event_time_column]), f'{metric}_timebin_min'] = values_within_timebin[metric].min()\n",
    "        target_events_df.loc[(target_events_df['Name'] == row['Name'])\n",
    "                                     & (target_events_df['Date_birth'] == row['Date_birth']) & (target_events_df['SOS-CENTER-YEAR-NO.'] == row['SOS-CENTER-YEAR-NO.']) &\n",
    "                                (target_events_df[target_event_time_column] == row[target_event_time_column]), f'{metric}_timebin_max'] = values_within_timebin[metric].max()\n",
    "        target_events_df.loc[(target_events_df['Name'] == row['Name']) \n",
    "                                     & (target_events_df['Date_birth'] == row['Date_birth']) & (target_events_df['SOS-CENTER-YEAR-NO.'] == row['SOS-CENTER-YEAR-NO.']) &\n",
    "                                (target_events_df[target_event_time_column] == row[target_event_time_column]), f'{metric}_timebin_span'] = values_within_timebin[metric].max() - values_within_timebin[metric].min() \n",
    "        \n",
    "    \n",
    "        "
   ]
  },
  {
   "cell_type": "code",
   "execution_count": null,
   "id": "f2e199fa06197465",
   "metadata": {
    "ExecuteTime": {
     "end_time": "2024-02-14T10:54:06.736092Z",
     "start_time": "2024-02-14T10:54:06.721743Z"
    }
   },
   "outputs": [],
   "source": [
    "target_events_df.pupillometry_available.value_counts()"
   ]
  },
  {
   "cell_type": "code",
   "execution_count": null,
   "id": "a84348cd8e418a77",
   "metadata": {
    "ExecuteTime": {
     "end_time": "2024-02-14T10:54:06.747454Z",
     "start_time": "2024-02-14T10:54:06.736425Z"
    }
   },
   "outputs": [],
   "source": [
    "positive_pupillometry_df = target_events_df[target_events_df['pupillometry_available'] == 1]\n",
    "positive_pupillometry_df['label'] = 1\n",
    "target_event_time_column = f'full_date_{target.lower()}'\n",
    "positive_pupillometry_df['timebin_end'] = positive_pupillometry_df[target_event_time_column]"
   ]
  },
  {
   "cell_type": "code",
   "execution_count": null,
   "id": "ccc9b9cea23d13fc",
   "metadata": {
    "ExecuteTime": {
     "end_time": "2024-02-14T10:54:06.753816Z",
     "start_time": "2024-02-14T10:54:06.750794Z"
    }
   },
   "outputs": [],
   "source": [
    "negative_pupillometry_df.Name.isnull().sum()"
   ]
  },
  {
   "cell_type": "code",
   "execution_count": null,
   "id": "fb88d08648c2f898",
   "metadata": {
    "ExecuteTime": {
     "end_time": "2024-02-14T10:54:06.783819Z",
     "start_time": "2024-02-14T10:54:06.759992Z"
    }
   },
   "outputs": [],
   "source": [
    "reassembled_pupillometry_df = pd.concat([\n",
    "    positive_pupillometry_df[['Name', 'Date_birth', 'label', 'timebin_end'] + timebin_metrics],\n",
    "    negative_pupillometry_df[['Name', 'Date_birth', 'label', 'timebin_end'] + timebin_metrics]\n",
    "])"
   ]
  },
  {
   "cell_type": "code",
   "execution_count": null,
   "id": "b05a13280a5efe9e",
   "metadata": {
    "ExecuteTime": {
     "end_time": "2024-02-14T10:54:06.801001Z",
     "start_time": "2024-02-14T10:54:06.774858Z"
    }
   },
   "outputs": [],
   "source": [
    "reassembled_pupillometry_df.dropna(subset='Name', inplace=True)"
   ]
  },
  {
   "cell_type": "markdown",
   "id": "b0f057ca3ee9454a",
   "metadata": {
    "collapsed": false
   },
   "source": [
    "For every subject with a positive CT, censure data after CT\n"
   ]
  },
  {
   "cell_type": "code",
   "execution_count": null,
   "id": "223cfb7dcff4067",
   "metadata": {
    "ExecuteTime": {
     "end_time": "2024-02-14T10:54:06.860090Z",
     "start_time": "2024-02-14T10:54:06.807196Z"
    }
   },
   "outputs": [],
   "source": [
    "if censure_data_after_first_positive_CT:\n",
    "    # get all patient names with a positive CT\n",
    "    patients_with_positive_event = reassembled_pupillometry_df[reassembled_pupillometry_df['label'] == 1]['Name'].unique()\n",
    "    \n",
    "     # for every subject with a positive event, censure data after event\n",
    "    for patient_name in tqdm(patients_with_positive_event):\n",
    "        # get time of first positive CT\n",
    "        time_of_first_positive_event = reassembled_pupillometry_df[(reassembled_pupillometry_df['Name'] == patient_name) & (reassembled_pupillometry_df['label'] == 1)]['timebin_end'].min()\n",
    "        \n",
    "        # censure all data after time of first positive event\n",
    "        reassembled_pupillometry_df.loc[(reassembled_pupillometry_df['Name'] == patient_name) & (reassembled_pupillometry_df['timebin_end'] > time_of_first_positive_event), 'to_drop'] = 1 \n",
    "    \n",
    "    reassembled_pupillometry_df = reassembled_pupillometry_df[reassembled_pupillometry_df['to_drop'] != 1]\n",
    "    reassembled_pupillometry_df.drop(columns=['to_drop'], inplace=True)"
   ]
  },
  {
   "cell_type": "code",
   "execution_count": null,
   "id": "7e1226044774509b",
   "metadata": {
    "ExecuteTime": {
     "end_time": "2024-02-14T10:54:06.866075Z",
     "start_time": "2024-02-14T10:54:06.863427Z"
    }
   },
   "outputs": [],
   "source": [
    "reassembled_pupillometry_df.reset_index(drop=True, inplace=True)\n",
    "reassembled_pupillometry_df['label'] = reassembled_pupillometry_df['label'].astype(int)"
   ]
  },
  {
   "cell_type": "code",
   "execution_count": null,
   "id": "e321ac87bf37aeaf",
   "metadata": {
    "ExecuteTime": {
     "end_time": "2024-02-14T10:54:06.877561Z",
     "start_time": "2024-02-14T10:54:06.870867Z"
    }
   },
   "outputs": [],
   "source": [
    "reassembled_pupillometry_df.label.value_counts()"
   ]
  },
  {
   "cell_type": "code",
   "execution_count": null,
   "id": "72766b9e6bdcd884",
   "metadata": {
    "ExecuteTime": {
     "end_time": "2024-02-14T10:54:06.885519Z",
     "start_time": "2024-02-14T10:54:06.881237Z"
    }
   },
   "outputs": [],
   "source": [
    "reassembled_pupillometry_df[reassembled_pupillometry_df.label == 1]['NPI_inter_eye_mean_timebin_max']"
   ]
  },
  {
   "cell_type": "markdown",
   "id": "cb74950186da5995",
   "metadata": {
    "collapsed": false
   },
   "source": [
    "# Stats"
   ]
  },
  {
   "cell_type": "code",
   "execution_count": null,
   "id": "f92bbeb24c7d75bb",
   "metadata": {
    "ExecuteTime": {
     "end_time": "2024-02-14T10:54:06.889614Z",
     "start_time": "2024-02-14T10:54:06.888128Z"
    }
   },
   "outputs": [],
   "source": [
    "import os\n",
    "\n",
    "os.environ[\"R_HOME\"] = \"/Library/Frameworks/R.framework/Resources\"\n",
    "from pymer4.models import Lmer"
   ]
  },
  {
   "cell_type": "code",
   "execution_count": null,
   "id": "55c7fd9a81462f7a",
   "metadata": {
    "ExecuteTime": {
     "end_time": "2024-02-14T10:54:06.907623Z",
     "start_time": "2024-02-14T10:54:06.901548Z"
    }
   },
   "outputs": [],
   "source": [
    "reassembled_pupillometry_df['Name'] = reassembled_pupillometry_df['Name'].astype(str)"
   ]
  },
  {
   "cell_type": "markdown",
   "id": "e39af13e47fe197f",
   "metadata": {
    "collapsed": false
   },
   "source": [
    "possibly correct for count of pupillometry measures"
   ]
  },
  {
   "cell_type": "code",
   "execution_count": null,
   "id": "4ec9825e23ee91bf",
   "metadata": {
    "ExecuteTime": {
     "end_time": "2024-02-14T10:54:39.177349Z",
     "start_time": "2024-02-14T10:54:06.908055Z"
    }
   },
   "outputs": [],
   "source": [
    "pvals_per_metric = {}\n",
    "for metric in tqdm(timebin_metrics, total=len(timebin_metrics)):\n",
    "    model = Lmer(f\"label  ~ {metric}  + (1|Name)\",\n",
    "                 data=reassembled_pupillometry_df, family = 'binomial')\n",
    "    model.fit()\n",
    "    pvals_per_metric[metric] = model.coefs['P-val'].to_dict()[metric]"
   ]
  },
  {
   "cell_type": "code",
   "execution_count": null,
   "id": "c80524dfab95e1b",
   "metadata": {
    "ExecuteTime": {
     "end_time": "2024-02-14T10:54:39.218403Z",
     "start_time": "2024-02-14T10:54:39.178451Z"
    }
   },
   "outputs": [],
   "source": [
    "pvals_per_metric_df = pd.DataFrame.from_dict(pvals_per_metric, orient='index', columns=['pval'])\n",
    "pvals_per_metric_df.sort_values(by='pval')"
   ]
  },
  {
   "cell_type": "code",
   "execution_count": null,
   "id": "7b19ba5991bae639",
   "metadata": {
    "ExecuteTime": {
     "end_time": "2024-02-14T10:54:39.618530Z",
     "start_time": "2024-02-14T10:54:39.217806Z"
    }
   },
   "outputs": [],
   "source": [
    "# plot pvals as barplot (lowest 10) - horizontal\n",
    "pvals_per_metric_df.sort_values(by='pval').iloc[:10].plot(kind='barh', figsize=(10, 5))"
   ]
  },
  {
   "cell_type": "code",
   "execution_count": null,
   "id": "599389dbca24588a",
   "metadata": {
    "ExecuteTime": {
     "end_time": "2024-02-14T10:54:39.620074Z",
     "start_time": "2024-02-14T10:54:39.618252Z"
    }
   },
   "outputs": [],
   "source": [
    "pvals_per_metric_df['pval']"
   ]
  },
  {
   "cell_type": "markdown",
   "id": "2f79e29a87c2f3cf",
   "metadata": {
    "collapsed": false
   },
   "source": [
    "## Correct for multiple comparisons"
   ]
  },
  {
   "cell_type": "code",
   "execution_count": null,
   "id": "7bc4250499f5cbac",
   "metadata": {
    "ExecuteTime": {
     "end_time": "2024-02-14T10:54:39.623356Z",
     "start_time": "2024-02-14T10:54:39.618390Z"
    }
   },
   "outputs": [],
   "source": [
    "# correct for with Reiner et al 2003 (independence of measures not needed)\n",
    "import statsmodels.stats.multitest\n",
    "sign_flags, adj_pvals, alpha_sidak, alphacBonf = statsmodels.stats.multitest.multipletests(pvals_per_metric_df['pval'].values, alpha=0.05, method='fdr_by')\n",
    "pvals_per_metric_df['adjusted_pval'] = adj_pvals\n",
    "pvals_per_metric_df['significance'] = sign_flags\n",
    "pvals_per_metric_df"
   ]
  },
  {
   "cell_type": "code",
   "execution_count": null,
   "id": "4d27ad8d559f3a07",
   "metadata": {
    "ExecuteTime": {
     "end_time": "2024-02-14T10:54:39.667896Z",
     "start_time": "2024-02-14T10:54:39.624294Z"
    }
   },
   "outputs": [],
   "source": [
    "# correct using Storey 2003 (qvalue)\n",
    "\n",
    "from multipy.fdr import qvalue\n",
    "significance_flags, qvals = qvalue(pvals_per_metric_df['pval'].values)\n",
    "pvals_per_metric_df['qval'] = qvals\n",
    "significance_flags, qvals"
   ]
  },
  {
   "cell_type": "code",
   "execution_count": null,
   "id": "5494d3b2bf94c8a8",
   "metadata": {
    "ExecuteTime": {
     "end_time": "2024-02-14T10:54:39.668982Z",
     "start_time": "2024-02-14T10:54:39.667673Z"
    }
   },
   "outputs": [],
   "source": [
    "pvals_per_metric_df.iloc[significance_flags]"
   ]
  },
  {
   "cell_type": "markdown",
   "id": "7769b43dd16ee9bc",
   "metadata": {
    "collapsed": false
   },
   "source": [
    "# Plot"
   ]
  },
  {
   "cell_type": "code",
   "execution_count": null,
   "id": "cf8cbfff517e41aa",
   "metadata": {
    "ExecuteTime": {
     "end_time": "2024-02-14T10:54:47.323916Z",
     "start_time": "2024-02-14T10:54:39.667923Z"
    }
   },
   "outputs": [],
   "source": [
    "# create a plot with a subplot for every timebin metric, with a scatterplot of metric vs label\n",
    "# add legend with p-value\n",
    "\n",
    "# create a plot with a subplot for every timebin metric, with a scatterplot of metric vs label\n",
    "n_columns = len(over_time_metrics)\n",
    "n_rows = int(np.ceil(len(timebin_metrics) / n_columns))\n",
    "plot_type = 'violin'\n",
    "\n",
    "fig, axes = plt.subplots(n_rows, n_columns, figsize=(20, 60))\n",
    "\n",
    "for i, metric in enumerate(timebin_metrics):\n",
    "    if plot_type == 'violin':\n",
    "        sns.violinplot(data=reassembled_pupillometry_df, y=metric, hue='label', palette='pastel', split=True, gap=0.1,\n",
    "                   ax=axes[i // n_columns, i % n_columns])\n",
    "    elif plot_type == 'box':\n",
    "        sns.boxplot(data=reassembled_pupillometry_df, y=metric, hue='label', palette='pastel',\n",
    "                   ax=axes[i // n_columns, i % n_columns])\n",
    "    else:\n",
    "        print('plot type not recognized')\n",
    "    axes[i // n_columns, i % n_columns].set_title(metric)\n",
    "    axes[i // n_columns, i % n_columns].set_ylabel(metric)\n",
    "    axes[i // n_columns, i % n_columns].set_ylabel('')\n",
    "    axes[i // n_columns, i % n_columns].legend(title='DCI', loc='upper right')\n",
    "        \n",
    "    # add text on lower right with pval/qval\n",
    "    t = axes[i // n_columns, i % n_columns].text(0.65, 0.05, \n",
    "                                                 f'adj. p-val. = {pvals_per_metric_df.loc[metric, \"adjusted_pval\"]:.2f}\\nq-val. = {pvals_per_metric_df.loc[metric, \"qval\"]:.2f}', \n",
    "                                            horizontalalignment='left', verticalalignment='center', transform=axes[i // n_columns][i % n_columns].transAxes)\n",
    "    t.set_bbox(dict(facecolor='white', alpha=0.5, boxstyle=\"round\"))\n",
    "    \n",
    "# add figure suptitle\n",
    "fig.suptitle(f'{target} pupillometry data ({timebin_hours}h timebin)', fontsize=16, y=0.9)\n",
    "print(f'{target} pupillometry data')"
   ]
  },
  {
   "cell_type": "code",
   "execution_count": null,
   "id": "b6a0ee0c10c51c5",
   "metadata": {
    "ExecuteTime": {
     "end_time": "2024-02-14T10:55:02.757935Z",
     "start_time": "2024-02-14T10:54:47.779848Z"
    }
   },
   "outputs": [],
   "source": [
    "# save figure\n",
    "output_dir = '/Users/jk1/Downloads'\n",
    "figure_name = f'{target}_pupillometry_data_{timebin_hours}h_timebin'\n",
    "if use_span:\n",
    "    figure_name += '_with_span'\n",
    "\n",
    "fig.savefig(os.path.join(output_dir, figure_name + '.png'), dpi=300, bbox_inches='tight')"
   ]
  },
  {
   "cell_type": "code",
   "execution_count": null,
   "id": "ee5e7631074d3dd4",
   "metadata": {
    "ExecuteTime": {
     "end_time": "2024-02-14T10:55:02.763201Z",
     "start_time": "2024-02-14T10:55:02.758313Z"
    }
   },
   "outputs": [],
   "source": []
  }
 ],
 "metadata": {
  "kernelspec": {
   "display_name": "Python 3",
   "language": "python",
   "name": "python3"
  },
  "language_info": {
   "codemirror_mode": {
    "name": "ipython",
    "version": 2
   },
   "file_extension": ".py",
   "mimetype": "text/x-python",
   "name": "python",
   "nbconvert_exporter": "python",
   "pygments_lexer": "ipython2",
   "version": "2.7.6"
  }
 },
 "nbformat": 4,
 "nbformat_minor": 5
}
