{
 "cells": [
  {
   "cell_type": "markdown",
   "id": "bca4d3e321368485",
   "metadata": {
    "collapsed": false
   },
   "source": [
    "# Timeseries decomposition\n",
    "Goal: decompose timeseries into timebins of X hours and seperate if end of timebin includes CT showing DCI/vasospasm or not"
   ]
  },
  {
   "cell_type": "code",
   "execution_count": null,
   "id": "initial_id",
   "metadata": {
    "ExecuteTime": {
     "end_time": "2024-02-10T20:45:18.506389Z",
     "start_time": "2024-02-10T20:45:18.486809Z"
    }
   },
   "outputs": [],
   "source": [
    "import pandas as pd\n",
    "import numpy as np\n",
    "from tqdm import tqdm\n",
    "from utils import load_encrypted_xlsx\n",
    "from utils import safe_conversion_to_datetime"
   ]
  },
  {
   "cell_type": "code",
   "execution_count": null,
   "id": "fbe215ceaa8dc540",
   "metadata": {
    "ExecuteTime": {
     "end_time": "2024-02-10T20:45:19.412917Z",
     "start_time": "2024-02-10T20:45:19.404784Z"
    }
   },
   "outputs": [],
   "source": [
    "registry_data_path = '/Users/jk1/Library/CloudStorage/OneDrive-unige.ch/icu_research/dci_sah/data/sos_sah_data/post_hoc_modified_aSAH_DATA_2009_2023_24122023.xlsx'\n",
    "pupillometry_data_path = '/Users/jk1/Library/CloudStorage/OneDrive-unige.ch/icu_research/dci_sah/data/pdms_data/Transfer Urs.pietsch@kssg.ch 22.01.24, 15_34/20240117_SAH_SOS_Pupillometrie.csv'\n",
    "registry_pdms_correspondence_path = '/Users/jk1/Library/CloudStorage/OneDrive-unige.ch/icu_research/dci_sah/data/pdms_data/registry_pdms_correspondence.csv'"
   ]
  },
  {
   "cell_type": "code",
   "execution_count": null,
   "id": "9c1b44f11af5bb0e",
   "metadata": {
    "ExecuteTime": {
     "end_time": "2024-02-10T20:45:19.597689Z",
     "start_time": "2024-02-10T20:45:19.593155Z"
    }
   },
   "outputs": [],
   "source": [
    "timebin_hours = 6\n",
    "censure_data_after_first_positive_CT = True\n",
    "target = 'DCI_ischemia'"
   ]
  },
  {
   "cell_type": "code",
   "execution_count": null,
   "id": "d57b852e02bc90c2",
   "metadata": {
    "ExecuteTime": {
     "end_time": "2024-02-10T20:45:22.762857Z",
     "start_time": "2024-02-10T20:45:19.757960Z"
    }
   },
   "outputs": [],
   "source": [
    "registry_df = load_encrypted_xlsx(registry_data_path)\n",
    "pupillometry_df = pd.read_csv(pupillometry_data_path, sep=';', decimal='.')\n",
    "registry_pdms_correspondence_df = pd.read_csv(registry_pdms_correspondence_path)\n",
    "registry_pdms_correspondence_df['Date_birth'] = pd.to_datetime(registry_pdms_correspondence_df['Date_birth'], format='%Y-%m-%d')"
   ]
  },
  {
   "cell_type": "code",
   "execution_count": null,
   "id": "4a85f64d03c95546",
   "metadata": {
    "ExecuteTime": {
     "end_time": "2024-02-10T20:45:22.780878Z",
     "start_time": "2024-02-10T20:45:22.765122Z"
    }
   },
   "outputs": [],
   "source": [
    "pupillometry_df = pupillometry_df.merge(registry_pdms_correspondence_df, on='pNr', how='left')\n",
    "pupillometry_df.rename(columns={'JoinedName': 'Name'}, inplace=True)"
   ]
  },
  {
   "cell_type": "code",
   "execution_count": null,
   "id": "be4878bffe416c82",
   "metadata": {
    "ExecuteTime": {
     "end_time": "2024-02-10T20:45:22.794576Z",
     "start_time": "2024-02-10T20:45:22.777605Z"
    }
   },
   "outputs": [],
   "source": [
    "pupillometry_df.head()"
   ]
  },
  {
   "cell_type": "code",
   "execution_count": null,
   "id": "d2c2053b577bcce8",
   "metadata": {
    "ExecuteTime": {
     "end_time": "2024-02-10T20:45:22.804772Z",
     "start_time": "2024-02-10T20:45:22.796167Z"
    }
   },
   "outputs": [],
   "source": [
    "pupillometry_df['NPI_r_value']"
   ]
  },
  {
   "cell_type": "code",
   "execution_count": null,
   "id": "c8fed5bb5515c2f9",
   "metadata": {
    "ExecuteTime": {
     "end_time": "2024-02-10T20:45:23.038330Z",
     "start_time": "2024-02-10T20:45:23.023379Z"
    }
   },
   "outputs": [],
   "source": [
    "pupillometry_df['NPI_r_value']"
   ]
  },
  {
   "cell_type": "markdown",
   "id": "29397f120829c056",
   "metadata": {
    "collapsed": false
   },
   "source": [
    "# Preprocessing"
   ]
  },
  {
   "cell_type": "code",
   "execution_count": null,
   "id": "b60ed917807081bd",
   "metadata": {
    "ExecuteTime": {
     "end_time": "2024-02-10T20:45:25.329786Z",
     "start_time": "2024-02-10T20:45:25.306614Z"
    }
   },
   "outputs": [],
   "source": [
    "# in NPI_r_value NPI_l_value, CV_r_value and CV_l_value, if contains '-' set to np.nan, then replace , with . and \"..\" with \".\"\n",
    "pupillometry_df['NPI_r_value'] = pd.to_numeric(pupillometry_df['NPI_r_value'].apply(lambda x: np.nan if '-' in str(x) else x).str.replace(',', '.').str.replace('..', '.'), errors='coerce')\n",
    "pupillometry_df['NPI_l_value'] = pd.to_numeric(pupillometry_df['NPI_l_value'].apply(lambda x: np.nan if '-' in str(x) else x).str.replace(',', '.').str.replace('..', '.') , errors='coerce')\n",
    "pupillometry_df['CV_r_value'] = pd.to_numeric(pupillometry_df['CV_r_value'].apply(lambda x: np.nan if '-' in str(x) else x).str.replace(',', '.').str.replace('..', '.'), errors='coerce')\n",
    "pupillometry_df['CV_l_value'] = pd.to_numeric(pupillometry_df['CV_l_value'].apply(lambda x: np.nan if '-' in str(x) else x).str.replace(',', '.').str.replace('..', '.'), errors='coerce')"
   ]
  },
  {
   "cell_type": "code",
   "execution_count": null,
   "id": "a63bd9446049f1d5",
   "metadata": {
    "ExecuteTime": {
     "end_time": "2024-02-10T20:45:25.822663Z",
     "start_time": "2024-02-10T20:45:25.808231Z"
    }
   },
   "outputs": [],
   "source": [
    "# exclude NPI values outside of 0-5\n",
    "pupillometry_df = pupillometry_df[(pupillometry_df['NPI_r_value'] >= 0) & (pupillometry_df['NPI_r_value'] <= 5)]\n",
    "pupillometry_df = pupillometry_df[(pupillometry_df['NPI_l_value'] >= 0) & (pupillometry_df['NPI_l_value'] <= 5)]"
   ]
  },
  {
   "cell_type": "code",
   "execution_count": null,
   "id": "82e61b70db25b2bb",
   "metadata": {
    "ExecuteTime": {
     "end_time": "2024-02-10T20:45:26.721002Z",
     "start_time": "2024-02-10T20:45:26.715228Z"
    }
   },
   "outputs": [],
   "source": [
    "# exclude CV values outside of 0 - 10\n",
    "pupillometry_df = pupillometry_df[(pupillometry_df['CV_r_value'] >= 0) & (pupillometry_df['CV_r_value'] <= 10)]\n",
    "pupillometry_df = pupillometry_df[(pupillometry_df['CV_l_value'] >= 0) & (pupillometry_df['CV_l_value'] <= 10)]"
   ]
  },
  {
   "cell_type": "code",
   "execution_count": null,
   "id": "96536b76aee2f10e",
   "metadata": {
    "ExecuteTime": {
     "end_time": "2024-02-10T20:45:28.832820Z",
     "start_time": "2024-02-10T20:45:27.583625Z"
    }
   },
   "outputs": [],
   "source": [
    "# plot histogram of all values\n",
    "import seaborn as sns\n",
    "import matplotlib.pyplot as plt\n",
    "\n",
    "fig, ax = plt.subplots(2, 2, figsize=(15, 10))\n",
    "sns.histplot(pupillometry_df['NPI_r_value'], ax=ax[0, 0])\n",
    "sns.histplot(pupillometry_df['NPI_l_value'], ax=ax[0, 1])\n",
    "sns.histplot(pupillometry_df['CV_r_value'], ax=ax[1, 0])\n",
    "sns.histplot(pupillometry_df['CV_l_value'], ax=ax[1, 1])"
   ]
  },
  {
   "cell_type": "code",
   "execution_count": null,
   "id": "4363f483599fd338",
   "metadata": {
    "ExecuteTime": {
     "end_time": "2024-02-10T20:45:34.310880Z",
     "start_time": "2024-02-10T20:45:34.301644Z"
    }
   },
   "outputs": [],
   "source": [
    "pupillometry_df['timePupil'] = pd.to_datetime(pupillometry_df['timePupil'], format='%Y-%m-%d %H:%M:%S.%f')"
   ]
  },
  {
   "cell_type": "code",
   "execution_count": null,
   "id": "208d030cb17afb83",
   "metadata": {
    "ExecuteTime": {
     "end_time": "2024-02-10T20:45:35.167250Z",
     "start_time": "2024-02-10T20:45:35.157525Z"
    }
   },
   "outputs": [],
   "source": [
    "registry_df[target] = registry_df[target].astype(int)\n",
    "target_events_df = registry_df[registry_df[target] == 1]"
   ]
  },
  {
   "cell_type": "code",
   "execution_count": null,
   "id": "52885f35b6929c50",
   "metadata": {
    "ExecuteTime": {
     "end_time": "2024-02-10T20:46:08.476155Z",
     "start_time": "2024-02-10T20:46:08.440285Z"
    }
   },
   "outputs": [],
   "source": [
    "# add Date_DCI_ischemia_first_image and Time_DCI_ischemia_first_image to get the full date\n",
    "target_events_df['full_date_dci_ischemia'] = target_events_df['Date_DCI_ischemia_first_image'].astype(str) + ' ' + target_events_df['Time_DCI_ischemia_first_image'].astype(str)\n",
    "# replace NaT nan with nan\n",
    "target_events_df['full_date_dci_ischemia'] = target_events_df['full_date_dci_ischemia'].replace('NaT nan', pd.NaT)\n",
    "target_events_df['full_date_dci_ischemia'] = target_events_df['full_date_dci_ischemia'].apply(safe_conversion_to_datetime)\n",
    "\n",
    "target_events_df['full_date_dci_infarction'] = target_events_df['Date_DCI_infarct_first_image'].astype(str) + ' ' + target_events_df['Time_DCI_infarct_first_image'].astype(str)\n",
    "# replace NaT nan with nan\n",
    "target_events_df['full_date_dci_infarction'] = target_events_df['full_date_dci_infarction'].replace('NaT nan', pd.NaT)\n",
    "target_events_df['full_date_dci_infarction'] = target_events_df['full_date_dci_infarction'].apply(safe_conversion_to_datetime)\n"
   ]
  },
  {
   "cell_type": "code",
   "execution_count": null,
   "id": "bc562de7e1ff7ea2",
   "metadata": {
    "ExecuteTime": {
     "end_time": "2024-02-10T20:46:10.419950Z",
     "start_time": "2024-02-10T20:46:10.387235Z"
    }
   },
   "outputs": [],
   "source": [
    "target_events_df"
   ]
  },
  {
   "cell_type": "code",
   "execution_count": null,
   "id": "c2833d19d483bb4c",
   "metadata": {
    "ExecuteTime": {
     "end_time": "2024-02-10T20:50:15.621899Z",
     "start_time": "2024-02-10T20:50:15.601592Z"
    }
   },
   "outputs": [],
   "source": [
    "pupillometry_df.head()"
   ]
  },
  {
   "cell_type": "code",
   "execution_count": null,
   "id": "2b79b2b1877151e5",
   "metadata": {
    "ExecuteTime": {
     "end_time": "2024-02-10T20:52:16.988678Z",
     "start_time": "2024-02-10T20:52:16.903876Z"
    }
   },
   "outputs": [],
   "source": [
    "# loop through all events and label pupillometry data with event\n",
    "for index, row in target_events_df.iterrows():\n",
    "    # verify that patient is in pupillometry data\n",
    "    if not row['Name'] in pupillometry_df['Name'].values:\n",
    "        print(f'Patient {row[\"Name\"]} not in pupillometry data')\n",
    "        continue\n",
    "        \n",
    "    target_event_time_column = f'full_date_{target.lower()}'\n",
    "    timebin_begin = pd.to_datetime(row[target_event_time_column]) - pd.Timedelta(hours=timebin_hours, unit='h')\n",
    "    timebin_end = pd.to_datetime(row[target_event_time_column])\n",
    "    \n",
    "    # for all associated pupillometry entries add a 'within_event_timebin' column\n",
    "    pupillometry_df.loc[(pupillometry_df['Name'] == row['Name']) \n",
    "                        & (pupillometry_df['Date_birth'] == row['Date_birth'])\n",
    "                        & (pupillometry_df['SOS-CENTER-YEAR-NO.'] == row['SOS-CENTER-YEAR-NO.'])\n",
    "                        & (pupillometry_df['timePupil'] >= timebin_begin) \n",
    "                        & (pupillometry_df['timePupil'] <= timebin_end), 'within_event_timebin'] = 1\n",
    "    \n",
    "    # for all associated pupillometry entries add a 'associated_CT_time' column\n",
    "    pupillometry_df.loc[(pupillometry_df['Name'] == row['Name']) \n",
    "                        & (pupillometry_df['Date_birth'] == row['Date_birth'])\n",
    "                        & (pupillometry_df['SOS-CENTER-YEAR-NO.'] == row['SOS-CENTER-YEAR-NO.'])\n",
    "                        & (pupillometry_df['timePupil'] >= timebin_begin) \n",
    "                        & (pupillometry_df['timePupil'] <= timebin_end), 'associated_CT_time'] = row[target_event_time_column]\n",
    "    \n",
    "pupillometry_df['within_event_timebin'] = pupillometry_df['within_event_timebin'].fillna(0).astype(int)"
   ]
  },
  {
   "cell_type": "code",
   "execution_count": null,
   "id": "c29b57a837dd24ea",
   "metadata": {
    "ExecuteTime": {
     "end_time": "2024-02-10T20:53:31.625973Z",
     "start_time": "2024-02-10T20:53:31.610768Z"
    }
   },
   "outputs": [],
   "source": [
    "pupillometry_df[pupillometry_df.within_event_timebin == 1].pNr.nunique()"
   ]
  },
  {
   "cell_type": "markdown",
   "id": "32df75e1ac201fef",
   "metadata": {
    "collapsed": false
   },
   "source": [
    "### For every pupillometry entry add metrics for the timebin it ends\n",
    "\n",
    "Gist: every new measure represents the end of a timebin of X hours\n",
    "\n",
    "Metrics: \n",
    "- For every two sided measure: mean, min, max, delta\n",
    "- Over time: median, min, max, span"
   ]
  },
  {
   "cell_type": "code",
   "execution_count": null,
   "id": "cc20e8d597e02ba1",
   "metadata": {
    "ExecuteTime": {
     "end_time": "2024-02-10T20:56:27.266873Z",
     "start_time": "2024-02-10T20:56:27.254766Z"
    }
   },
   "outputs": [],
   "source": [
    "pupillometry_df.head()"
   ]
  },
  {
   "cell_type": "code",
   "execution_count": null,
   "id": "1c1c7ca721572a3b",
   "metadata": {
    "ExecuteTime": {
     "end_time": "2024-02-10T21:02:59.823487Z",
     "start_time": "2024-02-10T21:02:59.803538Z"
    }
   },
   "outputs": [],
   "source": [
    "# add inter eye metrics for every pupillometry entry\n",
    "# NPI\n",
    "pupillometry_df['NPI_inter_eye_mean'] = pupillometry_df[['NPI_r_value', 'NPI_l_value']].mean(axis=1)\n",
    "pupillometry_df['NPI_inter_eye_min'] = pupillometry_df[['NPI_r_value', 'NPI_l_value']].min(axis=1)\n",
    "pupillometry_df['NPI_inter_eye_max'] = pupillometry_df[['NPI_r_value', 'NPI_l_value']].max(axis=1)\n",
    "pupillometry_df['NPI_inter_eye_delta'] = np.abs(pupillometry_df['NPI_r_value'] - pupillometry_df['NPI_l_value'])\n",
    "\n",
    "# CV\n",
    "pupillometry_df['CV_inter_eye_mean'] = pupillometry_df[['CV_r_value', 'CV_l_value']].mean(axis=1)\n",
    "pupillometry_df['CV_inter_eye_min'] = pupillometry_df[['CV_r_value', 'CV_l_value']].min(axis=1)\n",
    "pupillometry_df['CV_inter_eye_max'] = pupillometry_df[['CV_r_value', 'CV_l_value']].max(axis=1)\n",
    "pupillometry_df['CV_inter_eye_delta'] = np.abs(pupillometry_df['CV_r_value'] - pupillometry_df['CV_l_value'])"
   ]
  },
  {
   "cell_type": "code",
   "execution_count": null,
   "id": "c91e80d5ab50224a",
   "metadata": {
    "ExecuteTime": {
     "end_time": "2024-02-10T21:03:00.214047Z",
     "start_time": "2024-02-10T21:03:00.206549Z"
    }
   },
   "outputs": [],
   "source": [
    "pupillometry_metrics = ['NPI', 'CV']\n",
    "inter_eye_metrics = ['mean', 'min', 'max', 'delta']\n",
    "# combine to get all metrics\n",
    "single_timepoint_metrics = [f'{metric}_inter_eye_{metric_type}' for metric in pupillometry_metrics for metric_type in inter_eye_metrics]"
   ]
  },
  {
   "cell_type": "code",
   "execution_count": null,
   "id": "5511fef826063ebe",
   "metadata": {
    "ExecuteTime": {
     "end_time": "2024-02-10T21:03:00.731941Z",
     "start_time": "2024-02-10T21:03:00.724454Z"
    }
   },
   "outputs": [],
   "source": [
    "over_time_metrics = ['max', 'min', 'median', 'span']\n",
    "# combine to get all metrics\n",
    "timebin_metrics = [f'{metric}_timebin_{metric_type}' for metric in single_timepoint_metrics for metric_type in over_time_metrics]\n",
    "timebin_metrics"
   ]
  },
  {
   "cell_type": "code",
   "execution_count": null,
   "id": "9917712b675d466c",
   "metadata": {
    "ExecuteTime": {
     "end_time": "2024-02-10T21:05:16.828303Z",
     "start_time": "2024-02-10T21:03:38.885203Z"
    }
   },
   "outputs": [],
   "source": [
    "# add timebin metrics for every pupillometry entry\n",
    "for index, row in tqdm(pupillometry_df.iterrows(), total=len(pupillometry_df)):\n",
    "    timebin_begin = row['timePupil'] - pd.Timedelta(hours=timebin_hours, unit='h')\n",
    "    timebin_end = row['timePupil']\n",
    "    \n",
    "    # compute timebin metrics for every single timepoint metric\n",
    "    for metric in single_timepoint_metrics:\n",
    "        # get all values within timebin\n",
    "        values_within_timebin = pupillometry_df.loc[(pupillometry_df['pNr'] == row['pNr']) \n",
    "                                                    & (pupillometry_df['timePupil'] >= timebin_begin) \n",
    "                                                    & (pupillometry_df['timePupil'] <= timebin_end), metric]\n",
    "        \n",
    "        # if no values within timebin, skip\n",
    "        if len(values_within_timebin) == 0:\n",
    "            continue\n",
    "            \n",
    "        # add timebin metrics\n",
    "        pupillometry_df.loc[(pupillometry_df['pNr'] == row['pNr']) & \n",
    "                            (pupillometry_df['timePupil'] == row['timePupil']), f'{metric}_timebin_median'] = values_within_timebin.median()\n",
    "        pupillometry_df.loc[(pupillometry_df['pNr'] == row['pNr']) & \n",
    "                            (pupillometry_df['timePupil'] == row['timePupil']), f'{metric}_timebin_min'] = values_within_timebin.min()\n",
    "        pupillometry_df.loc[(pupillometry_df['pNr'] == row['pNr']) & \n",
    "                            (pupillometry_df['timePupil'] == row['timePupil']), f'{metric}_timebin_max'] = values_within_timebin.max()\n",
    "        pupillometry_df.loc[(pupillometry_df['pNr'] == row['pNr']) &   \n",
    "                            (pupillometry_df['timePupil'] == row['timePupil']), f'{metric}_timebin_span'] = values_within_timebin.max() - values_within_timebin.min()"
   ]
  },
  {
   "cell_type": "markdown",
   "id": "e9717a646467618d",
   "metadata": {
    "collapsed": false
   },
   "source": [
    "### Build negative pupillometry dataset (only pupillometry data outside of timebins containing target event)"
   ]
  },
  {
   "cell_type": "code",
   "execution_count": null,
   "id": "7ccd0a9a59f526c9",
   "metadata": {
    "ExecuteTime": {
     "end_time": "2024-02-10T21:07:53.561807Z",
     "start_time": "2024-02-10T21:07:53.525498Z"
    }
   },
   "outputs": [],
   "source": [
    "negative_pupillometry_df = pupillometry_df[pupillometry_df['within_event_timebin'] == 0]\n",
    "negative_pupillometry_df['label'] = 0\n",
    "negative_pupillometry_df['timebin_end'] = pd.to_datetime(negative_pupillometry_df['timePupil'])"
   ]
  },
  {
   "cell_type": "markdown",
   "id": "438e93dde5b46d46",
   "metadata": {
    "collapsed": false
   },
   "source": [
    "### Build positive pupillometry dataset (only pupillometry data within CT timebin)\n",
    "\n",
    "loop through CTs and collect all pupillometry data within CT timebin"
   ]
  },
  {
   "cell_type": "code",
   "execution_count": null,
   "id": "c5a74ebbbd7a63dd",
   "metadata": {
    "ExecuteTime": {
     "end_time": "2024-02-10T21:17:55.774322Z",
     "start_time": "2024-02-10T21:17:55.313853Z"
    }
   },
   "outputs": [],
   "source": [
    "for index, row in tqdm(target_events_df.iterrows(), total=len(target_events_df)):\n",
    "    # verify that patient is in pupillometry data\n",
    "    if not row['Name'] in pupillometry_df['Name'].values:\n",
    "        print(f'Patient {row[\"Name\"]} not in pupillometry data')\n",
    "        target_events_df.loc[(target_events_df['Name'] == row['Name']), 'pupillometry_available'] = 0\n",
    "        continue\n",
    "        \n",
    "    target_events_df.loc[(target_events_df['Name'] == row['Name']), 'pupillometry_available'] = 1\n",
    "    \n",
    "    target_event_time_column = f'full_date_{target.lower()}'\n",
    "    timebin_begin = pd.to_datetime(row[target_event_time_column]) - pd.Timedelta(hours=timebin_hours, unit='h')\n",
    "    timebin_end = pd.to_datetime(row[target_event_time_column])\n",
    "    \n",
    "    # add timebin metrics comprising all data within timebin\n",
    "    values_within_timebin = pupillometry_df.loc[(pupillometry_df['Name'] == row['Name']) \n",
    "                                                    & (pupillometry_df['Date_birth'] == row['Date_birth'])\n",
    "                                                    & (pupillometry_df['SOS-CENTER-YEAR-NO.'] == row['SOS-CENTER-YEAR-NO.'])\n",
    "                                                    & (pupillometry_df['timePupil'] >= timebin_begin) \n",
    "                                                    & (pupillometry_df['timePupil'] <= timebin_end)]\n",
    "    \n",
    "    # if no values within timebin, skip\n",
    "    if len(values_within_timebin) == 0:\n",
    "        continue\n",
    "        \n",
    "    for metric in single_timepoint_metrics:\n",
    "        # add timebin metrics\n",
    "        target_events_df.loc[(target_events_df['Name'] == row['Name']) \n",
    "                             & (target_events_df['Date_birth'] == row['Date_birth']) & (target_events_df['SOS-CENTER-YEAR-NO.'] == row['SOS-CENTER-YEAR-NO.']) &\n",
    "                                (target_events_df[target_event_time_column] == row[target_event_time_column]), f'{metric}_timebin_median'] = values_within_timebin[metric].median()\n",
    "        target_events_df.loc[(target_events_df['Name'] == row['Name']) \n",
    "                                     & (target_events_df['Date_birth'] == row['Date_birth']) & (target_events_df['SOS-CENTER-YEAR-NO.'] == row['SOS-CENTER-YEAR-NO.']) &\n",
    "                                (target_events_df[target_event_time_column] == row[target_event_time_column]), f'{metric}_timebin_min'] = values_within_timebin[metric].min()\n",
    "        target_events_df.loc[(target_events_df['Name'] == row['Name'])\n",
    "                                     & (target_events_df['Date_birth'] == row['Date_birth']) & (target_events_df['SOS-CENTER-YEAR-NO.'] == row['SOS-CENTER-YEAR-NO.']) &\n",
    "                                (target_events_df[target_event_time_column] == row[target_event_time_column]), f'{metric}_timebin_max'] = values_within_timebin[metric].max()\n",
    "        target_events_df.loc[(target_events_df['Name'] == row['Name']) \n",
    "                                     & (target_events_df['Date_birth'] == row['Date_birth']) & (target_events_df['SOS-CENTER-YEAR-NO.'] == row['SOS-CENTER-YEAR-NO.']) &\n",
    "                                (target_events_df[target_event_time_column] == row[target_event_time_column]), f'{metric}_timebin_span'] = values_within_timebin[metric].max() - values_within_timebin[metric].min()   \n",
    "        "
   ]
  },
  {
   "cell_type": "code",
   "execution_count": null,
   "id": "f2e199fa06197465",
   "metadata": {
    "ExecuteTime": {
     "end_time": "2024-02-10T21:19:37.122300Z",
     "start_time": "2024-02-10T21:19:37.106730Z"
    }
   },
   "outputs": [],
   "source": [
    "target_events_df.pupillometry_available.value_counts()"
   ]
  },
  {
   "cell_type": "code",
   "execution_count": null,
   "id": "ab70139da62ed998",
   "metadata": {
    "ExecuteTime": {
     "end_time": "2024-02-10T21:19:57.140780Z",
     "start_time": "2024-02-10T21:19:57.106111Z"
    }
   },
   "outputs": [],
   "source": [
    "target_events_df"
   ]
  },
  {
   "cell_type": "code",
   "execution_count": null,
   "id": "a84348cd8e418a77",
   "metadata": {
    "ExecuteTime": {
     "end_time": "2024-02-10T21:20:47.364698Z",
     "start_time": "2024-02-10T21:20:47.326733Z"
    }
   },
   "outputs": [],
   "source": [
    "positive_pupillometry_df = target_events_df[target_events_df['pupillometry_available'] == 1]\n",
    "positive_pupillometry_df['label'] = 1\n",
    "target_event_time_column = f'full_date_{target.lower()}'\n",
    "positive_pupillometry_df['timebin_end'] = positive_pupillometry_df[target_event_time_column]"
   ]
  },
  {
   "cell_type": "code",
   "execution_count": null,
   "id": "d7ad81160e313359",
   "metadata": {
    "ExecuteTime": {
     "end_time": "2024-02-10T21:20:55.275162Z",
     "start_time": "2024-02-10T21:20:55.264906Z"
    }
   },
   "outputs": [],
   "source": [
    "positive_pupillometry_df"
   ]
  },
  {
   "cell_type": "code",
   "execution_count": null,
   "id": "8bc8008bc0a3c0ff",
   "metadata": {
    "ExecuteTime": {
     "end_time": "2024-02-10T21:21:32.132059Z",
     "start_time": "2024-02-10T21:21:32.063339Z"
    }
   },
   "outputs": [],
   "source": [
    "negative_pupillometry_df"
   ]
  },
  {
   "cell_type": "code",
   "execution_count": null,
   "id": "ccc9b9cea23d13fc",
   "metadata": {
    "ExecuteTime": {
     "end_time": "2024-02-10T21:23:05.338756Z",
     "start_time": "2024-02-10T21:23:05.319725Z"
    }
   },
   "outputs": [],
   "source": [
    "negative_pupillometry_df.Name.isnull().sum()"
   ]
  },
  {
   "cell_type": "code",
   "execution_count": null,
   "id": "fb88d08648c2f898",
   "metadata": {
    "ExecuteTime": {
     "end_time": "2024-02-10T21:23:21.679962Z",
     "start_time": "2024-02-10T21:23:21.664042Z"
    }
   },
   "outputs": [],
   "source": [
    "reassembled_pupillometry_df = pd.concat([\n",
    "    positive_pupillometry_df[['Name', 'Date_birth', 'label', 'timebin_end'] + timebin_metrics],\n",
    "    negative_pupillometry_df[['Name', 'Date_birth', 'label', 'timebin_end'] + timebin_metrics]\n",
    "])"
   ]
  },
  {
   "cell_type": "code",
   "execution_count": null,
   "id": "b05a13280a5efe9e",
   "metadata": {
    "ExecuteTime": {
     "end_time": "2024-02-10T21:23:39.390389Z",
     "start_time": "2024-02-10T21:23:39.348672Z"
    }
   },
   "outputs": [],
   "source": [
    "reassembled_pupillometry_df.dropna(subset='Name', inplace=True)"
   ]
  },
  {
   "cell_type": "markdown",
   "id": "b0f057ca3ee9454a",
   "metadata": {
    "collapsed": false
   },
   "source": [
    "For every subject with a positive CT, censure data after CT\n"
   ]
  },
  {
   "cell_type": "code",
   "execution_count": null,
   "id": "223cfb7dcff4067",
   "metadata": {
    "ExecuteTime": {
     "end_time": "2024-02-10T21:27:03.978424Z",
     "start_time": "2024-02-10T21:27:03.912482Z"
    }
   },
   "outputs": [],
   "source": [
    "if censure_data_after_first_positive_CT:\n",
    "    # get all patient names with a positive CT\n",
    "    patients_with_positive_event = reassembled_pupillometry_df[reassembled_pupillometry_df['label'] == 1]['Name'].unique()\n",
    "    \n",
    "     # for every subject with a positive event, censure data after event\n",
    "    for patient_name in tqdm(patients_with_positive_event):\n",
    "        # get time of first positive CT\n",
    "        time_of_first_positive_event = reassembled_pupillometry_df[(reassembled_pupillometry_df['Name'] == patient_name) & (reassembled_pupillometry_df['label'] == 1)]['timebin_end'].min()\n",
    "        \n",
    "        # censure all data after time of first positive event\n",
    "        reassembled_pupillometry_df.loc[(reassembled_pupillometry_df['Name'] == patient_name) & (reassembled_pupillometry_df['timebin_end'] > time_of_first_positive_event), 'to_drop'] = 1 \n",
    "    \n",
    "    reassembled_pupillometry_df = reassembled_pupillometry_df[reassembled_pupillometry_df['to_drop'] != 1]\n",
    "    reassembled_pupillometry_df.drop(columns=['to_drop'], inplace=True)"
   ]
  },
  {
   "cell_type": "code",
   "execution_count": null,
   "id": "7e1226044774509b",
   "metadata": {
    "ExecuteTime": {
     "end_time": "2024-02-10T21:28:12.270528Z",
     "start_time": "2024-02-10T21:28:12.246002Z"
    }
   },
   "outputs": [],
   "source": [
    "reassembled_pupillometry_df.reset_index(drop=True, inplace=True)\n",
    "reassembled_pupillometry_df['label'] = reassembled_pupillometry_df['label'].astype(int)"
   ]
  },
  {
   "cell_type": "code",
   "execution_count": null,
   "id": "e321ac87bf37aeaf",
   "metadata": {
    "ExecuteTime": {
     "end_time": "2024-02-10T21:28:14.162806Z",
     "start_time": "2024-02-10T21:28:14.136207Z"
    }
   },
   "outputs": [],
   "source": [
    "reassembled_pupillometry_df.label.value_counts()"
   ]
  },
  {
   "cell_type": "markdown",
   "id": "524b2c0913545d6a",
   "metadata": {
    "collapsed": false
   },
   "source": [
    "# Plotting"
   ]
  },
  {
   "cell_type": "code",
   "execution_count": null,
   "id": "691231ef903f1a68",
   "metadata": {},
   "outputs": [],
   "source": [
    "import matplotlib.pyplot as plt\n",
    "import seaborn as sns"
   ]
  },
  {
   "cell_type": "code",
   "execution_count": null,
   "id": "409227fe5b7f9bf6",
   "metadata": {
    "ExecuteTime": {
     "end_time": "2024-02-10T21:28:29.096503Z",
     "start_time": "2024-02-10T21:28:22.410813Z"
    }
   },
   "outputs": [],
   "source": [
    "# create a plot with a subplot for every timebin metric, with a scatterplot of metric vs label\n",
    "n_columns = 4\n",
    "n_rows = int(np.ceil(len(timebin_metrics) / n_columns))\n",
    "\n",
    "fig, axes = plt.subplots(n_rows, n_columns, figsize=(20, 60))\n",
    "\n",
    "for i, metric in enumerate(timebin_metrics):\n",
    "    sns.violinplot(data=reassembled_pupillometry_df, y=metric, hue='label', palette='pastel', split=True, gap=0.1,\n",
    "                   ax=axes[i // n_columns, i % n_columns])\n",
    "    axes[i // n_columns, i % n_columns].set_title(metric)\n",
    "    axes[i // n_columns, i % n_columns].set_ylabel(metric)\n",
    "    axes[i // n_columns, i % n_columns].set_ylabel('')"
   ]
  },
  {
   "cell_type": "code",
   "execution_count": null,
   "id": "d6bd16108b3eed4c",
   "metadata": {
    "ExecuteTime": {
     "end_time": "2024-02-10T21:29:36.155038Z",
     "start_time": "2024-02-10T21:29:23.629891Z"
    }
   },
   "outputs": [],
   "source": [
    "# save figure\n",
    "# fig.savefig(f'/Users/jk1/Downloads/pupillometry_data_{timebin_hours}h_timebin.png', dpi=300)"
   ]
  },
  {
   "cell_type": "markdown",
   "id": "cb74950186da5995",
   "metadata": {
    "collapsed": false
   },
   "source": [
    "# Stats"
   ]
  },
  {
   "cell_type": "code",
   "execution_count": null,
   "id": "f92bbeb24c7d75bb",
   "metadata": {
    "ExecuteTime": {
     "end_time": "2024-02-10T21:30:42.990958Z",
     "start_time": "2024-02-10T21:30:36.915276Z"
    }
   },
   "outputs": [],
   "source": [
    "import os\n",
    "\n",
    "os.environ[\"R_HOME\"] = \"/Library/Frameworks/R.framework/Resources\"\n",
    "from pymer4.models import Lmer"
   ]
  },
  {
   "cell_type": "code",
   "execution_count": null,
   "id": "55c7fd9a81462f7a",
   "metadata": {
    "ExecuteTime": {
     "end_time": "2024-02-10T21:30:43.003004Z",
     "start_time": "2024-02-10T21:30:42.993408Z"
    }
   },
   "outputs": [],
   "source": [
    "reassembled_pupillometry_df['Name'] = reassembled_pupillometry_df['Name'].astype(str)"
   ]
  },
  {
   "cell_type": "code",
   "execution_count": null,
   "id": "9f852c6fcb010112",
   "metadata": {
    "ExecuteTime": {
     "end_time": "2024-02-10T21:30:58.499161Z",
     "start_time": "2024-02-10T21:30:57.201182Z"
    }
   },
   "outputs": [],
   "source": [
    "model = Lmer(\"label  ~ NPI_inter_eye_mean_timebin_max  + (1|Name)\",\n",
    "             data=reassembled_pupillometry_df, family='binomial')\n",
    "model.fit()"
   ]
  },
  {
   "cell_type": "code",
   "execution_count": null,
   "id": "f0c5366b4e11d587",
   "metadata": {
    "ExecuteTime": {
     "end_time": "2024-02-10T21:31:28.123687Z",
     "start_time": "2024-02-10T21:31:28.022771Z"
    }
   },
   "outputs": [],
   "source": [
    "model.coefs['P-val'].to_dict()['NPI_inter_eye_mean_timebin_max']"
   ]
  },
  {
   "cell_type": "code",
   "execution_count": null,
   "id": "4ec9825e23ee91bf",
   "metadata": {
    "ExecuteTime": {
     "end_time": "2024-02-10T21:32:51.435257Z",
     "start_time": "2024-02-10T21:32:19.210303Z"
    }
   },
   "outputs": [],
   "source": [
    "pvals_per_metric = {}\n",
    "for metric in tqdm(timebin_metrics, total=len(timebin_metrics)):\n",
    "    model = Lmer(f\"label  ~ {metric}  + (1|Name)\",\n",
    "                 data=reassembled_pupillometry_df, family = 'binomial')\n",
    "    model.fit()\n",
    "    pvals_per_metric[metric] = model.coefs['P-val'].to_dict()[metric]"
   ]
  },
  {
   "cell_type": "code",
   "execution_count": null,
   "id": "c80524dfab95e1b",
   "metadata": {
    "ExecuteTime": {
     "end_time": "2024-02-10T21:33:10.691605Z",
     "start_time": "2024-02-10T21:33:10.611600Z"
    }
   },
   "outputs": [],
   "source": [
    "pvals_per_metric_df = pd.DataFrame.from_dict(pvals_per_metric, orient='index', columns=['pval'])\n",
    "pvals_per_metric_df.sort_values(by='pval')"
   ]
  },
  {
   "cell_type": "code",
   "execution_count": null,
   "id": "7b19ba5991bae639",
   "metadata": {
    "ExecuteTime": {
     "end_time": "2024-02-10T21:33:14.381364Z",
     "start_time": "2024-02-10T21:33:14.084285Z"
    }
   },
   "outputs": [],
   "source": [
    "# plot pvals as barplot (lowest 10) - horizontal\n",
    "pvals_per_metric_df.sort_values(by='pval').iloc[:10].plot(kind='barh', figsize=(10, 5))"
   ]
  },
  {
   "cell_type": "code",
   "execution_count": null,
   "id": "7bc4250499f5cbac",
   "metadata": {},
   "outputs": [],
   "source": []
  }
 ],
 "metadata": {
  "kernelspec": {
   "display_name": "Python 3",
   "language": "python",
   "name": "python3"
  },
  "language_info": {
   "codemirror_mode": {
    "name": "ipython",
    "version": 2
   },
   "file_extension": ".py",
   "mimetype": "text/x-python",
   "name": "python",
   "nbconvert_exporter": "python",
   "pygments_lexer": "ipython2",
   "version": "2.7.6"
  }
 },
 "nbformat": 4,
 "nbformat_minor": 5
}
