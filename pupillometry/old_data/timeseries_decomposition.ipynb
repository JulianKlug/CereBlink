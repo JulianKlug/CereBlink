{
 "cells": [
  {
   "cell_type": "markdown",
   "id": "55acc679a9a742bd",
   "metadata": {
    "collapsed": false
   },
   "source": [
    "# Timeseries decomposition\n",
    "\n",
    "Goal: decompose timeseries into timebins of X hours and seperate if end of timebin includes CT showing DCI/vasospasm or not"
   ]
  },
  {
   "cell_type": "code",
   "execution_count": null,
   "id": "initial_id",
   "metadata": {
    "ExecuteTime": {
     "end_time": "2023-12-28T05:28:58.883401Z",
     "start_time": "2023-12-28T05:28:58.864943Z"
    }
   },
   "outputs": [],
   "source": [
    "import pandas as pd\n",
    "import numpy as np\n",
    "from tqdm import tqdm"
   ]
  },
  {
   "cell_type": "code",
   "execution_count": null,
   "id": "19f059b5eee7ee62",
   "metadata": {
    "ExecuteTime": {
     "end_time": "2023-12-28T05:28:58.902755Z",
     "start_time": "2023-12-28T05:28:58.885910Z"
    }
   },
   "outputs": [],
   "source": [
    "pupillometry_data_path = '/Users/jk1/Library/CloudStorage/OneDrive-unige.ch/icu_research/pupillometry_sah/data/Pupillometry - Datenbank Päddy.xls'\n",
    "combined_data_path = '/Users/jk1/Library/CloudStorage/OneDrive-unige.ch/icu_research/pupillometry_sah/data/Pupillometry - Datenbank Joana.xlsx'\n"
   ]
  },
  {
   "cell_type": "code",
   "execution_count": null,
   "id": "9aebaae042bca91f",
   "metadata": {
    "ExecuteTime": {
     "end_time": "2023-12-28T05:28:58.906657Z",
     "start_time": "2023-12-28T05:28:58.897507Z"
    }
   },
   "outputs": [],
   "source": [
    "timebin_hours = 6"
   ]
  },
  {
   "cell_type": "code",
   "execution_count": null,
   "id": "668b839424bbfaae",
   "metadata": {
    "ExecuteTime": {
     "end_time": "2023-12-28T05:28:58.954617Z",
     "start_time": "2023-12-28T05:28:58.901153Z"
    }
   },
   "outputs": [],
   "source": [
    "censure_data_after_first_positive_CT = True"
   ]
  },
  {
   "cell_type": "code",
   "execution_count": null,
   "id": "9d334f9be9080cd5",
   "metadata": {
    "ExecuteTime": {
     "end_time": "2023-12-28T05:28:59.608399Z",
     "start_time": "2023-12-28T05:28:58.913976Z"
    }
   },
   "outputs": [],
   "source": [
    "pupillometry_df = pd.read_excel(pupillometry_data_path, sheet_name='Pupillometrie')\n",
    "combined_data_df = pd.read_excel(combined_data_path, sheet_name='Database')\n",
    "\n",
    "# replace 999 with nan\n",
    "combined_data_df = combined_data_df.replace(999, np.nan)\n",
    "pupillometry_df = pupillometry_df.replace(999, np.nan)\n"
   ]
  },
  {
   "cell_type": "markdown",
   "id": "4c493cce60cfe444",
   "metadata": {
    "collapsed": false
   },
   "source": [
    "Restructure combined data (so that each row is a scan)"
   ]
  },
  {
   "cell_type": "code",
   "execution_count": null,
   "id": "332f4b5e3cc3ad0",
   "metadata": {
    "ExecuteTime": {
     "end_time": "2023-12-28T05:29:01.462410Z",
     "start_time": "2023-12-28T05:28:59.601960Z"
    }
   },
   "outputs": [],
   "source": [
    "identifier_columns = [\"patID\", \"pNr\"]\n",
    "constants_columns = [\n",
    "    \"Chronic_heart_failure\",\n",
    "    \"Diabetes\",\n",
    "    \"HbA1c\",\n",
    "    \"COPD/Asthma\",\n",
    "    \"Chronic_hemodialysis\",\n",
    "    \"Liver_cirrhosis\",\n",
    "    \"HIV\",\n",
    "    \"Cancer\",\n",
    "    \"Alcohol\",\n",
    "    \"Time_symptoms\",\n",
    "    \"Initial_GCS\",\n",
    "    \"Time_initial_GCS\",\n",
    "    \"Fisher_Scale\",\n",
    "    \"Rad_intervention\",\n",
    "    \"Surgery\",\n",
    "    \"Surgery_type\",\n",
    "    \"Mortality\",\n",
    "    \"30 day mortality\",\n",
    "    \"GOS_Admission\",\n",
    "    \"GOS_ICU_Discharge\",\n",
    "    \"GOS_Hospital_Discharge\",\n",
    "    \"GOS_30 day\"\n",
    "]\n",
    "\n",
    "# initial data has one row per patient and one column per scan, instead we want one row per scan (all constants are repeated)\n",
    "# get columns that are not constants\n",
    "non_constant_columns = [column_name for column_name in combined_data_df.columns\n",
    "                        if column_name not in identifier_columns + constants_columns]\n",
    "\n",
    "scan_idxs = [int(col.split('_')[-1]) for col in non_constant_columns]\n",
    "max_number_of_scans = np.max(scan_idxs)\n",
    "\n",
    "reorganized_data_df = pd.DataFrame()\n",
    "for index, row in combined_data_df.iterrows():\n",
    "    # for each scan create a new row with all the constants repeated\n",
    "    for scan_idx in range(1, max_number_of_scans + 1):\n",
    "        associated_scan_data = row[[col for col in non_constant_columns if col.endswith(f'_{scan_idx}')]]\n",
    "        # if all values are nan, skip\n",
    "        if associated_scan_data.isna().all():\n",
    "            continue\n",
    "\n",
    "        new_row = row[identifier_columns + constants_columns].copy()\n",
    "        # add scan number to identifier columns\n",
    "        new_row['scan_idx'] = scan_idx\n",
    "\n",
    "        for col in associated_scan_data.index:\n",
    "            new_row['_'.join(col.split('_')[:-1]).strip()] = associated_scan_data[col]\n",
    "\n",
    "        # add new_row to reorganized_data_df as a new row\n",
    "        reorganized_data_df = pd.concat([reorganized_data_df, new_row.to_frame().T])\n",
    "        \n",
    "reorganized_data_df.reset_index(drop=True, inplace=True)\n",
    "\n"
   ]
  },
  {
   "cell_type": "markdown",
   "id": "47670ff9014cb75",
   "metadata": {
    "collapsed": false
   },
   "source": [
    "CT_result categories:\t\n",
    "- 0: Without vasospasm, perfusion deficit or edema\n",
    "- 1: With vasospasm\n",
    "- 2: With perfusion deficit\n",
    "- 3: With cerebral edema\n",
    "- 4: With vasospasm and perfusion deficit\n",
    "- 5: With vasospasm and edema\n",
    "- 6: With perfusion deficit and edema\n",
    "\t\n",
    "Simplified\n",
    "- With vasospasm or perfusion deficit: 1, 2, 4, 5, 6\n",
    "- Without vasospasm or perfusion deficit: 0, 3"
   ]
  },
  {
   "cell_type": "code",
   "execution_count": null,
   "id": "6fd5692ca79f2679",
   "metadata": {
    "ExecuteTime": {
     "end_time": "2023-12-28T05:29:01.482005Z",
     "start_time": "2023-12-28T05:29:01.465400Z"
    }
   },
   "outputs": [],
   "source": [
    "# add dichotomized CT results\n",
    "reorganized_data_df['CT_Result'] = reorganized_data_df['CT_Result'].astype(int)\n",
    "reorganized_data_df['CT_Result_dichotomized'] = reorganized_data_df['CT_Result'].isin([1, 2, 4, 5, 6]).astype(int)"
   ]
  },
  {
   "cell_type": "markdown",
   "id": "9d4390d6c6dc8637",
   "metadata": {
    "collapsed": false
   },
   "source": [
    "## Label all pupillometry data with CT results"
   ]
  },
  {
   "cell_type": "code",
   "execution_count": null,
   "id": "9e464e273d3b51aa",
   "metadata": {
    "ExecuteTime": {
     "end_time": "2023-12-28T05:29:01.535317Z",
     "start_time": "2023-12-28T05:29:01.485450Z"
    }
   },
   "outputs": [],
   "source": [
    "reorganized_data_df"
   ]
  },
  {
   "cell_type": "code",
   "execution_count": null,
   "id": "9560b6db0abdffb3",
   "metadata": {
    "ExecuteTime": {
     "end_time": "2023-12-28T05:29:01.752456Z",
     "start_time": "2023-12-28T05:29:01.526563Z"
    }
   },
   "outputs": [],
   "source": [
    "pupillometry_df"
   ]
  },
  {
   "cell_type": "code",
   "execution_count": null,
   "id": "fc00be4b52bc0385",
   "metadata": {
    "ExecuteTime": {
     "end_time": "2023-12-28T05:29:01.754847Z",
     "start_time": "2023-12-28T05:29:01.584041Z"
    }
   },
   "outputs": [],
   "source": [
    "pupillometry_df['Pupillometrie_Zeitpunkt'] = pd.to_datetime(pupillometry_df['Pupillometrie_Zeitpunkt'])"
   ]
  },
  {
   "cell_type": "code",
   "execution_count": null,
   "id": "b851664cf20259f5",
   "metadata": {
    "ExecuteTime": {
     "end_time": "2023-12-28T05:29:02.063063Z",
     "start_time": "2023-12-28T05:29:01.619635Z"
    }
   },
   "outputs": [],
   "source": [
    "# loop through CTs and label all pupillometry data with CT results\n",
    "for index, row in reorganized_data_df.iterrows():\n",
    "    # verify that patient is in pupillometry data\n",
    "    if not row['pNr'] in pupillometry_df['pNr'].values:\n",
    "        continue\n",
    "        \n",
    "    timebin_begin = pd.to_datetime(row['CT_Time']) - pd.Timedelta(timebin_hours, unit='h')\n",
    "    timebin_end = pd.to_datetime(row['CT_Time'])\n",
    "    \n",
    "    # for all associated pupillometry entries add a 'within_CT_timebin' column\n",
    "    pupillometry_df.loc[(pupillometry_df['pNr'] == row['pNr']) & \n",
    "                        (pupillometry_df['Pupillometrie_Zeitpunkt'] >= timebin_begin) &\n",
    "                        (pupillometry_df['Pupillometrie_Zeitpunkt'] <= timebin_end), 'within_CT_timebin'] = 1\n",
    "    \n",
    "    # for all associated pupillometry entries add a 'associated_CT_result' column\n",
    "    pupillometry_df.loc[(pupillometry_df['pNr'] == row['pNr']) & \n",
    "                        (pupillometry_df['Pupillometrie_Zeitpunkt'] >= timebin_begin) &\n",
    "                        (pupillometry_df['Pupillometrie_Zeitpunkt'] <= timebin_end), 'associated_CT_result'] = row['CT_Result']\n",
    "    \n",
    "    # for all associated pupillometry entries add a 'associated_CT_time' column\n",
    "    pupillometry_df.loc[(pupillometry_df['pNr'] == row['pNr']) & \n",
    "                        (pupillometry_df['Pupillometrie_Zeitpunkt'] >= timebin_begin) &\n",
    "                        (pupillometry_df['Pupillometrie_Zeitpunkt'] <= timebin_end), 'associated_CT_time'] = row['CT_Time']\n",
    "    \n",
    "    # for all associated pupillometry entries add a 'within_positive_CT_timebin' column\n",
    "    pupillometry_df.loc[(pupillometry_df['pNr'] == row['pNr']) & \n",
    "                        (pupillometry_df['Pupillometrie_Zeitpunkt'] >= timebin_begin) &\n",
    "                        (pupillometry_df['Pupillometrie_Zeitpunkt'] <= timebin_end), 'within_positive_CT_timebin'] = row['CT_Result_dichotomized']\n",
    "    \n",
    "pupillometry_df['within_CT_timebin'] = pupillometry_df['within_CT_timebin'].fillna(0).astype(int)\n",
    "pupillometry_df['within_positive_CT_timebin'] = pupillometry_df['within_positive_CT_timebin'].fillna(0).astype(int)"
   ]
  },
  {
   "cell_type": "code",
   "execution_count": null,
   "id": "b49e90512f683492",
   "metadata": {
    "ExecuteTime": {
     "end_time": "2023-12-28T05:29:02.096956Z",
     "start_time": "2023-12-28T05:29:01.837138Z"
    }
   },
   "outputs": [],
   "source": [
    "pd.infer_freq(pupillometry_df['Pupillometrie_Zeitpunkt'])"
   ]
  },
  {
   "cell_type": "markdown",
   "id": "d93d3556985593f",
   "metadata": {
    "collapsed": false
   },
   "source": [
    "### For every pupillometry entry add metrics for the timebin it ends\n",
    "\n",
    "Gist: every new measure represents the end of a timebin of X hours\n",
    "\n",
    "Metrics: \n",
    "- For every two sided measure: mean, min, max, delta\n",
    "- Over time: median, min, max, span\n"
   ]
  },
  {
   "cell_type": "code",
   "execution_count": null,
   "id": "4deea931d5f37fc9",
   "metadata": {
    "ExecuteTime": {
     "end_time": "2023-12-28T05:29:02.144907Z",
     "start_time": "2023-12-28T05:29:01.860357Z"
    }
   },
   "outputs": [],
   "source": [
    "# add inter eye metrics for every pupillometry entry\n",
    "# NPi\n",
    "pupillometry_df['NPi_inter_eye_mean'] = pupillometry_df[['NPi_r_wert', 'NPi_r_wert.1']].mean(axis=1)\n",
    "pupillometry_df['NPi_inter_eye_min'] = pupillometry_df[['NPi_r_wert', 'NPi_r_wert.1']].min(axis=1)\n",
    "pupillometry_df['NPi_inter_eye_max'] = pupillometry_df[['NPi_r_wert', 'NPi_r_wert.1']].max(axis=1)\n",
    "pupillometry_df['NPi_inter_eye_delta'] = np.abs(pupillometry_df['NPi_r_wert'] - pupillometry_df['NPi_r_wert.1'])\n",
    "\n",
    "# CV\n",
    "pupillometry_df['CV_inter_eye_mean'] = pupillometry_df[['CV_r_wert', 'CV_r_wert.1']].mean(axis=1)\n",
    "pupillometry_df['CV_inter_eye_min'] = pupillometry_df[['CV_r_wert', 'CV_r_wert.1']].min(axis=1)\n",
    "pupillometry_df['CV_inter_eye_max'] = pupillometry_df[['CV_r_wert', 'CV_r_wert.1']].max(axis=1)\n",
    "pupillometry_df['CV_inter_eye_delta'] = np.abs(pupillometry_df['CV_r_wert'] - pupillometry_df['CV_r_wert.1'])\n",
    "\n",
    "# Size\n",
    "pupillometry_df['Size_inter_eye_mean'] = pupillometry_df[['Si_r_wert', 'Si_r_wert.1']].mean(axis=1)\n",
    "pupillometry_df['Size_inter_eye_min'] = pupillometry_df[['Si_r_wert', 'Si_r_wert.1']].min(axis=1)\n",
    "pupillometry_df['Size_inter_eye_max'] = pupillometry_df[['Si_r_wert', 'Si_r_wert.1']].max(axis=1)\n",
    "pupillometry_df['Size_inter_eye_delta'] = np.abs(pupillometry_df['Si_r_wert'] - pupillometry_df['Si_r_wert.1'])\n"
   ]
  },
  {
   "cell_type": "code",
   "execution_count": null,
   "id": "8dfe295bc70d56c6",
   "metadata": {
    "ExecuteTime": {
     "end_time": "2023-12-28T05:29:02.176983Z",
     "start_time": "2023-12-28T05:29:01.892103Z"
    }
   },
   "outputs": [],
   "source": [
    "pupillometry_metrics = ['NPi', 'CV', 'Size']\n",
    "inter_eye_metrics = ['mean', 'min', 'max', 'delta']\n",
    "# combine to get all metrics\n",
    "single_timepoint_metrics = [f'{metric}_inter_eye_{metric_type}' for metric in pupillometry_metrics for metric_type in inter_eye_metrics]"
   ]
  },
  {
   "cell_type": "code",
   "execution_count": null,
   "id": "eed87d4f21df95a9",
   "metadata": {
    "ExecuteTime": {
     "end_time": "2023-12-28T05:29:02.180392Z",
     "start_time": "2023-12-28T05:29:01.907296Z"
    }
   },
   "outputs": [],
   "source": [
    "over_time_metrics = ['max', 'min', 'median', 'span']\n",
    "# combine to get all metrics\n",
    "timebin_metrics = [f'{metric}_timebin_{metric_type}' for metric in single_timepoint_metrics for metric_type in over_time_metrics]\n",
    "timebin_metrics"
   ]
  },
  {
   "cell_type": "code",
   "execution_count": null,
   "id": "2df5ce4a5bf7135c",
   "metadata": {
    "ExecuteTime": {
     "end_time": "2023-12-28T05:30:21.541450Z",
     "start_time": "2023-12-28T05:29:01.930789Z"
    }
   },
   "outputs": [],
   "source": [
    "# add timebin metrics for every pupillometry entry\n",
    "for index, row in tqdm(pupillometry_df.iterrows(), total=len(pupillometry_df)):\n",
    "    timebin_begin = pd.to_datetime(row['Pupillometrie_Zeitpunkt']) - pd.Timedelta(timebin_hours, unit='h')\n",
    "    timebin_end = pd.to_datetime(row['Pupillometrie_Zeitpunkt'])\n",
    "    \n",
    "    # compute timebin metrics for every single timepoint metric\n",
    "    for metric in single_timepoint_metrics:\n",
    "        # get all values within timebin\n",
    "        values_within_timebin = pupillometry_df.loc[(pupillometry_df['pNr'] == row['pNr']) & \n",
    "                                                    (pupillometry_df['Pupillometrie_Zeitpunkt'] >= timebin_begin) &\n",
    "                                                    (pupillometry_df['Pupillometrie_Zeitpunkt'] <= timebin_end), metric]\n",
    "        # if no values within timebin, skip\n",
    "        if len(values_within_timebin) == 0:\n",
    "            continue\n",
    "        \n",
    "        # add timebin metrics\n",
    "        pupillometry_df.loc[(pupillometry_df['pNr'] == row['pNr']) & \n",
    "                            (pupillometry_df['Pupillometrie_Zeitpunkt'] == row['Pupillometrie_Zeitpunkt']), f'{metric}_timebin_median'] = values_within_timebin.median()\n",
    "        pupillometry_df.loc[(pupillometry_df['pNr'] == row['pNr']) & \n",
    "                            (pupillometry_df['Pupillometrie_Zeitpunkt'] == row['Pupillometrie_Zeitpunkt']), f'{metric}_timebin_min'] = values_within_timebin.min()\n",
    "        pupillometry_df.loc[(pupillometry_df['pNr'] == row['pNr']) & \n",
    "                            (pupillometry_df['Pupillometrie_Zeitpunkt'] == row['Pupillometrie_Zeitpunkt']), f'{metric}_timebin_max'] = values_within_timebin.max()\n",
    "        pupillometry_df.loc[(pupillometry_df['pNr'] == row['pNr']) &   \n",
    "                            (pupillometry_df['Pupillometrie_Zeitpunkt'] == row['Pupillometrie_Zeitpunkt']), f'{metric}_timebin_span'] = values_within_timebin.max() - values_within_timebin.min()\n",
    "        \n",
    "        \n",
    "    \n",
    "    \n",
    "    "
   ]
  },
  {
   "cell_type": "code",
   "execution_count": null,
   "id": "49e0dcb4fd3b6a71",
   "metadata": {
    "ExecuteTime": {
     "end_time": "2023-12-28T05:30:21.569149Z",
     "start_time": "2023-12-28T05:30:21.543064Z"
    }
   },
   "outputs": [],
   "source": [
    "negative_pupillometry_df = pupillometry_df[pupillometry_df['within_positive_CT_timebin'] == 0]\n",
    "negative_pupillometry_df['label'] = 0\n",
    "negative_pupillometry_df['timebin_end'] = pd.to_datetime(negative_pupillometry_df['Pupillometrie_Zeitpunkt'])"
   ]
  },
  {
   "cell_type": "markdown",
   "id": "b7432c66b0fea862",
   "metadata": {
    "collapsed": false
   },
   "source": [
    "### Build positive pupillometry dataset (only pupillometry data within CT timebin)\n",
    "\n",
    "loop through CTs and collect all pupillometry data within CT timebin\n"
   ]
  },
  {
   "cell_type": "code",
   "execution_count": null,
   "id": "c2bd595fc6c972f3",
   "metadata": {
    "ExecuteTime": {
     "end_time": "2023-12-28T05:30:23.466688Z",
     "start_time": "2023-12-28T05:30:21.571194Z"
    }
   },
   "outputs": [],
   "source": [
    "for index, row in tqdm(reorganized_data_df.iterrows(), total=len(reorganized_data_df)):\n",
    "    # verify that patient is in pupillometry data\n",
    "    if not row['pNr'] in pupillometry_df['pNr'].values:\n",
    "        reorganized_data_df.loc[(reorganized_data_df['pNr'] == row['pNr']) & \n",
    "                                (reorganized_data_df['CT_Time'] == row['CT_Time']), 'pupillometry_available'] = 0\n",
    "        continue\n",
    "        \n",
    "    reorganized_data_df.loc[(reorganized_data_df['pNr'] == row['pNr']) & \n",
    "                                (reorganized_data_df['CT_Time'] == row['CT_Time']), 'pupillometry_available'] = 1\n",
    "        \n",
    "    timebin_begin = pd.to_datetime(row['CT_Time']) - pd.Timedelta(timebin_hours, unit='h')\n",
    "    timebin_end = pd.to_datetime(row['CT_Time'])\n",
    "    \n",
    "    # add timebin metrics comprising all data within timebin\n",
    "    values_within_timebin = pupillometry_df.loc[(pupillometry_df['pNr'] == row['pNr']) & \n",
    "                                                (pupillometry_df['Pupillometrie_Zeitpunkt'] >= timebin_begin) &\n",
    "                                                (pupillometry_df['Pupillometrie_Zeitpunkt'] <= timebin_end)]\n",
    "\n",
    "    # if no values within timebin, skip\n",
    "    if len(values_within_timebin) == 0:\n",
    "        continue\n",
    "    \n",
    "    for metric in single_timepoint_metrics:\n",
    "        # add timebin metrics\n",
    "        reorganized_data_df.loc[(reorganized_data_df['pNr'] == row['pNr']) & \n",
    "                                (reorganized_data_df['CT_Time'] == row['CT_Time']), f'{metric}_timebin_median'] = values_within_timebin[metric].median()\n",
    "        reorganized_data_df.loc[(reorganized_data_df['pNr'] == row['pNr']) & \n",
    "                                (reorganized_data_df['CT_Time'] == row['CT_Time']), f'{metric}_timebin_min'] = values_within_timebin[metric].min()\n",
    "        reorganized_data_df.loc[(reorganized_data_df['pNr'] == row['pNr']) & \n",
    "                                (reorganized_data_df['CT_Time'] == row['CT_Time']), f'{metric}_timebin_max'] = values_within_timebin[metric].max()\n",
    "        reorganized_data_df.loc[(reorganized_data_df['pNr'] == row['pNr']) &   \n",
    "                                (reorganized_data_df['CT_Time'] == row['CT_Time']), f'{metric}_timebin_span'] = values_within_timebin[metric].max() - values_within_timebin[metric].min()\n",
    "        "
   ]
  },
  {
   "cell_type": "code",
   "execution_count": null,
   "id": "c02fa27af37d5a02",
   "metadata": {
    "ExecuteTime": {
     "end_time": "2023-12-28T05:30:23.479243Z",
     "start_time": "2023-12-28T05:30:23.472342Z"
    }
   },
   "outputs": [],
   "source": [
    "positive_pupillometry_df = reorganized_data_df[(reorganized_data_df['pupillometry_available'] == 1) & (reorganized_data_df['CT_Result_dichotomized'] == 1)]\n",
    "positive_pupillometry_df['label'] = 1\n",
    "positive_pupillometry_df['timebin_end'] = pd.to_datetime(positive_pupillometry_df['CT_Time'])"
   ]
  },
  {
   "cell_type": "code",
   "execution_count": null,
   "id": "d0e91bfa6acab5f8",
   "metadata": {
    "ExecuteTime": {
     "end_time": "2023-12-28T05:30:23.497070Z",
     "start_time": "2023-12-28T05:30:23.489071Z"
    }
   },
   "outputs": [],
   "source": [
    "reassembled_pupillometry_df = pd.concat([\n",
    "    positive_pupillometry_df[['pNr', 'label', 'timebin_end'] + timebin_metrics],\n",
    "    negative_pupillometry_df[['pNr', 'label', 'timebin_end'] + timebin_metrics]\n",
    "])"
   ]
  },
  {
   "cell_type": "markdown",
   "id": "77639d53b916da8b",
   "metadata": {
    "collapsed": false
   },
   "source": [
    "For every subject with a positive CT, censure data after CT"
   ]
  },
  {
   "cell_type": "code",
   "execution_count": null,
   "id": "1859dc0c39733e4d",
   "metadata": {
    "ExecuteTime": {
     "end_time": "2023-12-28T05:30:23.559748Z",
     "start_time": "2023-12-28T05:30:23.503037Z"
    }
   },
   "outputs": [],
   "source": [
    "if censure_data_after_first_positive_CT:\n",
    "    # get all pnrs with a positive CT\n",
    "    pnrs_with_positive_ct = reassembled_pupillometry_df[reassembled_pupillometry_df['label'] == 1]['pNr'].unique()\n",
    "    \n",
    "    # for every subject with a positive CT, censure data after CT\n",
    "    for pnr in tqdm(pnrs_with_positive_ct):\n",
    "        # get time of first positive CT\n",
    "        time_of_first_positive_ct = reassembled_pupillometry_df[(reassembled_pupillometry_df['pNr'] == pnr) & (reassembled_pupillometry_df['label'] == 1)]['timebin_end'].min()\n",
    "        \n",
    "        # censure all data after time of first positive CT\n",
    "        reassembled_pupillometry_df.loc[(reassembled_pupillometry_df['pNr'] == pnr) & (reassembled_pupillometry_df['timebin_end'] > time_of_first_positive_ct), 'to_drop'] = 1\n",
    "        \n",
    "    reassembled_pupillometry_df = reassembled_pupillometry_df[reassembled_pupillometry_df['to_drop'] != 1]\n",
    "    reassembled_pupillometry_df.drop(columns=['to_drop'], inplace=True)"
   ]
  },
  {
   "cell_type": "code",
   "execution_count": null,
   "id": "35dd4f396f31f144",
   "metadata": {
    "ExecuteTime": {
     "end_time": "2023-12-28T05:30:23.565064Z",
     "start_time": "2023-12-28T05:30:23.562200Z"
    }
   },
   "outputs": [],
   "source": [
    "# reassembled_pupillometry_df.to_csv(f'/Users/jk1/Downloads/pupillometry_data_{timebin_hours}h_timebin.csv', index=False)"
   ]
  },
  {
   "cell_type": "markdown",
   "id": "2a94346c4505ff0c",
   "metadata": {
    "collapsed": false
   },
   "source": [
    "Further ideas:\n",
    "- normalize by first measure (or best measure)"
   ]
  },
  {
   "cell_type": "code",
   "execution_count": null,
   "id": "16fc079bd418ad2f",
   "metadata": {
    "ExecuteTime": {
     "end_time": "2023-12-28T05:30:23.578736Z",
     "start_time": "2023-12-28T05:30:23.569881Z"
    }
   },
   "outputs": [],
   "source": [
    "reassembled_pupillometry_df.label.value_counts()"
   ]
  },
  {
   "cell_type": "markdown",
   "id": "751fff61b5020686",
   "metadata": {
    "collapsed": false
   },
   "source": [
    "# Plotting"
   ]
  },
  {
   "cell_type": "code",
   "execution_count": null,
   "id": "65bf4cc02ad82fe1",
   "metadata": {
    "ExecuteTime": {
     "end_time": "2023-12-28T05:30:23.580941Z",
     "start_time": "2023-12-28T05:30:23.576903Z"
    }
   },
   "outputs": [],
   "source": [
    "import matplotlib.pyplot as plt\n",
    "import seaborn as sns"
   ]
  },
  {
   "cell_type": "code",
   "execution_count": null,
   "id": "517a71bcab1d94e2",
   "metadata": {
    "ExecuteTime": {
     "end_time": "2023-12-28T05:30:23.586188Z",
     "start_time": "2023-12-28T05:30:23.579278Z"
    }
   },
   "outputs": [],
   "source": [
    "metric"
   ]
  },
  {
   "cell_type": "code",
   "execution_count": null,
   "id": "84a7a0e0796ad982",
   "metadata": {
    "ExecuteTime": {
     "end_time": "2023-12-28T05:30:23.591798Z",
     "start_time": "2023-12-28T05:30:23.588891Z"
    }
   },
   "outputs": [],
   "source": [
    "reassembled_pupillometry_df.reset_index(drop=True, inplace=True)"
   ]
  },
  {
   "cell_type": "code",
   "execution_count": null,
   "id": "3a2d4e0948ab297c",
   "metadata": {
    "ExecuteTime": {
     "end_time": "2023-12-28T05:30:23.597051Z",
     "start_time": "2023-12-28T05:30:23.592213Z"
    }
   },
   "outputs": [],
   "source": [
    "reassembled_pupillometry_df['label'] = reassembled_pupillometry_df['label'].astype(int)"
   ]
  },
  {
   "cell_type": "code",
   "execution_count": null,
   "id": "a42706bce1b01b8d",
   "metadata": {
    "ExecuteTime": {
     "end_time": "2023-12-28T05:30:39.990251Z",
     "start_time": "2023-12-28T05:30:23.602159Z"
    }
   },
   "outputs": [],
   "source": [
    "# create a plot with a subplot for every timebin metric, with a scatterplot of metric vs label\n",
    "\n",
    "n_columns = 4\n",
    "n_rows = int(np.ceil(len(timebin_metrics) / n_columns))\n",
    "\n",
    "fig, axes = plt.subplots(n_rows, n_columns, figsize=(20, 60))\n",
    "\n",
    "for i, metric in enumerate(timebin_metrics):\n",
    "    sns.violinplot(data=reassembled_pupillometry_df, y=metric, hue='label', palette='pastel', split=True, gap=0.1, ax=axes[i // n_columns, i % n_columns])\n",
    "    axes[i // n_columns, i % n_columns].set_title(metric)\n",
    "    axes[i // n_columns, i % n_columns].set_ylabel(metric)\n",
    "    axes[i // n_columns, i % n_columns].set_ylabel('')"
   ]
  },
  {
   "cell_type": "code",
   "execution_count": null,
   "id": "168a403431fb7c84",
   "metadata": {
    "ExecuteTime": {
     "end_time": "2023-12-28T05:30:39.990972Z",
     "start_time": "2023-12-28T05:30:39.989293Z"
    }
   },
   "outputs": [],
   "source": [
    "# save figure\n",
    "# fig.savefig(f'/Users/jk1/Downloads/pupillometry_data_{timebin_hours}h_timebin.png', dpi=300)"
   ]
  },
  {
   "cell_type": "markdown",
   "id": "13ebb613e653e1cd",
   "metadata": {
    "collapsed": false
   },
   "source": [
    "## Stats"
   ]
  },
  {
   "cell_type": "code",
   "execution_count": null,
   "id": "ca78f15b3e80d5b7",
   "metadata": {
    "ExecuteTime": {
     "end_time": "2023-12-28T05:30:48.219727Z",
     "start_time": "2023-12-28T05:30:39.989764Z"
    }
   },
   "outputs": [],
   "source": [
    "import os\n",
    "os.environ[\"R_HOME\"] = \"/Library/Frameworks/R.framework/Resources\"\n",
    "from pymer4.models import Lmer"
   ]
  },
  {
   "cell_type": "code",
   "execution_count": null,
   "id": "b96378d2266d5c97",
   "metadata": {
    "ExecuteTime": {
     "end_time": "2023-12-28T05:35:55.892425Z",
     "start_time": "2023-12-28T05:35:55.606377Z"
    }
   },
   "outputs": [],
   "source": [
    "reassembled_pupillometry_df['pNr'] = reassembled_pupillometry_df['pNr'].astype(str)"
   ]
  },
  {
   "cell_type": "code",
   "execution_count": null,
   "id": "a50f251b9838ebdf",
   "metadata": {
    "ExecuteTime": {
     "end_time": "2023-12-28T05:35:59.155509Z",
     "start_time": "2023-12-28T05:35:57.561408Z"
    }
   },
   "outputs": [],
   "source": [
    "model = Lmer(\"label  ~ NPi_inter_eye_mean_timebin_max  + (1|pNr)\",\n",
    "             data=reassembled_pupillometry_df, family = 'binomial')\n",
    "model.fit()"
   ]
  },
  {
   "cell_type": "code",
   "execution_count": null,
   "id": "c48e9a23859c6aa2",
   "metadata": {
    "ExecuteTime": {
     "end_time": "2023-12-28T05:37:23.102501Z",
     "start_time": "2023-12-28T05:37:23.029333Z"
    }
   },
   "outputs": [],
   "source": [
    "model.coefs['P-val'].to_dict()['NPi_inter_eye_mean_timebin_max']"
   ]
  },
  {
   "cell_type": "code",
   "execution_count": null,
   "id": "2dc4f1d1a0377a2e",
   "metadata": {
    "ExecuteTime": {
     "end_time": "2023-12-28T05:38:46.051493Z",
     "start_time": "2023-12-28T05:38:04.846793Z"
    }
   },
   "outputs": [],
   "source": [
    "pvals_per_metric = {}\n",
    "for metric in timebin_metrics:\n",
    "    model = Lmer(f\"label  ~ {metric}  + (1|pNr)\",\n",
    "                 data=reassembled_pupillometry_df, family = 'binomial')\n",
    "    model.fit()\n",
    "    pvals_per_metric[metric] = model.coefs['P-val'].to_dict()[metric]"
   ]
  },
  {
   "cell_type": "code",
   "execution_count": null,
   "id": "e16a7f4c8d4a52f2",
   "metadata": {
    "ExecuteTime": {
     "end_time": "2023-12-28T05:39:42.861776Z",
     "start_time": "2023-12-28T05:39:42.710119Z"
    }
   },
   "outputs": [],
   "source": [
    "pvals_per_metric_df = pd.DataFrame.from_dict(pvals_per_metric, orient='index', columns=['pval'])"
   ]
  },
  {
   "cell_type": "code",
   "execution_count": null,
   "id": "31912b9e7ded070c",
   "metadata": {
    "ExecuteTime": {
     "end_time": "2023-12-28T05:40:13.079389Z",
     "start_time": "2023-12-28T05:40:12.933562Z"
    }
   },
   "outputs": [],
   "source": [
    "pvals_per_metric_df.sort_values(by='pval')"
   ]
  },
  {
   "cell_type": "code",
   "execution_count": null,
   "id": "30efb153df1d5bb7",
   "metadata": {
    "ExecuteTime": {
     "end_time": "2023-12-28T05:41:00.510592Z",
     "start_time": "2023-12-28T05:41:00.054307Z"
    }
   },
   "outputs": [],
   "source": [
    "# plot pvals as barplot (lowest 10) - horizontal\n",
    "pvals_per_metric_df.sort_values(by='pval').iloc[:10].plot(kind='barh', figsize=(10, 5))"
   ]
  },
  {
   "cell_type": "code",
   "execution_count": null,
   "id": "498ee8ce2829145b",
   "metadata": {},
   "outputs": [],
   "source": []
  }
 ],
 "metadata": {
  "kernelspec": {
   "display_name": "Python 3",
   "language": "python",
   "name": "python3"
  },
  "language_info": {
   "codemirror_mode": {
    "name": "ipython",
    "version": 2
   },
   "file_extension": ".py",
   "mimetype": "text/x-python",
   "name": "python",
   "nbconvert_exporter": "python",
   "pygments_lexer": "ipython2",
   "version": "2.7.6"
  }
 },
 "nbformat": 4,
 "nbformat_minor": 5
}
