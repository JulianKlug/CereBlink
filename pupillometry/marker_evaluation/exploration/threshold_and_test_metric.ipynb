{
 "cells": [
  {
   "cell_type": "code",
   "execution_count": null,
   "id": "initial_id",
   "metadata": {
    "ExecuteTime": {
     "end_time": "2024-03-03T20:27:59.022503Z",
     "start_time": "2024-03-03T20:27:59.019326Z"
    }
   },
   "outputs": [],
   "source": [
    "import pandas as pd"
   ]
  },
  {
   "cell_type": "code",
   "execution_count": null,
   "id": "840ba0f61c4ed7ce",
   "metadata": {
    "ExecuteTime": {
     "end_time": "2024-03-03T20:27:59.025808Z",
     "start_time": "2024-03-03T20:27:59.023203Z"
    }
   },
   "outputs": [],
   "source": [
    "data_path = '/Users/jk1/temp/cereblink/direct_R_fallback/pupillometry_timebins/reassembled_pupillometry_24h_timebin_normalised.csv'"
   ]
  },
  {
   "cell_type": "code",
   "execution_count": null,
   "id": "7d835c157a168fd9",
   "metadata": {
    "ExecuteTime": {
     "end_time": "2024-03-03T20:27:59.059702Z",
     "start_time": "2024-03-03T20:27:59.029066Z"
    }
   },
   "outputs": [],
   "source": [
    "df = pd.read_csv(data_path)"
   ]
  },
  {
   "cell_type": "code",
   "execution_count": null,
   "id": "d4f7b942d53660c2",
   "metadata": {
    "ExecuteTime": {
     "end_time": "2024-03-03T19:58:17.227616Z",
     "start_time": "2024-03-03T19:58:17.208773Z"
    }
   },
   "outputs": [],
   "source": [
    "df.head()"
   ]
  },
  {
   "cell_type": "code",
   "execution_count": null,
   "id": "5ecd335831d75718",
   "metadata": {
    "ExecuteTime": {
     "end_time": "2024-03-03T19:58:17.253547Z",
     "start_time": "2024-03-03T19:58:17.228115Z"
    }
   },
   "outputs": [],
   "source": [
    "df.drop(columns=['Unnamed: 0'], inplace=True)"
   ]
  },
  {
   "cell_type": "code",
   "execution_count": null,
   "id": "80822ff5f3b46be8",
   "metadata": {
    "ExecuteTime": {
     "end_time": "2024-03-03T19:58:17.282267Z",
     "start_time": "2024-03-03T19:58:17.236190Z"
    }
   },
   "outputs": [],
   "source": [
    "id_columns = ['pNr', 'Name', 'Date_birth', 'label', 'timebin_end']\n",
    "# all other columns are features\n",
    "feature_columns = [col for col in df.columns if col not in id_columns]"
   ]
  },
  {
   "cell_type": "code",
   "execution_count": null,
   "id": "906fa7a6e7e59215",
   "metadata": {
    "ExecuteTime": {
     "end_time": "2024-03-03T21:04:10.887345Z",
     "start_time": "2024-03-03T21:04:10.879197Z"
    }
   },
   "outputs": [],
   "source": [
    "metric = 'CV_inter_eye_min_timebin_max'"
   ]
  },
  {
   "cell_type": "code",
   "execution_count": null,
   "id": "a40721bf1ed8c07b",
   "metadata": {
    "ExecuteTime": {
     "end_time": "2024-03-03T19:58:17.285382Z",
     "start_time": "2024-03-03T19:58:17.245273Z"
    }
   },
   "outputs": [],
   "source": [
    "from sklearn.metrics import roc_auc_score\n",
    "\n",
    "roc_auc_score(df.dropna(subset=[metric])['label'], -1 * df.dropna(subset=[metric])[metric])"
   ]
  },
  {
   "cell_type": "code",
   "execution_count": null,
   "id": "689b5987cc2d1ea",
   "metadata": {
    "ExecuteTime": {
     "end_time": "2024-03-03T20:05:34.279557Z",
     "start_time": "2024-03-03T20:05:34.183768Z"
    }
   },
   "outputs": [],
   "source": [
    "from sklearn.model_selection import StratifiedKFold\n",
    "from testing import youdens_index, test_predictor\n",
    "\n",
    "results_df = pd.DataFrame()\n",
    "skf = StratifiedKFold(n_splits=5, shuffle=True, random_state=42)\n",
    "for train_index, test_index in skf.split(df, df['label']):\n",
    "    train_df = df.iloc[train_index]\n",
    "    train_df.dropna(subset=[metric], inplace=True)\n",
    "    \n",
    "    test_df = df.iloc[test_index]\n",
    "    test_df.dropna(subset=[metric], inplace=True)\n",
    "    \n",
    "    train_n_pos = train_df['label'].sum()\n",
    "    test_n_pos = test_df['label'].sum()\n",
    "    \n",
    "    if train_df[train_df['label'] == 1][metric].median() > train_df[train_df['label'] == 0][metric].median():\n",
    "        youdens = youdens_index(train_df['label'], train_df[metric])\n",
    "    else:\n",
    "        youdens = -1 * youdens_index(train_df['label'], -1 * train_df[metric])\n",
    "        \n",
    "    # check direction of comparison (to know which if should be thresholded above or below)\n",
    "    # median of label 1 > median of label 0 -> threshold above; else threshold below\n",
    "    if train_df[train_df['label'] == 1][metric].median() > train_df[train_df['label'] == 0][metric].median():\n",
    "        y_pred_binary = test_df[metric] > youdens    \n",
    "    else:\n",
    "        y_pred_binary = test_df[metric] <= youdens\n",
    "    y_pred_binary = y_pred_binary.astype(int)\n",
    "        \n",
    "    fold_results = test_predictor(test_df['label'], y_pred_binary)\n",
    "    fold_roc_auc = roc_auc_score(test_df['label'], test_df[metric])\n",
    "    if fold_roc_auc < 0.5:\n",
    "        fold_roc_auc = 1 - fold_roc_auc\n",
    "    fold_results['roc_auc'] = fold_roc_auc\n",
    "    fold_results['youdens'] = youdens\n",
    "    fold_results['n_pos'] = test_n_pos\n",
    "    fold_results['n_neg'] = len(test_index) - test_n_pos\n",
    "    fold_results['fold'] = len(results_df)\n",
    "    \n",
    "    results_df = pd.concat([results_df, pd.DataFrame(fold_results, index=[0])])\n",
    "    \n",
    "overall_roc_auc = roc_auc_score(df['label'], df[metric])\n",
    "if overall_roc_auc < 0.5:\n",
    "    overall_roc_auc = 1 - overall_roc_auc\n",
    "results_df['overall_roc_auc'] = overall_roc_auc\n",
    "\n",
    "results_df['metric'] = metric\n",
    "\n",
    "    \n",
    "    \n",
    "    "
   ]
  },
  {
   "cell_type": "code",
   "execution_count": null,
   "id": "c560e16fee43b252",
   "metadata": {
    "ExecuteTime": {
     "end_time": "2024-03-03T20:23:04.186207Z",
     "start_time": "2024-03-03T20:23:04.182782Z"
    }
   },
   "outputs": [],
   "source": [
    "len(test_df)"
   ]
  },
  {
   "cell_type": "code",
   "execution_count": null,
   "id": "18fa9005bff9e630",
   "metadata": {
    "ExecuteTime": {
     "end_time": "2024-03-03T20:05:36.442816Z",
     "start_time": "2024-03-03T20:05:36.429558Z"
    }
   },
   "outputs": [],
   "source": [
    "results_df"
   ]
  },
  {
   "cell_type": "code",
   "execution_count": null,
   "id": "2460032990f576a",
   "metadata": {
    "ExecuteTime": {
     "end_time": "2024-03-03T19:58:17.844289Z",
     "start_time": "2024-03-03T19:58:17.843904Z"
    }
   },
   "outputs": [],
   "source": [
    "# plot roc curve\n",
    "from sklearn.metrics import roc_curve\n",
    "import matplotlib.pyplot as plt\n",
    "\n",
    "fpr, tpr, thresholds = roc_curve(train_df['label'], -1* train_df[metric])\n",
    "plt.plot(fpr, tpr)"
   ]
  },
  {
   "cell_type": "code",
   "execution_count": null,
   "id": "fbdf17f5b9b0f6a7",
   "metadata": {
    "ExecuteTime": {
     "start_time": "2024-03-03T19:58:17.846495Z"
    }
   },
   "outputs": [],
   "source": [
    "from sklearn.metrics import multilabel_confusion_matrix, confusion_matrix\n",
    "\n",
    "mcm = confusion_matrix([0,1,1,0], [0,0,0,1])\n",
    "# mcm = multilabel_confusion_matrix(test_df['label'], y_pred_binary)\n",
    "tn = mcm[0, 0]\n",
    "tp = mcm[1, 1]\n",
    "fn = mcm[1, 0]\n",
    "fp = mcm[0, 1]\n"
   ]
  },
  {
   "cell_type": "code",
   "execution_count": null,
   "id": "99c0e04608e95e38",
   "metadata": {
    "ExecuteTime": {
     "start_time": "2024-03-03T19:58:17.849359Z"
    }
   },
   "outputs": [],
   "source": [
    "tn / (tn + fp)"
   ]
  },
  {
   "cell_type": "code",
   "execution_count": null,
   "id": "4ffae82625cd7a4d",
   "metadata": {
    "ExecuteTime": {
     "start_time": "2024-03-03T19:58:17.851315Z"
    }
   },
   "outputs": [],
   "source": [
    "    specificity = tn / (tn + fp)\n",
    "    results_dict['specificity'] = specificity\n",
    "    neg_pred_value = tn / (tn + fn)"
   ]
  },
  {
   "cell_type": "code",
   "execution_count": null,
   "id": "977657face46b513",
   "metadata": {
    "ExecuteTime": {
     "start_time": "2024-03-03T19:58:17.853146Z"
    }
   },
   "outputs": [],
   "source": [
    "train_df[train_df['label'] == 1][metric].median() > train_df[train_df['label'] == 0][metric].median()"
   ]
  },
  {
   "cell_type": "code",
   "execution_count": null,
   "id": "3e042f1efc1dafc5",
   "metadata": {
    "ExecuteTime": {
     "end_time": "2024-03-03T20:28:06.395607Z",
     "start_time": "2024-03-03T20:28:03.959696Z"
    }
   },
   "outputs": [],
   "source": [
    "from pupillometry.marker_evaluation.threshold_and_test_metric import test_pupillometry_metrics\n",
    "\n",
    "results_df = test_pupillometry_metrics(df)"
   ]
  },
  {
   "cell_type": "code",
   "execution_count": null,
   "id": "d625ca3214d4a3c7",
   "metadata": {
    "ExecuteTime": {
     "end_time": "2024-03-03T20:28:09.502484Z",
     "start_time": "2024-03-03T20:28:09.484264Z"
    }
   },
   "outputs": [],
   "source": [
    "results_df"
   ]
  },
  {
   "cell_type": "code",
   "execution_count": null,
   "id": "fc7bb40c25b2be96",
   "metadata": {},
   "outputs": [],
   "source": []
  },
  {
   "cell_type": "code",
   "execution_count": null,
   "id": "af859e085919536b",
   "metadata": {
    "ExecuteTime": {
     "end_time": "2024-03-03T20:36:59.268447Z",
     "start_time": "2024-03-03T20:36:59.255763Z"
    }
   },
   "outputs": [],
   "source": [
    "import re\n",
    "\n",
    "data_filename = 'reassembled_pupillometry_112h_timebin_normalised.csv'\n",
    "\n",
    "int(re.search(r'_(\\d+)h_', data_filename).group(1))"
   ]
  },
  {
   "cell_type": "code",
   "execution_count": null,
   "id": "32446cbf6ff100ab",
   "metadata": {},
   "outputs": [],
   "source": []
  },
  {
   "cell_type": "code",
   "execution_count": null,
   "id": "9bc93d22230b84eb",
   "metadata": {
    "ExecuteTime": {
     "end_time": "2024-03-03T21:07:48.402031Z",
     "start_time": "2024-03-03T21:07:48.380658Z"
    }
   },
   "outputs": [],
   "source": [
    "from sklearn.utils import resample\n",
    "\n",
    "for i in range(5):\n",
    "    df_bs = resample(df.dropna(subset=[metric]), replace=True)\n",
    "    print(df_bs.pNr.nunique())"
   ]
  },
  {
   "cell_type": "code",
   "execution_count": null,
   "id": "606764e35a57961a",
   "metadata": {
    "ExecuteTime": {
     "end_time": "2024-03-03T21:07:56.973938Z",
     "start_time": "2024-03-03T21:07:56.961558Z"
    }
   },
   "outputs": [],
   "source": [
    "df.pNr.nunique()"
   ]
  },
  {
   "cell_type": "code",
   "execution_count": null,
   "id": "8917c6a0890a3502",
   "metadata": {},
   "outputs": [],
   "source": []
  }
 ],
 "metadata": {
  "kernelspec": {
   "display_name": "Python 3",
   "language": "python",
   "name": "python3"
  },
  "language_info": {
   "codemirror_mode": {
    "name": "ipython",
    "version": 2
   },
   "file_extension": ".py",
   "mimetype": "text/x-python",
   "name": "python",
   "nbconvert_exporter": "python",
   "pygments_lexer": "ipython2",
   "version": "2.7.6"
  }
 },
 "nbformat": 4,
 "nbformat_minor": 5
}
