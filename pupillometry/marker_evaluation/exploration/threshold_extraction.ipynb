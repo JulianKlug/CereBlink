{
 "cells": [
  {
   "cell_type": "markdown",
   "id": "fb0037764bb4c680",
   "metadata": {
    "collapsed": false
   },
   "source": [
    "Extract thresholds from saved computations with Youden's J statistic"
   ]
  },
  {
   "cell_type": "code",
   "execution_count": null,
   "id": "initial_id",
   "metadata": {
    "ExecuteTime": {
     "end_time": "2024-06-14T19:43:00.123753Z",
     "start_time": "2024-06-14T19:43:00.121077Z"
    }
   },
   "outputs": [],
   "source": [
    "import pandas as pd"
   ]
  },
  {
   "cell_type": "code",
   "execution_count": null,
   "id": "7e5b3335091eb0d3",
   "metadata": {
    "ExecuteTime": {
     "end_time": "2024-06-14T19:43:32.333775Z",
     "start_time": "2024-06-14T19:43:32.331111Z"
    }
   },
   "outputs": [],
   "source": [
    "data_path = '/Users/jk1/temp/cereblink/pupillometry/data_saving/pupillometry_metrics_results_youden.csv'"
   ]
  },
  {
   "cell_type": "code",
   "execution_count": null,
   "id": "d142ec756ffb3b8b",
   "metadata": {
    "ExecuteTime": {
     "end_time": "2024-06-14T19:43:32.721402Z",
     "start_time": "2024-06-14T19:43:32.698738Z"
    }
   },
   "outputs": [],
   "source": [
    "df = pd.read_csv(data_path)"
   ]
  },
  {
   "cell_type": "code",
   "execution_count": null,
   "id": "7f96512338713ee7",
   "metadata": {
    "ExecuteTime": {
     "end_time": "2024-06-14T19:43:36.215383Z",
     "start_time": "2024-06-14T19:43:36.190823Z"
    }
   },
   "outputs": [],
   "source": [
    "df.head()"
   ]
  },
  {
   "cell_type": "code",
   "execution_count": null,
   "id": "89297d08fde58ae3",
   "metadata": {
    "ExecuteTime": {
     "end_time": "2024-06-14T19:46:04.705500Z",
     "start_time": "2024-06-14T19:46:04.694768Z"
    }
   },
   "outputs": [],
   "source": [
    "# find subset where metric starts with CV_inter_eye_delta\n",
    "df[df['metric'].str.startswith('CV_inter_eye_delta')].groupby('timebin_size').threshold.median()"
   ]
  },
  {
   "cell_type": "code",
   "execution_count": null,
   "id": "6db84a48dc7476bf",
   "metadata": {},
   "outputs": [],
   "source": []
  }
 ],
 "metadata": {
  "kernelspec": {
   "display_name": "Python 3",
   "language": "python",
   "name": "python3"
  },
  "language_info": {
   "codemirror_mode": {
    "name": "ipython",
    "version": 2
   },
   "file_extension": ".py",
   "mimetype": "text/x-python",
   "name": "python",
   "nbconvert_exporter": "python",
   "pygments_lexer": "ipython2",
   "version": "2.7.6"
  }
 },
 "nbformat": 4,
 "nbformat_minor": 5
}
