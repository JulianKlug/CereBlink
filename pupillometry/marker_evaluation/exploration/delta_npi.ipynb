{
 "cells": [
  {
   "cell_type": "markdown",
   "id": "83f6a2966bc8a120",
   "metadata": {
    "collapsed": false,
    "jupyter": {
     "outputs_hidden": false
    }
   },
   "source": [
    "Test if delta NPI > 0.7 is associated with DCI\n",
    "\n",
    "Privitera et al. BMC Neurology (2022) 22:273 https://doi.org/10.1186/s12883-022-02801-3"
   ]
  },
  {
   "cell_type": "code",
   "execution_count": null,
   "id": "initial_id",
   "metadata": {
    "ExecuteTime": {
     "end_time": "2024-06-09T15:37:22.703245Z",
     "start_time": "2024-06-09T15:37:22.700098Z"
    }
   },
   "outputs": [],
   "source": [
    "import pandas as pd\n",
    "import os"
   ]
  },
  {
   "cell_type": "code",
   "execution_count": null,
   "id": "9e12ee00854bcb57",
   "metadata": {
    "ExecuteTime": {
     "end_time": "2024-06-09T15:37:24.228174Z",
     "start_time": "2024-06-09T15:37:24.224973Z"
    },
    "jupyter": {
     "outputs_hidden": false
    }
   },
   "outputs": [],
   "source": [
    "path = '/Users/jk1/temp/cereblink/pupillometry/data_saving/exclude_nan_outcome_False/'"
   ]
  },
  {
   "cell_type": "code",
   "execution_count": null,
   "id": "d6bf69a5639f29e5",
   "metadata": {
    "ExecuteTime": {
     "end_time": "2024-06-09T15:39:05.616424Z",
     "start_time": "2024-06-09T15:39:05.522716Z"
    },
    "jupyter": {
     "outputs_hidden": false
    }
   },
   "outputs": [],
   "source": [
    "# find all files like DCI_ischemia_reassembled_pupillometry_Xh_timebin.csv and load them\n",
    "\n",
    "\n",
    "files = os.listdir(path)\n",
    "files = [f for f in files if 'DCI_ischemia_reassembled_pupillometry' in f and f.endswith('timebin.csv')]\n",
    "dfs = {}\n",
    "for f in files:\n",
    "    df = pd.read_csv(path + f)\n",
    "    timebin = int(f.split('_')[4][:-1])\n",
    "    dfs[timebin] = df"
   ]
  },
  {
   "cell_type": "code",
   "execution_count": null,
   "id": "29b7da3e80e15b00",
   "metadata": {
    "ExecuteTime": {
     "end_time": "2024-06-09T15:27:45.720636Z",
     "start_time": "2024-06-09T15:27:45.549371Z"
    },
    "jupyter": {
     "outputs_hidden": false
    }
   },
   "outputs": [],
   "source": [
    "# roc curve for NPI_inter_eye_delta_timebin_max\n",
    "from sklearn.metrics import roc_curve, auc\n",
    "import matplotlib.pyplot as plt\n",
    "\n",
    "temp_df = df[['label', 'NPI_inter_eye_delta_timebin_median']]\n",
    "temp_df = temp_df.dropna()\n",
    "\n",
    "fpr, tpr, _ = roc_curve(temp_df.label.values, temp_df.NPI_inter_eye_delta_timebin_median.values)\n",
    "roc_auc = auc(fpr, tpr)\n",
    "\n",
    "plt.figure()\n",
    "lw = 2\n",
    "plt.plot(fpr, tpr, color='darkorange',\n",
    "         lw=lw, label='ROC curve (area = %0.2f)' % roc_auc)\n",
    "plt.plot([0, 1], [0, 1], color='navy', lw=lw, linestyle='--')\n",
    "plt.xlim([0.0, 1.0])\n",
    "plt.ylim([0.0, 1.05])\n",
    "plt.xlabel('False Positive Rate')\n",
    "plt.ylabel('True Positive Rate')\n",
    "plt.title('Receiver operating characteristic example')\n",
    "plt.legend(loc=\"lower right\")\n",
    "plt.show()"
   ]
  },
  {
   "cell_type": "code",
   "execution_count": null,
   "id": "dfdc8ea9a96c5fca",
   "metadata": {
    "ExecuteTime": {
     "end_time": "2024-06-09T15:39:59.476168Z",
     "start_time": "2024-06-09T15:39:59.315273Z"
    },
    "jupyter": {
     "outputs_hidden": false
    }
   },
   "outputs": [],
   "source": [
    "from pupillometry.marker_evaluation.testing_utils import test_predictor\n",
    "\n",
    "\n",
    "markers = ['NPI_inter_eye_delta_timebin_median', 'NPI_inter_eye_delta_timebin_max', 'NPI_inter_eye_delta_timebin_min']\n",
    "overall_results = []\n",
    "\n",
    "# loop through all timebins\n",
    "for timebin, df in dfs.items():\n",
    "    for marker in markers:\n",
    "        results = test_predictor(df.label.values, (df[marker] > 0.7).astype(int).values)\n",
    "        results_df = pd.DataFrame(results, index=[marker])\n",
    "        results_df['timebin'] = timebin\n",
    "        overall_results.append(results_df)\n",
    "    \n",
    "overall_results_df = pd.concat(overall_results)\n"
   ]
  },
  {
   "cell_type": "code",
   "execution_count": null,
   "id": "9308afbb8b720ea6",
   "metadata": {
    "ExecuteTime": {
     "end_time": "2024-06-09T15:40:18.789087Z",
     "start_time": "2024-06-09T15:40:18.785128Z"
    },
    "jupyter": {
     "outputs_hidden": false
    }
   },
   "outputs": [],
   "source": [
    "overall_results_df.reset_index(inplace=True)\n",
    "overall_results_df.rename(columns={'index': 'marker'}, inplace=True)"
   ]
  },
  {
   "cell_type": "code",
   "execution_count": null,
   "id": "2beaea6ece02419b",
   "metadata": {
    "ExecuteTime": {
     "end_time": "2024-06-09T15:40:27.421250Z",
     "start_time": "2024-06-09T15:40:27.409172Z"
    },
    "jupyter": {
     "outputs_hidden": false
    }
   },
   "outputs": [],
   "source": [
    "overall_results_df"
   ]
  },
  {
   "cell_type": "code",
   "execution_count": null,
   "id": "e816bb1187a74d8c",
   "metadata": {
    "ExecuteTime": {
     "end_time": "2024-06-09T15:48:48.976980Z",
     "start_time": "2024-06-09T15:48:48.972241Z"
    },
    "jupyter": {
     "outputs_hidden": false
    }
   },
   "outputs": [],
   "source": [
    "overall_results_df['threshold'] = 0.7"
   ]
  },
  {
   "cell_type": "code",
   "execution_count": null,
   "id": "b9049895d5698945",
   "metadata": {
    "ExecuteTime": {
     "end_time": "2024-06-09T15:48:51.105414Z",
     "start_time": "2024-06-09T15:48:51.095025Z"
    },
    "jupyter": {
     "outputs_hidden": false
    }
   },
   "outputs": [],
   "source": []
  },
  {
   "cell_type": "code",
   "execution_count": null,
   "id": "7bc056d2ef4de15d",
   "metadata": {
    "jupyter": {
     "outputs_hidden": false
    }
   },
   "outputs": [],
   "source": []
  }
 ],
 "metadata": {
  "kernelspec": {
   "display_name": "Python 3 (ipykernel)",
   "language": "python",
   "name": "python3"
  },
  "language_info": {
   "codemirror_mode": {
    "name": "ipython",
    "version": 3
   },
   "file_extension": ".py",
   "mimetype": "text/x-python",
   "name": "python",
   "nbconvert_exporter": "python",
   "pygments_lexer": "ipython3",
   "version": "3.10.13"
  }
 },
 "nbformat": 4,
 "nbformat_minor": 5
}
