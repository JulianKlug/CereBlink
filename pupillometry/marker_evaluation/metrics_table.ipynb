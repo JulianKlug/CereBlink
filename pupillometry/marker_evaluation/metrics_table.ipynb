{
 "cells": [
  {
   "cell_type": "code",
   "execution_count": null,
   "id": "initial_id",
   "metadata": {
    "ExecuteTime": {
     "end_time": "2024-03-28T20:05:11.577747Z",
     "start_time": "2024-03-28T20:05:11.233167Z"
    }
   },
   "outputs": [],
   "source": [
    "import pandas as pd\n",
    "import numpy as np"
   ]
  },
  {
   "cell_type": "code",
   "execution_count": null,
   "id": "4170b6b94558f32a",
   "metadata": {
    "ExecuteTime": {
     "end_time": "2024-03-28T20:05:11.583245Z",
     "start_time": "2024-03-28T20:05:11.580353Z"
    }
   },
   "outputs": [],
   "source": [
    "metrics_data_path = '/Users/jk1/temp/cereblink/data_saving/pupillometry_metrics_results_youden.csv'"
   ]
  },
  {
   "cell_type": "code",
   "execution_count": null,
   "id": "2bfa3ca1f5048",
   "metadata": {
    "ExecuteTime": {
     "end_time": "2024-03-28T20:05:11.600269Z",
     "start_time": "2024-03-28T20:05:11.584768Z"
    }
   },
   "outputs": [],
   "source": [
    "metrics_df = pd.read_csv(metrics_data_path)"
   ]
  },
  {
   "cell_type": "code",
   "execution_count": null,
   "id": "20734625c250bd5a",
   "metadata": {
    "ExecuteTime": {
     "end_time": "2024-03-28T20:05:11.622401Z",
     "start_time": "2024-03-28T20:05:11.601313Z"
    }
   },
   "outputs": [],
   "source": [
    "metrics_df.head()"
   ]
  },
  {
   "cell_type": "code",
   "execution_count": null,
   "id": "9fb9318c35d17cfa",
   "metadata": {
    "ExecuteTime": {
     "end_time": "2024-03-28T20:05:11.628972Z",
     "start_time": "2024-03-28T20:05:11.625098Z"
    }
   },
   "outputs": [],
   "source": [
    "all_features = metrics_df.metric.unique()\n",
    "all_timebins = np.sort(metrics_df.timebin_size.unique())\n",
    "all_outcomes = metrics_df.outcome.unique()"
   ]
  },
  {
   "cell_type": "code",
   "execution_count": null,
   "id": "f4c72d6e0f1f3c47",
   "metadata": {
    "ExecuteTime": {
     "end_time": "2024-03-28T20:05:11.633136Z",
     "start_time": "2024-03-28T20:05:11.630362Z"
    }
   },
   "outputs": [],
   "source": [
    "metrics = ['test_matthews', 'test_accuracy', 'test_precision', 'test_recall',\n",
    "       'test_specificity', 'test_neg_pred_value']\n",
    "roc_metrics = ['overall_roc_auc', 'bs_lower_ci_roc_auc', 'bs_upper_ci_roc_auc']"
   ]
  },
  {
   "cell_type": "code",
   "execution_count": null,
   "id": "e9ab0eea5217fb06",
   "metadata": {
    "ExecuteTime": {
     "end_time": "2024-03-28T20:05:12.761103Z",
     "start_time": "2024-03-28T20:05:11.634558Z"
    }
   },
   "outputs": [],
   "source": [
    "normalized = 1\n",
    "outcome = 'DCI_ischemia'\n",
    "rearranged_df = pd.DataFrame()\n",
    "\n",
    "for tb in all_timebins:\n",
    "    for feature in all_features:\n",
    "        feature_df = pd.DataFrame()\n",
    "        temp_f_df = metrics_df[(metrics_df.timebin_size == tb) & (metrics_df.metric == feature) \n",
    "                                       & (metrics_df.outcome == outcome) & (metrics_df.data_is_normalized == normalized)]\n",
    "        for metric in metrics:\n",
    "            temp_m_df = temp_f_df[metric]\n",
    "            median_metric = temp_m_df.median()\n",
    "            q1_metric = temp_m_df.quantile(0.25)\n",
    "            q3_metric = temp_m_df.quantile(0.75)\n",
    "            feature_df[metric] = [f'{median_metric:.2f} ({q1_metric:.2f}-{q3_metric:.2f})']\n",
    "            \n",
    "        feature_df['ROC AUC'] = f'{temp_f_df[\"overall_roc_auc\"].iloc[0]:.2f} (95% CI {temp_f_df[\"bs_lower_ci_roc_auc\"].iloc[0]:.2f}-{temp_f_df[\"bs_upper_ci_roc_auc\"].iloc[0]:.2f})'\n",
    "        feature_df['timebin_size'] = tb\n",
    "        feature_df['feature'] = feature\n",
    "        feature_df['outcome'] = outcome\n",
    "        feature_df['normalized'] = normalized\n",
    "        rearranged_df = pd.concat([rearranged_df, feature_df], axis=0)\n"
   ]
  },
  {
   "cell_type": "code",
   "execution_count": null,
   "id": "d7f7c679beda00c7",
   "metadata": {
    "ExecuteTime": {
     "end_time": "2024-03-28T20:05:12.776860Z",
     "start_time": "2024-03-28T20:05:12.762763Z"
    }
   },
   "outputs": [],
   "source": [
    "rearranged_df"
   ]
  },
  {
   "cell_type": "code",
   "execution_count": null,
   "id": "b2d5d012a45800ee",
   "metadata": {
    "ExecuteTime": {
     "end_time": "2024-03-28T20:05:12.781128Z",
     "start_time": "2024-03-28T20:05:12.778261Z"
    }
   },
   "outputs": [],
   "source": [
    "# rearranged_df.to_excel('/Users/jk1/temp/cereblink/data_saving/pupillometry_metrics_results_youden_rearranged.xlsx', index=False)"
   ]
  },
  {
   "cell_type": "code",
   "execution_count": null,
   "id": "853d28f41810a9d1",
   "metadata": {
    "ExecuteTime": {
     "end_time": "2024-03-28T20:05:12.784422Z",
     "start_time": "2024-03-28T20:05:12.782576Z"
    }
   },
   "outputs": [],
   "source": []
  }
 ],
 "metadata": {
  "kernelspec": {
   "display_name": "Python 3",
   "language": "python",
   "name": "python3"
  },
  "language_info": {
   "codemirror_mode": {
    "name": "ipython",
    "version": 2
   },
   "file_extension": ".py",
   "mimetype": "text/x-python",
   "name": "python",
   "nbconvert_exporter": "python",
   "pygments_lexer": "ipython2",
   "version": "2.7.6"
  }
 },
 "nbformat": 4,
 "nbformat_minor": 5
}
