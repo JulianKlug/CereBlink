{
 "cells": [
  {
   "cell_type": "code",
   "execution_count": null,
   "id": "initial_id",
   "metadata": {
    "ExecuteTime": {
     "end_time": "2024-06-04T06:33:26.576798Z",
     "start_time": "2024-06-04T06:33:25.027002Z"
    }
   },
   "outputs": [],
   "source": [
    "import pandas as pd\n",
    "import EntropyHub as EH\n",
    "import numpy as np "
   ]
  },
  {
   "cell_type": "code",
   "execution_count": null,
   "id": "8b6888c013b8a87c",
   "metadata": {
    "ExecuteTime": {
     "end_time": "2024-05-29T19:03:28.398825Z",
     "start_time": "2024-05-29T19:03:28.395708Z"
    },
    "jupyter": {
     "outputs_hidden": false
    }
   },
   "outputs": [],
   "source": [
    "df_path = '/Users/jk1/temp/bp_dci/bp_timebin_6h/bp_timebins_6h_nor_filtered.csv'"
   ]
  },
  {
   "cell_type": "code",
   "execution_count": null,
   "id": "938acb20b89101ef",
   "metadata": {
    "ExecuteTime": {
     "end_time": "2024-05-29T19:03:32.431391Z",
     "start_time": "2024-05-29T19:03:30.969081Z"
    },
    "jupyter": {
     "outputs_hidden": false
    }
   },
   "outputs": [],
   "source": [
    "df = pd.read_csv(df_path)"
   ]
  },
  {
   "cell_type": "code",
   "execution_count": null,
   "id": "75a34c8a0536f9b5",
   "metadata": {
    "ExecuteTime": {
     "end_time": "2024-05-29T19:03:33.460826Z",
     "start_time": "2024-05-29T19:03:33.444225Z"
    },
    "jupyter": {
     "outputs_hidden": false
    }
   },
   "outputs": [],
   "source": [
    "df.head()"
   ]
  },
  {
   "cell_type": "markdown",
   "id": "f21d769009d26e3b",
   "metadata": {
    "collapsed": false,
    "jupyter": {
     "outputs_hidden": false
    }
   },
   "source": [
    "count measures per timebin"
   ]
  },
  {
   "cell_type": "code",
   "execution_count": null,
   "id": "db736fd3a70810ec",
   "metadata": {
    "ExecuteTime": {
     "end_time": "2024-05-29T19:43:33.663184Z",
     "start_time": "2024-05-29T19:43:33.153701Z"
    },
    "jupyter": {
     "outputs_hidden": false
    }
   },
   "outputs": [],
   "source": [
    "# groupby pnr and count rows per negative_timebin\n",
    "ax = df.groupby(['pNr', 'negative_timebin']).size().reset_index(name='counts').counts.hist(bins=100)\n",
    "# ax.set_xlim(0)"
   ]
  },
  {
   "cell_type": "code",
   "execution_count": null,
   "id": "1b1c437af94ce5dc",
   "metadata": {
    "ExecuteTime": {
     "end_time": "2024-05-29T19:07:28.368509Z",
     "start_time": "2024-05-29T19:07:28.034512Z"
    },
    "jupyter": {
     "outputs_hidden": false
    }
   },
   "outputs": [],
   "source": [
    "df[df.within_event_timebin == 1].groupby(['pNr']).size().reset_index(name='counts').counts.hist(bins=100)"
   ]
  },
  {
   "cell_type": "markdown",
   "id": "c8b891236ec302bc",
   "metadata": {
    "collapsed": false,
    "jupyter": {
     "outputs_hidden": false
    }
   },
   "source": [
    "Entropy exploration "
   ]
  },
  {
   "cell_type": "code",
   "execution_count": null,
   "id": "e839c3706366aa07",
   "metadata": {
    "ExecuteTime": {
     "end_time": "2024-05-29T19:10:12.797778Z",
     "start_time": "2024-05-29T19:10:12.591902Z"
    },
    "jupyter": {
     "outputs_hidden": false
    }
   },
   "outputs": [],
   "source": [
    "\n",
    "\n",
    "# X = EH.ExampleData('randintegers');\n",
    "X = np.array([1, 2, 2, 2, 1, 1, 1, 10, 1, 1, 1, 1, 1, 10, 2, 20, 2, 1, 1, 1, 1, 1, 1, 1, 1, 1])\n",
    "# embedding dimension m and tolerance r are in most cases assumed to be 2 and 0.2*signal SD (standard devaition) \n",
    "r = 0.2 * np.std(X)\n",
    "Mobj = EH.MSobject('SampEn', m=2, r=r)\n",
    "MSx, Ci = EH.rMSEn(X, Mobj, Scales=2, F_Order=3, F_Num=0.6, RadNew=4, Plotx=True)\n",
    "Ci, MSx"
   ]
  },
  {
   "cell_type": "code",
   "execution_count": null,
   "id": "f9409959c2a33a30",
   "metadata": {
    "ExecuteTime": {
     "end_time": "2024-05-29T19:14:46.513018Z",
     "start_time": "2024-05-29T19:14:46.006558Z"
    },
    "jupyter": {
     "outputs_hidden": false
    }
   },
   "outputs": [],
   "source": [
    "# check minimum length of X required for rMSEn\n",
    "for scalex in [2,3,4,5]:\n",
    "    for lenx in range(100):\n",
    "        try:\n",
    "            X = np.array(range(lenx))\n",
    "            # embedding dimension m and tolerance r are in most cases assumed to be 2 and 0.2*signal SD (standard devaition) \n",
    "            r = 0.2 * np.std(X)\n",
    "            Mobj = EH.MSobject('SampEn', m=2, r=r)\n",
    "            MSx, Ci = EH.rMSEn(X, Mobj, Scales=scalex, F_Order=3, F_Num=0.6, RadNew=4, Plotx=False)\n",
    "            print(scalex, lenx)\n",
    "            break\n",
    "        except:\n",
    "            continue\n"
   ]
  },
  {
   "cell_type": "code",
   "execution_count": null,
   "id": "7a48a2021f2be735",
   "metadata": {
    "ExecuteTime": {
     "end_time": "2024-05-29T19:18:01.299994Z",
     "start_time": "2024-05-29T19:18:01.279392Z"
    },
    "jupyter": {
     "outputs_hidden": false
    }
   },
   "outputs": [],
   "source": [
    "df[(df.within_event_timebin == 1) & (df.pNr == 65585)]"
   ]
  },
  {
   "cell_type": "code",
   "execution_count": null,
   "id": "edcdab0d4ae6bdb1",
   "metadata": {
    "ExecuteTime": {
     "end_time": "2024-05-29T19:20:07.677448Z",
     "start_time": "2024-05-29T19:20:07.451459Z"
    },
    "jupyter": {
     "outputs_hidden": false
    }
   },
   "outputs": [],
   "source": [
    "MSx, Ci = EH.rMSEn(df[(df.within_event_timebin == 1) & (df.pNr == 65585)].systole, Mobj, Scales=2, F_Order=3, F_Num=0.5, RadNew=4, Plotx=True)"
   ]
  },
  {
   "cell_type": "code",
   "execution_count": null,
   "id": "3645822fa9e507f3",
   "metadata": {
    "ExecuteTime": {
     "end_time": "2024-05-29T19:18:11.876677Z",
     "start_time": "2024-05-29T19:18:11.872009Z"
    },
    "jupyter": {
     "outputs_hidden": false
    }
   },
   "outputs": [],
   "source": [
    "MSx, Ci"
   ]
  },
  {
   "cell_type": "code",
   "execution_count": null,
   "id": "142e05ebb42029ea",
   "metadata": {
    "jupyter": {
     "outputs_hidden": false
    }
   },
   "outputs": [],
   "source": []
  }
 ],
 "metadata": {
  "kernelspec": {
   "display_name": "Python 3 (ipykernel)",
   "language": "python",
   "name": "python3"
  },
  "language_info": {
   "codemirror_mode": {
    "name": "ipython",
    "version": 3
   },
   "file_extension": ".py",
   "mimetype": "text/x-python",
   "name": "python",
   "nbconvert_exporter": "python",
   "pygments_lexer": "ipython3",
   "version": "3.10.13"
  }
 },
 "nbformat": 4,
 "nbformat_minor": 5
}
