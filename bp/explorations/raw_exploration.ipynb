{
 "cells": [
  {
   "cell_type": "code",
   "execution_count": null,
   "id": "initial_id",
   "metadata": {
    "ExecuteTime": {
     "end_time": "2024-06-04T17:25:26.250570Z",
     "start_time": "2024-06-04T17:25:26.240117Z"
    }
   },
   "outputs": [],
   "source": [
    "from getpass import getpass\n",
    "from tqdm import tqdm\n",
    "import pandas as pd\n",
    "from utils.utils import load_encrypted_xlsx\n",
    "import seaborn as sns\n",
    "import numpy as np\n",
    "import matplotlib.pyplot as plt"
   ]
  },
  {
   "cell_type": "code",
   "execution_count": null,
   "id": "22f523e1b662b7f0",
   "metadata": {
    "ExecuteTime": {
     "end_time": "2024-06-04T17:25:26.940583Z",
     "start_time": "2024-06-04T17:25:26.937581Z"
    }
   },
   "outputs": [],
   "source": [
    "registry_data_path = '/Users/jk1/Library/CloudStorage/OneDrive-unige.ch/icu_research/dci_sah/data/sos_sah_data/post_hoc_modified_aSAH_DATA_2009_2023_24122023.xlsx'\n",
    "hta_data_path = '/Users/jk1/Library/CloudStorage/OneDrive-unige.ch/icu_research/dci_sah/data/pdms_data/Transfer Urs.pietsch@kssg.ch 22.01.24, 15_34/20240116_SAH_SOS_Blutdruecke.csv'\n",
    "registry_pdms_correspondence_path = '/Users/jk1/Library/CloudStorage/OneDrive-unige.ch/icu_research/dci_sah/data/pdms_data/registry_pdms_correspondence.csv'\n",
    "noradrenaline_data_path = '/Users/jk1/Library/CloudStorage/OneDrive-unige.ch/icu_research/dci_sah/data/pdms_data/Transfer Urs.pietsch@kssg.ch 22.01.24, 15_34/20240116_SAH_SOS_EinzelGabeNoradrSpritzenpumpe.csv'"
   ]
  },
  {
   "cell_type": "code",
   "execution_count": null,
   "id": "9badf2c894b461d2",
   "metadata": {
    "ExecuteTime": {
     "end_time": "2024-06-04T17:25:29.659024Z",
     "start_time": "2024-06-04T17:25:29.655853Z"
    }
   },
   "outputs": [],
   "source": [
    "filter_before_2019 = True"
   ]
  },
  {
   "cell_type": "code",
   "execution_count": null,
   "id": "5853bebb3945f99a",
   "metadata": {
    "ExecuteTime": {
     "end_time": "2024-06-04T17:25:36.240504Z",
     "start_time": "2024-06-04T17:25:30.302072Z"
    }
   },
   "outputs": [],
   "source": [
    "registry_df = load_encrypted_xlsx(registry_data_path)\n",
    "hta_df = pd.read_csv(hta_data_path, sep=';', decimal='.')\n",
    "registry_pdms_correspondence_df = pd.read_csv(registry_pdms_correspondence_path)"
   ]
  },
  {
   "cell_type": "code",
   "execution_count": null,
   "id": "8c68b9548e7289c2",
   "metadata": {
    "ExecuteTime": {
     "end_time": "2024-06-04T17:25:36.284789Z",
     "start_time": "2024-06-04T17:25:36.243318Z"
    }
   },
   "outputs": [],
   "source": [
    "number_of_patients = hta_df['pNr'].nunique()\n",
    "print(f'Number of patients in HTA data: {number_of_patients}')"
   ]
  },
  {
   "cell_type": "code",
   "execution_count": null,
   "id": "ef2bd422517dbff0",
   "metadata": {
    "ExecuteTime": {
     "end_time": "2024-06-04T17:25:37.667746Z",
     "start_time": "2024-06-04T17:25:37.654685Z"
    }
   },
   "outputs": [],
   "source": [
    "hta_df.head()"
   ]
  },
  {
   "cell_type": "code",
   "execution_count": null,
   "id": "db946b351e383bd6",
   "metadata": {
    "ExecuteTime": {
     "end_time": "2024-06-04T17:25:48.539414Z",
     "start_time": "2024-06-04T17:25:48.313359Z"
    }
   },
   "outputs": [],
   "source": [
    "hta_df.timeBd.min()"
   ]
  },
  {
   "cell_type": "markdown",
   "id": "5dc5e766578a25ba",
   "metadata": {
    "collapsed": false
   },
   "source": [
    "Join data"
   ]
  },
  {
   "cell_type": "code",
   "execution_count": null,
   "id": "62b0cfecb28a5c8a",
   "metadata": {
    "ExecuteTime": {
     "end_time": "2024-05-26T17:28:48.304597Z",
     "start_time": "2024-05-26T17:28:46.802227Z"
    }
   },
   "outputs": [],
   "source": [
    "registry_pdms_correspondence_df.rename(columns={'JoinedName': 'Name'}, inplace=True)\n",
    "registry_pdms_correspondence_df['Date_birth'] = pd.to_datetime(registry_pdms_correspondence_df['Date_birth'],\n",
    "                                                                   format='%Y-%m-%d')\n",
    "hta_df = hta_df.merge(registry_pdms_correspondence_df, on='pNr', how='left')\n",
    "registry_df = registry_df.merge(registry_pdms_correspondence_df, on=['SOS-CENTER-YEAR-NO.', 'Name', 'Date_birth'],\n",
    "                                how='left')\n",
    "number_of_patients = hta_df['pNr'].nunique()\n",
    "print(f'Number of patients in HTA data: {number_of_patients}')"
   ]
  },
  {
   "cell_type": "code",
   "execution_count": null,
   "id": "9b10fad0720fe510",
   "metadata": {
    "ExecuteTime": {
     "end_time": "2024-05-26T17:28:50.446427Z",
     "start_time": "2024-05-26T17:28:48.309198Z"
    }
   },
   "outputs": [],
   "source": [
    "dci_df = registry_df[['pNr', 'DCI_ischemia', 'Date_admission']]\n",
    "hta_df = hta_df.merge(dci_df, how='left', left_on='pNr', right_on='pNr')\n",
    "number_of_patients = hta_df['pNr'].nunique()\n",
    "print(f'Number of patients in HTA data: {number_of_patients}')"
   ]
  },
  {
   "cell_type": "code",
   "execution_count": null,
   "id": "fac773738024714",
   "metadata": {
    "ExecuteTime": {
     "end_time": "2024-05-26T17:28:50.914897Z",
     "start_time": "2024-05-26T17:28:50.448661Z"
    }
   },
   "outputs": [],
   "source": [
    "if filter_before_2019:\n",
    "    hta_df = hta_df[hta_df['Date_admission'] >= pd.to_datetime('2019-01-01')]\n",
    "    number_of_patients = hta_df['pNr'].nunique()\n",
    "    print(f'Number of patients in HTA data: {number_of_patients}')"
   ]
  },
  {
   "cell_type": "code",
   "execution_count": null,
   "id": "9fdced618a1b41a",
   "metadata": {
    "ExecuteTime": {
     "end_time": "2024-05-26T17:30:33.937182Z",
     "start_time": "2024-05-26T17:30:17.489527Z"
    }
   },
   "outputs": [],
   "source": [
    "# check if all values in systole, diastole, mitteldruck are numeric\n",
    "assert hta_df['systole'].apply(lambda x: pd.to_numeric(x, errors='coerce')).isnull().sum() == 0\n",
    "assert hta_df['diastole'].apply(lambda x: pd.to_numeric(x, errors='coerce')).isnull().sum() == 0\n",
    "assert hta_df['mitteldruck'].apply(lambda x: pd.to_numeric(x, errors='coerce')).isnull().sum() == 0"
   ]
  },
  {
   "cell_type": "code",
   "execution_count": null,
   "id": "ad8122477e679d5",
   "metadata": {
    "ExecuteTime": {
     "end_time": "2024-05-23T20:34:11.145653Z",
     "start_time": "2024-05-23T20:32:44.975424Z"
    }
   },
   "outputs": [],
   "source": [
    "hta_df['timeBd'] = pd.to_datetime(hta_df['timeBd'], format='%Y-%m-%d %H:%M:%S.%f')\n",
    "hta_df['relative_time'] = hta_df.apply(lambda x: (x['timeBd'] - x['Date_admission']).total_seconds() / 3600, axis=1)"
   ]
  },
  {
   "cell_type": "code",
   "execution_count": null,
   "id": "bf830802230f25e7",
   "metadata": {
    "ExecuteTime": {
     "end_time": "2024-05-23T15:09:16.966536Z",
     "start_time": "2024-05-23T15:06:49.317609Z"
    }
   },
   "outputs": [],
   "source": [
    "# sns.scatterplot(data=hta_df, x='relative_time', y='mitteldruck', hue='DCI_ischemia')"
   ]
  },
  {
   "cell_type": "code",
   "execution_count": null,
   "id": "21c9881f8ad3bd27",
   "metadata": {
    "ExecuteTime": {
     "end_time": "2024-05-23T20:34:15.335682Z",
     "start_time": "2024-05-23T20:34:11.151396Z"
    }
   },
   "outputs": [],
   "source": [
    "hta_df['day'] = hta_df['relative_time'].apply(lambda x: int(x / 24) if pd.notnull(x) else np.nan)"
   ]
  },
  {
   "cell_type": "code",
   "execution_count": null,
   "id": "d2f0544d7a62f08a",
   "metadata": {
    "ExecuteTime": {
     "end_time": "2024-05-24T06:21:02.168687Z",
     "start_time": "2024-05-24T06:20:55.437220Z"
    }
   },
   "outputs": [],
   "source": [
    "# set figure size\n",
    "plt.figure(figsize=(20, 10))\n",
    "\n",
    "sns.boxplot(data=hta_df, x='day', y='mitteldruck', hue='DCI_ischemia', showfliers=False, palette='pastel')\n",
    "\n",
    "# set y axis label \n",
    "plt.ylabel('MAP (mmHg)')\n",
    "# set x axis label\n",
    "plt.xlabel('Days since admission')"
   ]
  },
  {
   "cell_type": "markdown",
   "id": "2bb4ff3e109bb69f",
   "metadata": {
    "collapsed": false
   },
   "source": [
    "Censor data with concomitant noradrenaline"
   ]
  },
  {
   "cell_type": "code",
   "execution_count": null,
   "id": "de85c0d24111da6c",
   "metadata": {
    "ExecuteTime": {
     "end_time": "2024-05-27T09:08:02.882755Z",
     "start_time": "2024-05-27T09:08:02.760773Z"
    }
   },
   "outputs": [],
   "source": [
    "nor_df = pd.read_csv(noradrenaline_data_path, sep=';', decimal='.')"
   ]
  },
  {
   "cell_type": "code",
   "execution_count": null,
   "id": "727b739299d9a326",
   "metadata": {
    "ExecuteTime": {
     "end_time": "2024-05-27T09:08:03.470248Z",
     "start_time": "2024-05-27T09:08:03.457350Z"
    }
   },
   "outputs": [],
   "source": [
    "nor_df.head()"
   ]
  },
  {
   "cell_type": "code",
   "execution_count": null,
   "id": "ba7208f1a61c8949",
   "metadata": {
    "ExecuteTime": {
     "end_time": "2024-05-24T06:22:18.340027Z",
     "start_time": "2024-05-24T06:22:18.319204Z"
    }
   },
   "outputs": [],
   "source": [
    "nor_df['Start'] = pd.to_datetime(nor_df['Start'], format='%Y-%m-%d %H:%M:%S.%f')\n",
    "nor_df['Ende'] = pd.to_datetime(nor_df['Ende'], format='%Y-%m-%d %H:%M:%S.%f')"
   ]
  },
  {
   "cell_type": "code",
   "execution_count": null,
   "id": "16f70599acec48cd",
   "metadata": {
    "ExecuteTime": {
     "end_time": "2024-05-24T06:22:27.932284Z",
     "start_time": "2024-05-24T06:22:27.926121Z"
    }
   },
   "outputs": [],
   "source": [
    "if filter_before_2019:\n",
    "    nor_df = nor_df[nor_df['Start'] >= pd.to_datetime('2019-01-01')]"
   ]
  },
  {
   "cell_type": "code",
   "execution_count": null,
   "id": "2dc4d52fed7daa7a",
   "metadata": {
    "ExecuteTime": {
     "end_time": "2024-05-27T09:09:09.338897Z",
     "start_time": "2024-05-27T09:09:09.323008Z"
    }
   },
   "outputs": [],
   "source": [
    "nor_df[(nor_df.pNr == 64354)]"
   ]
  },
  {
   "cell_type": "code",
   "execution_count": null,
   "id": "c59b55193e41e276",
   "metadata": {
    "ExecuteTime": {
     "end_time": "2024-05-24T06:22:47.411480Z",
     "start_time": "2024-05-24T06:22:47.369205Z"
    }
   },
   "outputs": [],
   "source": [
    "hta_df[(hta_df.pNr == 64354)]"
   ]
  },
  {
   "cell_type": "code",
   "execution_count": null,
   "id": "1917315259221e61",
   "metadata": {
    "ExecuteTime": {
     "end_time": "2024-05-24T06:23:24.555780Z",
     "start_time": "2024-05-24T06:23:24.494746Z"
    }
   },
   "outputs": [],
   "source": [
    "hta_df[(hta_df.pNr == 64354) & (hta_df.timeBd >= pd.to_datetime('2019-03-18 08:30:48.470')) & (hta_df.timeBd <= pd.to_datetime('2019-03-18 09:01:59.813'))]"
   ]
  },
  {
   "cell_type": "code",
   "execution_count": null,
   "id": "bd7cf3a71c096a8f",
   "metadata": {
    "ExecuteTime": {
     "end_time": "2024-05-24T06:46:10.351983Z",
     "start_time": "2024-05-24T06:23:35.144173Z"
    }
   },
   "outputs": [],
   "source": [
    "# produce a filtered hta_df where for each pNr with timeBd between Start and Ende of a noradrenaline administration are dropped\n",
    "filtered_hta_df = hta_df.copy()\n",
    "\n",
    "for index, row in tqdm(nor_df.iterrows(), total=nor_df.shape[0]):\n",
    "    pNr = row['pNr']\n",
    "    start = row['Start']\n",
    "    end = row['Ende']\n",
    "    filtered_hta_df = filtered_hta_df[~((filtered_hta_df['pNr'] == pNr) & (filtered_hta_df['timeBd'] >= start) & (filtered_hta_df['timeBd'] <= end))]\n",
    "    \n"
   ]
  },
  {
   "cell_type": "code",
   "execution_count": null,
   "id": "d72f34bf73b83ee2",
   "metadata": {
    "ExecuteTime": {
     "end_time": "2024-05-24T06:46:21.711558Z",
     "start_time": "2024-05-24T06:46:21.660090Z"
    }
   },
   "outputs": [],
   "source": [
    "filtered_hta_df[(filtered_hta_df.pNr == 64354) & (filtered_hta_df.timeBd >= pd.to_datetime('2019-03-18 08:30:48.470')) & (filtered_hta_df.timeBd <= pd.to_datetime('2019-03-18 09:01:59.813'))]"
   ]
  },
  {
   "cell_type": "code",
   "execution_count": null,
   "id": "7985a3d029bc1aed",
   "metadata": {
    "ExecuteTime": {
     "end_time": "2024-05-24T06:46:53.276183Z",
     "start_time": "2024-05-24T06:46:48.237610Z"
    }
   },
   "outputs": [],
   "source": [
    "# set figure size\n",
    "plt.figure(figsize=(20, 10))\n",
    "\n",
    "sns.boxplot(data=filtered_hta_df, x='day', y='mitteldruck', hue='DCI_ischemia', showfliers=False, palette='pastel')\n",
    "\n",
    "# set y axis label \n",
    "plt.ylabel('MAP (mmHg)')\n",
    "# set x axis label\n",
    "plt.xlabel('Days since admission')"
   ]
  },
  {
   "cell_type": "code",
   "execution_count": null,
   "id": "15c556fec069c163",
   "metadata": {
    "ExecuteTime": {
     "end_time": "2024-05-24T06:53:01.716724Z",
     "start_time": "2024-05-24T06:52:53.816623Z"
    }
   },
   "outputs": [],
   "source": [
    "fig, ax = plt.subplots(2, 2, figsize=(15, 10))\n",
    "sns.histplot(hta_df['systole'], ax=ax[0, 0])\n",
    "sns.histplot(hta_df['diastole'], ax=ax[0, 1])\n",
    "sns.histplot(hta_df['mitteldruck'], ax=ax[1, 0])"
   ]
  },
  {
   "cell_type": "markdown",
   "id": "f8505ee722727c47",
   "metadata": {
    "collapsed": false
   },
   "source": [
    "-> values should be filtered to min /max to remove errors"
   ]
  },
  {
   "cell_type": "code",
   "execution_count": null,
   "id": "46ba33d8aa4fab51",
   "metadata": {},
   "outputs": [],
   "source": []
  }
 ],
 "metadata": {
  "kernelspec": {
   "display_name": "Python 3 (ipykernel)",
   "language": "python",
   "name": "python3"
  },
  "language_info": {
   "codemirror_mode": {
    "name": "ipython",
    "version": 3
   },
   "file_extension": ".py",
   "mimetype": "text/x-python",
   "name": "python",
   "nbconvert_exporter": "python",
   "pygments_lexer": "ipython3",
   "version": "3.10.13"
  }
 },
 "nbformat": 4,
 "nbformat_minor": 5
}
