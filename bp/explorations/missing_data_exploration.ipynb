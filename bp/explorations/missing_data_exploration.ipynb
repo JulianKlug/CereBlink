{
 "cells": [
  {
   "cell_type": "code",
   "execution_count": null,
   "id": "initial_id",
   "metadata": {
    "is_executing": true
   },
   "outputs": [],
   "source": [
    "from getpass import getpass\n",
    "import pandas as pd\n",
    "from utils import load_encrypted_xlsx\n",
    "import numpy as np"
   ]
  },
  {
   "cell_type": "code",
   "execution_count": null,
   "id": "e6c8dd1fe7bdabf8",
   "metadata": {
    "ExecuteTime": {
     "end_time": "2024-05-23T15:36:17.069121Z",
     "start_time": "2024-05-23T15:36:17.065482Z"
    },
    "jupyter": {
     "outputs_hidden": false
    }
   },
   "outputs": [],
   "source": [
    "registry_data_path = '/Users/jk1/Library/CloudStorage/OneDrive-unige.ch/icu_research/dci_sah/data/sos_sah_data/post_hoc_modified_aSAH_DATA_2009_2023_24122023.xlsx'\n",
    "hta_data_path = '/Users/jk1/Library/CloudStorage/OneDrive-unige.ch/icu_research/dci_sah/data/pdms_data/Transfer Urs.pietsch@kssg.ch 22.01.24, 15_34/20240116_SAH_SOS_Blutdruecke.csv'\n",
    "registry_pdms_correspondence_path = '/Users/jk1/Library/CloudStorage/OneDrive-unige.ch/icu_research/dci_sah/data/pdms_data/registry_pdms_correspondence.csv'"
   ]
  },
  {
   "cell_type": "code",
   "execution_count": null,
   "id": "84773d06d159f2f",
   "metadata": {
    "ExecuteTime": {
     "end_time": "2024-05-23T15:36:33.230189Z",
     "start_time": "2024-05-23T15:36:27.177586Z"
    },
    "jupyter": {
     "outputs_hidden": false
    }
   },
   "outputs": [],
   "source": [
    "registry_df = load_encrypted_xlsx(registry_data_path)\n",
    "hta_df = pd.read_csv(hta_data_path, sep=';', decimal='.')\n",
    "registry_pdms_correspondence_df = pd.read_csv(registry_pdms_correspondence_path)"
   ]
  },
  {
   "cell_type": "code",
   "execution_count": null,
   "id": "c27d32809f1b8c0",
   "metadata": {
    "ExecuteTime": {
     "end_time": "2024-05-23T15:36:40.976118Z",
     "start_time": "2024-05-23T15:36:39.584964Z"
    },
    "jupyter": {
     "outputs_hidden": false
    }
   },
   "outputs": [],
   "source": [
    "registry_pdms_correspondence_df.rename(columns={'JoinedName': 'Name'}, inplace=True)\n",
    "registry_pdms_correspondence_df['Date_birth'] = pd.to_datetime(registry_pdms_correspondence_df['Date_birth'],\n",
    "                                                                   format='%Y-%m-%d')\n",
    "hta_df = hta_df.merge(registry_pdms_correspondence_df, on='pNr', how='left')\n",
    "registry_df = registry_df.merge(registry_pdms_correspondence_df, on=['SOS-CENTER-YEAR-NO.', 'Name', 'Date_birth'],\n",
    "                                how='left')"
   ]
  },
  {
   "cell_type": "code",
   "execution_count": null,
   "id": "1051ae8601bf7f9e",
   "metadata": {
    "ExecuteTime": {
     "end_time": "2024-05-23T15:36:55.819445Z",
     "start_time": "2024-05-23T15:36:53.922473Z"
    },
    "jupyter": {
     "outputs_hidden": false
    }
   },
   "outputs": [],
   "source": [
    "dci_df = registry_df[['pNr', 'DCI_ischemia', 'Date_admission']]\n",
    "hta_df = hta_df.merge(dci_df, how='left', left_on='pNr', right_on='pNr')"
   ]
  },
  {
   "cell_type": "code",
   "execution_count": null,
   "id": "e7160aeb682cb1c",
   "metadata": {
    "ExecuteTime": {
     "end_time": "2024-05-23T15:38:24.364023Z",
     "start_time": "2024-05-23T15:37:19.459164Z"
    },
    "jupyter": {
     "outputs_hidden": false
    }
   },
   "outputs": [],
   "source": [
    "hta_df['timeBd'] = pd.to_datetime(hta_df['timeBd'], format='%Y-%m-%d %H:%M:%S.%f')\n",
    "hta_df['relative_time'] = hta_df.apply(lambda x: (x['timeBd'] - x['Date_admission']).total_seconds() / 3600, axis=1)\n",
    "hta_df['day'] = hta_df['relative_time'].apply(lambda x: int(x / 24) if pd.notnull(x) else np.nan)"
   ]
  },
  {
   "cell_type": "code",
   "execution_count": null,
   "id": "2a20b7b419dda8e7",
   "metadata": {
    "ExecuteTime": {
     "end_time": "2024-05-23T15:38:24.483144Z",
     "start_time": "2024-05-23T15:38:24.366932Z"
    },
    "jupyter": {
     "outputs_hidden": false
    }
   },
   "outputs": [],
   "source": [
    "# for every pnr get max for column day\n",
    "hta_df['max_day'] = hta_df.groupby('pNr')['day'].transform('max')"
   ]
  },
  {
   "cell_type": "code",
   "execution_count": null,
   "id": "500fc732820e3026",
   "metadata": {
    "ExecuteTime": {
     "end_time": "2024-05-23T15:45:26.650225Z",
     "start_time": "2024-05-23T15:45:26.350387Z"
    },
    "jupyter": {
     "outputs_hidden": false
    }
   },
   "outputs": [],
   "source": [
    "# find patients who do not have at least one value per day\n",
    "hta_df['n_day']= hta_df.groupby('pNr')['day'].transform('nunique')"
   ]
  },
  {
   "cell_type": "code",
   "execution_count": null,
   "id": "4219ee655ff16782",
   "metadata": {
    "ExecuteTime": {
     "end_time": "2024-05-23T15:49:44.636952Z",
     "start_time": "2024-05-23T15:49:44.570880Z"
    },
    "jupyter": {
     "outputs_hidden": false
    }
   },
   "outputs": [],
   "source": [
    "hta_df['missing_days'] = hta_df['max_day'] + 1 - hta_df['n_day']"
   ]
  },
  {
   "cell_type": "code",
   "execution_count": null,
   "id": "591972061eca88b5",
   "metadata": {
    "ExecuteTime": {
     "end_time": "2024-05-23T15:49:56.703711Z",
     "start_time": "2024-05-23T15:49:56.271884Z"
    },
    "jupyter": {
     "outputs_hidden": false
    }
   },
   "outputs": [],
   "source": [
    "missing_df = hta_df[['pNr', 'max_day', 'n_day', 'missing_days']].drop_duplicates()"
   ]
  },
  {
   "cell_type": "code",
   "execution_count": null,
   "id": "af3368de5ddea097",
   "metadata": {
    "ExecuteTime": {
     "end_time": "2024-05-23T15:50:12.504749Z",
     "start_time": "2024-05-23T15:50:12.496925Z"
    },
    "jupyter": {
     "outputs_hidden": false
    }
   },
   "outputs": [],
   "source": [
    "missing_df.missing_days.value_counts()"
   ]
  },
  {
   "cell_type": "code",
   "execution_count": null,
   "id": "64eb62c4e86879f3",
   "metadata": {
    "ExecuteTime": {
     "end_time": "2024-05-23T15:52:58.333551Z",
     "start_time": "2024-05-23T15:52:58.328936Z"
    },
    "jupyter": {
     "outputs_hidden": false
    }
   },
   "outputs": [],
   "source": [
    "missing_pnrs = missing_df[missing_df.missing_days > 0].pNr.unique()"
   ]
  },
  {
   "cell_type": "code",
   "execution_count": null,
   "id": "4b985bb292601faa",
   "metadata": {
    "ExecuteTime": {
     "end_time": "2024-05-23T15:53:18.662085Z",
     "start_time": "2024-05-23T15:53:18.637515Z"
    },
    "jupyter": {
     "outputs_hidden": false
    }
   },
   "outputs": [],
   "source": [
    "registry_df[registry_df.pNr.isin(missing_pnrs)][['pNr', 'Name', 'Date_birth', 'DCI_ischemia', 'Date_admission']]"
   ]
  },
  {
   "cell_type": "code",
   "execution_count": null,
   "id": "8b97c8af1de09ada",
   "metadata": {
    "jupyter": {
     "outputs_hidden": false
    }
   },
   "outputs": [],
   "source": []
  }
 ],
 "metadata": {
  "kernelspec": {
   "display_name": "Python 3 (ipykernel)",
   "language": "python",
   "name": "python3"
  },
  "language_info": {
   "codemirror_mode": {
    "name": "ipython",
    "version": 3
   },
   "file_extension": ".py",
   "mimetype": "text/x-python",
   "name": "python",
   "nbconvert_exporter": "python",
   "pygments_lexer": "ipython3",
   "version": "3.10.13"
  }
 },
 "nbformat": 4,
 "nbformat_minor": 5
}
