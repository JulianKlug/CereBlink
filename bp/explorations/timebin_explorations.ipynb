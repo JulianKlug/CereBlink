{
 "cells": [
  {
   "cell_type": "code",
   "execution_count": null,
   "id": "initial_id",
   "metadata": {
    "is_executing": true
   },
   "outputs": [],
   "source": [
    "import pandas as pd"
   ]
  },
  {
   "cell_type": "code",
   "execution_count": null,
   "id": "4aabca64f7c91404",
   "metadata": {
    "ExecuteTime": {
     "end_time": "2024-05-27T11:07:40.416319Z",
     "start_time": "2024-05-27T11:07:40.413043Z"
    },
    "jupyter": {
     "outputs_hidden": false
    }
   },
   "outputs": [],
   "source": [
    "timebin_path = '/Users/jk1/temp/bp_dci/bp_timebin_8h/bp_timebins_8h_nor_annotated.csv'"
   ]
  },
  {
   "cell_type": "code",
   "execution_count": null,
   "id": "e81b9629a3660f05",
   "metadata": {
    "ExecuteTime": {
     "end_time": "2024-05-27T11:23:26.213205Z",
     "start_time": "2024-05-27T11:23:22.940015Z"
    },
    "jupyter": {
     "outputs_hidden": false
    }
   },
   "outputs": [],
   "source": [
    "timebin_df = pd.read_csv(timebin_path)"
   ]
  },
  {
   "cell_type": "code",
   "execution_count": null,
   "id": "6522f3b093b82273",
   "metadata": {
    "ExecuteTime": {
     "end_time": "2024-05-27T11:23:26.240432Z",
     "start_time": "2024-05-27T11:23:26.216288Z"
    },
    "jupyter": {
     "outputs_hidden": false
    }
   },
   "outputs": [],
   "source": [
    "timebin_df"
   ]
  },
  {
   "cell_type": "code",
   "execution_count": null,
   "id": "79a1dd70b91f8ca6",
   "metadata": {
    "ExecuteTime": {
     "end_time": "2024-05-27T11:23:26.763530Z",
     "start_time": "2024-05-27T11:23:26.242643Z"
    },
    "jupyter": {
     "outputs_hidden": false
    }
   },
   "outputs": [],
   "source": [
    "# filter out rows with concomitant_noradrenaline\n",
    "if 'noradrenaline_concomitant' in timebin_df.columns:\n",
    "    n_patients_with_concomitant_noradrenaline = timebin_df[timebin_df['noradrenaline_concomitant'] == 1]['pNr'].nunique()\n",
    "    n_measures_with_concomitant_noradrenaline = timebin_df[timebin_df['noradrenaline_concomitant'] == 1].shape[0]\n",
    "    n_pos_measures_with_concomitant_noradrenaline = timebin_df[(timebin_df['noradrenaline_concomitant'] == 1) & (timebin_df['within_event_timebin'] == 1)].shape[0]\n",
    "    n_neg_measures_with_concomitant_noradrenaline = timebin_df[(timebin_df['noradrenaline_concomitant'] == 1) & (timebin_df['within_event_timebin'] == 0)].shape[0]\n",
    "    \n",
    "    # percentages\n",
    "    print(f'Percentage of patients with concomitant noradrenaline: {n_patients_with_concomitant_noradrenaline / timebin_df[\"pNr\"].nunique()}')\n",
    "    print(f'Percentage of measures with concomitant noradrenaline: {n_measures_with_concomitant_noradrenaline / timebin_df.shape[0]}')\n",
    "    print(f'Percentage of positive measures with concomitant noradrenaline: {n_pos_measures_with_concomitant_noradrenaline / timebin_df[timebin_df[\"within_event_timebin\"] == 1].shape[0]}')\n",
    "    print(f'Percentage of negative measures with concomitant noradrenaline: {n_neg_measures_with_concomitant_noradrenaline / timebin_df[timebin_df[\"within_event_timebin\"] == 0].shape[0]}')\n",
    "    timebin_df = timebin_df[timebin_df['noradrenaline_concomitant'] != 1]"
   ]
  },
  {
   "cell_type": "code",
   "execution_count": null,
   "id": "22fcdc41b11d68f9",
   "metadata": {
    "ExecuteTime": {
     "end_time": "2024-05-27T11:11:09.561642Z",
     "start_time": "2024-05-27T11:11:09.137462Z"
    },
    "jupyter": {
     "outputs_hidden": false
    }
   },
   "outputs": [],
   "source": [
    "# Create metrics for negative timebins\n",
    "# group by 'negative_timebin' and 'pNr', then obtain median of 'systole', 'diastole', 'mitteldruck'\n",
    "median_df = timebin_df.groupby(['negative_timebin', 'pNr']).agg({'systole': 'median', 'diastole': 'median', 'mitteldruck': 'median'}).reset_index()\n",
    "median_df = median_df.rename(columns={'systole': 'systole_median', 'diastole': 'diastole_median', 'mitteldruck': 'mitteldruck_median'})\n",
    "\n",
    "max_df = timebin_df.groupby(['negative_timebin', 'pNr']).agg({'systole': 'max', 'diastole': 'max', 'mitteldruck': 'max'}).reset_index()\n",
    "max_df = max_df.rename(columns={'systole': 'systole_max', 'diastole': 'diastole_max', 'mitteldruck': 'mitteldruck_max'})\n",
    "\n",
    "min_df = timebin_df.groupby(['negative_timebin', 'pNr']).agg({'systole': 'min', 'diastole': 'min', 'mitteldruck': 'min'}).reset_index()\n",
    "min_df = min_df.rename(columns={'systole': 'systole_min', 'diastole': 'diastole_min', 'mitteldruck': 'mitteldruck_min'})"
   ]
  },
  {
   "cell_type": "code",
   "execution_count": null,
   "id": "489950b43e36190c",
   "metadata": {
    "ExecuteTime": {
     "end_time": "2024-05-27T11:11:10.250266Z",
     "start_time": "2024-05-27T11:11:10.238592Z"
    },
    "jupyter": {
     "outputs_hidden": false
    }
   },
   "outputs": [],
   "source": [
    "# Merge the metrics \n",
    "negative_timebin_metrics = pd.merge(median_df, max_df, on=['negative_timebin', 'pNr'])\n",
    "negative_timebin_metrics = pd.merge(negative_timebin_metrics, min_df, on=['negative_timebin', 'pNr'])\n",
    "negative_timebin_metrics['label'] = 0"
   ]
  },
  {
   "cell_type": "code",
   "execution_count": null,
   "id": "d2d410e1f0a83411",
   "metadata": {
    "ExecuteTime": {
     "end_time": "2024-05-27T11:11:11.008589Z",
     "start_time": "2024-05-27T11:11:10.993496Z"
    },
    "jupyter": {
     "outputs_hidden": false
    }
   },
   "outputs": [],
   "source": [
    "negative_timebin_metrics"
   ]
  },
  {
   "cell_type": "code",
   "execution_count": null,
   "id": "93b24cabcaa6c63",
   "metadata": {
    "ExecuteTime": {
     "end_time": "2024-05-27T11:11:12.286912Z",
     "start_time": "2024-05-27T11:11:11.946215Z"
    },
    "jupyter": {
     "outputs_hidden": false
    }
   },
   "outputs": [],
   "source": [
    "# Positive timebins\n",
    "pos_median_df = timebin_df.groupby(['associated_event_time', 'pNr']).agg({'systole': 'median', 'diastole': 'median', 'mitteldruck': 'median'}).reset_index()\n",
    "pos_median_df = pos_median_df.rename(columns={'systole': 'systole_median', 'diastole': 'diastole_median', 'mitteldruck': 'mitteldruck_median'})\n",
    "\n",
    "pos_max_df = timebin_df.groupby(['associated_event_time', 'pNr']).agg({'systole': 'max', 'diastole': 'max', 'mitteldruck': 'max'}).reset_index()\n",
    "pos_max_df = pos_max_df.rename(columns={'systole': 'systole_max', 'diastole': 'diastole_max', 'mitteldruck': 'mitteldruck_max'})\n",
    "\n",
    "pos_min_df = timebin_df.groupby(['associated_event_time', 'pNr']).agg({'systole': 'min', 'diastole': 'min', 'mitteldruck': 'min'}).reset_index()\n",
    "pos_min_df = pos_min_df.rename(columns={'systole': 'systole_min', 'diastole': 'diastole_min', 'mitteldruck': 'mitteldruck_min'})"
   ]
  },
  {
   "cell_type": "code",
   "execution_count": null,
   "id": "4ef989a8bed2a0b0",
   "metadata": {
    "ExecuteTime": {
     "end_time": "2024-05-27T11:11:12.881566Z",
     "start_time": "2024-05-27T11:11:12.873993Z"
    },
    "jupyter": {
     "outputs_hidden": false
    }
   },
   "outputs": [],
   "source": [
    "# Merge the metrics for positive timebins\n",
    "pos_timebin_metrics = pd.merge(pos_median_df, pos_max_df, on=['associated_event_time', 'pNr'])\n",
    "pos_timebin_metrics = pd.merge(pos_timebin_metrics, pos_min_df, on=['associated_event_time', 'pNr'])\n",
    "pos_timebin_metrics['label'] = 1"
   ]
  },
  {
   "cell_type": "code",
   "execution_count": null,
   "id": "390143862df93f2d",
   "metadata": {
    "ExecuteTime": {
     "end_time": "2024-05-27T11:11:15.568332Z",
     "start_time": "2024-05-27T11:11:15.551485Z"
    },
    "jupyter": {
     "outputs_hidden": false
    }
   },
   "outputs": [],
   "source": [
    "pos_timebin_metrics"
   ]
  },
  {
   "cell_type": "code",
   "execution_count": null,
   "id": "a4318a72a34f690",
   "metadata": {
    "ExecuteTime": {
     "end_time": "2024-05-27T11:11:16.987678Z",
     "start_time": "2024-05-27T11:11:16.982128Z"
    },
    "jupyter": {
     "outputs_hidden": false
    }
   },
   "outputs": [],
   "source": [
    "# Merge the negative and positive timebin metrics\n",
    "timebin_metrics = pd.concat([negative_timebin_metrics, pos_timebin_metrics])"
   ]
  },
  {
   "cell_type": "code",
   "execution_count": null,
   "id": "dbc95cd330834cc7",
   "metadata": {
    "ExecuteTime": {
     "end_time": "2024-05-27T11:11:18.136452Z",
     "start_time": "2024-05-27T11:11:18.123324Z"
    },
    "jupyter": {
     "outputs_hidden": false
    }
   },
   "outputs": [],
   "source": [
    "timebin_metrics.head()"
   ]
  },
  {
   "cell_type": "code",
   "execution_count": null,
   "id": "3b413b88e529ed6e",
   "metadata": {
    "ExecuteTime": {
     "end_time": "2024-05-27T11:16:14.049755Z",
     "start_time": "2024-05-27T11:16:14.042997Z"
    },
    "jupyter": {
     "outputs_hidden": false
    }
   },
   "outputs": [],
   "source": [
    "timebin_metrics.label.value_counts()"
   ]
  },
  {
   "cell_type": "code",
   "execution_count": null,
   "id": "fce48f367876714e",
   "metadata": {
    "ExecuteTime": {
     "end_time": "2024-05-27T11:11:23.553226Z",
     "start_time": "2024-05-27T11:11:21.630748Z"
    },
    "jupyter": {
     "outputs_hidden": false
    }
   },
   "outputs": [],
   "source": [
    "# for every metric in timebin_metrics plot a boxplot according to the label\n",
    "import seaborn as sns\n",
    "import matplotlib.pyplot as plt\n",
    "\n",
    "metrics = ['systole_median', 'diastole_median', 'mitteldruck_median', 'systole_max', 'diastole_max', 'mitteldruck_max', 'systole_min', 'diastole_min', 'mitteldruck_min']\n",
    "\n",
    "fig, axes = plt.subplots(3, 3, figsize=(15, 15))\n",
    "for i, metric in enumerate(metrics):\n",
    "    sns.boxplot(x='label', y=metric, data=timebin_metrics, ax=axes[i//3, i%3], showfliers=False, palette='Set3')\n",
    "    axes[i//3, i%3].set_title(metric)"
   ]
  },
  {
   "cell_type": "code",
   "execution_count": null,
   "id": "c0c6d2bec9783bcc",
   "metadata": {
    "jupyter": {
     "outputs_hidden": false
    }
   },
   "outputs": [],
   "source": []
  }
 ],
 "metadata": {
  "kernelspec": {
   "display_name": "Python 3 (ipykernel)",
   "language": "python",
   "name": "python3"
  },
  "language_info": {
   "codemirror_mode": {
    "name": "ipython",
    "version": 3
   },
   "file_extension": ".py",
   "mimetype": "text/x-python",
   "name": "python",
   "nbconvert_exporter": "python",
   "pygments_lexer": "ipython3",
   "version": "3.10.13"
  }
 },
 "nbformat": 4,
 "nbformat_minor": 5
}
