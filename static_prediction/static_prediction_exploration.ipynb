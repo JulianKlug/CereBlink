{
 "cells": [
  {
   "cell_type": "code",
   "execution_count": null,
   "id": "6b61106218213163",
   "metadata": {
    "ExecuteTime": {
     "end_time": "2023-12-27T04:03:55.883285Z",
     "start_time": "2023-12-27T04:03:55.871077Z"
    }
   },
   "outputs": [],
   "source": [
    "import pandas as pd\n",
    "import io\n",
    "import getpass\n",
    "import msoffcrypto\n",
    "import numpy as np"
   ]
  },
  {
   "cell_type": "code",
   "execution_count": null,
   "id": "4e5608b8cba03121",
   "metadata": {
    "ExecuteTime": {
     "end_time": "2023-12-27T03:19:52.849359Z",
     "start_time": "2023-12-27T03:19:52.845151Z"
    }
   },
   "outputs": [],
   "source": [
    "registry_data_path = '/Users/jk1/Library/CloudStorage/OneDrive-unige.ch/icu_research/pupillometry_sah/data/aSAH_DATA_2009_2023_24122023.xlsx'"
   ]
  },
  {
   "cell_type": "code",
   "execution_count": null,
   "id": "initial_id",
   "metadata": {
    "ExecuteTime": {
     "end_time": "2023-12-27T03:20:11.755176Z",
     "start_time": "2023-12-27T03:20:09.292918Z"
    }
   },
   "outputs": [],
   "source": [
    "password = getpass.getpass()\n",
    "decrypted_workbook = io.BytesIO()\n",
    "with open(registry_data_path, 'rb') as file:\n",
    "    office_file = msoffcrypto.OfficeFile(file)\n",
    "    office_file.load_key(password=password)\n",
    "    office_file.decrypt(decrypted_workbook)"
   ]
  },
  {
   "cell_type": "code",
   "execution_count": null,
   "id": "cd5699cdcf8f03b5",
   "metadata": {
    "ExecuteTime": {
     "end_time": "2023-12-27T04:17:09.339281Z",
     "start_time": "2023-12-27T04:17:08.437955Z"
    }
   },
   "outputs": [],
   "source": [
    "registry_df = pd.read_excel(decrypted_workbook, sheet_name='DATA')"
   ]
  },
  {
   "cell_type": "code",
   "execution_count": null,
   "id": "47483191c6f9751c",
   "metadata": {
    "ExecuteTime": {
     "end_time": "2023-12-27T03:21:45.312186Z",
     "start_time": "2023-12-27T03:21:45.306261Z"
    }
   },
   "outputs": [],
   "source": [
    "for column in registry_df.columns:\n",
    "    print(f'\"{column}\",')"
   ]
  },
  {
   "cell_type": "code",
   "execution_count": null,
   "id": "2f9be93773deffe6",
   "metadata": {
    "ExecuteTime": {
     "end_time": "2023-12-27T03:30:51.456996Z",
     "start_time": "2023-12-27T03:30:51.443820Z"
    }
   },
   "outputs": [],
   "source": [
    "continuous_predictor_variables = [\n",
    "    \"Age\",\n",
    "    \"GCS_admission\",\n",
    "    \"Aneurysm_diameter\"\n",
    "]"
   ]
  },
  {
   "cell_type": "code",
   "execution_count": null,
   "id": "d66c717e65a51e91",
   "metadata": {
    "ExecuteTime": {
     "end_time": "2023-12-27T03:30:51.982134Z",
     "start_time": "2023-12-27T03:30:51.925910Z"
    }
   },
   "outputs": [],
   "source": [
    "categorical_predictor_variables = [\n",
    "    \"Sex\",\n",
    "    \"Smoker_0no_1yes_2ex\",\n",
    "    \"Drinker\",\n",
    "\"WFNS\",\n",
    "\"HH\",\n",
    "    \"CN_deficit_admission_YN\",\n",
    "\"Sedation_on_admission_YN\",\n",
    "\"Intubated_on_admission_YN\",\n",
    "\"HTN\",\n",
    "\"DM\",\n",
    "\"Statin\",\n",
    "\"ASS\",\n",
    "\"Clopidogrel\",\n",
    "\"OAC\",\n",
    "    \"Fisher_Score\",\n",
    "\"IVH\",\n",
    "\"SDH\",\n",
    "\"ICH\",\n",
    "\"Multiple_Aneurysms_2unk\",\n",
    "\"Nr_of_Aneurysms\",\n",
    "\"Aneurysm_Artery_Code\",\n",
    "\"Aneurysm_Side\",\n",
    "\"Aneurysm_FusiformBlep_YN\",\n",
    "\"Aneurysm_Distal_YN\",\n",
    "\"Aneurysm_Mycotic_YN\",\n",
    "\"Aneurysm_Blister_YN\",\n",
    "    \"Coiling\",\n",
    "\"Complete_Coiling\",\n",
    "\"Clipping\",\n",
    "\"Complete_Clipping\",\n",
    "    \"Stenting\",\n",
    "    \"EVD_YN\",\n",
    "    \"CVS_YN\",\n",
    "\"Nimotop\"\n",
    "]"
   ]
  },
  {
   "cell_type": "code",
   "execution_count": null,
   "id": "d31bd587b27f5cc6",
   "metadata": {
    "ExecuteTime": {
     "end_time": "2023-12-27T03:31:04.819891Z",
     "start_time": "2023-12-27T03:31:04.812146Z"
    }
   },
   "outputs": [],
   "source": [
    "predictor_variables = categorical_predictor_variables + continuous_predictor_variables"
   ]
  },
  {
   "cell_type": "code",
   "execution_count": null,
   "id": "29c079376f3767d9",
   "metadata": {
    "ExecuteTime": {
     "end_time": "2023-12-27T03:52:57.203677Z",
     "start_time": "2023-12-27T03:52:57.198637Z"
    }
   },
   "outputs": [],
   "source": [
    "outcome_var = \"DCI_YN\""
   ]
  },
  {
   "cell_type": "code",
   "execution_count": null,
   "id": "adc6d19a58a93de6",
   "metadata": {
    "ExecuteTime": {
     "end_time": "2023-12-27T03:59:36.126043Z",
     "start_time": "2023-12-27T03:59:36.116572Z"
    }
   },
   "outputs": [],
   "source": [
    "# fit xgb\n",
    "import xgboost as xgb\n",
    "\n",
    "model = xgb.XGBClassifier(enable_categorical=True)"
   ]
  },
  {
   "cell_type": "code",
   "execution_count": null,
   "id": "2424c97926763cc4",
   "metadata": {
    "ExecuteTime": {
     "end_time": "2023-12-27T04:16:09.663022Z",
     "start_time": "2023-12-27T04:16:09.645959Z"
    }
   },
   "outputs": [],
   "source": [
    "def safe_float_conversion(x):\n",
    "    try:\n",
    "        return float(x)\n",
    "    except:\n",
    "        return np.nan"
   ]
  },
  {
   "cell_type": "code",
   "execution_count": null,
   "id": "2df0e2a3a419a3af",
   "metadata": {
    "ExecuteTime": {
     "end_time": "2023-12-27T04:17:12.480135Z",
     "start_time": "2023-12-27T04:17:12.448504Z"
    }
   },
   "outputs": [],
   "source": [
    "registry_df[categorical_predictor_variables] = registry_df[categorical_predictor_variables].astype('category')\n",
    "registry_df['Age'] = registry_df['Age'].astype(float).apply(lambda x: np.abs(x))\n",
    "\n",
    "for col in continuous_predictor_variables:\n",
    "    registry_df[col] = registry_df[col].apply(safe_float_conversion)"
   ]
  },
  {
   "cell_type": "code",
   "execution_count": null,
   "id": "25f4c88218598b2b",
   "metadata": {
    "ExecuteTime": {
     "end_time": "2023-12-27T04:17:16.127398Z",
     "start_time": "2023-12-27T04:17:16.115634Z"
    }
   },
   "outputs": [],
   "source": [
    "registry_df_with_outcome = registry_df[~registry_df[outcome_var].isna()]"
   ]
  },
  {
   "cell_type": "code",
   "execution_count": null,
   "id": "562cae3551bddbd6",
   "metadata": {
    "ExecuteTime": {
     "end_time": "2023-12-27T04:17:16.677827Z",
     "start_time": "2023-12-27T04:17:16.478474Z"
    }
   },
   "outputs": [],
   "source": [
    "model.fit(registry_df_with_outcome[predictor_variables], registry_df_with_outcome[outcome_var])"
   ]
  },
  {
   "cell_type": "code",
   "execution_count": null,
   "id": "571b673b2435a32d",
   "metadata": {
    "ExecuteTime": {
     "end_time": "2023-12-27T04:17:52.491931Z",
     "start_time": "2023-12-27T04:17:52.454279Z"
    }
   },
   "outputs": [],
   "source": [
    "model.predict(registry_df_with_outcome[predictor_variables])"
   ]
  },
  {
   "cell_type": "code",
   "execution_count": null,
   "id": "3404ce63d6c8d780",
   "metadata": {
    "ExecuteTime": {
     "end_time": "2023-12-27T04:24:29.336729Z",
     "start_time": "2023-12-27T04:24:29.286336Z"
    }
   },
   "outputs": [],
   "source": [
    "model.predict_proba(registry_df_with_outcome[predictor_variables])[:,1]"
   ]
  },
  {
   "cell_type": "code",
   "execution_count": null,
   "id": "6e3d972747df71f0",
   "metadata": {
    "ExecuteTime": {
     "end_time": "2023-12-27T04:27:10.748174Z",
     "start_time": "2023-12-27T04:27:10.561544Z"
    }
   },
   "outputs": [],
   "source": [
    "from static_prediction.evaluate_model import evaluate_model\n",
    "\n",
    "evaluate_model(model, registry_df_with_outcome[predictor_variables], registry_df_with_outcome[outcome_var], outcome_var)"
   ]
  },
  {
   "cell_type": "code",
   "execution_count": null,
   "id": "1da9d75438aa91f9",
   "metadata": {},
   "outputs": [],
   "source": []
  }
 ],
 "metadata": {
  "kernelspec": {
   "display_name": "Python 3",
   "language": "python",
   "name": "python3"
  },
  "language_info": {
   "codemirror_mode": {
    "name": "ipython",
    "version": 2
   },
   "file_extension": ".py",
   "mimetype": "text/x-python",
   "name": "python",
   "nbconvert_exporter": "python",
   "pygments_lexer": "ipython2",
   "version": "2.7.6"
  }
 },
 "nbformat": 4,
 "nbformat_minor": 5
}
