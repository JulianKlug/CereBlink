{
 "cells": [
  {
   "cell_type": "code",
   "execution_count": null,
   "id": "initial_id",
   "metadata": {
    "ExecuteTime": {
     "end_time": "2023-12-28T02:59:14.747936Z",
     "start_time": "2023-12-28T02:59:14.664559Z"
    }
   },
   "outputs": [],
   "source": [
    "import pickle\n",
    "import pandas as pd\n",
    "from xgboost import plot_importance\n",
    "import seaborn as sns\n",
    "import matplotlib.pyplot as plt"
   ]
  },
  {
   "cell_type": "code",
   "execution_count": null,
   "id": "9cddd47f63051742",
   "metadata": {
    "ExecuteTime": {
     "end_time": "2023-12-28T02:33:56.850433Z",
     "start_time": "2023-12-28T02:33:56.846224Z"
    }
   },
   "outputs": [],
   "source": [
    "models_path = '/Users/jk1/temp/cereblink_tests/DCI_YN_dci_prediction_models.pkl'"
   ]
  },
  {
   "cell_type": "code",
   "execution_count": null,
   "id": "35b9a6b2ead18dd9",
   "metadata": {
    "ExecuteTime": {
     "end_time": "2023-12-28T02:33:59.657355Z",
     "start_time": "2023-12-28T02:33:59.630381Z"
    }
   },
   "outputs": [],
   "source": [
    "with open(models_path, 'rb') as f:\n",
    "    models = pickle.load(f)"
   ]
  },
  {
   "cell_type": "markdown",
   "id": "1374b4aa75172a20",
   "metadata": {
    "collapsed": false
   },
   "source": []
  },
  {
   "cell_type": "code",
   "execution_count": null,
   "id": "23868fa39a6499f1",
   "metadata": {
    "ExecuteTime": {
     "end_time": "2023-12-28T02:34:25.685482Z",
     "start_time": "2023-12-28T02:34:25.669688Z"
    }
   },
   "outputs": [],
   "source": [
    "models[0]"
   ]
  },
  {
   "cell_type": "code",
   "execution_count": null,
   "id": "4a98940c7b85a670",
   "metadata": {
    "ExecuteTime": {
     "end_time": "2023-12-28T02:55:10.256287Z",
     "start_time": "2023-12-28T02:55:10.167718Z"
    }
   },
   "outputs": [],
   "source": [
    "# assemble dataframe with feature names and importance\n",
    "feature_gain_df = pd.DataFrame()\n",
    "feature_weight_df = pd.DataFrame()\n",
    "for model in models:\n",
    "    feature_gain_df = pd.concat([feature_gain_df, pd.DataFrame(model.get_booster().get_score(importance_type='gain'), index=[0])], axis=0)\n",
    "    feature_weight_df = pd.concat([feature_weight_df, pd.DataFrame(model.get_booster().get_score(importance_type='weight'), index=[0])], axis=0)"
   ]
  },
  {
   "cell_type": "markdown",
   "id": "23222b2090efa528",
   "metadata": {
    "collapsed": false
   },
   "source": [
    "‘weight’: the number of times a feature is used to split the data across all trees.\n",
    "\n",
    "‘gain’: the average gain across all splits the feature is used in"
   ]
  },
  {
   "cell_type": "code",
   "execution_count": null,
   "id": "7213e46e5423cc7b",
   "metadata": {
    "ExecuteTime": {
     "end_time": "2023-12-28T03:04:45.497786Z",
     "start_time": "2023-12-28T03:04:43.731734Z"
    }
   },
   "outputs": [],
   "source": [
    "# plot 10 most important features as bar chart (vertical)\n",
    "most_important_features_by_gain = feature_gain_df.sum(axis=0).sort_values(ascending=False).head(10).index.values\n",
    "most_important_features_by_weight = feature_weight_df.sum(axis=0).sort_values(ascending=False).head(10).index.values\n",
    "\n",
    "# two subplots stacked vertically\n",
    "\n",
    "fig, (ax1, ax2) = plt.subplots(2, 1, figsize=(10, 12))\n",
    "\n",
    "sns.barplot(data=feature_gain_df[most_important_features_by_gain], ax=ax1, orient='h', palette='Pastel1')\n",
    "ax1.set_title('Feature importance by gain')\n",
    "\n",
    "sns.barplot(data=feature_weight_df[most_important_features_by_weight], ax=ax2, orient='h', palette='Pastel2')\n",
    "ax2.set_title('Feature importance by weight')"
   ]
  },
  {
   "cell_type": "code",
   "execution_count": null,
   "id": "cc1c6f4d6203efce",
   "metadata": {
    "ExecuteTime": {
     "end_time": "2023-12-28T02:37:14.927447Z",
     "start_time": "2023-12-28T02:37:10.258126Z"
    }
   },
   "outputs": [],
   "source": [
    "for model in models:\n",
    "    plot_importance(model)"
   ]
  },
  {
   "cell_type": "code",
   "execution_count": null,
   "id": "701139d4216d0d7f",
   "metadata": {},
   "outputs": [],
   "source": []
  }
 ],
 "metadata": {
  "kernelspec": {
   "display_name": "Python 3",
   "language": "python",
   "name": "python3"
  },
  "language_info": {
   "codemirror_mode": {
    "name": "ipython",
    "version": 2
   },
   "file_extension": ".py",
   "mimetype": "text/x-python",
   "name": "python",
   "nbconvert_exporter": "python",
   "pygments_lexer": "ipython2",
   "version": "2.7.6"
  }
 },
 "nbformat": 4,
 "nbformat_minor": 5
}
